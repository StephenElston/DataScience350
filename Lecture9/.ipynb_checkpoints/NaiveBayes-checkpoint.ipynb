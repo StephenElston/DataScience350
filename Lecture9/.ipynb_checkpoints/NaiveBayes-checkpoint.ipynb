{
 "cells": [
  {
   "cell_type": "markdown",
   "metadata": {},
   "source": [
    "# Introduction to Naive Bayes Models\n",
    "\n",
    "This notebook introduces you to naive Bayes models. Naive Bayes models are a surprisingly useful and effective simplification of the general Bayesian models. Naive Bayes models make the naive assumption of independence of the features.\n",
    "\n",
    "Some properties of naive Bayes models are:\n",
    "\n",
    "- Do not require a prior.\n",
    "- Computational complexity is linear in number of parameter/features.\n",
    "- Requires minimal data to produce models that generalizes well.\n",
    "- Have a simple and inherent regularization.\n",
    "\n",
    "Naive Bayes models are widely used including for:\n",
    "\n",
    "- Document classification\n",
    "- SPAM detection\n",
    "- Image classification\n"
   ]
  },
  {
   "cell_type": "markdown",
   "metadata": {},
   "source": [
    "***\n",
    "**Note:** To run this notebook you will need the following packages:\n",
    "- mlbench\n",
    "- ggplot2\n",
    "- e1071\n",
    "***"
   ]
  },
  {
   "cell_type": "markdown",
   "metadata": {},
   "source": [
    "## Overview of Naive Bayes Models\n",
    "\n",
    "Recall Bayes theorem:\n",
    "\n",
    "$$P(A|B) = P(B|A) \\frac{P(A)}{P(B)}$$\n",
    "\n",
    "Using the chain rule of conditional probabilities, we can create write the joint distribution for the probability of class $C_k$ as: \n",
    "\n",
    "$$\n",
    "p(C_k, x_1, x_2, x_3, \\ldots, x_n) = p(x_1, x_2, x_3, \\ldots, x_n, C_k) \\\\\n",
    "=  p(x_1 | x_2, x_3, \\ldots, x_n, C_k)  p(x_2, x_3, \\ldots, x_n, C_k) \\\\\n",
    "= p(x_1 | x_2, x_3, \\ldots, x_n, C_k)  p(x_2 | x_3, \\ldots, x_n, C_k) p(x_3, \\ldots, x_n, C_k) \\\\\n",
    "\\cdots \\cdots \\\\\\\n",
    "=  p(x_1 | x_2, x_3, \\ldots, x_n, C_k)  p(x_2 | x_3, \\ldots, x_n, C_k) \\dots p(C_k)\n",
    "$$\n",
    "\n",
    "Let the features, $\\{ x_1, x_2, x_3, \\ldots, x_n \\}$, be independent, the above can then be written as:\n",
    "\n",
    "$$p(x_i | x_{i + 1}, x_{i + 2}, \\ldots, x_n, C_k) = p(x_i | C_k)$$\n",
    "\n",
    "This simpification allows us to write the probability of the class $C_k$ as the conditional distribution:\n",
    "\n",
    "$$p(C_k | x_1, x_2, x_3, \\ldots, x_n) \\propto p(C_k) \\prod^N_{j = 1} p(x_j|C_k)$$\n",
    "\n",
    "Given a number of classes, we can find the mostly likely class $\\hat{y}$ as:\n",
    "\n",
    "$$\\hat{y} = argmax_k \\Big[ \\prod^N_{j = 1} p(x_j|C_k) \\Big]$$\n",
    "\n",
    "Notice that the above formulation uses only the emperical probabilities of the features conditioned on the class. Futher no proir distirbution is required. \n",
    "\n",
    "### Pitfalls in naive Bayes models\n",
    "\n",
    "There are some well know pitfalls with known solutions, including:\n",
    "\n",
    "- Multiplication of small probabilities leads to floating point underflow. This problem is corrected by computing with the log probabilities, $ln(p)$.\n",
    "- If there are no samples/data then $p(x_j|C_k) = 0$, leading the product of probabilities to be 0. A Laplace smoother is used to ensure that all $p(x_.j|C_k) > 0$\n",
    "- Colinear features do not exhibit independence. Ideally, such features should be removed from the the data set to prevent problems with the  model.\n",
    "- Regularization is generally a minor issue with naive Bayes models, as uninformative feature tends to a uniform distribution which does not affect the outcome.\n",
    "\n",
    "### Types of naive Bayes models\n",
    "\n",
    "Now that we have looked into the basics of a naive Bayes models, lets look at some specific formulations. It is important to keep in mind that a specific naive Bayes model is required for each class of problem.  \n",
    "\n",
    "The multinomial naive Bayes classifier is a widely used form of the model. The multinomial classifier finds the mostly likely class from multiple possibilities. To prevent numberical underflow we write this classifier taking the logarithms of both sides of the equation as follows:\n",
    "\n",
    "$$log \\Big( p(C_k | x) \\Big) \\propto\\ log \\Big( p(C_k) \\prod^N_{j = 1} p_{kj}(x_i) \\Big)\\\\\n",
    "= log \\Big( p(C_k) \\Big) + log \\Big( \\sum^N_{j = 1} p_{kj}(x_i) \\Big)$$\n",
    "\n",
    "The most likely class $\\hat{y}$ is then:\n",
    "\n",
    "$$\\hat{y} = argmax_k \\Big[ log \\Big( p(C_k) \\Big) + log \\Big( \\sum^N_{j = 1} p_{kj}(x_i) \\Big) \\Big]$$\n",
    "\n",
    "The multinomial classifier can be simplified for the Bernoulli or binary case as:\n",
    "\n",
    "$$log \\Big( p(x | C_k) \\Big) = log \\Big( \\sum^N_{j = 1} p_{kj}^{x_i} \\big( 1 -  p_{kj}^{(1 - x_i)} \\big) \\Big)$$\n",
    "\n",
    "\n",
    "### Document classification with naive Bayes\n",
    "\n",
    "Ta \n",
    "\n"
   ]
  },
  {
   "cell_type": "markdown",
   "metadata": {},
   "source": [
    "## Example of Naive Bayes Model\n",
    "\n",
    "Let's try a simple example of a naive bayes model. "
   ]
  },
  {
   "cell_type": "code",
   "execution_count": 1,
   "metadata": {
    "collapsed": false
   },
   "outputs": [
    {
     "name": "stderr",
     "output_type": "stream",
     "text": [
      "Loading required package: mlbench\n"
     ]
    },
    {
     "data": {
      "text/html": [
       "<table>\n",
       "<thead><tr><th scope=col>Class</th><th scope=col>V1</th><th scope=col>V2</th><th scope=col>V3</th><th scope=col>V4</th><th scope=col>V5</th><th scope=col>V6</th><th scope=col>V7</th><th scope=col>V8</th><th scope=col>V9</th><th scope=col>V10</th><th scope=col>V11</th><th scope=col>V12</th><th scope=col>V13</th><th scope=col>V14</th><th scope=col>V15</th><th scope=col>V16</th></tr></thead>\n",
       "<tbody>\n",
       "\t<tr><td>republican</td><td>n         </td><td>y         </td><td>n         </td><td>y         </td><td>y         </td><td>y         </td><td>n         </td><td>n         </td><td>n         </td><td>y         </td><td>NA        </td><td>y         </td><td>y         </td><td>y         </td><td>n         </td><td>y         </td></tr>\n",
       "\t<tr><td>republican</td><td>n         </td><td>y         </td><td>n         </td><td>y         </td><td>y         </td><td>y         </td><td>n         </td><td>n         </td><td>n         </td><td>n         </td><td>n         </td><td>y         </td><td>y         </td><td>y         </td><td>n         </td><td>NA        </td></tr>\n",
       "\t<tr><td>democrat  </td><td>NA        </td><td>y         </td><td>y         </td><td>NA        </td><td>y         </td><td>y         </td><td>n         </td><td>n         </td><td>n         </td><td>n         </td><td>y         </td><td>n         </td><td>y         </td><td>y         </td><td>n         </td><td>n         </td></tr>\n",
       "\t<tr><td>democrat  </td><td>n         </td><td>y         </td><td>y         </td><td>n         </td><td>NA        </td><td>y         </td><td>n         </td><td>n         </td><td>n         </td><td>n         </td><td>y         </td><td>n         </td><td>y         </td><td>n         </td><td>n         </td><td>y         </td></tr>\n",
       "\t<tr><td>democrat  </td><td>y         </td><td>y         </td><td>y         </td><td>n         </td><td>y         </td><td>y         </td><td>n         </td><td>n         </td><td>n         </td><td>n         </td><td>y         </td><td>NA        </td><td>y         </td><td>y         </td><td>y         </td><td>y         </td></tr>\n",
       "\t<tr><td>democrat  </td><td>n         </td><td>y         </td><td>y         </td><td>n         </td><td>y         </td><td>y         </td><td>n         </td><td>n         </td><td>n         </td><td>n         </td><td>n         </td><td>n         </td><td>y         </td><td>y         </td><td>y         </td><td>y         </td></tr>\n",
       "</tbody>\n",
       "</table>\n"
      ],
      "text/latex": [
       "\\begin{tabular}{r|lllllllllllllllll}\n",
       " Class & V1 & V2 & V3 & V4 & V5 & V6 & V7 & V8 & V9 & V10 & V11 & V12 & V13 & V14 & V15 & V16\\\\\n",
       "\\hline\n",
       "\t republican & n          & y          & n          & y          & y          & y          & n          & n          & n          & y          & NA         & y          & y          & y          & n          & y         \\\\\n",
       "\t republican & n          & y          & n          & y          & y          & y          & n          & n          & n          & n          & n          & y          & y          & y          & n          & NA        \\\\\n",
       "\t democrat   & NA         & y          & y          & NA         & y          & y          & n          & n          & n          & n          & y          & n          & y          & y          & n          & n         \\\\\n",
       "\t democrat   & n          & y          & y          & n          & NA         & y          & n          & n          & n          & n          & y          & n          & y          & n          & n          & y         \\\\\n",
       "\t democrat   & y          & y          & y          & n          & y          & y          & n          & n          & n          & n          & y          & NA         & y          & y          & y          & y         \\\\\n",
       "\t democrat   & n          & y          & y          & n          & y          & y          & n          & n          & n          & n          & n          & n          & y          & y          & y          & y         \\\\\n",
       "\\end{tabular}\n"
      ],
      "text/markdown": [
       "\n",
       "Class | V1 | V2 | V3 | V4 | V5 | V6 | V7 | V8 | V9 | V10 | V11 | V12 | V13 | V14 | V15 | V16 | \n",
       "|---|---|---|---|---|---|\n",
       "| republican | n          | y          | n          | y          | y          | y          | n          | n          | n          | y          | NA         | y          | y          | y          | n          | y          | \n",
       "| republican | n          | y          | n          | y          | y          | y          | n          | n          | n          | n          | n          | y          | y          | y          | n          | NA         | \n",
       "| democrat   | NA         | y          | y          | NA         | y          | y          | n          | n          | n          | n          | y          | n          | y          | y          | n          | n          | \n",
       "| democrat   | n          | y          | y          | n          | NA         | y          | n          | n          | n          | n          | y          | n          | y          | n          | n          | y          | \n",
       "| democrat   | y          | y          | y          | n          | y          | y          | n          | n          | n          | n          | y          | NA         | y          | y          | y          | y          | \n",
       "| democrat   | n          | y          | y          | n          | y          | y          | n          | n          | n          | n          | n          | n          | y          | y          | y          | y          | \n",
       "\n",
       "\n"
      ],
      "text/plain": [
       "  Class      V1 V2 V3 V4 V5 V6 V7 V8 V9 V10 V11 V12 V13 V14 V15 V16\n",
       "1 republican n  y  n  y  y  y  n  n  n  y   NA  y   y   y   n   y  \n",
       "2 republican n  y  n  y  y  y  n  n  n  n   n   y   y   y   n   NA \n",
       "3 democrat   NA y  y  NA y  y  n  n  n  n   y   n   y   y   n   n  \n",
       "4 democrat   n  y  y  n  NA y  n  n  n  n   y   n   y   n   n   y  \n",
       "5 democrat   y  y  y  n  y  y  n  n  n  n   y   NA  y   y   y   y  \n",
       "6 democrat   n  y  y  n  y  y  n  n  n  n   n   n   y   y   y   y  "
      ]
     },
     "metadata": {},
     "output_type": "display_data"
    }
   ],
   "source": [
    "## Load the data\n",
    "require(mlbench)\n",
    "data(HouseVotes84)\n",
    "head(HouseVotes84)"
   ]
  },
  {
   "cell_type": "code",
   "execution_count": 2,
   "metadata": {
    "collapsed": false
   },
   "outputs": [
    {
     "name": "stderr",
     "output_type": "stream",
     "text": [
      "Loading required package: ggplot2\n"
     ]
    },
    {
     "data": {
      "image/png": "[encoded data removed]",
      "text/plain": [
       "plot without title"
      ]
     },
     "metadata": {},
     "output_type": "display_data"
    },
    {
     "data": {
      "image/png": "[encoded data removed]",
      "text/plain": [
       "plot without title"
      ]
     },
     "metadata": {},
     "output_type": "display_data"
    },
    {
     "data": {
      "image/png": "[encoded data removed]",
      "text/plain": [
       "plot without title"
      ]
     },
     "metadata": {},
     "output_type": "display_data"
    },
    {
     "data": {
      "text/plain": [
       "[[1]]\n",
       "\n",
       "[[2]]\n",
       "\n",
       "[[3]]\n",
       "\n",
       "[[4]]\n",
       "\n",
       "[[5]]\n"
      ]
     },
     "metadata": {},
     "output_type": "display_data"
    },
    {
     "data": {
      "image/png": "[encoded data removed]",
      "text/plain": [
       "plot without title"
      ]
     },
     "metadata": {},
     "output_type": "display_data"
    },
    {
     "data": {
      "image/png": "[encoded data removed]",
      "text/plain": [
       "plot without title"
      ]
     },
     "metadata": {},
     "output_type": "display_data"
    }
   ],
   "source": [
    "## Examine the data ste\n",
    "require(ggplot2)\n",
    "Map(function(x, y)\n",
    "  ggplot(HouseVotes84, aes_string(x)) +\n",
    "    geom_bar() +\n",
    "    facet_grid(. ~ Class) +\n",
    "    ggtitle(y),\n",
    "  list('V1', 'V2', 'V3', 'V4', 'V5'), \n",
    "  list(' handicapped-infants',\n",
    "        'water-project-cost-sharing',\n",
    "        'adoption-of-the-budget-resolution',\n",
    "        'physician-fee-freeze',\n",
    "        'el-salvador-aid'))"
   ]
  },
  {
   "cell_type": "code",
   "execution_count": 3,
   "metadata": {
    "collapsed": false
   },
   "outputs": [
    {
     "name": "stderr",
     "output_type": "stream",
     "text": [
      "Loading required package: e1071\n"
     ]
    }
   ],
   "source": [
    "## Compute the model\n",
    "require(e1071)\n",
    "model <- naiveBayes(Class ~ ., data = HouseVotes84)"
   ]
  },
  {
   "cell_type": "code",
   "execution_count": 4,
   "metadata": {
    "collapsed": false
   },
   "outputs": [
    {
     "data": {
      "text/html": [
       "<table>\n",
       "<thead><tr><th scope=col>party</th><th scope=col>predicted</th><th scope=col>Democrat</th><th scope=col>Republican</th></tr></thead>\n",
       "<tbody>\n",
       "\t<tr><td>republican  </td><td>republican  </td><td>1.029209e-07</td><td>9.999999e-01</td></tr>\n",
       "\t<tr><td>republican  </td><td>republican  </td><td>5.820415e-08</td><td>9.999999e-01</td></tr>\n",
       "\t<tr><td>democrat    </td><td>republican  </td><td>5.684937e-03</td><td>9.943151e-01</td></tr>\n",
       "\t<tr><td>democrat    </td><td>democrat    </td><td>9.985798e-01</td><td>1.420152e-03</td></tr>\n",
       "\t<tr><td>democrat    </td><td>democrat    </td><td>9.666720e-01</td><td>3.332802e-02</td></tr>\n",
       "\t<tr><td>democrat    </td><td>democrat    </td><td>8.121430e-01</td><td>1.878570e-01</td></tr>\n",
       "\t<tr><td>democrat    </td><td>republican  </td><td>1.751512e-04</td><td>9.998248e-01</td></tr>\n",
       "\t<tr><td>republican  </td><td>republican  </td><td>8.300100e-06</td><td>9.999917e-01</td></tr>\n",
       "\t<tr><td>republican  </td><td>republican  </td><td>8.277705e-08</td><td>9.999999e-01</td></tr>\n",
       "\t<tr><td>democrat    </td><td>democrat    </td><td>1.000000e+00</td><td>5.029425e-11</td></tr>\n",
       "</tbody>\n",
       "</table>\n"
      ],
      "text/latex": [
       "\\begin{tabular}{r|llll}\n",
       " party & predicted & Democrat & Republican\\\\\n",
       "\\hline\n",
       "\t republican   & republican   & 1.029209e-07 & 9.999999e-01\\\\\n",
       "\t republican   & republican   & 5.820415e-08 & 9.999999e-01\\\\\n",
       "\t democrat     & republican   & 5.684937e-03 & 9.943151e-01\\\\\n",
       "\t democrat     & democrat     & 9.985798e-01 & 1.420152e-03\\\\\n",
       "\t democrat     & democrat     & 9.666720e-01 & 3.332802e-02\\\\\n",
       "\t democrat     & democrat     & 8.121430e-01 & 1.878570e-01\\\\\n",
       "\t democrat     & republican   & 1.751512e-04 & 9.998248e-01\\\\\n",
       "\t republican   & republican   & 8.300100e-06 & 9.999917e-01\\\\\n",
       "\t republican   & republican   & 8.277705e-08 & 9.999999e-01\\\\\n",
       "\t democrat     & democrat     & 1.000000e+00 & 5.029425e-11\\\\\n",
       "\\end{tabular}\n"
      ],
      "text/markdown": [
       "\n",
       "party | predicted | Democrat | Republican | \n",
       "|---|---|---|---|---|---|---|---|---|---|\n",
       "| republican   | republican   | 1.029209e-07 | 9.999999e-01 | \n",
       "| republican   | republican   | 5.820415e-08 | 9.999999e-01 | \n",
       "| democrat     | republican   | 5.684937e-03 | 9.943151e-01 | \n",
       "| democrat     | democrat     | 9.985798e-01 | 1.420152e-03 | \n",
       "| democrat     | democrat     | 9.666720e-01 | 3.332802e-02 | \n",
       "| democrat     | democrat     | 8.121430e-01 | 1.878570e-01 | \n",
       "| democrat     | republican   | 1.751512e-04 | 9.998248e-01 | \n",
       "| republican   | republican   | 8.300100e-06 | 9.999917e-01 | \n",
       "| republican   | republican   | 8.277705e-08 | 9.999999e-01 | \n",
       "| democrat     | democrat     | 1.000000e+00 | 5.029425e-11 | \n",
       "\n",
       "\n"
      ],
      "text/plain": [
       "   party      predicted  Democrat     Republican  \n",
       "1  republican republican 1.029209e-07 9.999999e-01\n",
       "2  republican republican 5.820415e-08 9.999999e-01\n",
       "3  democrat   republican 5.684937e-03 9.943151e-01\n",
       "4  democrat   democrat   9.985798e-01 1.420152e-03\n",
       "5  democrat   democrat   9.666720e-01 3.332802e-02\n",
       "6  democrat   democrat   8.121430e-01 1.878570e-01\n",
       "7  democrat   republican 1.751512e-04 9.998248e-01\n",
       "8  republican republican 8.300100e-06 9.999917e-01\n",
       "9  republican republican 8.277705e-08 9.999999e-01\n",
       "10 democrat   democrat   1.000000e+00 5.029425e-11"
      ]
     },
     "metadata": {},
     "output_type": "display_data"
    }
   ],
   "source": [
    "## Look at the results for the first 10 legistators\n",
    "party = predict(model, HouseVotes84[1:10,])\n",
    "nums = predict(model, HouseVotes84[1:10,], type = \"raw\")\n",
    "data.frame(party = HouseVotes84$Class[1:10], predicted = party, Democrat = nums[,1], Republican = nums[,2])"
   ]
  },
  {
   "cell_type": "code",
   "execution_count": 5,
   "metadata": {
    "collapsed": false
   },
   "outputs": [
    {
     "data": {
      "text/plain": [
       "            \n",
       "pred         democrat republican\n",
       "  democrat        238         13\n",
       "  republican       29        155"
      ]
     },
     "metadata": {},
     "output_type": "display_data"
    }
   ],
   "source": [
    "## Look at the accuracy of the model\n",
    "pred <- predict(model, HouseVotes84)\n",
    "table(pred, HouseVotes84$Class)"
   ]
  },
  {
   "cell_type": "code",
   "execution_count": 6,
   "metadata": {
    "collapsed": false
   },
   "outputs": [
    {
     "data": {
      "text/plain": [
       "            \n",
       "pred         democrat republican\n",
       "  democrat        237         12\n",
       "  republican       30        156"
      ]
     },
     "metadata": {},
     "output_type": "display_data"
    }
   ],
   "source": [
    "## using laplace smoothing:\n",
    "model <- naiveBayes(Class ~ ., data = HouseVotes84, laplace = 3)\n",
    "pred <- predict(model, HouseVotes84[,-1])\n",
    "table(pred, HouseVotes84$Class)"
   ]
  },
  {
   "cell_type": "code",
   "execution_count": 7,
   "metadata": {
    "collapsed": false
   },
   "outputs": [
    {
     "name": "stdout",
     "output_type": "stream",
     "text": [
      "            \n",
      "pred         democrat republican\n",
      "  democrat        165         34\n",
      "  republican      102        134\n",
      "            \n",
      "pred         democrat republican\n",
      "  democrat        254         13\n",
      "  republican       13        155\n",
      "            \n",
      "pred         democrat republican\n",
      "  democrat        239         15\n",
      "  republican       28        153\n",
      "            \n",
      "pred         democrat republican\n",
      "  democrat        237         12\n",
      "  republican       30        156\n"
     ]
    }
   ],
   "source": [
    "## ------ learning in naive Bayes ------\n",
    "## Naive Bayes works well with small data sets\n",
    "for(i in c(3, 5, 9, 17)){\n",
    "  model <- naiveBayes(Class ~ ., data = HouseVotes84[, 1:i], laplace = 3)\n",
    "  pred <- predict(model, HouseVotes84[,2:i])\n",
    "  print(table(pred, HouseVotes84$Class))\n",
    "}"
   ]
  },
  {
   "cell_type": "code",
   "execution_count": 8,
   "metadata": {
    "collapsed": true
   },
   "outputs": [],
   "source": [
    "## -------- Census Data ----------------------\n",
    "## Want to classify people into high/low income\n",
    "##\n",
    "## Load the dataset\n",
    "path = 'C:\\\\Users\\\\StevePC2\\\\Documents\\\\Git\\\\DataScience350\\\\Lecture9' # SET YOUR PATH HERE!!\n",
    "full.path = file.path(path, 'Adult Census Income Binary Classification dataset.csv')\n",
    "Income = read.csv(full.path,\n",
    "                  header = TRUE)"
   ]
  },
  {
   "cell_type": "code",
   "execution_count": 9,
   "metadata": {
    "collapsed": false
   },
   "outputs": [
    {
     "data": {
      "text/plain": [
       "\n",
       "Naive Bayes Classifier for Discrete Predictors\n",
       "\n",
       "Call:\n",
       "naiveBayes.default(x = X, y = Y, laplace = laplace)\n",
       "\n",
       "A-priori probabilities:\n",
       "Y\n",
       "    <=50K      >50K \n",
       "0.7591904 0.2408096 \n",
       "\n",
       "Conditional probabilities:\n",
       "        age\n",
       "Y            [,1]     [,2]\n",
       "   <=50K 36.78374 14.02009\n",
       "   >50K  44.24984 10.51903\n",
       "\n",
       "        workclass\n",
       "Y                   ?  Federal-gov    Local-gov  Never-worked      Private\n",
       "   <=50K 0.0665939306 0.0239220916 0.0597648200  0.0004040894 0.7166929325\n",
       "   >50K  0.0246568378 0.0475343162 0.0788002034  0.0003812913 0.6311642095\n",
       "        workclass\n",
       "Y         Self-emp-inc  Self-emp-not-inc    State-gov  Without-pay\n",
       "   <=50K  0.0200832424      0.0735442680 0.0383076737 0.0006869520\n",
       "   >50K   0.0794356889      0.0923995933 0.0452465684 0.0003812913\n",
       "\n",
       "        fnlwgt\n",
       "Y            [,1]     [,2]\n",
       "   <=50K 190340.9 106482.3\n",
       "   >50K  188005.0 102541.8\n",
       "\n",
       "        education\n",
       "Y                10th         11th         12th      1st-4th      5th-6th\n",
       "   <=50K 0.0352874677 0.0451388889 0.0162709948 0.0066618217 0.0129198966\n",
       "   >50K  0.0082393206 0.0079858030 0.0045633160 0.0011408290 0.0024084168\n",
       "        education\n",
       "Y             7th-8th          9th   Assoc-acdm    Assoc-voc    Bachelors\n",
       "   <=50K 0.0245881783 0.0197835917 0.0325016150 0.0413436693 0.1266553618\n",
       "   >50K  0.0054506275 0.0038027633 0.0339713525 0.0461401952 0.2819115224\n",
       "        education\n",
       "Y           Doctorate      HS-grad      Masters    Preschool  Prof-school\n",
       "   <=50K 0.0044412145 0.3564680233 0.0309673773 0.0021802326 0.0062984496\n",
       "   >50K  0.0391684624 0.2127012296 0.1219419445 0.0003802763 0.0539992394\n",
       "        education\n",
       "Y         Some-college\n",
       "   <=50K  0.2384932171\n",
       "   >50K   0.1761947015\n",
       "\n",
       "        education.num\n",
       "Y             [,1]     [,2]\n",
       "   <=50K  9.595065 2.436147\n",
       "   >50K  11.611657 2.385129\n",
       "\n",
       "        marital.status\n",
       "Y            Divorced  Married-AF-spouse  Married-civ-spouse\n",
       "   <=50K 0.1609878340       0.0006466998        0.3349500829\n",
       "   >50K  0.0592724498       0.0016535233        0.8515644874\n",
       "        marital.status\n",
       "Y         Married-spouse-absent  Never-married    Separated      Widowed\n",
       "   <=50K           0.0156420517   0.4120690352 0.0388828261 0.0368214704\n",
       "   >50K            0.0047061816   0.0628338845 0.0087763928 0.0111930806\n",
       "\n",
       "        occupation\n",
       "Y                   ?  Adm-clerical  Armed-Forces  Craft-repair\n",
       "   <=50K 0.0668281849  0.1318796689  0.0004441752  0.1281243691\n",
       "   >50K  0.0246005580  0.0646715699  0.0005072280  0.1181841238\n",
       "        occupation\n",
       "Y         Exec-managerial  Farming-fishing  Handlers-cleaners\n",
       "   <=50K     0.0848374722     0.0356147789       0.0519685039\n",
       "   >50K      0.2499365965     0.0149632260       0.0112858230\n",
       "        occupation\n",
       "Y         Machine-op-inspct  Other-service  Priv-house-serv  Prof-specialty\n",
       "   <=50K       0.0708661417   0.1276398143     0.0060973148    0.0922269332\n",
       "   >50K        0.0320821709   0.0177529800     0.0005072280    0.2361146335\n",
       "        occupation\n",
       "Y         Protective-serv        Sales  Tech-support  Transport-moving\n",
       "   <=50K     0.0178073895 0.1078134464  0.0261659600      0.0516858470\n",
       "   >50K      0.0271366979 0.1250317017  0.0362668019      0.0409586609\n",
       "\n",
       "        relationship\n",
       "Y            Husband  Not-in-family  Other-relative   Own-child   Unmarried\n",
       "   <=50K 0.294203250    0.301236963     0.038281187 0.202279893 0.130608780\n",
       "   >50K  0.753403741    0.109301438     0.005089706 0.008906986 0.028120626\n",
       "        relationship\n",
       "Y               Wife\n",
       "   <=50K 0.033389926\n",
       "   >50K  0.095177503\n",
       "\n",
       "        race\n",
       "Y         Amer-Indian-Eskimo  Asian-Pac-Islander       Black       Other\n",
       "   <=50K         0.011239135         0.030968264 0.110774207 0.010066707\n",
       "   >50K          0.004964358         0.035514257 0.049643585 0.003564155\n",
       "        race\n",
       "Y              White\n",
       "   <=50K 0.836951688\n",
       "   >50K  0.906313646\n",
       "\n",
       "        sex\n",
       "Y           Female      Male\n",
       "   <=50K 0.3880531 0.6119469\n",
       "   >50K  0.1506308 0.8493692\n",
       "\n",
       "        capital.gain\n",
       "Y             [,1]       [,2]\n",
       "   <=50K  148.7525   963.1393\n",
       "   >50K  4006.1425 14570.3790\n",
       "\n",
       "        capital.loss\n",
       "Y             [,1]     [,2]\n",
       "   <=50K  53.14292 310.7558\n",
       "   >50K  195.00153 595.4876\n",
       "\n",
       "        hours.per.week\n",
       "Y            [,1]     [,2]\n",
       "   <=50K 38.84021 12.31899\n",
       "   >50K  45.47303 11.01297\n",
       "\n",
       "        native.country\n",
       "Y                   ?     Cambodia       Canada        China     Columbia\n",
       "   <=50K 0.0177090880 0.0006037189 0.0034210738 0.0023343798 0.0024148756\n",
       "   >50K  0.0187021464 0.0012551776 0.0052717460 0.0028869085 0.0006275888\n",
       "        native.country\n",
       "Y                Cuba  Dominican-Republic      Ecuador  El-Salvador\n",
       "   <=50K 0.0029380987        0.0028576028 0.0010866940 0.0040247927\n",
       "   >50K  0.0035144973        0.0006275888 0.0008786243 0.0015062131\n",
       "        native.country\n",
       "Y             England       France      Germany       Greece    Guatemala\n",
       "   <=50K 0.0025356194 0.0008049585 0.0038638010 0.0009659503 0.0025758673\n",
       "   >50K  0.0041420861 0.0018827664 0.0058993348 0.0013806954 0.0007531066\n",
       "        native.country\n",
       "Y               Haiti  Holand-Netherlands     Honduras         Hong\n",
       "   <=50K 0.0017306609        0.0001609917 0.0006037189 0.0006842148\n",
       "   >50K  0.0008786243        0.0003765533 0.0005020710 0.0011296598\n",
       "        native.country\n",
       "Y             Hungary        India         Iran      Ireland        Italy\n",
       "   <=50K 0.0005232231 0.0025356194 0.0011269420 0.0008854544 0.0020526443\n",
       "   >50K  0.0007531066 0.0053972637 0.0026358730 0.0010041421 0.0035144973\n",
       "        native.country\n",
       "Y             Jamaica        Japan         Laos       Mexico    Nicaragua\n",
       "   <=50K 0.0029783466 0.0016501650 0.0007647106 0.0246719794 0.0014086775\n",
       "   >50K  0.0016317309 0.0033889795 0.0006275888 0.0045186394 0.0006275888\n",
       "        native.country\n",
       "Y         Outlying-US(Guam-USVI-etc)         Peru  Philippines       Poland\n",
       "   <=50K                0.0006842148 0.0012879337 0.0056347098 0.0020526443\n",
       "   >50K                 0.0003765533 0.0006275888 0.0080331367 0.0018827664\n",
       "        native.country\n",
       "Y            Portugal  Puerto-Rico     Scotland        South       Taiwan\n",
       "   <=50K 0.0014489254 0.0042260324 0.0004829751 0.0026966111 0.0013684295\n",
       "   >50K  0.0008786243 0.0018827664 0.0007531066 0.0023848375 0.0028869085\n",
       "        native.country\n",
       "Y            Thailand  Trinadad&Tobago  United-States      Vietnam   Yugoslavia\n",
       "   <=50K 0.0007244627     0.0008049585   0.8855348950 0.0026161153 0.0005232231\n",
       "   >50K  0.0007531066     0.0006275888   0.9004644157 0.0010041421 0.0011296598\n"
      ]
     },
     "metadata": {},
     "output_type": "display_data"
    }
   ],
   "source": [
    "require(e1071)\n",
    "income.mod = naiveBayes(income ~ ., data = Income, laplace = 3)\n",
    "income.mod"
   ]
  },
  {
   "cell_type": "code",
   "execution_count": 10,
   "metadata": {
    "collapsed": false
   },
   "outputs": [
    {
     "data": {
      "text/plain": [
       "        \n",
       "pred      <=50K  >50K\n",
       "   <=50K  23071  3931\n",
       "   >50K    1649  3910"
      ]
     },
     "metadata": {},
     "output_type": "display_data"
    }
   ],
   "source": [
    "pred <- predict(income.mod, Income[,-15])\n",
    "table(pred, Income$income)"
   ]
  },
  {
   "cell_type": "code",
   "execution_count": 11,
   "metadata": {
    "collapsed": false
   },
   "outputs": [
    {
     "name": "stdout",
     "output_type": "stream",
     "text": [
      "        \n",
      "pred      <=50K  >50K\n",
      "   <=50K   1395   256\n",
      "   >50K     106   243\n",
      "        \n",
      "pred      <=50K  >50K\n",
      "   <=50K   5689   969\n",
      "   >50K     399   943\n",
      "        \n",
      "pred      <=50K  >50K\n",
      "   <=50K  23071  3926\n",
      "   >50K    1649  3915\n"
     ]
    }
   ],
   "source": [
    "for(i in c(2000, 8000, 32561)){\n",
    "  income.mod = naiveBayes(income ~ ., data = Income[1:i, ], laplace = 2)\n",
    "  pred <- predict(income.mod, Income[1:i,-15])\n",
    "  print(table(pred, Income$income[1:i]))\n",
    "}"
   ]
  },
  {
   "cell_type": "markdown",
   "metadata": {},
   "source": [
    "## Summary"
   ]
  },
  {
   "cell_type": "markdown",
   "metadata": {
    "collapsed": true
   },
   "source": [
    "#### Copyright 2017, Stephen F Elston. All rights reserved. "
   ]
  },
  {
   "cell_type": "code",
   "execution_count": null,
   "metadata": {
    "collapsed": true
   },
   "outputs": [],
   "source": []
  }
 ],
 "metadata": {
  "anaconda-cloud": {},
  "kernelspec": {
   "display_name": "R",
   "language": "R",
   "name": "ir"
  },
  "language_info": {
   "codemirror_mode": "r",
   "file_extension": ".r",
   "mimetype": "text/x-r-source",
   "name": "R",
   "pygments_lexer": "r",
   "version": "3.4.1"
  }
 },
 "nbformat": 4,
 "nbformat_minor": 1
}
