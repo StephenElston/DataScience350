{
 "cells": [
  {
   "cell_type": "markdown",
   "metadata": {},
   "source": [
    "# Bayesian Modeling and Markov Chain Monte Carlo\n",
    "\n",
    "### Data Science 350\n",
    "\n",
    "## Overview\n",
    "\n",
    "This notebook introduces you to a general and flexible form of Bayesian modeling using the **Makov chain Monte Carlo** methods. \n",
    "\n",
    "![](img/Flips.png)\n"
   ]
  },
  {
   "cell_type": "code",
   "execution_count": null,
   "metadata": {
    "collapsed": true
   },
   "outputs": [],
   "source": []
  }
 ],
 "metadata": {
  "anaconda-cloud": {},
  "kernelspec": {
   "display_name": "R",
   "language": "R",
   "name": "ir"
  },
  "language_info": {
   "codemirror_mode": "r",
   "file_extension": ".r",
   "mimetype": "text/x-r-source",
   "name": "R",
   "pygments_lexer": "r",
   "version": "3.3.2"
  }
 },
 "nbformat": 4,
 "nbformat_minor": 1
}
