{
 "cells": [
  {
   "cell_type": "markdown",
   "metadata": {},
   "source": [
    "# Introduction to Naive Bayes Models\n",
    "\n",
    "### Stephen Elston\n",
    "### Data Science 350\n",
    "\n",
    "This notebook introduces you to naive Bayes models. Naive Bayes models are a surprisingly useful and effective simplification of the general Bayesian models. Naive Bayes models make the naive assumption of independence of the features.\n",
    "\n",
    "Some properties of naive Bayes models are:\n",
    "\n",
    "- Do not require a prior.\n",
    "- Computational complexity is linear in number of parameter/features.\n",
    "- Requires minimal data to produce models that generalizes well.\n",
    "- Have a simple and inherent regularization.\n",
    "\n",
    "Naive Bayes models are widely used including for:\n",
    "\n",
    "- Document classification\n",
    "- SPAM detection\n",
    "- Image classification\n"
   ]
  },
  {
   "cell_type": "markdown",
   "metadata": {},
   "source": [
    "***\n",
    "**Note:** To run this notebook you will need the following packages:\n",
    "- mlbench\n",
    "- ggplot2\n",
    "- e1071\n",
    "***"
   ]
  },
  {
   "cell_type": "markdown",
   "metadata": {},
   "source": [
    "## Overview of Naive Bayes Models\n",
    "\n",
    "Recall Bayes theorem:\n",
    "\n",
    "$$P(A|B) = P(B|A) \\frac{P(A)}{P(B)}$$\n",
    "\n",
    "Using the chain rule of conditional probabilities, we can create write the joint distribution for the probability of class $C_k$ as: \n",
    "\n",
    "$$\n",
    "p(C_k, x_1, x_2, x_3, \\ldots, x_n) = p(x_1, x_2, x_3, \\ldots, x_n, C_k) \\\\\n",
    "=  p(x_1 | x_2, x_3, \\ldots, x_n, C_k)  p(x_2, x_3, \\ldots, x_n, C_k) \\\\\n",
    "= p(x_1 | x_2, x_3, \\ldots, x_n, C_k)  p(x_2 | x_3, \\ldots, x_n, C_k) p(x_3, \\ldots, x_n, C_k) \\\\\n",
    "\\cdots \\cdots \\\\\\\n",
    "=  p(x_1 | x_2, x_3, \\ldots, x_n, C_k)  p(x_2 | x_3, \\ldots, x_n, C_k) \\dots p(C_k)\n",
    "$$\n",
    "\n",
    "Let the features, $\\{ x_1, x_2, x_3, \\ldots, x_n \\}$, be independent, the above can then be written as:\n",
    "\n",
    "$$p(x_i | x_{i + 1}, x_{i + 2}, \\ldots, x_n, C_k) = p(x_i | C_k)$$\n",
    "\n",
    "This simpification allows us to write the probability of the class $C_k$ as the conditional distribution:\n",
    "\n",
    "$$p(C_k | x_1, x_2, x_3, \\ldots, x_n) \\propto p(C_k) \\prod^N_{j = 1} p(x_j|C_k)$$\n",
    "\n",
    "Given a number of classes, we can find the mostly likely class $\\hat{y}$ as:\n",
    "\n",
    "$$\\hat{y} = argmax_k \\Big[ \\prod^N_{j = 1} p(x_j|C_k) \\Big]$$\n",
    "\n",
    "Notice that the above formulation uses only the emperical probabilities of the features conditioned on the class. Futher no proir distirbution is required. \n",
    "\n",
    "### Pitfalls in naive Bayes models\n",
    "\n",
    "There are some well know pitfalls with known solutions, including:\n",
    "\n",
    "- Multiplication of small probabilities leads to floating point underflow. This problem is corrected by computing with the log probabilities, $ln(p)$.\n",
    "- If there are no samples/data then $p(x_j|C_k) = 0$, leading the product of probabilities to be 0. A Laplace smoother is used to ensure that all $p(x_.j|C_k) > 0$\n",
    "- Colinear features do not exhibit independence. Ideally, such features should be removed from the the data set to prevent problems with the  model.\n",
    "- Regularization is generally a minor issue with naive Bayes models, as uninformative feature tend to a uniform distribution which does not affect the outcome.\n",
    "\n",
    "### Types of naive Bayes models\n",
    "\n",
    "Now that we have looked into the basics of a naive Bayes models, lets look at some specific formulations. It is important to keep in mind that a specific naive Bayes model is required for each class of problem.  \n",
    "\n",
    "The Multinomial naive Bayes classifier is a widely used form of the model. The Multinomial classifier finds the mostly likely class from multiple possibilities. To prevent numerical underflow we write this classifier taking the logarithms of both sides of the equation as follows:\n",
    "\n",
    "$$log \\Big( p(C_k | x) \\Big) \\propto\\ log \\Big( p(C_k) \\prod^N_{j = 1} p_{kj}(x_i) \\Big)\\\\\n",
    "= log \\Big( p(C_k) \\Big) + log \\Big( \\sum^N_{j = 1} p_{kj}(x_i) \\Big)$$\n",
    "\n",
    "The most likely class $\\hat{y}$ is then:\n",
    "\n",
    "$$\\hat{y} = argmax_k \\Big[ log \\Big( p(C_k) \\Big) + log \\Big( \\sum^N_{j = 1} p_{kj}(x_i) \\Big) \\Big]$$\n",
    "\n",
    "The multinomial classifier can be simplified for the Bernoulli or binary case as:\n",
    "\n",
    "$$log \\Big( p(x | C_k) \\Big) = log \\Big( \\sum^N_{j = 1} p_{kj}^{x_i} \\big( 1 -  p_{kj}^{(1 - x_i)} \\big) \\Big)$$\n",
    "\n",
    "\n",
    "### Document classification with naive Bayes\n",
    "\n",
    "Document classification has been one of the most sucessful applications of the naive Bayes mdoel. There is a good chance that the SPAM filter your email serivce uses is a naive Bayes model, at least in part. \n",
    "\n",
    "\n",
    "We say that we classify documents by **topics**. The naive Bayes topic model computes the probability that a document $D$ has topic $C$ based on the occurance of the words $\\{ w_1, w_2, \\ldots, w_n \\}$, using the following relationship:\n",
    "\n",
    "$$p(C|D) \\propto \\prod_{j = 1}^N p(w_j|C)$$\n",
    "\n",
    "Notice that this topic model allows a document to have a number of topics. For example, we can say the topics of $D$ are the 5 topics with the highest probability.\n",
    "\n",
    "For a SPAM classifier, we only need a Brenoulli topic model:\n",
    "\n",
    "$$p(S+|D) \\propto p(S+) \\prod_{j=1}^N p(w_j|S+)$$\n",
    "\n",
    "An hypothesis test is applied to each message to determine if it is SPAM. We use the log likihood ratio to determine if a given message is SPAM or not. If the following ratio is $> 1$ we classify the message as SPAM:\n",
    "\n",
    "$$ln \\Bigg( \\frac{p(S+)}{p(S-)} \\Bigg) = \\sum_{j = 1}^N \\Big[ log \\big( p(w_j|S+) \\big) - log \\big( p(w_j|S-) \\big) \\Big]$$"
   ]
  },
  {
   "cell_type": "markdown",
   "metadata": {},
   "source": [
    "## Example of Naive Bayes Model\n",
    "\n",
    "Let's try a simple example of a naive bayes model. The R mlbench package contains the `HouseVotes84` which contains political party and votes on 16 important bills for 435 members of the US House of Representative. We will use this data set to build and test a classifier to predict the political party of the Congresspeople. \n",
    "\n",
    "Execute the code in the cell below to load the data from the package and examine the dimensions and head of the data. "
   ]
  },
  {
   "cell_type": "code",
   "execution_count": null,
   "metadata": {
    "collapsed": false
   },
   "outputs": [],
   "source": [
    "## Load the data\n",
    "require(mlbench)\n",
    "data(HouseVotes84)\n",
    "dim(HouseVotes84)\n",
    "head(HouseVotes84)"
   ]
  },
  {
   "cell_type": "markdown",
   "metadata": {},
   "source": [
    "To further understand this data, let's make some plots of the first 5 votes. The code in the cell below creates bar plots for these votes by `Class` or political parties. Execute this code and examine the results."
   ]
  },
  {
   "cell_type": "code",
   "execution_count": null,
   "metadata": {
    "collapsed": false
   },
   "outputs": [],
   "source": [
    "## Examine the data ste\n",
    "require(ggplot2)\n",
    "Map(function(x, y)\n",
    "  ggplot(HouseVotes84, aes_string(x)) +\n",
    "    geom_bar() +\n",
    "    facet_grid(. ~ Class) +\n",
    "    ggtitle(y),\n",
    "  list('V1', 'V2', 'V3', 'V4', 'V5'), \n",
    "  list(' handicapped-infants',\n",
    "        'water-project-cost-sharing',\n",
    "        'adoption-of-the-budget-resolution',\n",
    "        'physician-fee-freeze',\n",
    "        'el-salvador-aid'))"
   ]
  },
  {
   "cell_type": "markdown",
   "metadata": {},
   "source": [
    "When examining these charts, keep in mind that there are more Democrats than Republican. What is important is the probability of Yes vote or No vote for the members of each party. Some votes are quite skewed by party affiliation, such as 'adoption of the budget resolution'. Whereas, some votes have similar probabilities by party, such as 'water project cost sharing'. These probabilities of votes by party are used to train the naive Bayes model.\n",
    "\n",
    "Now that we understand a bit about the characteristics of the data, its time to train and test a naive Bayes model. The R e1071 package contains the `naiveBayes` function which trains a naive Bayes model and produces a model object."
   ]
  },
  {
   "cell_type": "code",
   "execution_count": null,
   "metadata": {
    "collapsed": false
   },
   "outputs": [],
   "source": [
    "## Compute the model\n",
    "require(e1071)\n",
    "model <- naiveBayes(Class ~ ., data = HouseVotes84)"
   ]
  },
  {
   "cell_type": "markdown",
   "metadata": {},
   "source": [
    "With the model computed, let's evaluate the performance. We can get a quick overview of the model's effectiveness by printing the first 10 rows of the result. Execute the code in the cell below to print the first 10 rows of the result and examine the result."
   ]
  },
  {
   "cell_type": "code",
   "execution_count": null,
   "metadata": {
    "collapsed": false
   },
   "outputs": [],
   "source": [
    "## Look at the results for the first 10 legistators\n",
    "party = predict(model, HouseVotes84[1:10,])\n",
    "nums = predict(model, HouseVotes84[1:10,], type = \"raw\")\n",
    "results = data.frame(party = HouseVotes84$Class[1:10], \n",
    "                     predicted = party, \n",
    "                     Democrat = nums[,1], \n",
    "                     Republican = nums[,2])\n",
    "results"
   ]
  },
  {
   "cell_type": "markdown",
   "metadata": {},
   "source": [
    "As you examine these results noticing:\n",
    "1. There are 2 classification errors, with 8 cases correctly classified.\n",
    "2. In most cases, the probability of the class predicted (score) is much larger than for the other class, including for the cases with classification errors.\n",
    "3. One case has nearly identical probabilities for the classes.\n",
    "\n",
    "As a next step, we can compute the confusion matrix and performance metrics for this model. "
   ]
  },
  {
   "cell_type": "code",
   "execution_count": null,
   "metadata": {
    "collapsed": false
   },
   "outputs": [],
   "source": [
    "## Compute the performance metrics of the model\n",
    "performance = function(df, score, label){ \n",
    "    # Elements of the confusion matrix\n",
    "    temp = table(df[, score], df[, label])\n",
    "    TP = temp[1,1]\n",
    "    FP = temp[2,1]\n",
    "    TN = temp[2,2]\n",
    "    FN = temp[1,2]  \n",
    "  \n",
    "    # Compute and print the metrics\n",
    "    cat('\\n')\n",
    "    cat(paste('accuracy =', as.character((TP + TN)/(TP + TN + FP + FN)), '\\n'))      \n",
    "    cat(paste('precision =', as.character(signif(TP/(TP + FP)), digits = 2)), '\\n')     \n",
    "    cat(paste('recall =', as.character(TP/(TP + FN))))\n",
    "    \n",
    "    ## Return confusion matrix\n",
    "    temp  \n",
    "}\n",
    "\n",
    "performance(results, 'predicted', 'party')"
   ]
  },
  {
   "cell_type": "markdown",
   "metadata": {},
   "source": [
    "The results are reasonably good for using the votes of only 10 of 435 Congresspeople. \n",
    "\n",
    "Next, let's compute and evaluate a naive Bayes model using the votes of all Congresspeople. Execute the code in the cell below computes and prints an evaluation of the model using all the data and compare the results to the first model."
   ]
  },
  {
   "cell_type": "code",
   "execution_count": null,
   "metadata": {
    "collapsed": false
   },
   "outputs": [],
   "source": [
    "## Look at the accuracy of the model with all Congresspeople\n",
    "## Look at the results for the first 10 legistators\n",
    "party = predict(model, HouseVotes84)\n",
    "nums = predict(model, HouseVotes84, type = \"raw\")\n",
    "results.all = data.frame(party = HouseVotes84$Class, \n",
    "                     predicted = party, \n",
    "                     Democrat = nums[,1], \n",
    "                     Republican = nums[,2])\n",
    "performance(results.all, 'predicted', 'party')"
   ]
  },
  {
   "cell_type": "markdown",
   "metadata": {},
   "source": [
    "As expected, the overall performance of the model is better using all of the data."
   ]
  },
  {
   "cell_type": "markdown",
   "metadata": {},
   "source": [
    "The Laplace smoothing method is an effective way to deal with data sets which do not have sufficient samples to compute probabilities. This method avoids the case where $p(x_j|C_k) = 0$. \n",
    "\n",
    "The code in the cell below computes a naive Bayes model using the same congressional vote data, but with a Laplace smoother with a span of 3 data points. Execute this code and examine the results. "
   ]
  },
  {
   "cell_type": "code",
   "execution_count": null,
   "metadata": {
    "collapsed": false
   },
   "outputs": [],
   "source": [
    "## using laplace smoothing:\n",
    "model <- naiveBayes(Class ~ ., data = HouseVotes84, laplace = 3)\n",
    "party = predict(model, HouseVotes84)\n",
    "results.laplace = data.frame(party = HouseVotes84$Class, \n",
    "                     predicted = party, \n",
    "                     Democrat = nums[,1], \n",
    "                     Republican = nums[,2])\n",
    "performance(results.laplace, 'predicted', 'party')"
   ]
  },
  {
   "cell_type": "code",
   "execution_count": null,
   "metadata": {
    "collapsed": true
   },
   "outputs": [],
   "source": []
  },
  {
   "cell_type": "markdown",
   "metadata": {},
   "source": [
    "The results are similar to the model computed without Laplace smoothing. This result is expected as all the cases in the data set have sufficient data. "
   ]
  },
  {
   "cell_type": "markdown",
   "metadata": {},
   "source": [
    "## Another Example\n",
    "\n",
    "Let's try another binary classification example. The code in the cell below loads some sample US Census data. We want to build and evaluate a naive Bayes model to classify people by high and low income using $50,000 as the cut-off. Execute this code and examine the features in the data set. "
   ]
  },
  {
   "cell_type": "code",
   "execution_count": null,
   "metadata": {
    "collapsed": false
   },
   "outputs": [],
   "source": [
    "## -------- Census Data ----------------------\n",
    "## Want to classify people into high/low income\n",
    "##\n",
    "## Load the dataset\n",
    "path = 'C:\\\\Users\\\\StevePC2\\\\Documents\\\\Git\\\\DataScience350\\\\Lecture9' # SET YOUR PATH HERE!!\n",
    "full.path = file.path(path, 'Adult Census Income Binary Classification dataset.csv')\n",
    "Income = read.csv(full.path,\n",
    "                  header = TRUE)\n",
    "head(Income)"
   ]
  },
  {
   "cell_type": "markdown",
   "metadata": {},
   "source": [
    "We can see some features which are likely to be colinear. There is also one feature, 'fnlwgt', which is not useful in classifing these people. The code in the cell below removes these columns using the dplyr package. Execute this coded to create a data set with reduced features"
   ]
  },
  {
   "cell_type": "code",
   "execution_count": null,
   "metadata": {
    "collapsed": false
   },
   "outputs": [],
   "source": [
    "require(dplyr)\n",
    "Income = Income %>% select(-workclass, -fnlwgt, -education.num, -relationship)\n",
    "names(Income)"
   ]
  },
  {
   "cell_type": "markdown",
   "metadata": {},
   "source": [
    "***\n",
    "**Your turn.** Compute a naive Bayes model to classify `income` using the features in the Income data set. Use `laplace = 3` for smoothing.  Print the model and examine the conditional probabilities for the values of the features to get an idea how the classifer works. \n",
    "***"
   ]
  },
  {
   "cell_type": "code",
   "execution_count": null,
   "metadata": {
    "collapsed": false,
    "scrolled": false
   },
   "outputs": [],
   "source": []
  },
  {
   "cell_type": "markdown",
   "metadata": {},
   "source": [
    "***\n",
    "**Your turn.** Using the model you computed for predicting peoples' income class, compute predictions (scores). Use the `performance` function to compute and print the performance metrics. \n",
    "***"
   ]
  },
  {
   "cell_type": "code",
   "execution_count": null,
   "metadata": {
    "collapsed": false
   },
   "outputs": [],
   "source": []
  },
  {
   "cell_type": "markdown",
   "metadata": {},
   "source": [
    "## Changing Number of Features\n",
    "\n",
    "Let's investigate the effect of adding more data samples to the naive Bayes model. The code in the cell below computes and evaluates naive Bayes models using 2, 3, 4, 5 and 6 votes. Execute this code and compare the results to those obtained using the full data set."
   ]
  },
  {
   "cell_type": "code",
   "execution_count": null,
   "metadata": {
    "collapsed": false
   },
   "outputs": [],
   "source": [
    "###### ------ learning in naive Bayes ------\n",
    "## Naive Bayes works well with small data sets\n",
    "for(i in c(2, 3, 4, 5, 6)){    \n",
    "  model <- naiveBayes(Class ~ ., data = HouseVotes84[, 1:i], laplace = 3)\n",
    "  party = predict(model, HouseVotes84)\n",
    "  results.temp = data.frame(party = HouseVotes84$Class, \n",
    "                     predicted = party, \n",
    "                     Democrat = nums[,1], \n",
    "                     Republican = nums[,2])\n",
    "  cat('\\n')\n",
    "  cat('Number of features =', i)\n",
    "  print(performance(results.temp, 'predicted', 'party'))\n",
    "}"
   ]
  },
  {
   "cell_type": "markdown",
   "metadata": {},
   "source": [
    "You can see from these results, that the model gains accuracy rapidly with just a few features. In fact, 5 or 6 of the 16 features provides equivalent results. \n",
    "\n",
    "***\n",
    "**Your turn.** Compute a naive Bayes model, compute and  print the performance statistics for 100, 500, 1000, 2000, 8000, and 32561 rows of the Income data set. How many rows are required until the performance is close to the best possible with the model. \n",
    "***"
   ]
  },
  {
   "cell_type": "code",
   "execution_count": null,
   "metadata": {
    "collapsed": false,
    "scrolled": true
   },
   "outputs": [],
   "source": []
  },
  {
   "cell_type": "markdown",
   "metadata": {},
   "source": [
    "## Summary\n",
    "\n",
    "In this notebook you have worked through the following:\n",
    "\n",
    "1. Theory of naive Bayes models.\n",
    "2. Examples of computing and evaluating naive Bayes models.\n",
    "3. Examine the effects of data set size on the results of naive Bayes models. "
   ]
  },
  {
   "cell_type": "markdown",
   "metadata": {
    "collapsed": true
   },
   "source": [
    "#### Copyright 2017, Stephen F Elston. All rights reserved. "
   ]
  },
  {
   "cell_type": "code",
   "execution_count": null,
   "metadata": {
    "collapsed": true
   },
   "outputs": [],
   "source": []
  }
 ],
 "metadata": {
  "anaconda-cloud": {},
  "kernelspec": {
   "display_name": "R",
   "language": "R",
   "name": "ir"
  },
  "language_info": {
   "codemirror_mode": "r",
   "file_extension": ".r",
   "mimetype": "text/x-r-source",
   "name": "R",
   "pygments_lexer": "r",
   "version": "3.4.1"
  }
 },
 "nbformat": 4,
 "nbformat_minor": 1
}
