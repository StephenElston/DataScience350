{
 "cells": [
  {
   "cell_type": "markdown",
   "metadata": {},
   "source": [
    "# Counts and Combinatorics\n",
    "## Data Science 350\n",
    "\n",
    "In this notebook we will explore count data and combinatorics. Event data is typically analyzed as counts for the number of each type of event that occurs. Determining the number of possible outcomes is key to computing the chances of an event occuring. This branch of mathematics is known as **combinatorics**.\n",
    "![](img/Boom.jpg)"
   ]
  },
  {
   "cell_type": "markdown",
   "metadata": {},
   "source": [
    "### Counting and Combinatorics\n",
    "\n",
    "Combinatorics of the biggest areas of mathematics. We apply combinatorics to compute the possible combinations or permutations of an combinationn of events. \n",
    "\n",
    "For example, we can use combinatorics to compute the number of possible sandwiches we can order at a sandwich shop with a limited menu, 4 bread choices, 5 meat choices, 4 toppings.  How many sandwich unique sandwich combination can we order by picking  one item from each category?   \n",
    "\n",
    "$$4 * 5 * 4 = 80$$\n",
    "\n",
    "You can see that for this problem we just need to multiple the number of choices for each class. This is an example of the **multiplication principle** of combinatorics.\n",
    "\n",
    "In the above example there is no dependncy of our choice from one category to anyother. Consequently, we can find all of the possible combinations by simple multiplication. \n",
    "\n",
    "This is not always the case. Let's look at an example where each event changes the subsequent possible events. Let's say I go to a pub and I want to order a 4-beer taster, with each beer being unique. The pub has 10 beers on tap. How many possible choices do I have for my taster? Fortunately I know R, so I can use the R 'combn' fuction to build a table of all possible combinations of my 4-beer taster!"
   ]
  },
  {
   "cell_type": "code",
   "execution_count": 1,
   "metadata": {
    "collapsed": false
   },
   "outputs": [
    {
     "data": {
      "text/html": [
       "<table>\n",
       "<tbody>\n",
       "\t<tr><td>1  </td><td>1  </td><td>1  </td><td>1  </td><td>1  </td><td>1  </td><td> 1 </td><td>1  </td><td>1  </td><td>1  </td><td>...</td><td> 5 </td><td>5  </td><td> 5 </td><td> 5 </td><td> 5 </td><td>6  </td><td> 6 </td><td> 6 </td><td> 6 </td><td> 7 </td></tr>\n",
       "\t<tr><td>2  </td><td>2  </td><td>2  </td><td>2  </td><td>2  </td><td>2  </td><td> 2 </td><td>2  </td><td>2  </td><td>2  </td><td>...</td><td> 6 </td><td>7  </td><td> 7 </td><td> 7 </td><td> 8 </td><td>7  </td><td> 7 </td><td> 7 </td><td> 8 </td><td> 8 </td></tr>\n",
       "\t<tr><td>3  </td><td>3  </td><td>3  </td><td>3  </td><td>3  </td><td>3  </td><td> 3 </td><td>4  </td><td>4  </td><td>4  </td><td>...</td><td> 9 </td><td>8  </td><td> 8 </td><td> 9 </td><td> 9 </td><td>8  </td><td> 8 </td><td> 9 </td><td> 9 </td><td> 9 </td></tr>\n",
       "\t<tr><td>4  </td><td>5  </td><td>6  </td><td>7  </td><td>8  </td><td>9  </td><td>10 </td><td>5  </td><td>6  </td><td>7  </td><td>...</td><td>10 </td><td>9  </td><td>10 </td><td>10 </td><td>10 </td><td>9  </td><td>10 </td><td>10 </td><td>10 </td><td>10 </td></tr>\n",
       "</tbody>\n",
       "</table>\n"
      ],
      "text/latex": [
       "\\begin{tabular}{llllllllllllllllllllllllllllllllllllllllllllllllllllllllllllllllllllllllllllllllllllllllllllllllllllllllllllllllllllllllllllllllllllllllllllllllllllllllllllllllllllllllllllllllllllllllllllllllllllllllllllllllll}\n",
       "\t 1   & 1   & 1   & 1   & 1   & 1   &  1  & 1   & 1   & 1   & ... &  5  & 5   &  5  &  5  &  5  & 6   &  6  &  6  &  6  &  7 \\\\\n",
       "\t 2   & 2   & 2   & 2   & 2   & 2   &  2  & 2   & 2   & 2   & ... &  6  & 7   &  7  &  7  &  8  & 7   &  7  &  7  &  8  &  8 \\\\\n",
       "\t 3   & 3   & 3   & 3   & 3   & 3   &  3  & 4   & 4   & 4   & ... &  9  & 8   &  8  &  9  &  9  & 8   &  8  &  9  &  9  &  9 \\\\\n",
       "\t 4   & 5   & 6   & 7   & 8   & 9   & 10  & 5   & 6   & 7   & ... & 10  & 9   & 10  & 10  & 10  & 9   & 10  & 10  & 10  & 10 \\\\\n",
       "\\end{tabular}\n"
      ],
      "text/markdown": [
       "\n",
       "| 1   | 1   | 1   | 1   | 1   | 1   |  1  | 1   | 1   | 1   | ... |  5  | 5   |  5  |  5  |  5  | 6   |  6  |  6  |  6  |  7  | \n",
       "| 2   | 2   | 2   | 2   | 2   | 2   |  2  | 2   | 2   | 2   | ... |  6  | 7   |  7  |  7  |  8  | 7   |  7  |  7  |  8  |  8  | \n",
       "| 3   | 3   | 3   | 3   | 3   | 3   |  3  | 4   | 4   | 4   | ... |  9  | 8   |  8  |  9  |  9  | 8   |  8  |  9  |  9  |  9  | \n",
       "| 4   | 5   | 6   | 7   | 8   | 9   | 10  | 5   | 6   | 7   | ... | 10  | 9   | 10  | 10  | 10  | 9   | 10  | 10  | 10  | 10  | \n",
       "\n",
       "\n"
      ],
      "text/plain": [
       "     [,1] [,2] [,3] [,4] [,5] [,6] [,7] [,8] [,9] [,10] [,11] [,12] [,13] [,14]\n",
       "[1,] 1    1    1    1    1    1     1   1    1    1     ...    5    5      5   \n",
       "[2,] 2    2    2    2    2    2     2   2    2    2     ...    6    7      7   \n",
       "[3,] 3    3    3    3    3    3     3   4    4    4     ...    9    8      8   \n",
       "[4,] 4    5    6    7    8    9    10   5    6    7     ...   10    9     10   \n",
       "     [,15] [,16] [,17] [,18] [,19] [,20] [,21]\n",
       "[1,]  5     5    6      6     6     6     7   \n",
       "[2,]  7     8    7      7     7     8     8   \n",
       "[3,]  9     9    8      8     9     9     9   \n",
       "[4,] 10    10    9     10    10    10    10   "
      ]
     },
     "metadata": {},
     "output_type": "display_data"
    },
    {
     "data": {
      "text/html": [
       "210"
      ],
      "text/latex": [
       "210"
      ],
      "text/markdown": [
       "210"
      ],
      "text/plain": [
       "[1] 210"
      ]
     },
     "metadata": {},
     "output_type": "display_data"
    }
   ],
   "source": [
    "c = combn(10,4)\n",
    "c\n",
    "dim(c)[2]"
   ]
  },
  {
   "cell_type": "markdown",
   "metadata": {},
   "source": [
    "The function builds a table of all combinations of 4 items chosen from a list of 10. The second dimension tells me how many combinations there are. "
   ]
  },
  {
   "cell_type": "markdown",
   "metadata": {},
   "source": [
    "### Sandwich combinatorics\n",
    " \n",
    " Let's investigate the sandwich shop example in a bit more detail. The code in the cell below creates three vectors containing the possible choices for bread, meat and topping. Execute this code."
   ]
  },
  {
   "cell_type": "code",
   "execution_count": 2,
   "metadata": {
    "collapsed": false
   },
   "outputs": [],
   "source": [
    "##-----Sandwich Count----\n",
    "breads = c('white', 'wheat', 'italian', 'sevengrain')\n",
    "meats = c('ham', 'turkey', 'chicken', 'pastrami', 'meatballs')\n",
    "toppings = c('mustard', 'mayo', 'salt_pepper', 'oil_vinegar')"
   ]
  },
  {
   "cell_type": "markdown",
   "metadata": {},
   "source": [
    "To make our calculations simple, we can create a table or grid of all the possible sandwich choices. Execute the code in the cell below to create a grid or table of the possible sandwich choices, using the ```expand.grid``` function. "
   ]
  },
  {
   "cell_type": "code",
   "execution_count": 3,
   "metadata": {
    "collapsed": false
   },
   "outputs": [
    {
     "data": {
      "text/html": [
       "80"
      ],
      "text/latex": [
       "80"
      ],
      "text/markdown": [
       "80"
      ],
      "text/plain": [
       "[1] 80"
      ]
     },
     "metadata": {},
     "output_type": "display_data"
    },
    {
     "data": {
      "text/html": [
       "<table>\n",
       "<thead><tr><th scope=col>Var1</th><th scope=col>Var2</th><th scope=col>Var3</th></tr></thead>\n",
       "<tbody>\n",
       "\t<tr><td>white     </td><td>ham       </td><td>mustard   </td></tr>\n",
       "\t<tr><td>wheat     </td><td>ham       </td><td>mustard   </td></tr>\n",
       "\t<tr><td>italian   </td><td>ham       </td><td>mustard   </td></tr>\n",
       "\t<tr><td>sevengrain</td><td>ham       </td><td>mustard   </td></tr>\n",
       "\t<tr><td>white     </td><td>turkey    </td><td>mustard   </td></tr>\n",
       "\t<tr><td>wheat     </td><td>turkey    </td><td>mustard   </td></tr>\n",
       "\t<tr><td>italian   </td><td>turkey    </td><td>mustard   </td></tr>\n",
       "\t<tr><td>sevengrain</td><td>turkey    </td><td>mustard   </td></tr>\n",
       "\t<tr><td>white     </td><td>chicken   </td><td>mustard   </td></tr>\n",
       "\t<tr><td>wheat     </td><td>chicken   </td><td>mustard   </td></tr>\n",
       "\t<tr><td>italian   </td><td>chicken   </td><td>mustard   </td></tr>\n",
       "\t<tr><td>sevengrain</td><td>chicken   </td><td>mustard   </td></tr>\n",
       "\t<tr><td>white     </td><td>pastrami  </td><td>mustard   </td></tr>\n",
       "\t<tr><td>wheat     </td><td>pastrami  </td><td>mustard   </td></tr>\n",
       "\t<tr><td>italian   </td><td>pastrami  </td><td>mustard   </td></tr>\n",
       "\t<tr><td>sevengrain</td><td>pastrami  </td><td>mustard   </td></tr>\n",
       "\t<tr><td>white     </td><td>meatballs </td><td>mustard   </td></tr>\n",
       "\t<tr><td>wheat     </td><td>meatballs </td><td>mustard   </td></tr>\n",
       "\t<tr><td>italian   </td><td>meatballs </td><td>mustard   </td></tr>\n",
       "\t<tr><td>sevengrain</td><td>meatballs </td><td>mustard   </td></tr>\n",
       "</tbody>\n",
       "</table>\n"
      ],
      "text/latex": [
       "\\begin{tabular}{r|lll}\n",
       " Var1 & Var2 & Var3\\\\\n",
       "\\hline\n",
       "\t white      & ham        & mustard   \\\\\n",
       "\t wheat      & ham        & mustard   \\\\\n",
       "\t italian    & ham        & mustard   \\\\\n",
       "\t sevengrain & ham        & mustard   \\\\\n",
       "\t white      & turkey     & mustard   \\\\\n",
       "\t wheat      & turkey     & mustard   \\\\\n",
       "\t italian    & turkey     & mustard   \\\\\n",
       "\t sevengrain & turkey     & mustard   \\\\\n",
       "\t white      & chicken    & mustard   \\\\\n",
       "\t wheat      & chicken    & mustard   \\\\\n",
       "\t italian    & chicken    & mustard   \\\\\n",
       "\t sevengrain & chicken    & mustard   \\\\\n",
       "\t white      & pastrami   & mustard   \\\\\n",
       "\t wheat      & pastrami   & mustard   \\\\\n",
       "\t italian    & pastrami   & mustard   \\\\\n",
       "\t sevengrain & pastrami   & mustard   \\\\\n",
       "\t white      & meatballs  & mustard   \\\\\n",
       "\t wheat      & meatballs  & mustard   \\\\\n",
       "\t italian    & meatballs  & mustard   \\\\\n",
       "\t sevengrain & meatballs  & mustard   \\\\\n",
       "\\end{tabular}\n"
      ],
      "text/markdown": [
       "\n",
       "Var1 | Var2 | Var3 | \n",
       "|---|---|---|---|---|---|---|---|---|---|---|---|---|---|---|---|---|---|---|---|\n",
       "| white      | ham        | mustard    | \n",
       "| wheat      | ham        | mustard    | \n",
       "| italian    | ham        | mustard    | \n",
       "| sevengrain | ham        | mustard    | \n",
       "| white      | turkey     | mustard    | \n",
       "| wheat      | turkey     | mustard    | \n",
       "| italian    | turkey     | mustard    | \n",
       "| sevengrain | turkey     | mustard    | \n",
       "| white      | chicken    | mustard    | \n",
       "| wheat      | chicken    | mustard    | \n",
       "| italian    | chicken    | mustard    | \n",
       "| sevengrain | chicken    | mustard    | \n",
       "| white      | pastrami   | mustard    | \n",
       "| wheat      | pastrami   | mustard    | \n",
       "| italian    | pastrami   | mustard    | \n",
       "| sevengrain | pastrami   | mustard    | \n",
       "| white      | meatballs  | mustard    | \n",
       "| wheat      | meatballs  | mustard    | \n",
       "| italian    | meatballs  | mustard    | \n",
       "| sevengrain | meatballs  | mustard    | \n",
       "\n",
       "\n"
      ],
      "text/plain": [
       "   Var1       Var2      Var3   \n",
       "1  white      ham       mustard\n",
       "2  wheat      ham       mustard\n",
       "3  italian    ham       mustard\n",
       "4  sevengrain ham       mustard\n",
       "5  white      turkey    mustard\n",
       "6  wheat      turkey    mustard\n",
       "7  italian    turkey    mustard\n",
       "8  sevengrain turkey    mustard\n",
       "9  white      chicken   mustard\n",
       "10 wheat      chicken   mustard\n",
       "11 italian    chicken   mustard\n",
       "12 sevengrain chicken   mustard\n",
       "13 white      pastrami  mustard\n",
       "14 wheat      pastrami  mustard\n",
       "15 italian    pastrami  mustard\n",
       "16 sevengrain pastrami  mustard\n",
       "17 white      meatballs mustard\n",
       "18 wheat      meatballs mustard\n",
       "19 italian    meatballs mustard\n",
       "20 sevengrain meatballs mustard"
      ]
     },
     "metadata": {},
     "output_type": "display_data"
    }
   ],
   "source": [
    "sandwiches = expand.grid(breads,\n",
    "                         meats,\n",
    "                         toppings)\n",
    "nrow(sandwiches)\n",
    "head(sandwiches, 20)"
   ]
  },
  {
   "cell_type": "markdown",
   "metadata": {},
   "source": [
    "As expected, there are 80 possible sandwich types enumerated in the table.\n",
    "\n",
    "***\n",
    "**Your turn:** In the cell below, redo the sandwich shop example with three types of cheese added to the menu, chedar, american, swiss. How many unique sandwiches can you now order, and does the table show all the purmuations?\n",
    "***"
   ]
  },
  {
   "cell_type": "code",
   "execution_count": 4,
   "metadata": {
    "collapsed": false
   },
   "outputs": [
    {
     "data": {
      "text/html": [
       "240"
      ],
      "text/latex": [
       "240"
      ],
      "text/markdown": [
       "240"
      ],
      "text/plain": [
       "[1] 240"
      ]
     },
     "metadata": {},
     "output_type": "display_data"
    },
    {
     "data": {
      "text/html": [
       "<table>\n",
       "<thead><tr><th scope=col>Var1</th><th scope=col>Var2</th><th scope=col>Var3</th><th scope=col>Var4</th></tr></thead>\n",
       "<tbody>\n",
       "\t<tr><td>white     </td><td>ham       </td><td>mustard   </td><td>chedar    </td></tr>\n",
       "\t<tr><td>wheat     </td><td>ham       </td><td>mustard   </td><td>chedar    </td></tr>\n",
       "\t<tr><td>italian   </td><td>ham       </td><td>mustard   </td><td>chedar    </td></tr>\n",
       "\t<tr><td>sevengrain</td><td>ham       </td><td>mustard   </td><td>chedar    </td></tr>\n",
       "\t<tr><td>white     </td><td>turkey    </td><td>mustard   </td><td>chedar    </td></tr>\n",
       "\t<tr><td>wheat     </td><td>turkey    </td><td>mustard   </td><td>chedar    </td></tr>\n",
       "\t<tr><td>italian   </td><td>turkey    </td><td>mustard   </td><td>chedar    </td></tr>\n",
       "\t<tr><td>sevengrain</td><td>turkey    </td><td>mustard   </td><td>chedar    </td></tr>\n",
       "\t<tr><td>white     </td><td>chicken   </td><td>mustard   </td><td>chedar    </td></tr>\n",
       "\t<tr><td>wheat     </td><td>chicken   </td><td>mustard   </td><td>chedar    </td></tr>\n",
       "\t<tr><td>italian   </td><td>chicken   </td><td>mustard   </td><td>chedar    </td></tr>\n",
       "\t<tr><td>sevengrain</td><td>chicken   </td><td>mustard   </td><td>chedar    </td></tr>\n",
       "\t<tr><td>white     </td><td>pastrami  </td><td>mustard   </td><td>chedar    </td></tr>\n",
       "\t<tr><td>wheat     </td><td>pastrami  </td><td>mustard   </td><td>chedar    </td></tr>\n",
       "\t<tr><td>italian   </td><td>pastrami  </td><td>mustard   </td><td>chedar    </td></tr>\n",
       "\t<tr><td>sevengrain</td><td>pastrami  </td><td>mustard   </td><td>chedar    </td></tr>\n",
       "\t<tr><td>white     </td><td>meatballs </td><td>mustard   </td><td>chedar    </td></tr>\n",
       "\t<tr><td>wheat     </td><td>meatballs </td><td>mustard   </td><td>chedar    </td></tr>\n",
       "\t<tr><td>italian   </td><td>meatballs </td><td>mustard   </td><td>chedar    </td></tr>\n",
       "\t<tr><td>sevengrain</td><td>meatballs </td><td>mustard   </td><td>chedar    </td></tr>\n",
       "</tbody>\n",
       "</table>\n"
      ],
      "text/latex": [
       "\\begin{tabular}{r|llll}\n",
       " Var1 & Var2 & Var3 & Var4\\\\\n",
       "\\hline\n",
       "\t white      & ham        & mustard    & chedar    \\\\\n",
       "\t wheat      & ham        & mustard    & chedar    \\\\\n",
       "\t italian    & ham        & mustard    & chedar    \\\\\n",
       "\t sevengrain & ham        & mustard    & chedar    \\\\\n",
       "\t white      & turkey     & mustard    & chedar    \\\\\n",
       "\t wheat      & turkey     & mustard    & chedar    \\\\\n",
       "\t italian    & turkey     & mustard    & chedar    \\\\\n",
       "\t sevengrain & turkey     & mustard    & chedar    \\\\\n",
       "\t white      & chicken    & mustard    & chedar    \\\\\n",
       "\t wheat      & chicken    & mustard    & chedar    \\\\\n",
       "\t italian    & chicken    & mustard    & chedar    \\\\\n",
       "\t sevengrain & chicken    & mustard    & chedar    \\\\\n",
       "\t white      & pastrami   & mustard    & chedar    \\\\\n",
       "\t wheat      & pastrami   & mustard    & chedar    \\\\\n",
       "\t italian    & pastrami   & mustard    & chedar    \\\\\n",
       "\t sevengrain & pastrami   & mustard    & chedar    \\\\\n",
       "\t white      & meatballs  & mustard    & chedar    \\\\\n",
       "\t wheat      & meatballs  & mustard    & chedar    \\\\\n",
       "\t italian    & meatballs  & mustard    & chedar    \\\\\n",
       "\t sevengrain & meatballs  & mustard    & chedar    \\\\\n",
       "\\end{tabular}\n"
      ],
      "text/markdown": [
       "\n",
       "Var1 | Var2 | Var3 | Var4 | \n",
       "|---|---|---|---|---|---|---|---|---|---|---|---|---|---|---|---|---|---|---|---|\n",
       "| white      | ham        | mustard    | chedar     | \n",
       "| wheat      | ham        | mustard    | chedar     | \n",
       "| italian    | ham        | mustard    | chedar     | \n",
       "| sevengrain | ham        | mustard    | chedar     | \n",
       "| white      | turkey     | mustard    | chedar     | \n",
       "| wheat      | turkey     | mustard    | chedar     | \n",
       "| italian    | turkey     | mustard    | chedar     | \n",
       "| sevengrain | turkey     | mustard    | chedar     | \n",
       "| white      | chicken    | mustard    | chedar     | \n",
       "| wheat      | chicken    | mustard    | chedar     | \n",
       "| italian    | chicken    | mustard    | chedar     | \n",
       "| sevengrain | chicken    | mustard    | chedar     | \n",
       "| white      | pastrami   | mustard    | chedar     | \n",
       "| wheat      | pastrami   | mustard    | chedar     | \n",
       "| italian    | pastrami   | mustard    | chedar     | \n",
       "| sevengrain | pastrami   | mustard    | chedar     | \n",
       "| white      | meatballs  | mustard    | chedar     | \n",
       "| wheat      | meatballs  | mustard    | chedar     | \n",
       "| italian    | meatballs  | mustard    | chedar     | \n",
       "| sevengrain | meatballs  | mustard    | chedar     | \n",
       "\n",
       "\n"
      ],
      "text/plain": [
       "   Var1       Var2      Var3    Var4  \n",
       "1  white      ham       mustard chedar\n",
       "2  wheat      ham       mustard chedar\n",
       "3  italian    ham       mustard chedar\n",
       "4  sevengrain ham       mustard chedar\n",
       "5  white      turkey    mustard chedar\n",
       "6  wheat      turkey    mustard chedar\n",
       "7  italian    turkey    mustard chedar\n",
       "8  sevengrain turkey    mustard chedar\n",
       "9  white      chicken   mustard chedar\n",
       "10 wheat      chicken   mustard chedar\n",
       "11 italian    chicken   mustard chedar\n",
       "12 sevengrain chicken   mustard chedar\n",
       "13 white      pastrami  mustard chedar\n",
       "14 wheat      pastrami  mustard chedar\n",
       "15 italian    pastrami  mustard chedar\n",
       "16 sevengrain pastrami  mustard chedar\n",
       "17 white      meatballs mustard chedar\n",
       "18 wheat      meatballs mustard chedar\n",
       "19 italian    meatballs mustard chedar\n",
       "20 sevengrain meatballs mustard chedar"
      ]
     },
     "metadata": {},
     "output_type": "display_data"
    }
   ],
   "source": [
    "cheese = c('chedar', 'american', 'swiss')\n",
    "sandwiches = expand.grid(breads,\n",
    "                         meats,\n",
    "                         toppings,\n",
    "                         cheese)\n",
    "nrow(sandwiches)\n",
    "head(sandwiches, 20)"
   ]
  },
  {
   "cell_type": "markdown",
   "metadata": {},
   "source": [
    "###  Factorials and purmuations\n",
    "\n",
    "Factorials are a way to compute the number of ways to order $N$ things. We use the term **Purmutations** to describe the number of ways you can order some objects or events. This is where **factorials** arise:\n",
    "\n",
    "$$Number\\ of\\ ways\\ to\\ order\\ N\\ things = N!$$  \n",
    "\n",
    "Let's say you have 5 new books on probability you wish to put on a shelf (having read them cover-to-cover no doubt!). How many was can you order them:  \n",
    "\n",
    "$$5 * 4 * 3 * 2 * 1 = 5! = 120$$\n",
    "\n",
    "This is another application of the multiplication principle. \n",
    "\n",
    "Easy enough, so far. But let's say we want to find the number of purmutations of $k$ unique items chosen from $N$ total items. We can compute the number of possible purmuations as:\n",
    "\n",
    "$$\\frac{N!}{(N - k)!}$$\n",
    "\n",
    "Let's revisit our beer example. The order I drink my 4 beers in the sampler might matter. Maybe the tasts will be a bit different if I drink stout before I drink a red ale? We saw the number of combinations previously. But, since order matters, I have many more purmuations:\n",
    "\n",
    "$$\\frac{10!}{(10 - 4)!} = 10 * 9 * 8 * 7 = 5040$$\n",
    "\n",
    "****\n",
    "**Your turn:** Let's say I am going to order a 5-beer taster and I care about order. In the cell below create the R code to compute how many permutations are there. Can you see how the number of purmuations gets large rather quickly? \n",
    "****\n",
    "\n"
   ]
  },
  {
   "cell_type": "code",
   "execution_count": 5,
   "metadata": {
    "collapsed": false
   },
   "outputs": [
    {
     "data": {
      "text/html": [
       "30240"
      ],
      "text/latex": [
       "30240"
      ],
      "text/markdown": [
       "30240"
      ],
      "text/plain": [
       "[1] 30240"
      ]
     },
     "metadata": {},
     "output_type": "display_data"
    }
   ],
   "source": [
    "10 * 9 * 8 * 7 * 6"
   ]
  },
  {
   "cell_type": "markdown",
   "metadata": {},
   "source": [
    "### Computing factorials\n",
    "\n",
    "Computing factorials can be tricky. A 64 bit unsigned integer can represent numbers as large as $2^{64} = 9.2E18$. However $21! = 5.1E19$. In practice, compuation of factorials is done on ratios to make the problem tractable. For example, we just wrote our beer example in a tractable form:\n",
    "\n",
    "$$\\frac{10!}{6!} = \\frac{10!}{(10-4)!} = 10 * 9 * 8 * 7$$\n",
    "\n",
    "We never had to actually compute the largest number $10!$. In fact, we just multipled 4 numbers. \n",
    "\n",
    "### Combinations\n",
    "\n",
    "What if order does not matter? I may just want to find all unique combinations of k items of N choices. For example, for the beer example when order does not mater, there are $10$ choices and I want to pick $4$ unique choices. In the language of combintorics, we say that the above quantity is $10$ **choose** $4$, which can be writen:\n",
    "\n",
    "$$\\frac{10!}{4!(10 - 4)!} = \\binom{10}{4}$$\n",
    "\n",
    "We say that $N$ choose $k$ is a **combinations** since order does not matter. More generally we compute combinations with the formula:\n",
    "\n",
    "$$\\frac{N!}{k!(N - k)!} = \\binom{N}{k}$$\n",
    "\n",
    "From these forumlas you can see that there are $k!$ combinations than purmutations.\n",
    "\n",
    "For our example, we can visualize how this process works with **Pascal's triangle**. You can see an example below. \n",
    "\n",
    "![](img/Pascal.jpg)\n",
    "\n",
    "In this case we find $10$ choose $4$ by counting down 10 rows and over 4 elements. Vola! we have the value we expect! \n",
    "\n",
    "Notice that Pascal's triangle is symetric. This illustrates an important symetry property of combinations. Notice that:\n",
    "\n",
    "$$\\binom{N}{k} = \\binom{N}{N-k}$$\n",
    "\n"
   ]
  },
  {
   "cell_type": "markdown",
   "metadata": {},
   "source": [
    "***\n",
    "**Your turn:** Use the R 'choose' function to compute the number of 4-beer tasters you could create from 10 taps.\n",
    "***"
   ]
  },
  {
   "cell_type": "code",
   "execution_count": 6,
   "metadata": {
    "collapsed": false
   },
   "outputs": [
    {
     "data": {
      "text/html": [
       "210"
      ],
      "text/latex": [
       "210"
      ],
      "text/markdown": [
       "210"
      ],
      "text/plain": [
       "[1] 210"
      ]
     },
     "metadata": {},
     "output_type": "display_data"
    }
   ],
   "source": [
    "choose(10,4)"
   ]
  },
  {
   "cell_type": "markdown",
   "metadata": {},
   "source": [
    "***\n",
    "**Fun note:** there are $52!$ ways to shuffle deck of cards, or combinations. It is likely that each suffle is unique in the history of the world!\n",
    "***"
   ]
  },
  {
   "cell_type": "markdown",
   "metadata": {},
   "source": [
    "## Summary\n",
    "\n",
    "In this notebook we have covered the following topics:\n",
    "\n",
    "- Combinatoric basics.\n",
    "- Computation of the number of possible permutations with the factorial function.\n",
    "- Computations of the number of possible combinations. For k choices from N possibilities, the resulting operation is known as N choose k. \n",
    "- The difference between permutations and combinations. "
   ]
  },
  {
   "cell_type": "code",
   "execution_count": null,
   "metadata": {
    "collapsed": true
   },
   "outputs": [],
   "source": []
  }
 ],
 "metadata": {
  "anaconda-cloud": {},
  "kernelspec": {
   "display_name": "R",
   "language": "R",
   "name": "ir"
  },
  "language_info": {
   "codemirror_mode": "r",
   "file_extension": ".r",
   "mimetype": "text/x-r-source",
   "name": "R",
   "pygments_lexer": "r",
   "version": "3.3.2"
  }
 },
 "nbformat": 4,
 "nbformat_minor": 1
}
