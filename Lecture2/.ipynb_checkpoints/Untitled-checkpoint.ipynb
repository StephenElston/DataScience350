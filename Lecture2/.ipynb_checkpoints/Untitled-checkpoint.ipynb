{
 "cells": [
  {
   "cell_type": "markdown",
   "metadata": {},
   "source": [
    "# Counts and probabilities\n",
    "## Data Science 350\n",
    "\n",
    "![](img/Boom.jpg)"
   ]
  },
  {
   "cell_type": "markdown",
   "metadata": {},
   "source": [
    "# Counts and probabilities\n",
    "## Data Science 350\n",
    "\n",
    "![](img/Boom.jpg)"
   ]
  },
  {
   "cell_type": "markdown",
   "metadata": {},
   "source": [
    "![](img/Boom.jpg)"
   ]
  },
  {
   "cell_type": "code",
   "execution_count": 14,
   "metadata": {
    "collapsed": false
   },
   "outputs": [
    {
     "ename": "ERROR",
     "evalue": "Error in parse(text = x, srcfile = src): <text>:1:2: unexpected '['\n1: ![\n     ^\n",
     "output_type": "error",
     "traceback": [
      "Error in parse(text = x, srcfile = src): <text>:1:2: unexpected '['\n1: ![\n     ^\nTraceback:\n"
     ]
    }
   ],
   "source": [
    "library(MASS) # Contains the function 'fractions()', \n",
    "\n",
    "##-----Sandwich Count----\n",
    "breads = c('white', 'wheat', 'italian', 'sevengrain')\n",
    "meats = c('ham', 'turkey', 'chicken', 'pastrami', 'meatballs')\n",
    "toppings = c('mustard', 'mayo', 'salt_pepper', 'oil_vinegar')"
   ]
  },
  {
   "cell_type": "code",
   "execution_count": 3,
   "metadata": {
    "collapsed": false
   },
   "outputs": [
    {
     "data": {
      "text/html": [
       "80"
      ],
      "text/latex": [
       "80"
      ],
      "text/markdown": [
       "80"
      ],
      "text/plain": [
       "[1] 80"
      ]
     },
     "metadata": {},
     "output_type": "display_data"
    },
    {
     "data": {
      "text/html": [
       "<table>\n",
       "<thead><tr><th scope=col>Var1</th><th scope=col>Var2</th><th scope=col>Var3</th></tr></thead>\n",
       "<tbody>\n",
       "\t<tr><td>white     </td><td>ham       </td><td>mustard   </td></tr>\n",
       "\t<tr><td>wheat     </td><td>ham       </td><td>mustard   </td></tr>\n",
       "\t<tr><td>italian   </td><td>ham       </td><td>mustard   </td></tr>\n",
       "\t<tr><td>sevengrain</td><td>ham       </td><td>mustard   </td></tr>\n",
       "\t<tr><td>white     </td><td>turkey    </td><td>mustard   </td></tr>\n",
       "\t<tr><td>wheat     </td><td>turkey    </td><td>mustard   </td></tr>\n",
       "\t<tr><td>italian   </td><td>turkey    </td><td>mustard   </td></tr>\n",
       "\t<tr><td>sevengrain</td><td>turkey    </td><td>mustard   </td></tr>\n",
       "\t<tr><td>white     </td><td>chicken   </td><td>mustard   </td></tr>\n",
       "\t<tr><td>wheat     </td><td>chicken   </td><td>mustard   </td></tr>\n",
       "\t<tr><td>italian   </td><td>chicken   </td><td>mustard   </td></tr>\n",
       "\t<tr><td>sevengrain</td><td>chicken   </td><td>mustard   </td></tr>\n",
       "\t<tr><td>white     </td><td>pastrami  </td><td>mustard   </td></tr>\n",
       "\t<tr><td>wheat     </td><td>pastrami  </td><td>mustard   </td></tr>\n",
       "\t<tr><td>italian   </td><td>pastrami  </td><td>mustard   </td></tr>\n",
       "\t<tr><td>sevengrain</td><td>pastrami  </td><td>mustard   </td></tr>\n",
       "\t<tr><td>white     </td><td>meatballs </td><td>mustard   </td></tr>\n",
       "\t<tr><td>wheat     </td><td>meatballs </td><td>mustard   </td></tr>\n",
       "\t<tr><td>italian   </td><td>meatballs </td><td>mustard   </td></tr>\n",
       "\t<tr><td>sevengrain</td><td>meatballs </td><td>mustard   </td></tr>\n",
       "</tbody>\n",
       "</table>\n"
      ],
      "text/latex": [
       "\\begin{tabular}{r|lll}\n",
       " Var1 & Var2 & Var3\\\\\n",
       "\\hline\n",
       "\t white      & ham        & mustard   \\\\\n",
       "\t wheat      & ham        & mustard   \\\\\n",
       "\t italian    & ham        & mustard   \\\\\n",
       "\t sevengrain & ham        & mustard   \\\\\n",
       "\t white      & turkey     & mustard   \\\\\n",
       "\t wheat      & turkey     & mustard   \\\\\n",
       "\t italian    & turkey     & mustard   \\\\\n",
       "\t sevengrain & turkey     & mustard   \\\\\n",
       "\t white      & chicken    & mustard   \\\\\n",
       "\t wheat      & chicken    & mustard   \\\\\n",
       "\t italian    & chicken    & mustard   \\\\\n",
       "\t sevengrain & chicken    & mustard   \\\\\n",
       "\t white      & pastrami   & mustard   \\\\\n",
       "\t wheat      & pastrami   & mustard   \\\\\n",
       "\t italian    & pastrami   & mustard   \\\\\n",
       "\t sevengrain & pastrami   & mustard   \\\\\n",
       "\t white      & meatballs  & mustard   \\\\\n",
       "\t wheat      & meatballs  & mustard   \\\\\n",
       "\t italian    & meatballs  & mustard   \\\\\n",
       "\t sevengrain & meatballs  & mustard   \\\\\n",
       "\\end{tabular}\n"
      ],
      "text/markdown": [
       "\n",
       "Var1 | Var2 | Var3 | \n",
       "|---|---|---|---|---|---|---|---|---|---|---|---|---|---|---|---|---|---|---|---|\n",
       "| white      | ham        | mustard    | \n",
       "| wheat      | ham        | mustard    | \n",
       "| italian    | ham        | mustard    | \n",
       "| sevengrain | ham        | mustard    | \n",
       "| white      | turkey     | mustard    | \n",
       "| wheat      | turkey     | mustard    | \n",
       "| italian    | turkey     | mustard    | \n",
       "| sevengrain | turkey     | mustard    | \n",
       "| white      | chicken    | mustard    | \n",
       "| wheat      | chicken    | mustard    | \n",
       "| italian    | chicken    | mustard    | \n",
       "| sevengrain | chicken    | mustard    | \n",
       "| white      | pastrami   | mustard    | \n",
       "| wheat      | pastrami   | mustard    | \n",
       "| italian    | pastrami   | mustard    | \n",
       "| sevengrain | pastrami   | mustard    | \n",
       "| white      | meatballs  | mustard    | \n",
       "| wheat      | meatballs  | mustard    | \n",
       "| italian    | meatballs  | mustard    | \n",
       "| sevengrain | meatballs  | mustard    | \n",
       "\n",
       "\n"
      ],
      "text/plain": [
       "   Var1       Var2      Var3   \n",
       "1  white      ham       mustard\n",
       "2  wheat      ham       mustard\n",
       "3  italian    ham       mustard\n",
       "4  sevengrain ham       mustard\n",
       "5  white      turkey    mustard\n",
       "6  wheat      turkey    mustard\n",
       "7  italian    turkey    mustard\n",
       "8  sevengrain turkey    mustard\n",
       "9  white      chicken   mustard\n",
       "10 wheat      chicken   mustard\n",
       "11 italian    chicken   mustard\n",
       "12 sevengrain chicken   mustard\n",
       "13 white      pastrami  mustard\n",
       "14 wheat      pastrami  mustard\n",
       "15 italian    pastrami  mustard\n",
       "16 sevengrain pastrami  mustard\n",
       "17 white      meatballs mustard\n",
       "18 wheat      meatballs mustard\n",
       "19 italian    meatballs mustard\n",
       "20 sevengrain meatballs mustard"
      ]
     },
     "metadata": {},
     "output_type": "display_data"
    }
   ],
   "source": [
    "sandwiches = expand.grid(breads,\n",
    "                         meats,\n",
    "                         toppings)\n",
    "nrow(sandwiches)\n",
    "head(sandwiches, 20)"
   ]
  },
  {
   "cell_type": "code",
   "execution_count": 4,
   "metadata": {
    "collapsed": false
   },
   "outputs": [
    {
     "data": {
      "text/html": [
       "<table>\n",
       "<thead><tr><th scope=col>Var1</th><th scope=col>Var2</th></tr></thead>\n",
       "<tbody>\n",
       "\t<tr><td>1</td><td>1</td></tr>\n",
       "\t<tr><td>2</td><td>1</td></tr>\n",
       "\t<tr><td>3</td><td>1</td></tr>\n",
       "\t<tr><td>4</td><td>1</td></tr>\n",
       "\t<tr><td>5</td><td>1</td></tr>\n",
       "\t<tr><td>6</td><td>1</td></tr>\n",
       "\t<tr><td>1</td><td>2</td></tr>\n",
       "\t<tr><td>2</td><td>2</td></tr>\n",
       "\t<tr><td>3</td><td>2</td></tr>\n",
       "\t<tr><td>4</td><td>2</td></tr>\n",
       "\t<tr><td>5</td><td>2</td></tr>\n",
       "\t<tr><td>6</td><td>2</td></tr>\n",
       "\t<tr><td>1</td><td>3</td></tr>\n",
       "\t<tr><td>2</td><td>3</td></tr>\n",
       "\t<tr><td>3</td><td>3</td></tr>\n",
       "\t<tr><td>4</td><td>3</td></tr>\n",
       "\t<tr><td>5</td><td>3</td></tr>\n",
       "\t<tr><td>6</td><td>3</td></tr>\n",
       "\t<tr><td>1</td><td>4</td></tr>\n",
       "\t<tr><td>2</td><td>4</td></tr>\n",
       "\t<tr><td>3</td><td>4</td></tr>\n",
       "\t<tr><td>4</td><td>4</td></tr>\n",
       "\t<tr><td>5</td><td>4</td></tr>\n",
       "\t<tr><td>6</td><td>4</td></tr>\n",
       "\t<tr><td>1</td><td>5</td></tr>\n",
       "\t<tr><td>2</td><td>5</td></tr>\n",
       "\t<tr><td>3</td><td>5</td></tr>\n",
       "\t<tr><td>4</td><td>5</td></tr>\n",
       "\t<tr><td>5</td><td>5</td></tr>\n",
       "\t<tr><td>6</td><td>5</td></tr>\n",
       "\t<tr><td>1</td><td>6</td></tr>\n",
       "\t<tr><td>2</td><td>6</td></tr>\n",
       "\t<tr><td>3</td><td>6</td></tr>\n",
       "\t<tr><td>4</td><td>6</td></tr>\n",
       "\t<tr><td>5</td><td>6</td></tr>\n",
       "\t<tr><td>6</td><td>6</td></tr>\n",
       "</tbody>\n",
       "</table>\n"
      ],
      "text/latex": [
       "\\begin{tabular}{r|ll}\n",
       " Var1 & Var2\\\\\n",
       "\\hline\n",
       "\t 1 & 1\\\\\n",
       "\t 2 & 1\\\\\n",
       "\t 3 & 1\\\\\n",
       "\t 4 & 1\\\\\n",
       "\t 5 & 1\\\\\n",
       "\t 6 & 1\\\\\n",
       "\t 1 & 2\\\\\n",
       "\t 2 & 2\\\\\n",
       "\t 3 & 2\\\\\n",
       "\t 4 & 2\\\\\n",
       "\t 5 & 2\\\\\n",
       "\t 6 & 2\\\\\n",
       "\t 1 & 3\\\\\n",
       "\t 2 & 3\\\\\n",
       "\t 3 & 3\\\\\n",
       "\t 4 & 3\\\\\n",
       "\t 5 & 3\\\\\n",
       "\t 6 & 3\\\\\n",
       "\t 1 & 4\\\\\n",
       "\t 2 & 4\\\\\n",
       "\t 3 & 4\\\\\n",
       "\t 4 & 4\\\\\n",
       "\t 5 & 4\\\\\n",
       "\t 6 & 4\\\\\n",
       "\t 1 & 5\\\\\n",
       "\t 2 & 5\\\\\n",
       "\t 3 & 5\\\\\n",
       "\t 4 & 5\\\\\n",
       "\t 5 & 5\\\\\n",
       "\t 6 & 5\\\\\n",
       "\t 1 & 6\\\\\n",
       "\t 2 & 6\\\\\n",
       "\t 3 & 6\\\\\n",
       "\t 4 & 6\\\\\n",
       "\t 5 & 6\\\\\n",
       "\t 6 & 6\\\\\n",
       "\\end{tabular}\n"
      ],
      "text/markdown": [
       "\n",
       "Var1 | Var2 | \n",
       "|---|---|---|---|---|---|---|---|---|---|---|---|---|---|---|---|---|---|---|---|---|---|---|---|---|---|---|---|---|---|---|---|---|---|---|---|\n",
       "| 1 | 1 | \n",
       "| 2 | 1 | \n",
       "| 3 | 1 | \n",
       "| 4 | 1 | \n",
       "| 5 | 1 | \n",
       "| 6 | 1 | \n",
       "| 1 | 2 | \n",
       "| 2 | 2 | \n",
       "| 3 | 2 | \n",
       "| 4 | 2 | \n",
       "| 5 | 2 | \n",
       "| 6 | 2 | \n",
       "| 1 | 3 | \n",
       "| 2 | 3 | \n",
       "| 3 | 3 | \n",
       "| 4 | 3 | \n",
       "| 5 | 3 | \n",
       "| 6 | 3 | \n",
       "| 1 | 4 | \n",
       "| 2 | 4 | \n",
       "| 3 | 4 | \n",
       "| 4 | 4 | \n",
       "| 5 | 4 | \n",
       "| 6 | 4 | \n",
       "| 1 | 5 | \n",
       "| 2 | 5 | \n",
       "| 3 | 5 | \n",
       "| 4 | 5 | \n",
       "| 5 | 5 | \n",
       "| 6 | 5 | \n",
       "| 1 | 6 | \n",
       "| 2 | 6 | \n",
       "| 3 | 6 | \n",
       "| 4 | 6 | \n",
       "| 5 | 6 | \n",
       "| 6 | 6 | \n",
       "\n",
       "\n"
      ],
      "text/plain": [
       "   Var1 Var2\n",
       "1  1    1   \n",
       "2  2    1   \n",
       "3  3    1   \n",
       "4  4    1   \n",
       "5  5    1   \n",
       "6  6    1   \n",
       "7  1    2   \n",
       "8  2    2   \n",
       "9  3    2   \n",
       "10 4    2   \n",
       "11 5    2   \n",
       "12 6    2   \n",
       "13 1    3   \n",
       "14 2    3   \n",
       "15 3    3   \n",
       "16 4    3   \n",
       "17 5    3   \n",
       "18 6    3   \n",
       "19 1    4   \n",
       "20 2    4   \n",
       "21 3    4   \n",
       "22 4    4   \n",
       "23 5    4   \n",
       "24 6    4   \n",
       "25 1    5   \n",
       "26 2    5   \n",
       "27 3    5   \n",
       "28 4    5   \n",
       "29 5    5   \n",
       "30 6    5   \n",
       "31 1    6   \n",
       "32 2    6   \n",
       "33 3    6   \n",
       "34 4    6   \n",
       "35 5    6   \n",
       "36 6    6   "
      ]
     },
     "metadata": {},
     "output_type": "display_data"
    }
   ],
   "source": [
    "##-----Two Dice Example ------\n",
    "twoDice = expand.grid(1:6,1:6)\n",
    "twoDice"
   ]
  },
  {
   "cell_type": "code",
   "execution_count": 5,
   "metadata": {
    "collapsed": false
   },
   "outputs": [
    {
     "data": {
      "text/html": [
       "<table>\n",
       "<thead><tr><th scope=col>Var1</th><th scope=col>Var2</th><th scope=col>sum</th><th scope=col>isdouble</th></tr></thead>\n",
       "<tbody>\n",
       "\t<tr><td>1    </td><td>1    </td><td> 2   </td><td> TRUE</td></tr>\n",
       "\t<tr><td>2    </td><td>1    </td><td> 3   </td><td>FALSE</td></tr>\n",
       "\t<tr><td>3    </td><td>1    </td><td> 4   </td><td>FALSE</td></tr>\n",
       "\t<tr><td>4    </td><td>1    </td><td> 5   </td><td>FALSE</td></tr>\n",
       "\t<tr><td>5    </td><td>1    </td><td> 6   </td><td>FALSE</td></tr>\n",
       "\t<tr><td>6    </td><td>1    </td><td> 7   </td><td>FALSE</td></tr>\n",
       "\t<tr><td>1    </td><td>2    </td><td> 3   </td><td>FALSE</td></tr>\n",
       "\t<tr><td>2    </td><td>2    </td><td> 4   </td><td> TRUE</td></tr>\n",
       "\t<tr><td>3    </td><td>2    </td><td> 5   </td><td>FALSE</td></tr>\n",
       "\t<tr><td>4    </td><td>2    </td><td> 6   </td><td>FALSE</td></tr>\n",
       "\t<tr><td>5    </td><td>2    </td><td> 7   </td><td>FALSE</td></tr>\n",
       "\t<tr><td>6    </td><td>2    </td><td> 8   </td><td>FALSE</td></tr>\n",
       "\t<tr><td>1    </td><td>3    </td><td> 4   </td><td>FALSE</td></tr>\n",
       "\t<tr><td>2    </td><td>3    </td><td> 5   </td><td>FALSE</td></tr>\n",
       "\t<tr><td>3    </td><td>3    </td><td> 6   </td><td> TRUE</td></tr>\n",
       "\t<tr><td>4    </td><td>3    </td><td> 7   </td><td>FALSE</td></tr>\n",
       "\t<tr><td>5    </td><td>3    </td><td> 8   </td><td>FALSE</td></tr>\n",
       "\t<tr><td>6    </td><td>3    </td><td> 9   </td><td>FALSE</td></tr>\n",
       "\t<tr><td>1    </td><td>4    </td><td> 5   </td><td>FALSE</td></tr>\n",
       "\t<tr><td>2    </td><td>4    </td><td> 6   </td><td>FALSE</td></tr>\n",
       "\t<tr><td>3    </td><td>4    </td><td> 7   </td><td>FALSE</td></tr>\n",
       "\t<tr><td>4    </td><td>4    </td><td> 8   </td><td> TRUE</td></tr>\n",
       "\t<tr><td>5    </td><td>4    </td><td> 9   </td><td>FALSE</td></tr>\n",
       "\t<tr><td>6    </td><td>4    </td><td>10   </td><td>FALSE</td></tr>\n",
       "\t<tr><td>1    </td><td>5    </td><td> 6   </td><td>FALSE</td></tr>\n",
       "\t<tr><td>2    </td><td>5    </td><td> 7   </td><td>FALSE</td></tr>\n",
       "\t<tr><td>3    </td><td>5    </td><td> 8   </td><td>FALSE</td></tr>\n",
       "\t<tr><td>4    </td><td>5    </td><td> 9   </td><td>FALSE</td></tr>\n",
       "\t<tr><td>5    </td><td>5    </td><td>10   </td><td> TRUE</td></tr>\n",
       "\t<tr><td>6    </td><td>5    </td><td>11   </td><td>FALSE</td></tr>\n",
       "\t<tr><td>1    </td><td>6    </td><td> 7   </td><td>FALSE</td></tr>\n",
       "\t<tr><td>2    </td><td>6    </td><td> 8   </td><td>FALSE</td></tr>\n",
       "\t<tr><td>3    </td><td>6    </td><td> 9   </td><td>FALSE</td></tr>\n",
       "\t<tr><td>4    </td><td>6    </td><td>10   </td><td>FALSE</td></tr>\n",
       "\t<tr><td>5    </td><td>6    </td><td>11   </td><td>FALSE</td></tr>\n",
       "\t<tr><td>6    </td><td>6    </td><td>12   </td><td> TRUE</td></tr>\n",
       "</tbody>\n",
       "</table>\n"
      ],
      "text/latex": [
       "\\begin{tabular}{r|llll}\n",
       " Var1 & Var2 & sum & isdouble\\\\\n",
       "\\hline\n",
       "\t 1     & 1     &  2    &  TRUE\\\\\n",
       "\t 2     & 1     &  3    & FALSE\\\\\n",
       "\t 3     & 1     &  4    & FALSE\\\\\n",
       "\t 4     & 1     &  5    & FALSE\\\\\n",
       "\t 5     & 1     &  6    & FALSE\\\\\n",
       "\t 6     & 1     &  7    & FALSE\\\\\n",
       "\t 1     & 2     &  3    & FALSE\\\\\n",
       "\t 2     & 2     &  4    &  TRUE\\\\\n",
       "\t 3     & 2     &  5    & FALSE\\\\\n",
       "\t 4     & 2     &  6    & FALSE\\\\\n",
       "\t 5     & 2     &  7    & FALSE\\\\\n",
       "\t 6     & 2     &  8    & FALSE\\\\\n",
       "\t 1     & 3     &  4    & FALSE\\\\\n",
       "\t 2     & 3     &  5    & FALSE\\\\\n",
       "\t 3     & 3     &  6    &  TRUE\\\\\n",
       "\t 4     & 3     &  7    & FALSE\\\\\n",
       "\t 5     & 3     &  8    & FALSE\\\\\n",
       "\t 6     & 3     &  9    & FALSE\\\\\n",
       "\t 1     & 4     &  5    & FALSE\\\\\n",
       "\t 2     & 4     &  6    & FALSE\\\\\n",
       "\t 3     & 4     &  7    & FALSE\\\\\n",
       "\t 4     & 4     &  8    &  TRUE\\\\\n",
       "\t 5     & 4     &  9    & FALSE\\\\\n",
       "\t 6     & 4     & 10    & FALSE\\\\\n",
       "\t 1     & 5     &  6    & FALSE\\\\\n",
       "\t 2     & 5     &  7    & FALSE\\\\\n",
       "\t 3     & 5     &  8    & FALSE\\\\\n",
       "\t 4     & 5     &  9    & FALSE\\\\\n",
       "\t 5     & 5     & 10    &  TRUE\\\\\n",
       "\t 6     & 5     & 11    & FALSE\\\\\n",
       "\t 1     & 6     &  7    & FALSE\\\\\n",
       "\t 2     & 6     &  8    & FALSE\\\\\n",
       "\t 3     & 6     &  9    & FALSE\\\\\n",
       "\t 4     & 6     & 10    & FALSE\\\\\n",
       "\t 5     & 6     & 11    & FALSE\\\\\n",
       "\t 6     & 6     & 12    &  TRUE\\\\\n",
       "\\end{tabular}\n"
      ],
      "text/markdown": [
       "\n",
       "Var1 | Var2 | sum | isdouble | \n",
       "|---|---|---|---|---|---|---|---|---|---|---|---|---|---|---|---|---|---|---|---|---|---|---|---|---|---|---|---|---|---|---|---|---|---|---|---|\n",
       "| 1     | 1     |  2    |  TRUE | \n",
       "| 2     | 1     |  3    | FALSE | \n",
       "| 3     | 1     |  4    | FALSE | \n",
       "| 4     | 1     |  5    | FALSE | \n",
       "| 5     | 1     |  6    | FALSE | \n",
       "| 6     | 1     |  7    | FALSE | \n",
       "| 1     | 2     |  3    | FALSE | \n",
       "| 2     | 2     |  4    |  TRUE | \n",
       "| 3     | 2     |  5    | FALSE | \n",
       "| 4     | 2     |  6    | FALSE | \n",
       "| 5     | 2     |  7    | FALSE | \n",
       "| 6     | 2     |  8    | FALSE | \n",
       "| 1     | 3     |  4    | FALSE | \n",
       "| 2     | 3     |  5    | FALSE | \n",
       "| 3     | 3     |  6    |  TRUE | \n",
       "| 4     | 3     |  7    | FALSE | \n",
       "| 5     | 3     |  8    | FALSE | \n",
       "| 6     | 3     |  9    | FALSE | \n",
       "| 1     | 4     |  5    | FALSE | \n",
       "| 2     | 4     |  6    | FALSE | \n",
       "| 3     | 4     |  7    | FALSE | \n",
       "| 4     | 4     |  8    |  TRUE | \n",
       "| 5     | 4     |  9    | FALSE | \n",
       "| 6     | 4     | 10    | FALSE | \n",
       "| 1     | 5     |  6    | FALSE | \n",
       "| 2     | 5     |  7    | FALSE | \n",
       "| 3     | 5     |  8    | FALSE | \n",
       "| 4     | 5     |  9    | FALSE | \n",
       "| 5     | 5     | 10    |  TRUE | \n",
       "| 6     | 5     | 11    | FALSE | \n",
       "| 1     | 6     |  7    | FALSE | \n",
       "| 2     | 6     |  8    | FALSE | \n",
       "| 3     | 6     |  9    | FALSE | \n",
       "| 4     | 6     | 10    | FALSE | \n",
       "| 5     | 6     | 11    | FALSE | \n",
       "| 6     | 6     | 12    |  TRUE | \n",
       "\n",
       "\n"
      ],
      "text/plain": [
       "   Var1 Var2 sum isdouble\n",
       "1  1    1     2   TRUE   \n",
       "2  2    1     3  FALSE   \n",
       "3  3    1     4  FALSE   \n",
       "4  4    1     5  FALSE   \n",
       "5  5    1     6  FALSE   \n",
       "6  6    1     7  FALSE   \n",
       "7  1    2     3  FALSE   \n",
       "8  2    2     4   TRUE   \n",
       "9  3    2     5  FALSE   \n",
       "10 4    2     6  FALSE   \n",
       "11 5    2     7  FALSE   \n",
       "12 6    2     8  FALSE   \n",
       "13 1    3     4  FALSE   \n",
       "14 2    3     5  FALSE   \n",
       "15 3    3     6   TRUE   \n",
       "16 4    3     7  FALSE   \n",
       "17 5    3     8  FALSE   \n",
       "18 6    3     9  FALSE   \n",
       "19 1    4     5  FALSE   \n",
       "20 2    4     6  FALSE   \n",
       "21 3    4     7  FALSE   \n",
       "22 4    4     8   TRUE   \n",
       "23 5    4     9  FALSE   \n",
       "24 6    4    10  FALSE   \n",
       "25 1    5     6  FALSE   \n",
       "26 2    5     7  FALSE   \n",
       "27 3    5     8  FALSE   \n",
       "28 4    5     9  FALSE   \n",
       "29 5    5    10   TRUE   \n",
       "30 6    5    11  FALSE   \n",
       "31 1    6     7  FALSE   \n",
       "32 2    6     8  FALSE   \n",
       "33 3    6     9  FALSE   \n",
       "34 4    6    10  FALSE   \n",
       "35 5    6    11  FALSE   \n",
       "36 6    6    12   TRUE   "
      ]
     },
     "metadata": {},
     "output_type": "display_data"
    }
   ],
   "source": [
    "twoDice$sum = twoDice$Var1 + twoDice$Var2\n",
    "twoDice$isdouble = twoDice$Var1 == twoDice$Var2 ## == is logical equals\n",
    "twoDice"
   ]
  },
  {
   "cell_type": "code",
   "execution_count": 6,
   "metadata": {
    "collapsed": false
   },
   "outputs": [
    {
     "data": {
      "text/plain": [
       "\n",
       " 2  3  4  5  6  7  8  9 10 11 12 \n",
       " 1  2  3  4  5  6  5  4  3  2  1 "
      ]
     },
     "metadata": {},
     "output_type": "display_data"
    }
   ],
   "source": [
    "# Count different sums\n",
    "sumCounts = table(twoDice$sum)\n",
    "sumCounts"
   ]
  },
  {
   "cell_type": "code",
   "execution_count": 7,
   "metadata": {
    "collapsed": false
   },
   "outputs": [
    {
     "data": {
      "text/html": [
       "6"
      ],
      "text/latex": [
       "6"
      ],
      "text/markdown": [
       "6"
      ],
      "text/plain": [
       "[1] 6"
      ]
     },
     "metadata": {},
     "output_type": "display_data"
    }
   ],
   "source": [
    "# Count doubles\n",
    "doubles = sum(twoDice$isdouble)\n",
    "doubles"
   ]
  },
  {
   "cell_type": "code",
   "execution_count": 8,
   "metadata": {
    "collapsed": false
   },
   "outputs": [
    {
     "data": {
      "text/html": [
       "1/6"
      ],
      "text/latex": [
       "1/6"
      ],
      "text/markdown": [
       "1/6"
      ],
      "text/plain": [
       "[1] 1/6"
      ]
     },
     "metadata": {},
     "output_type": "display_data"
    }
   ],
   "source": [
    "# Probability of a double:\n",
    "fractions(doubles/nrow(twoDice))"
   ]
  },
  {
   "cell_type": "code",
   "execution_count": 13,
   "metadata": {
    "collapsed": false
   },
   "outputs": [
    {
     "data": {
      "image/png": "[encoded data removed]",
      "text/plain": [
       "plot without title"
      ]
     },
     "metadata": {},
     "output_type": "display_data"
    }
   ],
   "source": [
    "# Probabilities of sums:\n",
    "sumProb = fractions(table(twoDice$sum)/nrow(twoDice)) # type ?fractions for detail\n",
    "barplot(sumProb)"
   ]
  },
  {
   "cell_type": "code",
   "execution_count": null,
   "metadata": {
    "collapsed": true
   },
   "outputs": [],
   "source": []
  }
 ],
 "metadata": {
  "anaconda-cloud": {},
  "kernelspec": {
   "display_name": "R",
   "language": "R",
   "name": "ir"
  },
  "language_info": {
   "codemirror_mode": "r",
   "file_extension": ".r",
   "mimetype": "text/x-r-source",
   "name": "R",
   "pygments_lexer": "r",
   "version": "3.3.2"
  }
 },
 "nbformat": 4,
 "nbformat_minor": 1
}
