{
 "cells": [
  {
   "cell_type": "markdown",
   "metadata": {},
   "source": [
    "# Counts and probabilities\n",
    "## Data Science 350\n",
    "\n",
    "In this notebook we will explore count data and the related probabilities. Event data is typically analyzed as counts, the number of each event that occurs. Using count data we can compute the probabilities that each type of event occurs in the future. \n",
    "\n",
    "![](img/Boom.jpg)"
   ]
  },
  {
   "cell_type": "markdown",
   "metadata": {},
   "source": [
    "### Counting and Combinatorics\n",
    "\n",
    "Combinatorics of the biggest areas of mathematics. We apply combinatorics to compute the possible combinations or permutations of an combinationn of events. \n",
    "\n",
    "For example, we can use combinatorics to compute the number of possible sandwiches we can order at a sandwich shop with a limited menu, 4 bread choices, 5 meat choices, 4 toppings.  How many sandwich unique sandwich combination can we order by picking  one item from each category?   \n",
    "\n",
    "$$4 * 5 * 4 = 80$$\n",
    "\n",
    "You can see that for this problem we just need to multiple the number of choices for each class. This is an example of the **multiplication principle** of combinatorics.\n",
    "\n",
    "In the above example there is no dependncy of our choice from one category to anyother. Consequently, we can find all of the possible combinations by simple multiplication. \n",
    "\n",
    "This is not always the case. Let's look at an example where each event changes the subsequent possible events. Let's say I go to a pub and I want to order a 4-beer taster, with each beer being unique. The pub has 10 beers on tap. How many possible choices do I have for my taster? Fortunately I know R, so I can use the R 'combn' fuction to build a table of all possible combinations of my 4-beer taster!"
   ]
  },
  {
   "cell_type": "code",
   "execution_count": 1,
   "metadata": {
    "collapsed": false
   },
   "outputs": [
    {
     "data": {
      "text/html": [
       "<table>\n",
       "<tbody>\n",
       "\t<tr><td>1  </td><td>1  </td><td>1  </td><td>1  </td><td>1  </td><td>1  </td><td> 1 </td><td>1  </td><td>1  </td><td>1  </td><td>...</td><td> 5 </td><td>5  </td><td> 5 </td><td> 5 </td><td> 5 </td><td>6  </td><td> 6 </td><td> 6 </td><td> 6 </td><td> 7 </td></tr>\n",
       "\t<tr><td>2  </td><td>2  </td><td>2  </td><td>2  </td><td>2  </td><td>2  </td><td> 2 </td><td>2  </td><td>2  </td><td>2  </td><td>...</td><td> 6 </td><td>7  </td><td> 7 </td><td> 7 </td><td> 8 </td><td>7  </td><td> 7 </td><td> 7 </td><td> 8 </td><td> 8 </td></tr>\n",
       "\t<tr><td>3  </td><td>3  </td><td>3  </td><td>3  </td><td>3  </td><td>3  </td><td> 3 </td><td>4  </td><td>4  </td><td>4  </td><td>...</td><td> 9 </td><td>8  </td><td> 8 </td><td> 9 </td><td> 9 </td><td>8  </td><td> 8 </td><td> 9 </td><td> 9 </td><td> 9 </td></tr>\n",
       "\t<tr><td>4  </td><td>5  </td><td>6  </td><td>7  </td><td>8  </td><td>9  </td><td>10 </td><td>5  </td><td>6  </td><td>7  </td><td>...</td><td>10 </td><td>9  </td><td>10 </td><td>10 </td><td>10 </td><td>9  </td><td>10 </td><td>10 </td><td>10 </td><td>10 </td></tr>\n",
       "</tbody>\n",
       "</table>\n"
      ],
      "text/latex": [
       "\\begin{tabular}{llllllllllllllllllllllllllllllllllllllllllllllllllllllllllllllllllllllllllllllllllllllllllllllllllllllllllllllllllllllllllllllllllllllllllllllllllllllllllllllllllllllllllllllllllllllllllllllllllllllllllllllllll}\n",
       "\t 1   & 1   & 1   & 1   & 1   & 1   &  1  & 1   & 1   & 1   & ... &  5  & 5   &  5  &  5  &  5  & 6   &  6  &  6  &  6  &  7 \\\\\n",
       "\t 2   & 2   & 2   & 2   & 2   & 2   &  2  & 2   & 2   & 2   & ... &  6  & 7   &  7  &  7  &  8  & 7   &  7  &  7  &  8  &  8 \\\\\n",
       "\t 3   & 3   & 3   & 3   & 3   & 3   &  3  & 4   & 4   & 4   & ... &  9  & 8   &  8  &  9  &  9  & 8   &  8  &  9  &  9  &  9 \\\\\n",
       "\t 4   & 5   & 6   & 7   & 8   & 9   & 10  & 5   & 6   & 7   & ... & 10  & 9   & 10  & 10  & 10  & 9   & 10  & 10  & 10  & 10 \\\\\n",
       "\\end{tabular}\n"
      ],
      "text/markdown": [
       "\n",
       "| 1   | 1   | 1   | 1   | 1   | 1   |  1  | 1   | 1   | 1   | ... |  5  | 5   |  5  |  5  |  5  | 6   |  6  |  6  |  6  |  7  | \n",
       "| 2   | 2   | 2   | 2   | 2   | 2   |  2  | 2   | 2   | 2   | ... |  6  | 7   |  7  |  7  |  8  | 7   |  7  |  7  |  8  |  8  | \n",
       "| 3   | 3   | 3   | 3   | 3   | 3   |  3  | 4   | 4   | 4   | ... |  9  | 8   |  8  |  9  |  9  | 8   |  8  |  9  |  9  |  9  | \n",
       "| 4   | 5   | 6   | 7   | 8   | 9   | 10  | 5   | 6   | 7   | ... | 10  | 9   | 10  | 10  | 10  | 9   | 10  | 10  | 10  | 10  | \n",
       "\n",
       "\n"
      ],
      "text/plain": [
       "     [,1] [,2] [,3] [,4] [,5] [,6] [,7] [,8] [,9] [,10] [,11] [,12] [,13] [,14]\n",
       "[1,] 1    1    1    1    1    1     1   1    1    1     ...    5    5      5   \n",
       "[2,] 2    2    2    2    2    2     2   2    2    2     ...    6    7      7   \n",
       "[3,] 3    3    3    3    3    3     3   4    4    4     ...    9    8      8   \n",
       "[4,] 4    5    6    7    8    9    10   5    6    7     ...   10    9     10   \n",
       "     [,15] [,16] [,17] [,18] [,19] [,20] [,21]\n",
       "[1,]  5     5    6      6     6     6     7   \n",
       "[2,]  7     8    7      7     7     8     8   \n",
       "[3,]  9     9    8      8     9     9     9   \n",
       "[4,] 10    10    9     10    10    10    10   "
      ]
     },
     "metadata": {},
     "output_type": "display_data"
    },
    {
     "data": {
      "text/html": [
       "210"
      ],
      "text/latex": [
       "210"
      ],
      "text/markdown": [
       "210"
      ],
      "text/plain": [
       "[1] 210"
      ]
     },
     "metadata": {},
     "output_type": "display_data"
    }
   ],
   "source": [
    "c = combn(10,4)\n",
    "c\n",
    "dim(c)[2]"
   ]
  },
  {
   "cell_type": "markdown",
   "metadata": {},
   "source": [
    "The function builds a table of all combinations of 4 items chosen from a list of 10. The second dimension tells me how many combinations there are. "
   ]
  },
  {
   "cell_type": "markdown",
   "metadata": {},
   "source": [
    "### Sandwich combinatorics\n",
    " \n",
    " Let's investigate the sandwich shop example in a bit more detail. The code in the cell below creates three vectors containing the possible choices for bread, meat and topping. Execute this code."
   ]
  },
  {
   "cell_type": "code",
   "execution_count": 2,
   "metadata": {
    "collapsed": false
   },
   "outputs": [],
   "source": [
    "##-----Sandwich Count----\n",
    "breads = c('white', 'wheat', 'italian', 'sevengrain')\n",
    "meats = c('ham', 'turkey', 'chicken', 'pastrami', 'meatballs')\n",
    "toppings = c('mustard', 'mayo', 'salt_pepper', 'oil_vinegar')"
   ]
  },
  {
   "cell_type": "markdown",
   "metadata": {},
   "source": [
    "To make our calculations simple, we can create a table or grid of all the possible sandwich choices. Execute the code in the cell below to create a grid or table of the possible sandwich choices, using the ```expand.grid``` function. "
   ]
  },
  {
   "cell_type": "code",
   "execution_count": 3,
   "metadata": {
    "collapsed": false
   },
   "outputs": [
    {
     "data": {
      "text/html": [
       "80"
      ],
      "text/latex": [
       "80"
      ],
      "text/markdown": [
       "80"
      ],
      "text/plain": [
       "[1] 80"
      ]
     },
     "metadata": {},
     "output_type": "display_data"
    },
    {
     "data": {
      "text/html": [
       "<table>\n",
       "<thead><tr><th scope=col>Var1</th><th scope=col>Var2</th><th scope=col>Var3</th></tr></thead>\n",
       "<tbody>\n",
       "\t<tr><td>white     </td><td>ham       </td><td>mustard   </td></tr>\n",
       "\t<tr><td>wheat     </td><td>ham       </td><td>mustard   </td></tr>\n",
       "\t<tr><td>italian   </td><td>ham       </td><td>mustard   </td></tr>\n",
       "\t<tr><td>sevengrain</td><td>ham       </td><td>mustard   </td></tr>\n",
       "\t<tr><td>white     </td><td>turkey    </td><td>mustard   </td></tr>\n",
       "\t<tr><td>wheat     </td><td>turkey    </td><td>mustard   </td></tr>\n",
       "\t<tr><td>italian   </td><td>turkey    </td><td>mustard   </td></tr>\n",
       "\t<tr><td>sevengrain</td><td>turkey    </td><td>mustard   </td></tr>\n",
       "\t<tr><td>white     </td><td>chicken   </td><td>mustard   </td></tr>\n",
       "\t<tr><td>wheat     </td><td>chicken   </td><td>mustard   </td></tr>\n",
       "\t<tr><td>italian   </td><td>chicken   </td><td>mustard   </td></tr>\n",
       "\t<tr><td>sevengrain</td><td>chicken   </td><td>mustard   </td></tr>\n",
       "\t<tr><td>white     </td><td>pastrami  </td><td>mustard   </td></tr>\n",
       "\t<tr><td>wheat     </td><td>pastrami  </td><td>mustard   </td></tr>\n",
       "\t<tr><td>italian   </td><td>pastrami  </td><td>mustard   </td></tr>\n",
       "\t<tr><td>sevengrain</td><td>pastrami  </td><td>mustard   </td></tr>\n",
       "\t<tr><td>white     </td><td>meatballs </td><td>mustard   </td></tr>\n",
       "\t<tr><td>wheat     </td><td>meatballs </td><td>mustard   </td></tr>\n",
       "\t<tr><td>italian   </td><td>meatballs </td><td>mustard   </td></tr>\n",
       "\t<tr><td>sevengrain</td><td>meatballs </td><td>mustard   </td></tr>\n",
       "</tbody>\n",
       "</table>\n"
      ],
      "text/latex": [
       "\\begin{tabular}{r|lll}\n",
       " Var1 & Var2 & Var3\\\\\n",
       "\\hline\n",
       "\t white      & ham        & mustard   \\\\\n",
       "\t wheat      & ham        & mustard   \\\\\n",
       "\t italian    & ham        & mustard   \\\\\n",
       "\t sevengrain & ham        & mustard   \\\\\n",
       "\t white      & turkey     & mustard   \\\\\n",
       "\t wheat      & turkey     & mustard   \\\\\n",
       "\t italian    & turkey     & mustard   \\\\\n",
       "\t sevengrain & turkey     & mustard   \\\\\n",
       "\t white      & chicken    & mustard   \\\\\n",
       "\t wheat      & chicken    & mustard   \\\\\n",
       "\t italian    & chicken    & mustard   \\\\\n",
       "\t sevengrain & chicken    & mustard   \\\\\n",
       "\t white      & pastrami   & mustard   \\\\\n",
       "\t wheat      & pastrami   & mustard   \\\\\n",
       "\t italian    & pastrami   & mustard   \\\\\n",
       "\t sevengrain & pastrami   & mustard   \\\\\n",
       "\t white      & meatballs  & mustard   \\\\\n",
       "\t wheat      & meatballs  & mustard   \\\\\n",
       "\t italian    & meatballs  & mustard   \\\\\n",
       "\t sevengrain & meatballs  & mustard   \\\\\n",
       "\\end{tabular}\n"
      ],
      "text/markdown": [
       "\n",
       "Var1 | Var2 | Var3 | \n",
       "|---|---|---|---|---|---|---|---|---|---|---|---|---|---|---|---|---|---|---|---|\n",
       "| white      | ham        | mustard    | \n",
       "| wheat      | ham        | mustard    | \n",
       "| italian    | ham        | mustard    | \n",
       "| sevengrain | ham        | mustard    | \n",
       "| white      | turkey     | mustard    | \n",
       "| wheat      | turkey     | mustard    | \n",
       "| italian    | turkey     | mustard    | \n",
       "| sevengrain | turkey     | mustard    | \n",
       "| white      | chicken    | mustard    | \n",
       "| wheat      | chicken    | mustard    | \n",
       "| italian    | chicken    | mustard    | \n",
       "| sevengrain | chicken    | mustard    | \n",
       "| white      | pastrami   | mustard    | \n",
       "| wheat      | pastrami   | mustard    | \n",
       "| italian    | pastrami   | mustard    | \n",
       "| sevengrain | pastrami   | mustard    | \n",
       "| white      | meatballs  | mustard    | \n",
       "| wheat      | meatballs  | mustard    | \n",
       "| italian    | meatballs  | mustard    | \n",
       "| sevengrain | meatballs  | mustard    | \n",
       "\n",
       "\n"
      ],
      "text/plain": [
       "   Var1       Var2      Var3   \n",
       "1  white      ham       mustard\n",
       "2  wheat      ham       mustard\n",
       "3  italian    ham       mustard\n",
       "4  sevengrain ham       mustard\n",
       "5  white      turkey    mustard\n",
       "6  wheat      turkey    mustard\n",
       "7  italian    turkey    mustard\n",
       "8  sevengrain turkey    mustard\n",
       "9  white      chicken   mustard\n",
       "10 wheat      chicken   mustard\n",
       "11 italian    chicken   mustard\n",
       "12 sevengrain chicken   mustard\n",
       "13 white      pastrami  mustard\n",
       "14 wheat      pastrami  mustard\n",
       "15 italian    pastrami  mustard\n",
       "16 sevengrain pastrami  mustard\n",
       "17 white      meatballs mustard\n",
       "18 wheat      meatballs mustard\n",
       "19 italian    meatballs mustard\n",
       "20 sevengrain meatballs mustard"
      ]
     },
     "metadata": {},
     "output_type": "display_data"
    }
   ],
   "source": [
    "sandwiches = expand.grid(breads,\n",
    "                         meats,\n",
    "                         toppings)\n",
    "nrow(sandwiches)\n",
    "head(sandwiches, 20)"
   ]
  },
  {
   "cell_type": "markdown",
   "metadata": {},
   "source": [
    "As expected, there are 80 possible sandwich types enumerated in the table.\n",
    "\n",
    "***\n",
    "**Your turn:** In the cell below, redo the sandwich shop example with three types of cheese added to the menu, chedar, american, swiss. How many unique sandwiches can you now order, and does the table show all the purmuations?\n",
    "***"
   ]
  },
  {
   "cell_type": "code",
   "execution_count": 4,
   "metadata": {
    "collapsed": false
   },
   "outputs": [
    {
     "data": {
      "text/html": [
       "240"
      ],
      "text/latex": [
       "240"
      ],
      "text/markdown": [
       "240"
      ],
      "text/plain": [
       "[1] 240"
      ]
     },
     "metadata": {},
     "output_type": "display_data"
    },
    {
     "data": {
      "text/html": [
       "<table>\n",
       "<thead><tr><th scope=col>Var1</th><th scope=col>Var2</th><th scope=col>Var3</th><th scope=col>Var4</th></tr></thead>\n",
       "<tbody>\n",
       "\t<tr><td>white     </td><td>ham       </td><td>mustard   </td><td>chedar    </td></tr>\n",
       "\t<tr><td>wheat     </td><td>ham       </td><td>mustard   </td><td>chedar    </td></tr>\n",
       "\t<tr><td>italian   </td><td>ham       </td><td>mustard   </td><td>chedar    </td></tr>\n",
       "\t<tr><td>sevengrain</td><td>ham       </td><td>mustard   </td><td>chedar    </td></tr>\n",
       "\t<tr><td>white     </td><td>turkey    </td><td>mustard   </td><td>chedar    </td></tr>\n",
       "\t<tr><td>wheat     </td><td>turkey    </td><td>mustard   </td><td>chedar    </td></tr>\n",
       "\t<tr><td>italian   </td><td>turkey    </td><td>mustard   </td><td>chedar    </td></tr>\n",
       "\t<tr><td>sevengrain</td><td>turkey    </td><td>mustard   </td><td>chedar    </td></tr>\n",
       "\t<tr><td>white     </td><td>chicken   </td><td>mustard   </td><td>chedar    </td></tr>\n",
       "\t<tr><td>wheat     </td><td>chicken   </td><td>mustard   </td><td>chedar    </td></tr>\n",
       "\t<tr><td>italian   </td><td>chicken   </td><td>mustard   </td><td>chedar    </td></tr>\n",
       "\t<tr><td>sevengrain</td><td>chicken   </td><td>mustard   </td><td>chedar    </td></tr>\n",
       "\t<tr><td>white     </td><td>pastrami  </td><td>mustard   </td><td>chedar    </td></tr>\n",
       "\t<tr><td>wheat     </td><td>pastrami  </td><td>mustard   </td><td>chedar    </td></tr>\n",
       "\t<tr><td>italian   </td><td>pastrami  </td><td>mustard   </td><td>chedar    </td></tr>\n",
       "\t<tr><td>sevengrain</td><td>pastrami  </td><td>mustard   </td><td>chedar    </td></tr>\n",
       "\t<tr><td>white     </td><td>meatballs </td><td>mustard   </td><td>chedar    </td></tr>\n",
       "\t<tr><td>wheat     </td><td>meatballs </td><td>mustard   </td><td>chedar    </td></tr>\n",
       "\t<tr><td>italian   </td><td>meatballs </td><td>mustard   </td><td>chedar    </td></tr>\n",
       "\t<tr><td>sevengrain</td><td>meatballs </td><td>mustard   </td><td>chedar    </td></tr>\n",
       "</tbody>\n",
       "</table>\n"
      ],
      "text/latex": [
       "\\begin{tabular}{r|llll}\n",
       " Var1 & Var2 & Var3 & Var4\\\\\n",
       "\\hline\n",
       "\t white      & ham        & mustard    & chedar    \\\\\n",
       "\t wheat      & ham        & mustard    & chedar    \\\\\n",
       "\t italian    & ham        & mustard    & chedar    \\\\\n",
       "\t sevengrain & ham        & mustard    & chedar    \\\\\n",
       "\t white      & turkey     & mustard    & chedar    \\\\\n",
       "\t wheat      & turkey     & mustard    & chedar    \\\\\n",
       "\t italian    & turkey     & mustard    & chedar    \\\\\n",
       "\t sevengrain & turkey     & mustard    & chedar    \\\\\n",
       "\t white      & chicken    & mustard    & chedar    \\\\\n",
       "\t wheat      & chicken    & mustard    & chedar    \\\\\n",
       "\t italian    & chicken    & mustard    & chedar    \\\\\n",
       "\t sevengrain & chicken    & mustard    & chedar    \\\\\n",
       "\t white      & pastrami   & mustard    & chedar    \\\\\n",
       "\t wheat      & pastrami   & mustard    & chedar    \\\\\n",
       "\t italian    & pastrami   & mustard    & chedar    \\\\\n",
       "\t sevengrain & pastrami   & mustard    & chedar    \\\\\n",
       "\t white      & meatballs  & mustard    & chedar    \\\\\n",
       "\t wheat      & meatballs  & mustard    & chedar    \\\\\n",
       "\t italian    & meatballs  & mustard    & chedar    \\\\\n",
       "\t sevengrain & meatballs  & mustard    & chedar    \\\\\n",
       "\\end{tabular}\n"
      ],
      "text/markdown": [
       "\n",
       "Var1 | Var2 | Var3 | Var4 | \n",
       "|---|---|---|---|---|---|---|---|---|---|---|---|---|---|---|---|---|---|---|---|\n",
       "| white      | ham        | mustard    | chedar     | \n",
       "| wheat      | ham        | mustard    | chedar     | \n",
       "| italian    | ham        | mustard    | chedar     | \n",
       "| sevengrain | ham        | mustard    | chedar     | \n",
       "| white      | turkey     | mustard    | chedar     | \n",
       "| wheat      | turkey     | mustard    | chedar     | \n",
       "| italian    | turkey     | mustard    | chedar     | \n",
       "| sevengrain | turkey     | mustard    | chedar     | \n",
       "| white      | chicken    | mustard    | chedar     | \n",
       "| wheat      | chicken    | mustard    | chedar     | \n",
       "| italian    | chicken    | mustard    | chedar     | \n",
       "| sevengrain | chicken    | mustard    | chedar     | \n",
       "| white      | pastrami   | mustard    | chedar     | \n",
       "| wheat      | pastrami   | mustard    | chedar     | \n",
       "| italian    | pastrami   | mustard    | chedar     | \n",
       "| sevengrain | pastrami   | mustard    | chedar     | \n",
       "| white      | meatballs  | mustard    | chedar     | \n",
       "| wheat      | meatballs  | mustard    | chedar     | \n",
       "| italian    | meatballs  | mustard    | chedar     | \n",
       "| sevengrain | meatballs  | mustard    | chedar     | \n",
       "\n",
       "\n"
      ],
      "text/plain": [
       "   Var1       Var2      Var3    Var4  \n",
       "1  white      ham       mustard chedar\n",
       "2  wheat      ham       mustard chedar\n",
       "3  italian    ham       mustard chedar\n",
       "4  sevengrain ham       mustard chedar\n",
       "5  white      turkey    mustard chedar\n",
       "6  wheat      turkey    mustard chedar\n",
       "7  italian    turkey    mustard chedar\n",
       "8  sevengrain turkey    mustard chedar\n",
       "9  white      chicken   mustard chedar\n",
       "10 wheat      chicken   mustard chedar\n",
       "11 italian    chicken   mustard chedar\n",
       "12 sevengrain chicken   mustard chedar\n",
       "13 white      pastrami  mustard chedar\n",
       "14 wheat      pastrami  mustard chedar\n",
       "15 italian    pastrami  mustard chedar\n",
       "16 sevengrain pastrami  mustard chedar\n",
       "17 white      meatballs mustard chedar\n",
       "18 wheat      meatballs mustard chedar\n",
       "19 italian    meatballs mustard chedar\n",
       "20 sevengrain meatballs mustard chedar"
      ]
     },
     "metadata": {},
     "output_type": "display_data"
    }
   ],
   "source": [
    "cheese = c('chedar', 'american', 'swiss')\n",
    "sandwiches = expand.grid(breads,\n",
    "                         meats,\n",
    "                         toppings,\n",
    "                         cheese)\n",
    "nrow(sandwiches)\n",
    "head(sandwiches, 20)"
   ]
  },
  {
   "cell_type": "markdown",
   "metadata": {},
   "source": [
    "###  Factorials and purmuations\n",
    "\n",
    "Factorials are a way to compute the number of ways to order $N$ things. We use the term **Purmutations** to describe the number of ways you can order some objects or events. This is where **factorials** arise:\n",
    "\n",
    "$$Number\\ of\\ ways\\ to\\ order\\ N\\ things = N!$$  \n",
    "\n",
    "Let's say you have 5 new books on probability you wish to put on a shelf (having read them cover-to-cover no doubt!). How many was can you order them:  \n",
    "\n",
    "$$5 * 4 * 3 * 2 * 1 = 5! = 120$$\n",
    "\n",
    "This is another application of the multiplication principle. \n",
    "\n",
    "Easy enough, so far. But let's say we want to find the number of purmutations of $k$ unique items chosen from $N$ total items. We can compute the number of possible purmuations as:\n",
    "\n",
    "$$\\frac{N!}{(N - k)!}$$\n",
    "\n",
    "Let's revisit our beer example. The order I drink my 4 beers in the sampler might matter. Maybe the tasts will be a bit different if I drink stout before I drink a red ale? We saw the number of combinations previously. But, since order matters, I have many more purmuations:\n",
    "\n",
    "$$\\frac{10!}{(10 - 4)!} = 10 * 9 * 8 * 7 = 5040$$\n",
    "\n",
    "****\n",
    "**Your turn:** Let's say I am going to order a 5-beer taster and I care about order. In the cell below create the R code to compute how many permutations are there. Can you see how the number of purmuations gets large rather quickly? \n",
    "****\n",
    "\n"
   ]
  },
  {
   "cell_type": "code",
   "execution_count": 5,
   "metadata": {
    "collapsed": false
   },
   "outputs": [
    {
     "data": {
      "text/html": [
       "30240"
      ],
      "text/latex": [
       "30240"
      ],
      "text/markdown": [
       "30240"
      ],
      "text/plain": [
       "[1] 30240"
      ]
     },
     "metadata": {},
     "output_type": "display_data"
    }
   ],
   "source": [
    "10 * 9 * 8 * 7 * 6"
   ]
  },
  {
   "cell_type": "markdown",
   "metadata": {},
   "source": [
    "### Computing factorials\n",
    "\n",
    "Computing factorials can be tricky. A 64 bit unsigned integer can represent numbers as large as $2^{64} = 9.2E18$. However $21! = 5.1E19$. In practice, compuation of factorials is done on ratios to make the problem tractable. For example, we just wrote our beer example in a tractable form:\n",
    "\n",
    "$$\\frac{10!}{6!} = \\frac{10!}{(10-4)!} = 10 * 9 * 8 * 7$$\n",
    "\n",
    "We never had to actually compute the largest number $10!$. In fact, we just multipled 4 numbers. \n",
    "\n",
    "### Combinations\n",
    "\n",
    "What if order does not matter? I may just want to find all unique combinations of k items of N choices. For example, for the beer example when order does not mater, there are $10$ choices and I want to pick $4$ unique choices. In the language of combintorics, we say that the above quantity is $10$ **choose** $4$, which can be writen:\n",
    "\n",
    "$$\\frac{10!}{4!(10 - 4)!} = \\binom{10}{4}$$\n",
    "\n",
    "We say that $N$ choose $k$ is a **combinations** since order does not matter. More generally we compute combinations with the formula:\n",
    "\n",
    "$$\\frac{N!}{k!(N - k)!} = \\binom{N}{k}$$\n",
    "\n",
    "From these forumlas you can see that there are $k!$ combinations than purmutations.\n",
    "\n",
    "For our example, we can visualize how this process works with **Pascal's triangle**. You can see an example below. \n",
    "\n",
    "![](img/Pascal.jpg)\n",
    "\n",
    "In this case we find $10$ choose $4$ by counting down 10 rows and over 4 elements. Vola! we have the value we expect! \n",
    "\n",
    "Notice that Pascal's triangle is symetric. This illustrates an important symetry property of combinations. Notice that:\n",
    "\n",
    "$$\\binom{N}{k} = \\binom{N}{N-k}$$\n",
    "\n"
   ]
  },
  {
   "cell_type": "markdown",
   "metadata": {},
   "source": [
    "***\n",
    "**Your turn:** Use the R 'choose' function to compute the number of 4-beer tasters you could create from 10 taps.\n",
    "***"
   ]
  },
  {
   "cell_type": "code",
   "execution_count": 6,
   "metadata": {
    "collapsed": false
   },
   "outputs": [
    {
     "data": {
      "text/html": [
       "210"
      ],
      "text/latex": [
       "210"
      ],
      "text/markdown": [
       "210"
      ],
      "text/plain": [
       "[1] 210"
      ]
     },
     "metadata": {},
     "output_type": "display_data"
    }
   ],
   "source": [
    "choose(10,4)"
   ]
  },
  {
   "cell_type": "markdown",
   "metadata": {},
   "source": [
    "***\n",
    "**Fun note:** there are $52!$ ways to shuffle deck of cards, or combinations. It is likely that each suffle is unique in the history of the world!\n",
    "***"
   ]
  },
  {
   "cell_type": "markdown",
   "metadata": {},
   "source": [
    "### Probability for dice\n",
    "\n",
    "Once we can use combinatorics to enumerate all possible states following a series of events, we can also compute probabilities of these events. \n",
    "\n",
    "Let's start by enumerating all of the possible end states from throwing two dice. We will assume that these dice are  'fair'.  In other words, the chance there is an equal probability that any face of the dice will land pointing up. In terms of probability, we say that the distribution of scores for each die follows a **Uniform distribution**. further, we assume that the dice indentical and that the score for each dice is not dependent on the other dice. In the terminology of probability, we can now say that the score of each dice is **Independent Identically Distributed**, or **iid**.  \n",
    "\n",
    "The code in the cell below computes as table with all possible outcomes. Run this code and examine the  results. "
   ]
  },
  {
   "cell_type": "code",
   "execution_count": null,
   "metadata": {
    "collapsed": false
   },
   "outputs": [],
   "source": [
    "##-----Two Dice Example ------\n",
    "twoDice = expand.grid(1:6,1:6)\n",
    "twoDice"
   ]
  },
  {
   "cell_type": "markdown",
   "metadata": {},
   "source": [
    "As a first step in computing the probabilities, we need to find how many ways we can get into each state. In the case of the dice, how many ways can we roll each score (sum of the numbers shown on the upper side of the dice). The figure below shows an example of the number of ways we can roll a 7 or a 10.\n",
    "\n",
    "![](img/dice.jpg)\n",
    "\n",
    "The code in the table below computes the score for each state in our table, as well as determining if the score is a result of a double. Execute this code and examine the results."
   ]
  },
  {
   "cell_type": "code",
   "execution_count": null,
   "metadata": {
    "collapsed": false,
    "scrolled": true
   },
   "outputs": [],
   "source": [
    "twoDice$sum = twoDice$Var1 + twoDice$Var2\n",
    "twoDice$isdouble = twoDice$Var1 == twoDice$Var2 ## == is logical equals\n",
    "twoDice"
   ]
  },
  {
   "cell_type": "markdown",
   "metadata": {},
   "source": [
    "Next, we need to transform this table enumerating the states to a frequency table with the counts of states. Execute the code in the cell below to do just this."
   ]
  },
  {
   "cell_type": "code",
   "execution_count": null,
   "metadata": {
    "collapsed": false
   },
   "outputs": [],
   "source": [
    "# Count different sums\n",
    "sumCounts = table(twoDice$sum)\n",
    "sumCounts"
   ]
  },
  {
   "cell_type": "markdown",
   "metadata": {},
   "source": [
    "Examine this table. Which score is the most likely, and  which scores are least likely?"
   ]
  },
  {
   "cell_type": "markdown",
   "metadata": {},
   "source": [
    "Now, compute the probability of rolling a double by executing the code in the cell below, which uses the 'fractions' function from the 'MASS' library."
   ]
  },
  {
   "cell_type": "code",
   "execution_count": null,
   "metadata": {
    "collapsed": false
   },
   "outputs": [],
   "source": [
    "library(MASS) # Contains the function 'fractions()', \n",
    "# Probability of a double:\n",
    "fractions(doubles/nrow(twoDice)) # type ?fractions for detail"
   ]
  },
  {
   "cell_type": "markdown",
   "metadata": {},
   "source": [
    "Finally, we can compute and plot the probabilites of the possible scores from rolling two dice. For situations where the outcomes are discrete states, the probability of each state is just the number of ways that state can occur divided by the total number of possible states. This is done to ensure the sum of all probabilities adds to 1.0. \n",
    "\n",
    "Execute the code in the cell below and examinethe result. "
   ]
  },
  {
   "cell_type": "code",
   "execution_count": null,
   "metadata": {
    "collapsed": false
   },
   "outputs": [],
   "source": [
    "# Probabilities of sums:\n",
    "sumProb = fractions(table(twoDice$sum)/nrow(twoDice)) \n",
    "barplot(sumProb)"
   ]
  },
  {
   "cell_type": "markdown",
   "metadata": {
    "collapsed": true
   },
   "source": [
    "Examine this result. Notice that the probabilities are proportional to the frequencies, but are scaled to ensure they add to 1.0.\n",
    "\n"
   ]
  },
  {
   "cell_type": "markdown",
   "metadata": {},
   "source": [
    "***\n",
    "**Your turn:** In the cell below write and execute the R code to determine how many of the 36 possible states of our dice are doubles. Is the result consistent with the properties of dice?\n",
    "***"
   ]
  },
  {
   "cell_type": "code",
   "execution_count": null,
   "metadata": {
    "collapsed": true
   },
   "outputs": [],
   "source": []
  },
  {
   "cell_type": "markdown",
   "metadata": {},
   "source": [
    "## Basics of Probability\n",
    "\n",
    "We will now investigate some basics of probability in a bit more detail.  \n",
    "\n",
    "### Discrete probability\n",
    "\n",
    "A **discrete distribution** is a probability distribution describing a process with discrete outcomes. We have already investigate an example of a discrete process when we examined the outcome of dice throws. Each die lands with a certain side up and the sum of the two numbers is the total score. \n",
    "\n",
    "For a discrete distribution the probability of an event, A, is the number of ways A can occur, divided by the number of total possible outcomes in our Sample Space, S. Let's make this concrete with an example.\n",
    "\n",
    "![](img/Prob1.png)\n",
    "\n",
    "The probability of the events in a subset, A, given a set of possible events in the sample space, S, can be computed as follows:\n",
    "\n",
    "$$P(A) = \\frac{N(A)}{N(S)}$$\n",
    "\n",
    "In this case there are 10 events in S, 6 events in subset A and 4 in subset B. We can compute the probabilities of A and B like this:\n",
    "\n",
    "$$P(A) = \\frac{6}{10} = \\frac{3}{5} = 0.6\\\\\n",
    "P(B) = \\frac{4}{10} = \\frac{2}{5} = 0.4$$\n",
    "\n",
    "***\n",
    "**Your turn:** in the cell below find the probability that the score from a throw of a pair of dice will be less than or equal to 3. Hints: use filters on the `twoDice` data frame and the `nrow` function to get the counts. \n",
    "***"
   ]
  },
  {
   "cell_type": "code",
   "execution_count": null,
   "metadata": {
    "collapsed": false
   },
   "outputs": [],
   "source": [
    "nrow(twoDice[twoDice$sum == 2 | twoDice$sum ==3, ]) / nrow(twoDice)"
   ]
  },
  {
   "cell_type": "markdown",
   "metadata": {},
   "source": [
    "### Axioms of probability\n",
    "\n",
    "All probability distributions must have a certian properties, which we refer to as the **axioms of probability**. These are:\n",
    "\n",
    "- Probability is bounded between 0 and 1:  \n",
    "$$0 \\le P(A) \\le 1 \\\\$$\n",
    "\n",
    "- Probability of the Sample Space = 1:  \n",
    "$$P(S) = \\sum_{All\\ i}P(a_i) = 1\\\\$$\n",
    "\n",
    "- The probability of finite independent unions is the sum of their probabilities:\n",
    "\n",
    "$$P(A \\cup B) = P(A) + P(B)\\\\ if\\ and\\ only\\ if\\\\ A \\cap B = 0\\\\$$\n",
    "\n",
    "***\n",
    "**Your turn:** In the cell below create and execute the R code to show that $P(S) = 1$ for the simple set example we have using.\n",
    "***"
   ]
  },
  {
   "cell_type": "code",
   "execution_count": null,
   "metadata": {
    "collapsed": true
   },
   "outputs": [],
   "source": []
  },
  {
   "cell_type": "markdown",
   "metadata": {},
   "source": [
    "### Set operatons and probability\n",
    "\n",
    "Set operations can be readily applied to probability problems. Continuing with our example, we can apply the following common set operations.\n",
    "\n",
    "- **Intersection:** \n",
    "$$P(A \\cap B)  = \\frac{2}{10} = \\frac{1}{5} = 0.2$$\n",
    "\n",
    "- **Union:** \n",
    "$$P(A \\cup B) = \\frac{8}{10} = \\frac{4}{5} = 0.8$$\n",
    "\n",
    "- **Negation:** \n",
    "$$P(A)' = \\frac{4}{10} = \\frac{2}{5} = 0.4$$\n",
    "\n",
    "You can use this basic operations to create more complex operations. For example:\n",
    "\n",
    "$$P((A \\cup B)') = P(A' \\cap B') = P(C) = \\frac{2}{10} = 0.2$$\n",
    "\n",
    "We can also write an expression like the following:\n",
    "\n",
    "$$P(A \\cup B) = P(A) + P(B) - P(A \\cap B)$$\n",
    "\n",
    "### Independence vs. mutual exclusivity\n",
    "\n",
    "In probability there are two concepts which are quite different but often confused, mutual exclusivity and independence.\n",
    "\n",
    "Events in B are considered **independent** of events in A if events in B have no effect on events in A. For independent events, we can write the following:\n",
    "\n",
    "$$P(A \\cap B) = 0\\\\\n",
    "and\\\\\n",
    "P(A \\cup B) = P(A) + P(B) - P(A \\cap B)$$\n",
    "\n",
    "If A and B are **mutually exclusive** an event in B means there are can no event in A and vice versa. For mutually exclusive events, we can write:\n",
    "\n",
    "$$P(A \\cap B) = 0 = Empty\\ set\\\\\n",
    "and\\\\\n",
    "P(A \\cup B) = P(A) + P(B)\n",
    "$$\n",
    "\n"
   ]
  },
  {
   "cell_type": "markdown",
   "metadata": {},
   "source": [
    "***\n",
    "**Your turn:** Consider the diagram of event sub-sets in the figure below:\n",
    "\n",
    "![](img/ME.jpg)\n",
    "\n",
    "Write and execute the R code to compute the following:\n",
    "$$P(A \\cup B)\\\\\n",
    "P(A \\cap B)\\\\\n",
    "P((A \\cup B)')$$\n",
    "***"
   ]
  },
  {
   "cell_type": "code",
   "execution_count": null,
   "metadata": {
    "collapsed": true
   },
   "outputs": [],
   "source": []
  },
  {
   "cell_type": "markdown",
   "metadata": {},
   "source": [
    "### Conditional probability\n",
    "\n",
    "**Conditional probability** is the probility that event A occurs given that event B has occured. We can write conditional probability as follow, which we say is the probability of A given B:\n",
    "\n",
    "$$P(A|B)$$\n",
    "\n",
    "We can work out this conditional probabilty as follows:\n",
    "\n",
    "$$P(A|B) = \\frac{P(A \\cap B)}{P(B)} = \\frac{\\frac{2}{10}}{\\frac{4}{10}} = \\frac{2}{4} = \\frac{1}{2}$$\n",
    "\n",
    "If event A is **independent** of B, then:\n",
    "\n",
    "$$P(A|B) = P(A)$$\n",
    "\n",
    "But, just because A is independent of B, does not mean B is independent of A. Or, in terms of our notation:\n",
    "\n",
    "$$P(A|B) = P(A)\\\\ does\\ not\\ imply\\\\ P(B|A) = P(B)$$\n",
    "\n"
   ]
  },
  {
   "cell_type": "code",
   "execution_count": null,
   "metadata": {
    "collapsed": true
   },
   "outputs": [],
   "source": []
  }
 ],
 "metadata": {
  "anaconda-cloud": {},
  "kernelspec": {
   "display_name": "R",
   "language": "R",
   "name": "ir"
  },
  "language_info": {
   "codemirror_mode": "r",
   "file_extension": ".r",
   "mimetype": "text/x-r-source",
   "name": "R",
   "pygments_lexer": "r",
   "version": "3.3.2"
  }
 },
 "nbformat": 4,
 "nbformat_minor": 1
}
