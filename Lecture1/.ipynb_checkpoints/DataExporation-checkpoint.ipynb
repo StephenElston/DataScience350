{
 "cells": [
  {
   "cell_type": "markdown",
   "metadata": {},
   "source": [
    "# Exporation of Data\n",
    "## Data Science 350\n",
    "\n",
    "This notebook contains an introduction to the methods data scientists used to prepare and explore a data set. Data scientists spend a lot of time manipulating data to clean and prepare it (**data munging**) and to understand the relationships within the variables in the data (**data exporation**).\n",
    "\n",
    "These lessons are divided into several parts. In each part you will learn how to use the visualization tools available in Python.\n",
    "\n",
    "- **Summarizing and manipulating data**:\n",
    "  * How large is it?\n",
    "  * What columns are of interest?\n",
    "  * Missing data?\n",
    "- **Overview of ggplot2** the package we will use extensively in this course for plotting. \n",
    "- **Overview of plot types** is a reveiw of creating basic plot types used to construct visualizations.\n",
    "- **Using Aesthetics** is an overview of how to project additional plot dimensions using plot aesthetics.\n",
    "- **Facetted plotting** also know as conditioned plotting or lattice plotting, introduces a powerful method for visualizing higher dimensional data. "
   ]
  },
  {
   "cell_type": "markdown",
   "metadata": {},
   "source": [
    "## About the data set\n",
    "\n",
    "This data set is from the [Univeristy of California Irving Machine Learning Repository](https://archive.ics.uci.edu/ml/datasets/Automobile)  The data was compiled by Jeffrey C. Schlimmer from the following sources:\n",
    "\n",
    "- 1985 Model Import Car and Truck Specifications, 1985 Ward's Automotive Yearbook. \n",
    "- Personal Auto Manuals, Insurance Services Office, 160 Water Street, New York, NY 10038 \n",
    "- Insurance Collision Report, Insurance Institute for Highway Safety, Watergate 600, Washington, DC 20037\n"
   ]
  },
  {
   "cell_type": "markdown",
   "metadata": {},
   "source": [
    "## Load and examine the data set\n",
    "\n",
    "Let's get started. The function shown in the cell below loads the data from the .csv file. Some minimal clean up is performed on the data. Rows with missing values are dropped and some columns are converted from strings containing numbers to numeric data. \n",
    "\n",
    "Execute the code in this cell to load the data into your notebook. **Make sure you have the .csv file in your working directory!**"
   ]
  },
  {
   "cell_type": "code",
   "execution_count": null,
   "metadata": {
    "collapsed": false
   },
   "outputs": [],
   "source": [
    "read.auto = function(file = 'Automobile price data _Raw_.csv'){\n",
    "  ## Read the csv file\n",
    "  auto.price <- read.csv(file, header = TRUE, \n",
    "                      stringsAsFactors = FALSE)\n",
    "\n",
    "  ## Coerce some character columns to numeric\n",
    "  numcols <- c('price', 'bore', 'stroke', 'horsepower', 'peak.rpm')\n",
    "  auto.price[, numcols] <- lapply(auto.price[, numcols], as.numeric)\n",
    "\n",
    "  ## Remove cases or rows with missing values. In this case we keep the \n",
    "  ## rows which do not have nas. \n",
    "  auto.price[complete.cases(auto.price), ]\n",
    "}\n",
    "auto.price = read.auto()"
   ]
  },
  {
   "cell_type": "markdown",
   "metadata": {},
   "source": [
    "Notice that there are some missing values in the numeric columns. These are removed using the `complete.cases` function which returns a logical `TRUE` for rows without missing data.\n",
    "\n",
    "Next, have a first look at a summary of the columns in this data set by executing the code in the cell below."
   ]
  },
  {
   "cell_type": "code",
   "execution_count": null,
   "metadata": {
    "collapsed": false
   },
   "outputs": [],
   "source": [
    "str(auto.price)"
   ]
  },
  {
   "cell_type": "markdown",
   "metadata": {},
   "source": [
    "Some key things to notice here are:\n",
    "\n",
    "- There are 195 rows or cases in the data set.\n",
    "- The data set has 26 variables or columns.\n",
    "- Columns have a type of either `chr` (character), `num` (numeric or floating point number), or `int` (integer). \n",
    "\n",
    "### Summary statistics\n",
    "\n",
    "You can also learn a lot about a data set by looking at statistical summaries. The R `summary` function does just this. In this case you will only look at a subset of colums to keep the results manageable.\n",
    "\n",
    "$$mean = \\mu = \\frac{1}{n} \\Sigma_i x_i$$\n",
    "\n",
    "****\n",
    "**Note:** `summary` uses rounding conventions which are differennt from other R functions. Watch out!\n",
    "****\n",
    "\n",
    "Execute the code in the cell below and note the result."
   ]
  },
  {
   "cell_type": "code",
   "execution_count": null,
   "metadata": {
    "collapsed": false
   },
   "outputs": [],
   "source": [
    "auto.sub = auto.price[, c('wheel.base', 'curb.weight', 'engine.size', 'horsepower', 'city.mpg', 'price')]\n",
    "\n",
    "summary(auto.sub)"
   ]
  },
  {
   "cell_type": "markdown",
   "metadata": {},
   "source": [
    "This summary provides some useful information:\n",
    "\n",
    "- The minimum and maximum values of each variable are displayed.\n",
    "- The quantiles are shown; fist, second (median), third. Note that the upper interquartile ranges are different from the lower IQR, indicating the distributions are skewed. \n",
    "- The mean is displayed. Compare the mean and the median, noting that the are often quite different. Again this is a sign of a skewed distribution. "
   ]
  },
  {
   "cell_type": "markdown",
   "metadata": {},
   "source": [
    "Next, compute the standard deviation of the numeric columns. The standard deviation is a measure of the dispursion of a distribution defined as:\n",
    "\n",
    "$$sd = \\sigma = \\frac{1}{1-n} \\Sigma_i (\\mu - x_i)^2$$\n",
    "\n",
    "The code below applies the `sd` function to each of the columns of the data frame `auto.sub`. Since a data frame is a list, the `lapply` function is used to iterate the `sd` function over the list.  \n",
    "\n",
    "Execute this code and examine the result."
   ]
  },
  {
   "cell_type": "code",
   "execution_count": null,
   "metadata": {
    "collapsed": false
   },
   "outputs": [],
   "source": [
    "lapply(auto.sub, sd)"
   ]
  },
  {
   "cell_type": "markdown",
   "metadata": {},
   "source": [
    "### Examine the data frames\n",
    "\n",
    "Next, let's look at the first and last few lines of the data frame using the `head` and `tail` functions. Execute the code in the cells below to examine the first and last few rows of the data frame."
   ]
  },
  {
   "cell_type": "code",
   "execution_count": null,
   "metadata": {
    "collapsed": false
   },
   "outputs": [],
   "source": [
    "head(auto.price, n =10)"
   ]
  },
  {
   "cell_type": "code",
   "execution_count": null,
   "metadata": {
    "collapsed": false
   },
   "outputs": [],
   "source": [
    "tail(auto.price)"
   ]
  },
  {
   "cell_type": "markdown",
   "metadata": {},
   "source": [
    "### Frequency tables\n",
    "\n",
    "The summary techniques we have used so far are suitable only for numeric variables. Categorical variables have values which are typically unordered. Therefore, we need a method to summrize categorical based on counts.  \n",
    "\n",
    "The R `table` function lets you create a fequency table. The frequency table shows the count of each category of the variable. Execute the following code to show the number of cars in the data set by unique manufacturer."
   ]
  },
  {
   "cell_type": "code",
   "execution_count": null,
   "metadata": {
    "collapsed": false
   },
   "outputs": [],
   "source": [
    "table(auto.price$make)"
   ]
  },
  {
   "cell_type": "markdown",
   "metadata": {},
   "source": [
    "Examine this data. Notice that some manufactures like alfa-romero and chevrolet have only three cars types in the sample. Toyota has the most cars in this sample. \n",
    "\n",
    "Or, you can look at the frquency of a combination of two categorical variables. Execute the code in the cell below and examine the results:"
   ]
  },
  {
   "cell_type": "code",
   "execution_count": null,
   "metadata": {
    "collapsed": false
   },
   "outputs": [],
   "source": [
    "table(auto.price$make, auto.price$fuel.type)"
   ]
  },
  {
   "cell_type": "markdown",
   "metadata": {},
   "source": [
    "Notice there are quite a few zeros in the frequency tables. \n",
    "\n",
    "With more than two table variables, multiple tables are displayed. Execute the code in the cell below and examine the result. "
   ]
  },
  {
   "cell_type": "code",
   "execution_count": null,
   "metadata": {
    "collapsed": false
   },
   "outputs": [],
   "source": [
    "table(auto.price$make, auto.price$fuel.type, auto.price$aspiration)"
   ]
  },
  {
   "cell_type": "markdown",
   "metadata": {},
   "source": [
    "**Your turn!** In the cell below, create and execute the code to create a frequency table of autos by body type and number of doors."
   ]
  },
  {
   "cell_type": "code",
   "execution_count": null,
   "metadata": {
    "collapsed": false
   },
   "outputs": [],
   "source": []
  },
  {
   "cell_type": "markdown",
   "metadata": {},
   "source": [
    "### Covariance and correlation\n",
    "\n",
    "Now, you will work with the correlations between the numberic variables.  Covariance is defined as follows:\n",
    "\n",
    "$$cov(x,y) = E((x - \\mu_x) (y - \\mu_y))$$\n",
    "\n",
    "Pearson correlation is similar to covariancec, but with normalization by the variance, and is defined as follows: \n",
    "\n",
    "$$cor(x,y) = \\frac{E((x - \\mu_x) (y - \\mu_y))}{\\sigma_x \\sigma_y}$$\n",
    "\n",
    "There are also non-parametric measures of correlation. One of widely used non-parametric method is Kendal's rank correlation. The Kendal correlation counts the number of values which have the same sign (concordant) and with the oposite sign (discordant). As a rank or non-parametric method, Kendal correlation is robust to outliers. Kendal's rank correlation can be computed as follows:\n",
    "\n",
    "$$\\tau = \\frac{\\Sigma concordant\\ pairs - \\Sigma disconcordant\\ pairs}{n(n-1)/2}$$\n",
    "\n",
    "Execute the code in the cell below to compute the Pearson correlation for a subset of the data frame. "
   ]
  },
  {
   "cell_type": "code",
   "execution_count": null,
   "metadata": {
    "collapsed": false
   },
   "outputs": [],
   "source": [
    "cov(auto.sub)"
   ]
  },
  {
   "cell_type": "markdown",
   "metadata": {},
   "source": [
    "Next, compute the correlation matrix by executing the code in the cell below. "
   ]
  },
  {
   "cell_type": "code",
   "execution_count": null,
   "metadata": {
    "collapsed": false
   },
   "outputs": [],
   "source": [
    "cor(auto.sub)"
   ]
  },
  {
   "cell_type": "markdown",
   "metadata": {},
   "source": [
    "The covariance is a bit hard to interpret since the variables are not normalized. The numberic ranges of the variables are quite different, leading to a large range of covariance values. \n",
    "\n",
    "The correlation matrix is a bit easier to understand, since there is a normalization of the values. The diagonal values of the correlation matrix are all 1.0, as a result of the normalization. The magnitudes of the correlation values between the variables exhibit a significant range. \n",
    "\n",
    "Some pairs of variables are weakly correlated, with small magnitueds. For example, wheel **base** and **horsepower** are weeky correlated. Other pairs of variables are strongly correlated. For example **engine size** and **curb weight** are strongly correlated. "
   ]
  },
  {
   "cell_type": "markdown",
   "metadata": {},
   "source": [
    "## Exploration and Visualization of Data\n",
    "\n",
    "### Why visualization?\n",
    "\n",
    "Visualization is an essential method in any data scientist’s toolbox. Visualization is a key first step in the exploration of most data sets. As a general rule, you should never start creating models until you have examined the data and understand the relationships. Otherwise, you risk wasting your time creating models blindly. Visualization is also a powerful tool for presentation of results and for determining sources of problems with analytics. \n",
    "\n",
    "The concepts of exploring a data set visually were pioneered by John Tukey in the 1960s and 1970s. Tukey consolidated his many ideas on data exploration into a book in the late 1970s, ***John Tukey, Exploratory Data Analysis, 1977, Addison-Westley***.\n",
    "\n",
    "![](img/Tukey.jpg)\n",
    "\n",
    "Bill Cleveland documented his seminal work in visualization of complex data sets in his book, ***William S. Cleveland, Visualizing Data, 1993, Hobart Press***.\n",
    "\n",
    "![](img/Cleveland.jpg)\n",
    "\n",
    "The key concept of exploratory data analysis (EDA) or visual exploration of data is to understand the relationships in the data set. Specifically using visualization when you approach a new data set you can:\n",
    "\n",
    "- Explore complex data sets, using visualization to develop understanding of the inherent relationships.\n",
    "- Use different chart types to create multiple views of data to highlight different aspects of the inherent relationships.\n",
    "- Use plot aesthetics to project multiple dimensions. \n",
    "- Apply conditioning or faceting methods to project multiple dimensions\n",
    "\n",
    "\n"
   ]
  },
  {
   "cell_type": "markdown",
   "metadata": {},
   "source": [
    "### Why ggplot2?\n",
    "\n",
    "The R ggplot2 package is a powerful visualizatiton and presentation graphics package. With ggplot2 you cana explore complex relationships in a data set. Furthermore, you can use ggplot2 to to create presentation graphics for your coleagues, your boss and your instructor! \n",
    "\n",
    "The ggpolot2 package has excellent documentation. The documentation includes numerous examples. The ggplot2 documentation has [comprehensive index](http://docs.ggplot2.org/current/). The [ggplot2 Cheat Sheet](https://www.rstudio.com/wp-content/uploads/2015/03/ggplot2-cheatsheet.pdf) is another excellent resource. \n",
    "\n",
    "The [R Graphics Cookbook](http://shop.oreilly.com/product/0636920023135.do) by Winston Chang, published by O'Reilly, is an excelent resource for learninng ggplot2 in depth. \n",
    "\n",
    "![](img/Chang.jpg)"
   ]
  },
  {
   "cell_type": "markdown",
   "metadata": {},
   "source": [
    "### Basic chart types\n",
    "\n",
    "Now that you have loaded and had a first look at the data, its time to get to work making some charts. \n",
    "\n",
    "There are enumerable chart types that are used for data exploration. In this tutorial you will work with the most used chart types:\n",
    "\n",
    "- **Bar plots**\n",
    "- **Histograms**\n",
    "- **Box plots**\n",
    "- **Kernel Density Estimation Plots**\n",
    "- **Violin plots**\n",
    "- **Scatter plot**\n",
    "- **2d Kernel Density Plots**\n",
    "- **Hexbin plots**\n",
    "- **Line plots**\n",
    "\n",
    "The following exercises give you some practice using these chart types. "
   ]
  },
  {
   "cell_type": "markdown",
   "metadata": {},
   "source": [
    "### Bar plots\n",
    "\n",
    "Bar plots are used to display the counts or frequency of unique values of a categorical variable. The height of the bar represents the count for each unique category of the variable. \n",
    "\n",
    "The code below uses ggplot2 to create the bar plot. The `ggplot` function defines the data frame and the x and y column(s) to be plotted. The plot type is defined by these function `geom_bar`. The `+` operator chains the functions. \n",
    "\n",
    "Execute this code to create the bar plot."
   ]
  },
  {
   "cell_type": "code",
   "execution_count": null,
   "metadata": {
    "collapsed": false
   },
   "outputs": [],
   "source": [
    "require(ggplot2)\n",
    "ggplot(auto.price, aes(body.style)) + ## Specify the data frame and columns. Note the + chain operator\n",
    "     geom_bar()  ## Fuction for the plot type"
   ]
  },
  {
   "cell_type": "markdown",
   "metadata": {
    "collapsed": true
   },
   "source": [
    "From this display you can see that sedan is the most frequent body type and convertible the list fequent. \n",
    "\n",
    "It would be easier to understand this plot if the frequencies of the categories were ordered. Further, if there are a large number of categories rotating the text would help quite a bit. The code in the cell below performs both of these operations. Notice that an additional chaining operator, `+`, is used to add the additional text theme attribute. \n",
    "\n",
    "Execute the code in the cell below to create an ordered bar plot."
   ]
  },
  {
   "cell_type": "code",
   "execution_count": null,
   "metadata": {
    "collapsed": false
   },
   "outputs": [],
   "source": [
    "ggplot(auto.price, aes(x=reorder(body.style,body.style, function(x) -length(x)))) + ## Function shorts the bars\n",
    "                         geom_bar() + \n",
    "                         theme(axis.text.x = element_text(angle = 90, hjust = 1)) ## Theme function for conrol"
   ]
  },
  {
   "cell_type": "markdown",
   "metadata": {},
   "source": [
    "**Your turn!** In the cell below, create and execute the code to create a bar chart of the number of doors. "
   ]
  },
  {
   "cell_type": "code",
   "execution_count": null,
   "metadata": {
    "collapsed": false,
    "scrolled": true
   },
   "outputs": [],
   "source": []
  },
  {
   "cell_type": "markdown",
   "metadata": {},
   "source": [
    "### Histograms\n",
    "\n",
    "Histograms are related to bar plots. Histograms are used for numeric variables. Whereas, a bar plot shows the counts of unique categories, a histogram shows the number of data with values in each bin. The bins divide the values of the variable into equal segments. The vertical axis of the histogram shows the count of data values within each bin.  \n",
    "\n",
    "Execute the code in the cell below to create a histogram using the `geom_histogram` function. "
   ]
  },
  {
   "cell_type": "code",
   "execution_count": null,
   "metadata": {
    "collapsed": false
   },
   "outputs": [],
   "source": [
    "ggplot(auto.price, aes(price)) + geom_histogram() + \n",
    "       ggtitle('Histogram of auto price')"
   ]
  },
  {
   "cell_type": "markdown",
   "metadata": {},
   "source": [
    "The histogram shows that the price of automobiles are skewed toward the lower end, with only a few high priced autos."
   ]
  },
  {
   "cell_type": "markdown",
   "metadata": {},
   "source": [
    "### Box plots\n",
    "\n",
    "Box plots, also known as box and wisker plots, were introduced by John Tukey in 1970. Box plots are another way to visualize the distribution of data values. In this respect, box plots are comparable to histograms, but are quite different in presentation. \n",
    "\n",
    "A diagram showing the interpretation of a box plot is shown in the figure below.\n",
    "\n",
    "![Interpretation of a box plot](BoxPlot.png)\n",
    "\n",
    "On a box plot the median value is shown with a dark bar. The inner two qartiles of data values are contained within the 'box'. The 'wiskers' enclose the majority of the data, at +/-2.5 times the inter-quartile range. Outliers are shown by symbols beyond the wiskers.\n",
    "\n",
    "Several box plots can be stacked along an axis. The data are divided using a 'group by' operation, and the box plots for each group are stacked next to each other. In this way, the box plot allows you to display two dimensions of your data set. \n",
    "\n",
    "Execute the code in the cell below to create a box plot of the price of the automobiles."
   ]
  },
  {
   "cell_type": "code",
   "execution_count": null,
   "metadata": {
    "collapsed": false
   },
   "outputs": [],
   "source": [
    "ggplot(auto.price, aes(x = factor(0), y = price)) + geom_boxplot()"
   ]
  },
  {
   "cell_type": "markdown",
   "metadata": {},
   "source": [
    "Box plots are most useful when the data are subdivided using another variable. In ggolot2 the you can add an x variable of type factor to perform this group by operation. Execute the code below to display the box plots of price grouped by the `fule.type` variable."
   ]
  },
  {
   "cell_type": "code",
   "execution_count": null,
   "metadata": {
    "collapsed": false
   },
   "outputs": [],
   "source": [
    "ggplot(auto.price, aes(x = factor(fuel.type), y = price)) + geom_boxplot() + \n",
    "    xlab('Fuel type') + ggtitle('Price by Fuel Type')"
   ]
  },
  {
   "cell_type": "markdown",
   "metadata": {
    "collapsed": true
   },
   "source": [
    "Examine these box plots and note the following:\n",
    "\n",
    "- The median price of gas autos is less than the the median price for diesel autos.\n",
    "- There is considerable overlap between the interquartile ranges of the price distributions of gas and diesel autos. "
   ]
  },
  {
   "cell_type": "markdown",
   "metadata": {},
   "source": [
    "**Your turn!** In the cell below create and execute the code to display a box plot of auto price grouped by body style. "
   ]
  },
  {
   "cell_type": "code",
   "execution_count": null,
   "metadata": {
    "collapsed": false
   },
   "outputs": [],
   "source": []
  },
  {
   "cell_type": "markdown",
   "metadata": {},
   "source": [
    "### Kernel density estimation plots\n",
    "\n",
    "You have used two methods for visualizing distributions. Now, you will look at another method, kernel density estimation. Kernel density estimation uses a moving denisty kernel to average the density of the distribution. Execute the code in the cell below to compute and plot a kernel density estimate of auto price. "
   ]
  },
  {
   "cell_type": "code",
   "execution_count": null,
   "metadata": {
    "collapsed": false,
    "scrolled": true
   },
   "outputs": [],
   "source": [
    "ggplot(auto.price, aes(price)) + geom_density()"
   ]
  },
  {
   "cell_type": "markdown",
   "metadata": {},
   "source": [
    "Examine this plot. Notice that the distribution is heavily skewwed to the left or low side. "
   ]
  },
  {
   "cell_type": "markdown",
   "metadata": {},
   "source": [
    "### Violin plots\n",
    "\n",
    "Violin plots are a useful, and relatively new, plot type. The violin plot combines some attributes of a kernal density plot and the box plot. The violin plot shows a pair of symetric kernel desity plot. Like a box plot, the violin plot can be conditioned on a categorical (factor) variable. \n",
    "\n",
    "The code in the cell below creates a violin plot of auto price, grouped by fuel type. Some attributes have been added to show quantiles with the `draw_quantiles` attribute. Additionally, the `trim` attribute adds wiskers to show outliers. Execute this code to create the plot. "
   ]
  },
  {
   "cell_type": "code",
   "execution_count": null,
   "metadata": {
    "collapsed": false
   },
   "outputs": [],
   "source": [
    "ggplot(auto.price, aes(x = factor(fuel.type), y = price)) + \n",
    "    geom_violin(trim = TRUE, draw_quantiles = c(0.25, 0.5, 0.75)) +\n",
    "    xlab('Fuel type')  + ggtitle('Price by Fuel Type')"
   ]
  },
  {
   "cell_type": "markdown",
   "metadata": {},
   "source": [
    "The violin plot shows much the same information as the box plots you created earlier. However, the violin plot shows some additional details of the distributions. "
   ]
  },
  {
   "cell_type": "markdown",
   "metadata": {},
   "source": [
    "**Your turn!** In the cell below create and execute the code to display a violin of auto price grouped by body style. "
   ]
  },
  {
   "cell_type": "code",
   "execution_count": null,
   "metadata": {
    "collapsed": false
   },
   "outputs": [],
   "source": []
  },
  {
   "cell_type": "markdown",
   "metadata": {},
   "source": [
    "## Scatter plots\n",
    "\n",
    "A basic scatter plot shows the relationship between two variables. Points are ploted at the x-y coordinates of each value pair. \n",
    "\n",
    "Execute the code in the cell below to create a scatter plot of city MPG on the horizontal axis vs. auto price on the vertical axis. "
   ]
  },
  {
   "cell_type": "code",
   "execution_count": null,
   "metadata": {
    "collapsed": false
   },
   "outputs": [],
   "source": [
    "ggplot(auto.price, aes(x = city.mpg, y = price)) + geom_point() + \n",
    "    xlab('City MPG') + ylab('Price') + \n",
    "    ggtitle('Relationship between City MPG and Price')"
   ]
  },
  {
   "cell_type": "markdown",
   "metadata": {},
   "source": [
    "The scatter plot shows the relationship between price and city MPG. The relationship is rather complex, with several regions, which seem isolated from one another. "
   ]
  },
  {
   "cell_type": "markdown",
   "metadata": {},
   "source": [
    "**Your turn!** In the cell below create and execute the code to display a scatter plot of the the city mpg vs horsepower. "
   ]
  },
  {
   "cell_type": "code",
   "execution_count": null,
   "metadata": {
    "collapsed": false
   },
   "outputs": [],
   "source": []
  },
  {
   "cell_type": "markdown",
   "metadata": {},
   "source": [
    "### 2D kernel density plot\n",
    "\n",
    "A 2 dimensional kernel density plot works much like the 1 dimensional version we have already explored. A useful application is to overlay the 2D kernel density plot on a scatter plot. Execute the code below to create the plot."
   ]
  },
  {
   "cell_type": "code",
   "execution_count": null,
   "metadata": {
    "collapsed": false
   },
   "outputs": [],
   "source": [
    "ggplot(auto.price, aes(city.mpg, price)) + geom_point() + \n",
    "    geom_density2d() +\n",
    "    xlab('City MPG') + ylab('Price') +\n",
    "    ggtitle('Relationship between City MPG and Price')"
   ]
  },
  {
   "cell_type": "markdown",
   "metadata": {},
   "source": [
    "The 2D kernel density estimate is shown using contours in this case. Other options are available. \n",
    "\n",
    "The 2D kernel density plot highlights the fact that the relationship betwen city MPG and price has multiple clusters of concentration. The groups of outliers are even more promenent than before. "
   ]
  },
  {
   "cell_type": "markdown",
   "metadata": {},
   "source": [
    "### Hexbin plot\n",
    "\n",
    "When you have a large number of data points to plot, over-plotting becomes a significant problem. When over-plotting occurs it is impossible to tell how many points are on top of each other. Several methods are available to deal with server overplotting.You have already explored one method for dealing with high point density, countour plotting. \n",
    "\n",
    "Now, you will explore hexbin plots. Hexbin point density within hexagonal regions. The plot area can be divided into a selected number of bins both vertically or horizontally. Very high point density can be displayed with a hexbin plot. \n",
    "\n",
    "Execute the code below to create a hexbin plot of auto price vs. city MPG."
   ]
  },
  {
   "cell_type": "code",
   "execution_count": null,
   "metadata": {
    "collapsed": false
   },
   "outputs": [],
   "source": [
    "ggplot(auto.price, aes(city.mpg, price)) + \n",
    "    stat_binhex(bins = 10) +\n",
    "    xlab('City MPG') + ylab('Price') +\n",
    "    ggtitle('Relationship between City MPG and Price')"
   ]
  },
  {
   "cell_type": "markdown",
   "metadata": {},
   "source": [
    "Examine this plot noticing the following:\n",
    "\n",
    "- There are a large number of autos with low price and fuel economy of abouot 30 MPG. Some cells to the left at low price also show a concentration of autos.  \n",
    "- Some outliers are clearly visible in the lower right and upper left. Some of these cells contain only one data point. "
   ]
  },
  {
   "cell_type": "markdown",
   "metadata": {},
   "source": [
    "**Your turn!** In the cell below create and execute the code to display a hexbin plot of the the city mpg vs horsepower. "
   ]
  },
  {
   "cell_type": "code",
   "execution_count": null,
   "metadata": {
    "collapsed": false
   },
   "outputs": [],
   "source": []
  },
  {
   "cell_type": "code",
   "execution_count": null,
   "metadata": {
    "collapsed": false
   },
   "outputs": [],
   "source": [
    "ggplot(auto.price, aes(city.mpg, horsepower)) + geom_point() + \n",
    "    geom_density2d() +\n",
    "    xlab('City MPG') + ylab('Horsepower') +\n",
    "    ggtitle('Relationship between City MPG and Horsepower')"
   ]
  },
  {
   "cell_type": "markdown",
   "metadata": {},
   "source": [
    "### Heat maps\n",
    "\n",
    "A heat map or raster plot allows you to visualize data which is natually arranged on a regular grid or lattice. The heat map uses colors to show the values, or heat, on the grid. Data arranged on a lattice is fairly common in many areas including, spatial analysis, image analysis, and correlation analysis. \n",
    "\n",
    "You will now create a heatmap using some sample data. These data were collected from erruptions of the Old Faithful geyser. Execute the code below to plot a heat map for these data. "
   ]
  },
  {
   "cell_type": "code",
   "execution_count": null,
   "metadata": {
    "collapsed": false
   },
   "outputs": [],
   "source": [
    "str(faithfuld)\n",
    "ggplot(faithfuld, aes(waiting, eruptions)) +\n",
    " geom_point(aes(size = density), alpha = 0.3) +\n",
    " ggtitle('Erruption time vs. waiting time for Old Faithful geyser') +\n",
    " xlab('Waiting time') + ylab('Erruption time')"
   ]
  },
  {
   "cell_type": "markdown",
   "metadata": {},
   "source": [
    "Examine the plot. Notice that there appear to be two clusters, but otherwise, the plot above is hard to interpret. This is largely a result of over-plotting. \n",
    "\n",
    "Next, execute the code in the cell below to display these data with a heat or raster plot. "
   ]
  },
  {
   "cell_type": "code",
   "execution_count": null,
   "metadata": {
    "collapsed": false
   },
   "outputs": [],
   "source": [
    "ggplot(faithfuld, aes(waiting, eruptions)) +\n",
    " geom_raster(aes(fill = density)) +\n",
    " ggtitle('Erruption time vs. waiting time for Old Faithful geyser') +\n",
    " xlab('Waiting time') + ylab('Erruption time')"
   ]
  },
  {
   "cell_type": "markdown",
   "metadata": {},
   "source": [
    "The heat map clearly shows the two clusters of erruption and waiting times. "
   ]
  },
  {
   "cell_type": "markdown",
   "metadata": {
    "collapsed": true
   },
   "source": [
    "### Line plots\n",
    "\n",
    "Line plots are used to show the relationship between variables with ordered values. For example, line plots are used for time series data.\n",
    "\n",
    "As a first step, you will create a pair of variables with ordered values by executing the code in the cell below."
   ]
  },
  {
   "cell_type": "code",
   "execution_count": null,
   "metadata": {
    "collapsed": true
   },
   "outputs": [],
   "source": [
    "x = seq(1, 100, length.out = 100)\n",
    "df = data.frame(x = x, y = x^2)"
   ]
  },
  {
   "cell_type": "markdown",
   "metadata": {},
   "source": [
    "Now, create a line plot of these data by executing the code below. "
   ]
  },
  {
   "cell_type": "code",
   "execution_count": null,
   "metadata": {
    "collapsed": false
   },
   "outputs": [],
   "source": [
    "ggplot(df, aes(x, y)) + geom_line() + ggtitle('Line plot of x vs. y')"
   ]
  },
  {
   "cell_type": "markdown",
   "metadata": {},
   "source": [
    "## View multiple dimensions with aesthetics\n",
    "\n",
    "You have explored some basic plot types. All the plots you have created are projected onto a two dimensional surface. Thus, you have been limited to visualization of only two dimensions of the data set. \n",
    "\n",
    "Now, you will use plot aesthetics to view additional dimensions of the data set. Specific aesthetics are used to project additonal dimensions onto a two dimensional plot surface. Additionally, carefull choice of plot aesthetics can highlight certain aspects of a data set you wish to present.   \n",
    "\n",
    "There are many possible aesthetics one can use for visualization. Specific examples you will work with here include:\n",
    "\n",
    "- Color\n",
    "- Transparency\n",
    "- Size\n",
    "- Marker shape\n",
    "- aspect ratio\n",
    "- Aesthetics specific to plot type\n",
    "\n",
    "Using aesthetics with a bit of cleverness can lead to interesting insights about a data set. Don't over do it! Too many colors, shapes and sizes can be confusing, obfuscating rather than enlightening. "
   ]
  },
  {
   "cell_type": "markdown",
   "metadata": {},
   "source": [
    "### Color\n",
    "\n",
    "Color can be used to view an additional dimension on a scatter plot. A categorical factor can be shown using different colors for the different categories. \n",
    "\n",
    "*****\n",
    "**Caution!** Make sure you use choose a palette with distinctive colors for each cateogry. Too many categories using similar colors are invariably hard to see and imposible to interpret. \n",
    "****\n",
    "\n",
    "Execute the code in the cell below to display **fuel.type** and a factor using the ``color`` argument in `aes`. "
   ]
  },
  {
   "cell_type": "code",
   "execution_count": null,
   "metadata": {
    "collapsed": false
   },
   "outputs": [],
   "source": [
    "ggplot(auto.price, aes(city.mpg, price)) + geom_point(aes(color = factor(fuel.type))) + \n",
    "    xlab('City MPG') + ylab('Price') + \n",
    "    ggtitle('Relationship between City MPG and Price, \\n with gas and disel fuel shown')"
   ]
  },
  {
   "cell_type": "markdown",
   "metadata": {},
   "source": [
    "You can now see the seperation between the gas and disel autos. In the above plot we can see that a diesel car is generally more costly at a given fuel efficiency. You can also see that all of the least efficient and most expensive cars have gas engines."
   ]
  },
  {
   "cell_type": "markdown",
   "metadata": {},
   "source": [
    "### Transparency\n",
    "\n",
    "In the scatter plot above, notice there are areas on the plot with dense clusters of points. In particular, there are overlapping points for gas cars with city mpg between 19 and 31 (mpg is apparently reported in integer units). \n",
    "\n",
    "Because of the 'over-plotting' effect it is hard to see just how many cars are represented in some regions of the plot. Transparency, is a useful aesthetic to overcome over-plotting. Transparency is defined on a scale from 0 (completely transparent, or invisible) to 1 (perfectly opaque). By choosing reasonable transparency values, you can get a feel for how many points are clustered in a small area of a plot. \n",
    "\n",
    "The code in the cell below follows the aforementioned recipe. A transparency argument, ``alpha``, has been added to the `geom_point` function. Execute this code and examine the result. "
   ]
  },
  {
   "cell_type": "code",
   "execution_count": null,
   "metadata": {
    "collapsed": false
   },
   "outputs": [],
   "source": [
    "ggplot(auto.price, aes(city.mpg, price)) + geom_point(aes(color = factor(fuel.type)), alpha = 0.3) + \n",
    "    xlab('City MPG') + ylab('Price') + \n",
    "    ggtitle('Relationship between City MPG and Price, \\n with gas and disel fuel shown')"
   ]
  },
  {
   "cell_type": "markdown",
   "metadata": {},
   "source": [
    "With the transparency set to 0.3, you can now better see the density of autos in areas of the plot with significant overplotting. Notice, how changing this aesthetic changes your view of the distribution of data on the city mpg versus price projection. Most gas cars are clustered in a farily small range of price and fuel efficiency."
   ]
  },
  {
   "cell_type": "markdown",
   "metadata": {
    "collapsed": true
   },
   "source": [
    "### Marker size\n",
    "\n",
    "Another aesthetic which can project an additional dimension onto a two dimensional plot is marker size. Execute the code in the cell below which uses the size of the marker to indicate engine size. "
   ]
  },
  {
   "cell_type": "code",
   "execution_count": null,
   "metadata": {
    "collapsed": false
   },
   "outputs": [],
   "source": [
    "ggplot(auto.price, aes(city.mpg, price)) + geom_point(aes(color = factor(fuel.type), size = engine.size), alpha = 0.3) + \n",
    "    xlab('City MPG') + ylab('Price') + \n",
    "    ggtitle('Relationship between City MPG and Price, \\n with gas and disel fuel shown, \\n with marker area indicating engine size')"
   ]
  },
  {
   "cell_type": "markdown",
   "metadata": {},
   "source": [
    "Examine the above plot noticing the different marker sizes. With larger markers, setting transparency is more necessary than ever. \n",
    "\n",
    "You may notice that the difference in engine size is not always apparent in the above plot. Using marker size can be a bit tricky. Another option is to use the square of the value being projected to determine marker size. The area of the marker is then proportional to the value of interest, rather than the less noticeable marker size. \n",
    "\n",
    "Execute the code in the cell below which uses the square of engine size to determine marker size.  "
   ]
  },
  {
   "cell_type": "code",
   "execution_count": null,
   "metadata": {
    "collapsed": false
   },
   "outputs": [],
   "source": [
    "auto.price$engine.size2 = auto.price$engine.size^2\n",
    "ggplot(auto.price, aes(city.mpg, price)) + geom_point(aes(color = factor(fuel.type), size = engine.size2), alpha = 0.3) + \n",
    "    xlab('City MPG') + ylab('Price') + \n",
    "    ggtitle('Relationship between City MPG and Price, \n",
    "             \\n with gas and disel fuel shown, \n",
    "             \\n with marker radius indicating engine size')"
   ]
  },
  {
   "cell_type": "markdown",
   "metadata": {},
   "source": [
    "Examine the above plot. Notice that the differences in engine size are much more apparent when we use area to determine marker size. The fact that the most expensive and least fule efficient cars have the largest engines is now quite apparent."
   ]
  },
  {
   "cell_type": "markdown",
   "metadata": {},
   "source": [
    "### Marker shape\n",
    "\n",
    "Marker shape can be used to project an additonal dimension onto a two dimensional plotting surface. Typically, different marker shapes are used to indicate the categories of a categorical variable. As with other aesthetics, don't over do it. Too many similar markers on a chart will only obfuscate the relationships you are trying to show. \n",
    "\n",
    "Execute the code in the cell below which uses different marker shapes to indicate standard and turbo aspiration cars. "
   ]
  },
  {
   "cell_type": "code",
   "execution_count": null,
   "metadata": {
    "collapsed": false
   },
   "outputs": [],
   "source": [
    "ggplot(auto.price, aes(city.mpg, price)) + geom_point(aes(color = factor(fuel.type), size = engine.size2, \n",
    "                                                      shape = factor(aspiration)), alpha = 0.3) + \n",
    "    xlab('City MPG') + ylab('Price') + \n",
    "    ggtitle('Relationship between City MPG and Price, \\n with gas and disel fuel shown, \n",
    "              \\n with marker radius indicating engine size \\n and shape showing aspiration')"
   ]
  },
  {
   "cell_type": "markdown",
   "metadata": {},
   "source": [
    "The above plot projects five dimensions onto the two dimensional plot surface: price, city mpg, engine size, aspiration type, and fuel type. It takes some time and effort to fully understand all of the information provided. \n",
    "\n",
    "Some conclusions we can draw from the chart above include:\n",
    "\n",
    "- The most expensive cars have larger, standard aspiration, gas engines. \n",
    "- Most diesel cars use tubo aspiration and these tend to be more expensive. \n",
    "- Turbo aspiration gas engine cars are in the low range of fuel efficiency, but in the middle of the price range. \n",
    "- Some lower cost cars have large gas engines. "
   ]
  },
  {
   "cell_type": "markdown",
   "metadata": {},
   "source": [
    "**Your turn!** In the cell below create and execute the code to display a scatter plot of the the city mpg vs horsepower, using a low alpha value, color for aspiration, shape for  fuel type, and size for engine size. "
   ]
  },
  {
   "cell_type": "code",
   "execution_count": null,
   "metadata": {
    "collapsed": false
   },
   "outputs": [],
   "source": []
  },
  {
   "cell_type": "markdown",
   "metadata": {},
   "source": [
    "### Aspect ratio\n",
    "\n",
    "The aspect ratio of a plot is the ratio of the horizontal dimension to the vertical dimension. Changes in aspect ratio of a plot can have a significant effect on which aspects of a data set are most noticable. The correct aspect ratio can highlight important aspects of a relationship. On the other hand, choosing a poor aspect ratio can obfuscate important aspects of the data. \n",
    "\n",
    "In the example below, a time series plot of the sunspot intensity is ploted. The `options` function from the `repr` package is a handy way to set the height and width of a plot. Initially we create a plot of the sunspot activity with an aspect ratio of 4:3. \n",
    "\n",
    "Execute the code below and examine the result. "
   ]
  },
  {
   "cell_type": "code",
   "execution_count": null,
   "metadata": {
    "collapsed": false
   },
   "outputs": [],
   "source": [
    "require(datasets)\n",
    "require(repr)\n",
    "options(repr.plot.width=8, repr.plot.height=6)\n",
    "plot(sunspot.month, main = 'Monthly sunspot intensity', ylab = 'Sunspot intensity')"
   ]
  },
  {
   "cell_type": "markdown",
   "metadata": {},
   "source": [
    "The periodic nature of the well-known sunspot cycle is clearly visible in the plot. But, how does our perception of these data change with the changing aspect ratio? \n",
    "\n",
    "Execute the code below to create the same plot, but with a larger aspect ration: 16:5. "
   ]
  },
  {
   "cell_type": "code",
   "execution_count": null,
   "metadata": {
    "collapsed": false
   },
   "outputs": [],
   "source": [
    "options(repr.plot.width=8, repr.plot.height=2.5)\n",
    "plot(sunspot.month, main = 'Monthly sunspot intensity', ylab = 'Sunspot intensity')"
   ]
  },
  {
   "cell_type": "markdown",
   "metadata": {},
   "source": [
    "Compare this plot to the previous one. Notice that in the lower aspect ratio plot you can now see that the sunspot intensity increases quickly, and dies off slowly for most cycles. This behavior was not visible before. "
   ]
  },
  {
   "cell_type": "markdown",
   "metadata": {},
   "source": [
    "## Plot specific aesthetics \n",
    "\n",
    "You have used some fairly general aesthetics to bring forth relationships in the dataset. You will now explore some additional aesthetics, which tend to be more chart type specific. \n",
    "\n",
    "You have already invesigated some plot specifific asthetics:\n",
    "\n",
    "- Using a conditioning variable with a box plot or violin plot.\n",
    "- Adding quantile lines to a violin plot.\n",
    "\n",
    "### Histogram bins\n",
    "\n",
    "As another example, you will examine the effect of changing the number of bins in a histogram. The code below plots the histogram of engine size using different numbers of bins; 20 bins and 50 bins. \n",
    "\n",
    "This is also the first time you have placed multiple sets of axes on the same figure. The first line of code defines two subplots in one row on the figure. The `grid.arrange` function from the `gridextra` package is used to arrage the two plots, side by side. \n",
    "\n",
    "Execute the code below to create the two histograms and compare the  results. "
   ]
  },
  {
   "cell_type": "code",
   "execution_count": null,
   "metadata": {
    "collapsed": false
   },
   "outputs": [],
   "source": [
    "options(repr.plot.width=6, repr.plot.height=6)\n",
    "bw1 = (max(auto.price$price) - min(auto.price$price))/20\n",
    "bw2 = (max(auto.price$price) - min(auto.price$price))/50\n",
    "require(gridExtra)\n",
    "p1 = ggplot(auto.price, aes(price)) + geom_histogram(binwidth = bw1) + \n",
    "        ggtitle('Histogram of auto price with 20 bins')\n",
    "p2 = ggplot(auto.price, aes(price)) + geom_histogram(binwidth = bw2) + \n",
    "        ggtitle('Histogram of auto price with 60 bins')\n",
    "grid.arrange(p1, p2, nrow = 2)"
   ]
  },
  {
   "cell_type": "markdown",
   "metadata": {},
   "source": [
    "Notice that the histogram with 20 bins gives a smoother result, which may be better for obtaining an overall impression of the distribution. The histogram with 50 bins shows more detail, particularly for the outliers. "
   ]
  },
  {
   "cell_type": "markdown",
   "metadata": {},
   "source": [
    "### KDE operator bandwidth\n",
    "\n",
    "The bandwidth or span of the density kernel estimator can be adjusted to enhance or further smooth the density estimation. The `adjust` argument can be used to change the bandwidth of the density kernel, as shown in the code below. Execute the code below and compare the result to the previous example. "
   ]
  },
  {
   "cell_type": "code",
   "execution_count": null,
   "metadata": {
    "collapsed": false,
    "scrolled": true
   },
   "outputs": [],
   "source": [
    "ggplot(auto.price, aes(price)) + geom_density(adjust = 1/5)"
   ]
  },
  {
   "cell_type": "markdown",
   "metadata": {},
   "source": [
    "Compare this plot to the previously created KDE plot. Note the higher level of detail shown. However, it may be hard to tell if the curve shown represents important aspects of the data, or just noise. "
   ]
  },
  {
   "cell_type": "markdown",
   "metadata": {},
   "source": [
    "### Interpolation for heat map\n",
    "\n",
    "Notice that the heat map you previously ploted has a jagged or pixelated appearance. Performing interpolation on the plot can smooth the appearance. Execute the code in the cell below and compare the result to the previous heat map."
   ]
  },
  {
   "cell_type": "code",
   "execution_count": null,
   "metadata": {
    "collapsed": false
   },
   "outputs": [],
   "source": [
    "ggplot(faithfuld, aes(waiting, eruptions)) +\n",
    " geom_raster(aes(fill = density), interpolate = TRUE) +\n",
    " ggtitle('Erruption time vs. waiting time for Old Faithful geyser') +\n",
    " xlab('Waiting time') + ylab('Erruption time')"
   ]
  },
  {
   "cell_type": "markdown",
   "metadata": {},
   "source": [
    "The interpolated image now has a smother appearance. "
   ]
  },
  {
   "cell_type": "markdown",
   "metadata": {},
   "source": [
    "## Multi-axis and Facet Plots\n",
    "\n",
    "You have explored basic plot types and used aesthetics to project multiple dimensions onto basic plot types. Multi-axis plots project a sub-set of dimensions of a high-dimensional data set onto the two dimensional plot surface. Displaying a sub-set of dimensions onto two dimensions, projects the marginal distribution of the data onto the plot surface. \n",
    "\n",
    "Now, you will investige the use of multiple plot axes and a technique known as faceting. Multiple plot axes can be placed on the two dimensional plot surface. Faceting involves using values of categorical or ranges of numeric variables to create a grid of related plots. Faceting goes by several other monikers, including conditioned plotting or lattice plotting. In effect, the faceting or conditioning projects the conditional distribution of the data set. \n",
    "\n",
    "We will now explore several aspects of multi-axis plots: \n",
    "\n",
    "- Pairwise scatter plots\n",
    "- Correlation plots\n",
    "- Faceted plots\n"
   ]
  },
  {
   "cell_type": "markdown",
   "metadata": {},
   "source": [
    "### Pair wise scatter plots\n",
    "\n",
    "Pair wise plots, also know as plot matrices, allow you to view multiple dimensions of a data set on one plot. A scatter plot is shown of each variable versus all other variables, arranged in an array. Another type of plot, such as a KDE plot, can be shown for each pair of variables on the diagonal. Optionally, regression lines can be added to each scatter plot. \n",
    "\n",
    "R and the availble packages contain several good options for scatter plot matrices The code to create a pair wise scatter plot for certain variables, in the auto price data set is shown in the cell below. The recipe is:\n",
    "\n",
    "- Use the scatterplotMatrix function from the car package.\n",
    "- Use the formula notation to define the columns you wish to plot. The fomula is defined:\n",
    "$$\\sim var1 + var2 + \\ldots$$\n",
    "- Spcify the data frame. \n",
    "\n",
    "The scatter plot matrix contains a number of elements, which are useful for understanding the relationships in the data sets. \n",
    "\n",
    "- There are KDE plots for each variable along the diagonal of the matrix. \n",
    "- A pair of scatter plots for each variabe pair is displayed. These two scatter plots show the axes in both possible orientations.\n",
    "- A linear regression line is shown in green on each scatter plot. This regression line gives an indiction of trend.\n",
    "- A nonlinear regression line with confidence intervals is shown in red. The nonlinear regression line can highlight more complex relationships in the data set. The confidence intervals give some indication of the likely range of regression lines, given the uncertainty in the data.  "
   ]
  },
  {
   "cell_type": "code",
   "execution_count": null,
   "metadata": {
    "collapsed": false,
    "scrolled": true
   },
   "outputs": [],
   "source": [
    "options(repr.plot.width=8, repr.plot.height=8)\n",
    "require(car)\n",
    "scatterplotMatrix(~ wheel.base + curb.weight + engine.size + horsepower + city.mpg + price, data = auto.price)"
   ]
  },
  {
   "cell_type": "markdown",
   "metadata": {
    "collapsed": true
   },
   "source": [
    "There is a great deal of information on the above plot. Examine this plot, noticing at least the following:\n",
    "\n",
    "- The KDE plots of the variables generally show a skew to the left, or lowere values.\n",
    "- Several of the variabes have a fairly linear relationship. For example, the relationships between wheel base, curb weight and engine size.\n",
    "- Other relationships are clearly nonliner. For example, the relationships between price and city MPG and city MPG, and housepower. \n",
    "- Other relationships are less clear cut. For example, the relationship between price and horsepower, or price and wheelbase. "
   ]
  },
  {
   "cell_type": "markdown",
   "metadata": {},
   "source": [
    "### Correlation plots\n",
    "\n",
    "The correlation structure of a multivariate data set can provide some useful insight. However, it is hard to derive much insight by just looking at the matrix of numbers. A visualization can be useful in getting an overall impression of which variables have siginificant correlation. \n",
    "\n",
    "R and its packages contain many functions for displaying a correlation matrix. A common method is to display the correlation matrix as a heat map. This is particually useful if your have a large number of variables in you data set. See for example, the `corrgram` package.\n",
    "\n",
    "We will look at other methods. The code below uses the `plotcorr` function from the `ellipse` package to plot the correlation ellipses. The length of the minor axis is computed as $1 - correlation$. A correlation of 1 gives a line, with the minor axis set to 0. Correlation of zero results in a circle. The intensity of the color used on the plot indicates the magnitude of the correlation. Additionally, orientation of the ellipse is used to highlight the positive or negative correlation value. For positive correlation the ellipse tilts right, with the oposite being true for negative correlation. "
   ]
  },
  {
   "cell_type": "code",
   "execution_count": null,
   "metadata": {
    "collapsed": false
   },
   "outputs": [],
   "source": [
    "options(repr.plot.width=6, repr.plot.height=6)\n",
    "library(ellipse)\n",
    "R = cor(auto.price[, c('wheel.base', 'curb.weight', 'engine.size', 'horsepower', 'city.mpg', 'price')], method = 'pearson')\n",
    "print(R)\n",
    "plotcorr(R, col = colorRampPalette(c(\"firebrick3\", \"white\", \"navy\"))(10))"
   ]
  },
  {
   "cell_type": "markdown",
   "metadata": {},
   "source": [
    "The correlation between some of these variables is strongly positive, shown as the narrow bright ellipses tilting right. Variable pairs with strong negative correlation are shown as narrow dark ellipses tilting left. The diagonal are all shown as lines.\n",
    "\n",
    "Another way to display a correlation matrix is as a series of dots, with the size of the dots proportional to the correlation and the color indicating the sign. In the code below, the `corrplot` function from the `corrplot` package is used to plot the correlation matrix. "
   ]
  },
  {
   "cell_type": "code",
   "execution_count": null,
   "metadata": {
    "collapsed": false
   },
   "outputs": [],
   "source": [
    "library(corrplot)\n",
    "corrplot(R, method=\"circle\", type='lower')"
   ]
  },
  {
   "cell_type": "markdown",
   "metadata": {},
   "source": [
    "The size and color intensity of the dot indicates the magnitude of the correlation. Blue dots indicate positive correlation and red dots indicate negative correlation. \n",
    "\n",
    "The information shown in this plot is the same as the previous plot. Which type of plot you prefer is purely subjective. "
   ]
  },
  {
   "cell_type": "markdown",
   "metadata": {},
   "source": [
    "**Your turn!** Compute a correlation matrix using the Kendal rank method. Plot and print the correlation matrix and compare to the correlation matrix computed using the Pearson method. "
   ]
  },
  {
   "cell_type": "code",
   "execution_count": null,
   "metadata": {
    "collapsed": false
   },
   "outputs": [],
   "source": []
  },
  {
   "cell_type": "markdown",
   "metadata": {
    "collapsed": true
   },
   "source": [
    "### Facet plots\n",
    "\n",
    "You have explored using plot asthetics to project additional dimensions onto the two dimensional plot surface. You have also used scatter plot matrices to examine the relationships in several variables Now, you will look at using facet plots or conditioned plots. \n",
    "\n",
    "A faceted or conditioned plot is comprised of a set of sub-plots, defined by one or more conditioning variables. The data in each sub-plot are sub-setted, based on the values of the conditioning variable. This conditioning operation is, in effect, a **group-by** opertion. \n",
    "\n",
    "The ggplot2 package contains the `facet_grid` function, used to define the grid on which the sub-plots are created. The facet grid function uses an R formula object to define the rows and columns to specify the conditioning variable used to define the rows and columns. The general form of this formula is:\n",
    "\n",
    "$$RowVariables \\sim ColumnVariables$$\n",
    "\n",
    "A conditioned plot with a single column, but multiple rows, is therefore defined:\n",
    "\n",
    "$$RowVariables \\sim\\ .$$\n",
    "\n",
    "Or, conditioned plot with a single row, but multiple columns, is defined:\n",
    "\n",
    "$$.\\ \\sim ColumnVariables$$\n",
    "\n",
    "You can use multiple variables to condition rows and columns, using the $+$ symbol as the operator:\n",
    "\n",
    "$$RowVar1 + RowVar2 + \\ldots \\sim ColVar1 + ColVar2 + \\ldots$$\n",
    "\n",
    "Like all good things in visulation, there are practical limits. Creating a large grid of sub-plots, using multiple conditioning variables, quickly becomes confusing to look at. \n",
    "\n",
    "Give this a try. Execute the code below to create a single row of histograms conditioned on the type of drive wheels of the auto."
   ]
  },
  {
   "cell_type": "code",
   "execution_count": null,
   "metadata": {
    "collapsed": false,
    "scrolled": true
   },
   "outputs": [],
   "source": [
    "library(repr)\n",
    "options(repr.plot.width=8, repr.plot.height=3)\n",
    "bw1 = (max(auto.price$price) - min(auto.price$price))/30\n",
    "ggplot(auto.price, aes(price)) + \n",
    "        geom_histogram(binwidth = bw1) + \n",
    "        facet_grid(. ~ drive.wheels) +\n",
    "        ggtitle('Histogram of auto price conditioned on drive wheels')"
   ]
  },
  {
   "cell_type": "markdown",
   "metadata": {},
   "source": [
    "The three histograms are displayed in the grid; one for each value of the conditioning variable, drive wheels. The shingles at the top of each plot display the value of the conditioning variable. \n",
    "\n",
    "From these plots we can see that the price of the 4wd cars overlaps the fwd cars, and the rwd cars have a greatest range of prices. \n",
    "\n",
    "Try another example. In this case, there are two conditioning variables, fuel type and aspiration, defining a two dimensional grid. Fuel type conditions the rows. Aspiration conditions the  columns. Execute this code and examine the results."
   ]
  },
  {
   "cell_type": "code",
   "execution_count": null,
   "metadata": {
    "collapsed": false
   },
   "outputs": [],
   "source": [
    "options(repr.plot.width=8, repr.plot.height=8)\n",
    "bw1 = (max(auto.price$price) - min(auto.price$price))/30\n",
    "ggplot(auto.price, aes(price)) + \n",
    "        geom_histogram(binwidth = bw1) + \n",
    "        facet_grid(fuel.type ~ aspiration) +\n",
    "        ggtitle('Histogram of auto price conditioned on drive wheels')"
   ]
  },
  {
   "cell_type": "markdown",
   "metadata": {},
   "source": [
    "You can see the two dimensional grid of the conditioned histograms. The tiles on the top show the value of the aspiration. The tiles to the right show the values of the fuel type. The combination of aspiration and fuel type define the conditioning grid. \n",
    "\n",
    "Here is another example. The code in the cell below computes a grid of scatter plots conditioned by drive wheels for the column (horizontal) and body type for row (vertical) conditioning variables. Execute this code and examine the result."
   ]
  },
  {
   "cell_type": "code",
   "execution_count": null,
   "metadata": {
    "collapsed": false
   },
   "outputs": [],
   "source": [
    "options(repr.plot.width=8, repr.plot.height=11)\n",
    "ggplot(auto.price, aes(city.mpg, price)) + geom_point(aes(color = factor(fuel.type), size = engine.size2, \n",
    "                                                      shape = factor(aspiration)), alpha = 0.3) + \n",
    "    facet_grid(body.style ~ drive.wheels) +\n",
    "    xlab('City MPG') + ylab('Price') + \n",
    "    ggtitle('Relationship between City MPG and Price, \\n with gas and disel fuel shown, \n",
    "              \\n with marker radius indicating engine size \\n and shape showing aspiration')"
   ]
  },
  {
   "cell_type": "markdown",
   "metadata": {},
   "source": [
    "This plot projects seven dimensions of the data set onto the two dimensional plot surlface. Study this plot carefully, thinking about what you can learn."
   ]
  },
  {
   "cell_type": "markdown",
   "metadata": {
    "collapsed": true
   },
   "source": [
    "**Your turn!** Create a new conditioned scatter plot using drive wheels as the column (horizontal), and body type and number of doors for the row (vertical) conditioning variables. Use shape to distinguish aspiration and color to distinguish fule type. "
   ]
  },
  {
   "cell_type": "code",
   "execution_count": null,
   "metadata": {
    "collapsed": false
   },
   "outputs": [],
   "source": []
  },
  {
   "cell_type": "markdown",
   "metadata": {},
   "source": [
    "## Summary\n",
    "\n",
    "You have covered a lot of ground in this tutorial. You have explored many of the relationships in the auto price data set by creating multiple views to visualize these data. \n",
    "\n",
    "Specifically, in this tutoral you have:\n",
    "\n",
    "- Examined the uses of and methods for creation of several basic plot types.\n",
    "- Used plot aesthetics to project additional dimensions onto a two dimensional plot surface, or to highlight aspects of the relationships in the data.\n",
    "- Used multi-axis and faceted plots to project additional dimensions onto the two dimensional plot surface. \n",
    "\n",
    "Finally, **have fun exploring your data!**"
   ]
  },
  {
   "cell_type": "markdown",
   "metadata": {
    "collapsed": true
   },
   "source": [
    "#### Copyright 2017, Stephen Elston. All rights reserved. "
   ]
  },
  {
   "cell_type": "code",
   "execution_count": null,
   "metadata": {
    "collapsed": true
   },
   "outputs": [],
   "source": []
  }
 ],
 "metadata": {
  "anaconda-cloud": {},
  "kernelspec": {
   "display_name": "R",
   "language": "R",
   "name": "ir"
  },
  "language_info": {
   "codemirror_mode": "r",
   "file_extension": ".r",
   "mimetype": "text/x-r-source",
   "name": "R",
   "pygments_lexer": "r",
   "version": "3.3.2"
  }
 },
 "nbformat": 4,
 "nbformat_minor": 1
}
