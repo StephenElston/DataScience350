{
 "cells": [
  {
   "cell_type": "markdown",
   "metadata": {},
   "source": [
    "# Introduction to Text Analytics\n",
    "\n",
    "### Data Science 350\n",
    "### Stephen Elston\n",
    "\n",
    "## Introduction \n",
    "\n",
    "This notebook contains a tutorial introduction to basic text analytics with R.  \n",
    "\n",
    "![](img/HAL.jpg)\n",
    "<center>**AI has a ways to go!**"
   ]
  },
  {
   "cell_type": "markdown",
   "metadata": {},
   "source": [
    "### Text Data Are Everywhere\n",
    "\n",
    "Raw text data is an unstructured and ubiquitious type of data. Most of the world’s data is unstructured. Volumes of unstructured data, including text, are growing much faster than structured data. There are many industry estmates for the fraction of all data which is unstructured. A few from the last 8 years include:   \n",
    "- 2009 HP Survey: 70%\n",
    "- Gartner: 80%\n",
    "- Teradata: 85%\n",
    "- But, **Beware of industry estimates!!**\n",
    "\n",
    "How much text data are we talking about here? In a few years time, Twitter has more text data recorded than all that has been written in print in the history of mankind. (http://www.internetlivestats.com/twitter-statistics/)\n",
    "\n",
    "### Applications of Text Analytics\n",
    "\n",
    "Given the ubiquity and volume of text data, it is not surprising that numerious powerful applications which exploit text analytics are appearing. A few of these applications are listed below.\n",
    "\n",
    "- Intelligent applications\n",
    "  - Assistants\n",
    "  - Chat bots\n",
    "- Classification\n",
    "  - Sentiment analysis\n",
    "  - SPAM detection\n",
    "- Speech recognition\n",
    "- Search\n",
    "- Information retrieval\n",
    "\n",
    "### Analysis of Text Data\n",
    "\n",
    "In this tutorial we investigate three areas of text analytics. The following three sections cover these topics.\n",
    "\n",
    "- Preparing text for analysis.\n",
    "- Classification of text and sentiment analysis.\n",
    "- Topic Models for document classification and retrival. \n",
    "\n",
    "#### Preparing  text data\n",
    "\n",
    "By its very nature, text data comes unstructured and poorly organized for analysis. Typically multiple steps are required to process text into a form suitable for analysis. You can think of this process as transforming the unstructured data into a structured set of features. \n",
    "\n",
    "Steps covered in this tutorial include the following:\n",
    "\n",
    "- Organize text documents into a corpus\n",
    "- Normalize the text to remove unneeded content\n",
    "  - Tokenize text\n",
    "  - Clean text\n",
    "- Create term document matrix\n",
    "\n",
    "#### Text analysis methods\n",
    "\n",
    "There are a great many approaches which have been tried for text analytics and natural language processing (NLP). We only mention a few below. \n",
    "\n",
    "- The **bag of words model** is a simple widely used and suprsingly effective model for analysis of text data. The BOW model uses only on the frequency of the words in the document and order of the words is not consisdered. Dispite this seamingly rediculous assumption, the model works well in many cases. \n",
    "  - The BOW model assumes **exchangeability** of words. \n",
    "  - The end product of applying the BOW model is a term-document or document-term matrix. The tdm, or dtm is a structured representation of word frequency by document. \n",
    "  - The tdm or dtm can be used for classification if lables are available or clustering for unspervised learning. \n",
    "- Another powerful model is the **word to vec** and **doc to vec** model. Word to vec, uses a neural network model to determine similarity between words. These models are beyond the scope of this tutorial. You can find a good introduction to this model in the [article by Rong](http://www-personal.umich.edu/~ronxin/pdf/w2vexp.pdf)\n",
    "- Another widely used model is of **Part of Speech (PoS) Tagging**. PoS tagging attempts to label or anotate words in a corpus (e.g. a collection of documents) as, say nouns, verbs, pronouns, etc. PoS tagging is beyond the  scope of this tutorial. The PoS tagger creates a tree of the relationship of words in say a sentance. One useful specialization of PoS tagging is named entity recognition, which attempts to find proper nouns. \n",
    "\n",
    "  \n",
    "####  Document Classification, Topic Models, and Information Retervial\n",
    "\n",
    "A common objective of text analysis is to classify and group documents. These methods have applicaiton in information retrival and search. Understandably, there are a great many such methods which have been developed over the years. We will only discuss a few examples in this tutorial.    \n",
    "\n",
    "- **Classification** is a widely used supervised learning method for docuent analysis. For example, documents can be classified as SPAM  or not SPAM or as positive or negative sentiment. \n",
    "- **Latent Sematic Analysis (LSA)** and **Doc-to-Vec** analysis are unsupervised learning methods used to determine which documents are closely related. These methods use similarity measures to rank doccuments as being related. These powerful methods are beyond the scope of this tutorial. \n",
    "- **Topic models** are an method wherein the  \n",
    "  - Allocate the probability a document contains a topic\n",
    "  - Latent Dirichlet Allocation (LDA)\n",
    "- A variety of **distance metrics** have been developed to determine the distance between words, sentances and documents. These methods are related to coding theory widely used in telecommunications engineering.\n",
    "- **Clustering methods** are unsupervised learning models which seek to group similar documents into clusters. A variety of distance metrics can be used to define the structure of text clusters. \n",
    "  - K-means \n",
    "  - Hieratical\n",
    "\n",
    "\n",
    "***\n",
    "**Note** To run this notebook you will need to install the following R packages:\n",
    "\n",
    "- tm\n",
    "- slam\n",
    "- topicmodels\n",
    "- SnowballC\n",
    "- RTextTools\n",
    "- ggplot2\n",
    "***"
   ]
  },
  {
   "cell_type": "markdown",
   "metadata": {},
   "source": [
    "## Text Preparation\n",
    "\n",
    "Unstructured text must be processed into a uniform set of features suitable for further analysis. In this section we will step through some of the commonly used methods for convering unstructured text into a form we can use for analysis. There are three steps we need to transform text into a a set of features we can analyze.  \n",
    "\n",
    "- **Tokenize** the document.\n",
    "- **Normalize** the text. \n",
    "- Compute the **term-document matrix** or **document-term matrix**.\n",
    "\n",
    "***\n",
    "**Note:** You can find additional information on the R `tm` package in the [vignette by Feinerer](https://cran.r-project.org/web/packages/tm/vignettes/tm.pdf).\n",
    "***"
   ]
  },
  {
   "cell_type": "markdown",
   "metadata": {},
   "source": [
    "### Tokenize Text\n",
    "\n",
    "As a first step in preparing text for analysis of a document is to **tokenize** the text. In general terms, tokenization is the process dividing raw text into works, symbols and other elements, known as **tokens**. A set of tokens from one or more documents is known as a **corpus**.\n",
    "\n",
    "As a first step in creating a corpus is reading the data set. This particular data set is comprised of 160,000 tweets. The sentement of these tweets has been human labled as positive or negative {0,4}. The code in the cell below reads the tweet text and sentiment. The sentiment is marked as {0,1} for positive and negative. Run this code to load the data. "
   ]
  },
  {
   "cell_type": "code",
   "execution_count": 1,
   "metadata": {
    "collapsed": false
   },
   "outputs": [
    {
     "data": {
      "text/html": [
       "<table>\n",
       "<thead><tr><th scope=col>sentiment</th><th scope=col>tweets</th></tr></thead>\n",
       "<tbody>\n",
       "\t<tr><td>1                                                                                                                    </td><td>@elephantbird Hey dear, Happy Friday to You  Already had your rice's bowl for lunch ?                                </td></tr>\n",
       "\t<tr><td>1                                                                                                                    </td><td>Ughhh layin downnnn    Waiting for zeina to cook breakfast                                                           </td></tr>\n",
       "\t<tr><td>0                                                                                                                    </td><td>@greeniebach I reckon he'll play, even if he's not 100%...but i know nothing!! ;) It won't be the same without him.  </td></tr>\n",
       "\t<tr><td>0                                                                                                                    </td><td>@vaLewee I know!  Saw it on the news!                                                                                </td></tr>\n",
       "\t<tr><td>0                                                                                                                    </td><td>very sad that http://www.fabchannel.com/ has closed down. One of the few web services that I've used for over 5 years</td></tr>\n",
       "\t<tr><td>0                                                                                                                    </td><td>@Fearnecotton who sings 'I Remember'? i alwaysss hear it on Radio 1 but never catch the artist                       </td></tr>\n",
       "</tbody>\n",
       "</table>\n"
      ],
      "text/latex": [
       "\\begin{tabular}{r|ll}\n",
       " sentiment & tweets\\\\\n",
       "\\hline\n",
       "\t 1                                                                                                                     & @elephantbird Hey dear, Happy Friday to You  Already had your rice's bowl for lunch ?                                \\\\\n",
       "\t 1                                                                                                                     & Ughhh layin downnnn    Waiting for zeina to cook breakfast                                                           \\\\\n",
       "\t 0                                                                                                                       & @greeniebach I reckon he'll play, even if he's not 100\\%...but i know nothing!! ;) It won't be the same without him.  \\\\\n",
       "\t 0                                                                                                                     & @vaLewee I know!  Saw it on the news!                                                                                \\\\\n",
       "\t 0                                                                                                                     & very sad that http://www.fabchannel.com/ has closed down. One of the few web services that I've used for over 5 years\\\\\n",
       "\t 0                                                                                                                     & @Fearnecotton who sings 'I Remember'? i alwaysss hear it on Radio 1 but never catch the artist                       \\\\\n",
       "\\end{tabular}\n"
      ],
      "text/markdown": [
       "\n",
       "sentiment | tweets | \n",
       "|---|---|---|---|---|---|\n",
       "| 1                                                                                                                     | @elephantbird Hey dear, Happy Friday to You  Already had your rice's bowl for lunch ?                                 | \n",
       "| 1                                                                                                                     | Ughhh layin downnnn    Waiting for zeina to cook breakfast                                                            | \n",
       "| 0                                                                                                                     | @greeniebach I reckon he'll play, even if he's not 100%...but i know nothing!! ;) It won't be the same without him.   | \n",
       "| 0                                                                                                                     | @vaLewee I know!  Saw it on the news!                                                                                 | \n",
       "| 0                                                                                                                     | very sad that http://www.fabchannel.com/ has closed down. One of the few web services that I've used for over 5 years | \n",
       "| 0                                                                                                                     | @Fearnecotton who sings 'I Remember'? i alwaysss hear it on Radio 1 but never catch the artist                        | \n",
       "\n",
       "\n"
      ],
      "text/plain": [
       "  sentiment\n",
       "1 1        \n",
       "2 1        \n",
       "3 0        \n",
       "4 0        \n",
       "5 0        \n",
       "6 0        \n",
       "  tweets                                                                                                               \n",
       "1 @elephantbird Hey dear, Happy Friday to You  Already had your rice's bowl for lunch ?                                \n",
       "2 Ughhh layin downnnn    Waiting for zeina to cook breakfast                                                           \n",
       "3 @greeniebach I reckon he'll play, even if he's not 100%...but i know nothing!! ;) It won't be the same without him.  \n",
       "4 @vaLewee I know!  Saw it on the news!                                                                                \n",
       "5 very sad that http://www.fabchannel.com/ has closed down. One of the few web services that I've used for over 5 years\n",
       "6 @Fearnecotton who sings 'I Remember'? i alwaysss hear it on Radio 1 but never catch the artist                       "
      ]
     },
     "metadata": {},
     "output_type": "display_data"
    }
   ],
   "source": [
    "## Read the tweet data set\n",
    "tweets = read.csv('Binary Classification_ Twitter sentiment analysis.csv', \n",
    "                   header = TRUE, stringsAsFactors = FALSE)\n",
    "colnames(tweets) <- c(\"sentiment\", \"tweets\") # Set the column names\n",
    "tweets[, 'sentiment'] = ifelse(tweets$sentiment == 4, 1, 0)  # set sentiment to {0,1}\n",
    "head(tweets) # Have a look at the data frame"
   ]
  },
  {
   "cell_type": "markdown",
   "metadata": {},
   "source": [
    "Now that we have the data set read, we need to tokenize the tweets. The code in the cell below does the following:\n",
    "\n",
    "- The `VectorSource` function adds attributes to each document in the corpus. In this case each tweet is considered a document in a vector of documents.  \n",
    "- The each tweet text is tokenized and organized into a document within the corpus by the `Corpus` function.  \n",
    "\n",
    "Execute this code and examine the results. "
   ]
  },
  {
   "cell_type": "code",
   "execution_count": 2,
   "metadata": {
    "collapsed": false
   },
   "outputs": [
    {
     "name": "stderr",
     "output_type": "stream",
     "text": [
      "Warning message:\n",
      "\"package 'tm' was built under R version 3.3.3\"Loading required package: NLP\n",
      "Warning message:\n",
      "\"package 'NLP' was built under R version 3.3.2\""
     ]
    },
    {
     "name": "stdout",
     "output_type": "stream",
     "text": [
      "List of 1\n",
      " $ encoding: chr [1:160000] \"@elephantbird Hey dear, Happy Friday to You  Already had your rice's bowl for lunch ?\" \"Ughhh layin downnnn    Waiting for zeina to cook breakfast\" \"@greeniebach I reckon he'll play, even if he's not 100%...but i know nothing!! ;) It won't be the same without him.\" \"@vaLewee I know!  Saw it on the news!\" ...\n",
      " - attr(*, \"class\")= chr [1:3] \"VectorSource\" \"SimpleSource\" \"Source\"\n"
     ]
    },
    {
     "data": {
      "text/html": [
       "<ol class=list-inline>\n",
       "\t<li>'SimpleCorpus'</li>\n",
       "\t<li>'Corpus'</li>\n",
       "</ol>\n"
      ],
      "text/latex": [
       "\\begin{enumerate*}\n",
       "\\item 'SimpleCorpus'\n",
       "\\item 'Corpus'\n",
       "\\end{enumerate*}\n"
      ],
      "text/markdown": [
       "1. 'SimpleCorpus'\n",
       "2. 'Corpus'\n",
       "\n",
       "\n"
      ],
      "text/plain": [
       "[1] \"SimpleCorpus\" \"Corpus\"      "
      ]
     },
     "metadata": {},
     "output_type": "display_data"
    }
   ],
   "source": [
    "## Create a tm text corpus from the tweets\n",
    "library(tm)  ## tm package for text mining\n",
    "temp = VectorSource(tweets['tweets'])\n",
    "str(temp)\n",
    "tweet.corpus <- Corpus(temp)\n",
    "# What is the class of the corpus\n",
    "cat('')\n",
    "class(tweet.corpus)"
   ]
  },
  {
   "cell_type": "markdown",
   "metadata": {},
   "source": [
    "### Text Normalization\n",
    "\n",
    "With the corpus constructed we can perform text normalization on these documents. There are functions in tm which perform all of these steps, but for the purpose of illustration we will go step-by-step. \n",
    "\n",
    "Text normalization involves removing extrainous symbols and words, ensuring that text is uniformly coded, and converting words to their roots. The following list outlines some commonly used text normalization steps inlcuding some examples. \n",
    "\n",
    "- **Strip extra white space:** {I <3 statistics $\\ \\ $, it’s my \\u1072  $\\ \\ $    fAvoRitE!! 11!!!}\n",
    " $\\longrightarrow$ {I <3 statistics, it’s my \\u1072 fAvoRitE!! 11!!!}\n",
    "- Remove **Unicode text**: {I <3 statistics, it’s my \\u1072 fAvoRitE!! 11!!! $\\longrightarrow$ I <3 statistics, it’s my fAvoRitE!! 11!!!} \n",
    "- Convert to **lower case:** {I <3 statistics, it’s my fAvoRitE!! 11!!!$\\longrightarrow$ i <3 statistics, it’s my favorite!! 11!!!}\n",
    "- **Remove punctuation:** {i <3 statistics, it’s my favorite!! 11!!! $\\longrightarrow$ i 3 statistics its my favorite 11}\n",
    "- **Remove numbers:** {i 3 statistics its my favorite 11 $\\longrightarrow$ i statistics its my favorite}"
   ]
  },
  {
   "cell_type": "markdown",
   "metadata": {},
   "source": [
    "The code in the cell below does the following:\n",
    "\n",
    "- Uses `tm_map` to iterate over all of the documents in the corpus.\n",
    "- The `content_transformer` function is used to transform each document. The argument to `content_transformer` specifies the type of transformation to be performed. \n",
    "\n",
    "Exectue the code to perform some basic text normalization steps. "
   ]
  },
  {
   "cell_type": "code",
   "execution_count": 3,
   "metadata": {
    "collapsed": false
   },
   "outputs": [],
   "source": [
    "## Normalize tweets text\n",
    "tweet.corpus <- tm_map(tweet.corpus, content_transformer(removeNumbers))\n",
    "tweet.corpus <- tm_map(tweet.corpus, content_transformer(removePunctuation))\n",
    "tweet.corpus <- tm_map(tweet.corpus, content_transformer(stripWhitespace))\n",
    "tweet.corpus <- tm_map(tweet.corpus, content_transformer(tolower))"
   ]
  },
  {
   "cell_type": "markdown",
   "metadata": {},
   "source": [
    "### Term Document Matrix\n",
    "\n",
    "Now that we have a corpus with some basic normalization applied, we can create a **term document matrix** The tdm is a representation of **Bag of Words** model. The tdm has the following properties:\n",
    "\n",
    "- Frequencies of a given term  are in the rows. The term frequencies for each document are in the columns\n",
    "- The tdm is a sparse matrix, as most documents do not include many of the terms. Sparse matrix coding must be used for efficiency. \n",
    "- Document term matrix is transpose\n",
    "- Using the distribution of a document’s TF (TF-IDF) values a number of analyses can be performed, including:\n",
    "  - Characterize writing styles\n",
    "  - Comparing authors\n",
    "  - Determining original authors\n",
    "  - Finding plagiarism\n",
    "\n",
    "\n",
    "Let's look at an example of a tdm. The figure below shows a corpus of text documents on the left. This corpus is transformed into the term document matrix shown on the right. Notice that the matrix is sparse as any given document may not contain a term. Additionally, some terms may appear in the document multiple times. \n",
    "\n",
    "![](img/tdm.png)\n",
    "\n",
    "The code in the cell below computes a tdm using the R `slam` sparse matrix package. Terms with very low frequency across all documents are removed from the matrix. These sparse terms are generally not informative. \n",
    "\n",
    "Run this code and examine the summary of the results. "
   ]
  },
  {
   "cell_type": "code",
   "execution_count": 4,
   "metadata": {
    "collapsed": false,
    "scrolled": true
   },
   "outputs": [
    {
     "name": "stderr",
     "output_type": "stream",
     "text": [
      "Loading required package: slam\n",
      "Warning message:\n",
      "\"package 'slam' was built under R version 3.3.2\""
     ]
    },
    {
     "name": "stdout",
     "output_type": "stream",
     "text": [
      "List of 6\n",
      " $ i       : int [1:150595] 1 2 3 4 5 6 7 8 9 10 ...\n",
      " $ j       : int [1:150595] 1 1 1 1 1 1 1 1 1 1 ...\n",
      " $ v       : num [1:150595] 16 1 1 3 1 1 2 2 1 1 ...\n",
      " $ nrow    : int 150595\n",
      " $ ncol    : int 1\n",
      " $ dimnames:List of 2\n",
      "  ..$ Terms: chr [1:150595] \"aaa\" \"aaaa\" \"aaaaa\" \"aaaaaa\" ...\n",
      "  ..$ Docs : chr \"1\"\n",
      " - attr(*, \"class\")= chr [1:2] \"TermDocumentMatrix\" \"simple_triplet_matrix\"\n",
      " - attr(*, \"weighting\")= chr [1:2] \"term frequency\" \"tf\"\n"
     ]
    },
    {
     "data": {
      "text/html": [
       "<ol class=list-inline>\n",
       "\t<li>'about'</li>\n",
       "\t<li>'again'</li>\n",
       "\t<li>'all'</li>\n",
       "\t<li>'amp'</li>\n",
       "\t<li>'and'</li>\n",
       "\t<li>'are'</li>\n",
       "\t<li>'back'</li>\n",
       "\t<li>'bad'</li>\n",
       "\t<li>'bed'</li>\n",
       "\t<li>'been'</li>\n",
       "\t<li>'better'</li>\n",
       "\t<li>'but'</li>\n",
       "\t<li>'can'</li>\n",
       "\t<li>'cant'</li>\n",
       "\t<li>'come'</li>\n",
       "\t<li>'could'</li>\n",
       "\t<li>'day'</li>\n",
       "\t<li>'did'</li>\n",
       "\t<li>'didnt'</li>\n",
       "\t<li>'dont'</li>\n",
       "\t<li>'feel'</li>\n",
       "\t<li>'for'</li>\n",
       "\t<li>'from'</li>\n",
       "\t<li>'fun'</li>\n",
       "\t<li>'get'</li>\n",
       "\t<li>'getting'</li>\n",
       "\t<li>'going'</li>\n",
       "\t<li>'gonna'</li>\n",
       "\t<li>'good'</li>\n",
       "\t<li>'got'</li>\n",
       "\t<li>'great'</li>\n",
       "\t<li>'had'</li>\n",
       "\t<li>'haha'</li>\n",
       "\t<li>'happy'</li>\n",
       "\t<li>'has'</li>\n",
       "\t<li>'have'</li>\n",
       "\t<li>'her'</li>\n",
       "\t<li>'here'</li>\n",
       "\t<li>'him'</li>\n",
       "\t<li>'home'</li>\n",
       "\t<li>'hope'</li>\n",
       "\t<li>'how'</li>\n",
       "\t<li>'ill'</li>\n",
       "\t<li>'its'</li>\n",
       "\t<li>'ive'</li>\n",
       "\t<li>'just'</li>\n",
       "\t<li>'know'</li>\n",
       "\t<li>'last'</li>\n",
       "\t<li>'like'</li>\n",
       "\t<li>'lol'</li>\n",
       "\t<li>'love'</li>\n",
       "\t<li>'make'</li>\n",
       "\t<li>'miss'</li>\n",
       "\t<li>'more'</li>\n",
       "\t<li>'morning'</li>\n",
       "\t<li>'much'</li>\n",
       "\t<li>'need'</li>\n",
       "\t<li>'new'</li>\n",
       "\t<li>'nice'</li>\n",
       "\t<li>'night'</li>\n",
       "\t<li>'not'</li>\n",
       "\t<li>'now'</li>\n",
       "\t<li>'off'</li>\n",
       "\t<li>'one'</li>\n",
       "\t<li>'only'</li>\n",
       "\t<li>'out'</li>\n",
       "\t<li>'over'</li>\n",
       "\t<li>'really'</li>\n",
       "\t<li>'right'</li>\n",
       "\t<li>'sad'</li>\n",
       "\t<li>'school'</li>\n",
       "\t<li>'see'</li>\n",
       "\t<li>'she'</li>\n",
       "\t<li>'should'</li>\n",
       "\t<li>'sleep'</li>\n",
       "\t<li>'some'</li>\n",
       "\t<li>'sorry'</li>\n",
       "\t<li>'still'</li>\n",
       "\t<li>'thanks'</li>\n",
       "\t<li>'that'</li>\n",
       "\t<li>'thats'</li>\n",
       "\t<li>'the'</li>\n",
       "\t<li>'them'</li>\n",
       "\t<li>'then'</li>\n",
       "\t<li>'there'</li>\n",
       "\t<li>'they'</li>\n",
       "\t<li>'think'</li>\n",
       "\t<li>'this'</li>\n",
       "\t<li>'though'</li>\n",
       "\t<li>'time'</li>\n",
       "\t<li>'today'</li>\n",
       "\t<li>'tomorrow'</li>\n",
       "\t<li>'tonight'</li>\n",
       "\t<li>'too'</li>\n",
       "\t<li>'twitter'</li>\n",
       "\t<li>'very'</li>\n",
       "\t<li>'wait'</li>\n",
       "\t<li>'want'</li>\n",
       "\t<li>'was'</li>\n",
       "\t<li>'watching'</li>\n",
       "\t<li>'way'</li>\n",
       "\t<li>'week'</li>\n",
       "\t<li>'well'</li>\n",
       "\t<li>'were'</li>\n",
       "\t<li>'what'</li>\n",
       "\t<li>'when'</li>\n",
       "\t<li>'why'</li>\n",
       "\t<li>'will'</li>\n",
       "\t<li>'wish'</li>\n",
       "\t<li>'with'</li>\n",
       "\t<li>'work'</li>\n",
       "\t<li>'would'</li>\n",
       "\t<li>'yeah'</li>\n",
       "\t<li>'you'</li>\n",
       "\t<li>'your'</li>\n",
       "\t<li>'youre'</li>\n",
       "</ol>\n"
      ],
      "text/latex": [
       "\\begin{enumerate*}\n",
       "\\item 'about'\n",
       "\\item 'again'\n",
       "\\item 'all'\n",
       "\\item 'amp'\n",
       "\\item 'and'\n",
       "\\item 'are'\n",
       "\\item 'back'\n",
       "\\item 'bad'\n",
       "\\item 'bed'\n",
       "\\item 'been'\n",
       "\\item 'better'\n",
       "\\item 'but'\n",
       "\\item 'can'\n",
       "\\item 'cant'\n",
       "\\item 'come'\n",
       "\\item 'could'\n",
       "\\item 'day'\n",
       "\\item 'did'\n",
       "\\item 'didnt'\n",
       "\\item 'dont'\n",
       "\\item 'feel'\n",
       "\\item 'for'\n",
       "\\item 'from'\n",
       "\\item 'fun'\n",
       "\\item 'get'\n",
       "\\item 'getting'\n",
       "\\item 'going'\n",
       "\\item 'gonna'\n",
       "\\item 'good'\n",
       "\\item 'got'\n",
       "\\item 'great'\n",
       "\\item 'had'\n",
       "\\item 'haha'\n",
       "\\item 'happy'\n",
       "\\item 'has'\n",
       "\\item 'have'\n",
       "\\item 'her'\n",
       "\\item 'here'\n",
       "\\item 'him'\n",
       "\\item 'home'\n",
       "\\item 'hope'\n",
       "\\item 'how'\n",
       "\\item 'ill'\n",
       "\\item 'its'\n",
       "\\item 'ive'\n",
       "\\item 'just'\n",
       "\\item 'know'\n",
       "\\item 'last'\n",
       "\\item 'like'\n",
       "\\item 'lol'\n",
       "\\item 'love'\n",
       "\\item 'make'\n",
       "\\item 'miss'\n",
       "\\item 'more'\n",
       "\\item 'morning'\n",
       "\\item 'much'\n",
       "\\item 'need'\n",
       "\\item 'new'\n",
       "\\item 'nice'\n",
       "\\item 'night'\n",
       "\\item 'not'\n",
       "\\item 'now'\n",
       "\\item 'off'\n",
       "\\item 'one'\n",
       "\\item 'only'\n",
       "\\item 'out'\n",
       "\\item 'over'\n",
       "\\item 'really'\n",
       "\\item 'right'\n",
       "\\item 'sad'\n",
       "\\item 'school'\n",
       "\\item 'see'\n",
       "\\item 'she'\n",
       "\\item 'should'\n",
       "\\item 'sleep'\n",
       "\\item 'some'\n",
       "\\item 'sorry'\n",
       "\\item 'still'\n",
       "\\item 'thanks'\n",
       "\\item 'that'\n",
       "\\item 'thats'\n",
       "\\item 'the'\n",
       "\\item 'them'\n",
       "\\item 'then'\n",
       "\\item 'there'\n",
       "\\item 'they'\n",
       "\\item 'think'\n",
       "\\item 'this'\n",
       "\\item 'though'\n",
       "\\item 'time'\n",
       "\\item 'today'\n",
       "\\item 'tomorrow'\n",
       "\\item 'tonight'\n",
       "\\item 'too'\n",
       "\\item 'twitter'\n",
       "\\item 'very'\n",
       "\\item 'wait'\n",
       "\\item 'want'\n",
       "\\item 'was'\n",
       "\\item 'watching'\n",
       "\\item 'way'\n",
       "\\item 'week'\n",
       "\\item 'well'\n",
       "\\item 'were'\n",
       "\\item 'what'\n",
       "\\item 'when'\n",
       "\\item 'why'\n",
       "\\item 'will'\n",
       "\\item 'wish'\n",
       "\\item 'with'\n",
       "\\item 'work'\n",
       "\\item 'would'\n",
       "\\item 'yeah'\n",
       "\\item 'you'\n",
       "\\item 'your'\n",
       "\\item 'youre'\n",
       "\\end{enumerate*}\n"
      ],
      "text/markdown": [
       "1. 'about'\n",
       "2. 'again'\n",
       "3. 'all'\n",
       "4. 'amp'\n",
       "5. 'and'\n",
       "6. 'are'\n",
       "7. 'back'\n",
       "8. 'bad'\n",
       "9. 'bed'\n",
       "10. 'been'\n",
       "11. 'better'\n",
       "12. 'but'\n",
       "13. 'can'\n",
       "14. 'cant'\n",
       "15. 'come'\n",
       "16. 'could'\n",
       "17. 'day'\n",
       "18. 'did'\n",
       "19. 'didnt'\n",
       "20. 'dont'\n",
       "21. 'feel'\n",
       "22. 'for'\n",
       "23. 'from'\n",
       "24. 'fun'\n",
       "25. 'get'\n",
       "26. 'getting'\n",
       "27. 'going'\n",
       "28. 'gonna'\n",
       "29. 'good'\n",
       "30. 'got'\n",
       "31. 'great'\n",
       "32. 'had'\n",
       "33. 'haha'\n",
       "34. 'happy'\n",
       "35. 'has'\n",
       "36. 'have'\n",
       "37. 'her'\n",
       "38. 'here'\n",
       "39. 'him'\n",
       "40. 'home'\n",
       "41. 'hope'\n",
       "42. 'how'\n",
       "43. 'ill'\n",
       "44. 'its'\n",
       "45. 'ive'\n",
       "46. 'just'\n",
       "47. 'know'\n",
       "48. 'last'\n",
       "49. 'like'\n",
       "50. 'lol'\n",
       "51. 'love'\n",
       "52. 'make'\n",
       "53. 'miss'\n",
       "54. 'more'\n",
       "55. 'morning'\n",
       "56. 'much'\n",
       "57. 'need'\n",
       "58. 'new'\n",
       "59. 'nice'\n",
       "60. 'night'\n",
       "61. 'not'\n",
       "62. 'now'\n",
       "63. 'off'\n",
       "64. 'one'\n",
       "65. 'only'\n",
       "66. 'out'\n",
       "67. 'over'\n",
       "68. 'really'\n",
       "69. 'right'\n",
       "70. 'sad'\n",
       "71. 'school'\n",
       "72. 'see'\n",
       "73. 'she'\n",
       "74. 'should'\n",
       "75. 'sleep'\n",
       "76. 'some'\n",
       "77. 'sorry'\n",
       "78. 'still'\n",
       "79. 'thanks'\n",
       "80. 'that'\n",
       "81. 'thats'\n",
       "82. 'the'\n",
       "83. 'them'\n",
       "84. 'then'\n",
       "85. 'there'\n",
       "86. 'they'\n",
       "87. 'think'\n",
       "88. 'this'\n",
       "89. 'though'\n",
       "90. 'time'\n",
       "91. 'today'\n",
       "92. 'tomorrow'\n",
       "93. 'tonight'\n",
       "94. 'too'\n",
       "95. 'twitter'\n",
       "96. 'very'\n",
       "97. 'wait'\n",
       "98. 'want'\n",
       "99. 'was'\n",
       "100. 'watching'\n",
       "101. 'way'\n",
       "102. 'week'\n",
       "103. 'well'\n",
       "104. 'were'\n",
       "105. 'what'\n",
       "106. 'when'\n",
       "107. 'why'\n",
       "108. 'will'\n",
       "109. 'wish'\n",
       "110. 'with'\n",
       "111. 'work'\n",
       "112. 'would'\n",
       "113. 'yeah'\n",
       "114. 'you'\n",
       "115. 'your'\n",
       "116. 'youre'\n",
       "\n",
       "\n"
      ],
      "text/plain": [
       "  [1] \"about\"    \"again\"    \"all\"      \"amp\"      \"and\"      \"are\"     \n",
       "  [7] \"back\"     \"bad\"      \"bed\"      \"been\"     \"better\"   \"but\"     \n",
       " [13] \"can\"      \"cant\"     \"come\"     \"could\"    \"day\"      \"did\"     \n",
       " [19] \"didnt\"    \"dont\"     \"feel\"     \"for\"      \"from\"     \"fun\"     \n",
       " [25] \"get\"      \"getting\"  \"going\"    \"gonna\"    \"good\"     \"got\"     \n",
       " [31] \"great\"    \"had\"      \"haha\"     \"happy\"    \"has\"      \"have\"    \n",
       " [37] \"her\"      \"here\"     \"him\"      \"home\"     \"hope\"     \"how\"     \n",
       " [43] \"ill\"      \"its\"      \"ive\"      \"just\"     \"know\"     \"last\"    \n",
       " [49] \"like\"     \"lol\"      \"love\"     \"make\"     \"miss\"     \"more\"    \n",
       " [55] \"morning\"  \"much\"     \"need\"     \"new\"      \"nice\"     \"night\"   \n",
       " [61] \"not\"      \"now\"      \"off\"      \"one\"      \"only\"     \"out\"     \n",
       " [67] \"over\"     \"really\"   \"right\"    \"sad\"      \"school\"   \"see\"     \n",
       " [73] \"she\"      \"should\"   \"sleep\"    \"some\"     \"sorry\"    \"still\"   \n",
       " [79] \"thanks\"   \"that\"     \"thats\"    \"the\"      \"them\"     \"then\"    \n",
       " [85] \"there\"    \"they\"     \"think\"    \"this\"     \"though\"   \"time\"    \n",
       " [91] \"today\"    \"tomorrow\" \"tonight\"  \"too\"      \"twitter\"  \"very\"    \n",
       " [97] \"wait\"     \"want\"     \"was\"      \"watching\" \"way\"      \"week\"    \n",
       "[103] \"well\"     \"were\"     \"what\"     \"when\"     \"why\"      \"will\"    \n",
       "[109] \"wish\"     \"with\"     \"work\"     \"would\"    \"yeah\"     \"you\"     \n",
       "[115] \"your\"     \"youre\"   "
      ]
     },
     "metadata": {},
     "output_type": "display_data"
    }
   ],
   "source": [
    "## ----- Convert the corpus to a term document matrix\n",
    "to.tdm = function(corpus, sparse = 0.998){\n",
    "  require(tm)\n",
    "  ## Compute a term-document matrix and then \n",
    "  require(slam) # Sparse matrix package\n",
    "  tdm <- TermDocumentMatrix(corpus, control = list(stopwords = FALSE))\n",
    "  tdm <- removeSparseTerms(tdm, sparse)\n",
    "  tdm\n",
    "}\n",
    "tdm = to.tdm(tweet.corpus) # Create a term document matrix\n",
    "str(tdm) # Look at sparse tdm\n",
    "findFreqTerms(tdm, 2000) # Words that occur at least 2000 times\n"
   ]
  },
  {
   "cell_type": "markdown",
   "metadata": {},
   "source": [
    "### ComputingTerm Frequency\n",
    "\n",
    "Now that we have computed a tdm, how can we understand it? Recall that the simple **Bag of Words model** is just based on **Term Frequency (TF)**. In this case, the weighting of a document for a given term is just the frequency of that term in the document. \n",
    "\n",
    "In other cases we will used the **Inverse Document Frequency (IDF)** weighting. IDF weighting accounts for cases where only a few documents contain certain terms. The formula for the IDF weighting can be written as:\n",
    "\n",
    "$$IDF = log(\\frac{Number\\ Documents}{Number\\ Documents\\ with\\ Word})$$\n",
    "\n",
    "The IDF can exhibit a problem however. When there are a few documents with very frequent terms, the weighting is skewed toward those documents.  To solve this problem, we reweight IDF by the overall frequency of the word to create a TFIDF matrix. The formula for computing TFIDF is: \n",
    "\n",
    "$$TF - IDF = frequency(word) \\cdot log(\\frac{Number\\ Documents}{Number\\ Documents\\ with\\ Word})\\ $$\n",
    "\n",
    "The code in the cell below computes both simple TF and the cumulative of the term frequencies, strating from the most fequent terms to the least. Execute this code and examine the results. "
   ]
  },
  {
   "cell_type": "code",
   "execution_count": 5,
   "metadata": {
    "collapsed": false
   },
   "outputs": [
    {
     "data": {
      "text/html": [
       "<table>\n",
       "<thead><tr><th></th><th scope=col>word</th><th scope=col>frequency</th><th scope=col>Cumulative</th></tr></thead>\n",
       "<tbody>\n",
       "\t<tr><th scope=row>the</th><td>the       </td><td>51708     </td><td>0.03261330</td></tr>\n",
       "\t<tr><th scope=row>and</th><td>and       </td><td>30088     </td><td>0.05159043</td></tr>\n",
       "\t<tr><th scope=row>you</th><td>you       </td><td>26979     </td><td>0.06860664</td></tr>\n",
       "\t<tr><th scope=row>for</th><td>for       </td><td>21696     </td><td>0.08229075</td></tr>\n",
       "\t<tr><th scope=row>have</th><td>have      </td><td>14437     </td><td>0.09139647</td></tr>\n",
       "\t<tr><th scope=row>that</th><td>that      </td><td>14138     </td><td>0.10031359</td></tr>\n",
       "\t<tr><th scope=row>but</th><td>but       </td><td>12723     </td><td>0.10833825</td></tr>\n",
       "\t<tr><th scope=row>just</th><td>just      </td><td>12714     </td><td>0.11635724</td></tr>\n",
       "\t<tr><th scope=row>with</th><td>with      </td><td>11465     </td><td>0.12358845</td></tr>\n",
       "\t<tr><th scope=row>its</th><td>its       </td><td>10958     </td><td>0.13049988</td></tr>\n",
       "</tbody>\n",
       "</table>\n"
      ],
      "text/latex": [
       "\\begin{tabular}{r|lll}\n",
       "  & word & frequency & Cumulative\\\\\n",
       "\\hline\n",
       "\tthe & the        & 51708      & 0.03261330\\\\\n",
       "\tand & and        & 30088      & 0.05159043\\\\\n",
       "\tyou & you        & 26979      & 0.06860664\\\\\n",
       "\tfor & for        & 21696      & 0.08229075\\\\\n",
       "\thave & have       & 14437      & 0.09139647\\\\\n",
       "\tthat & that       & 14138      & 0.10031359\\\\\n",
       "\tbut & but        & 12723      & 0.10833825\\\\\n",
       "\tjust & just       & 12714      & 0.11635724\\\\\n",
       "\twith & with       & 11465      & 0.12358845\\\\\n",
       "\tits & its        & 10958      & 0.13049988\\\\\n",
       "\\end{tabular}\n"
      ],
      "text/markdown": [
       "\n",
       "| <!--/--> | word | frequency | Cumulative | \n",
       "|---|---|---|---|---|---|---|---|---|---|\n",
       "| the | the        | 51708      | 0.03261330 | \n",
       "| and | and        | 30088      | 0.05159043 | \n",
       "| you | you        | 26979      | 0.06860664 | \n",
       "| for | for        | 21696      | 0.08229075 | \n",
       "| have | have       | 14437      | 0.09139647 | \n",
       "| that | that       | 14138      | 0.10031359 | \n",
       "| but | but        | 12723      | 0.10833825 | \n",
       "| just | just       | 12714      | 0.11635724 | \n",
       "| with | with       | 11465      | 0.12358845 | \n",
       "| its | its        | 10958      | 0.13049988 | \n",
       "\n",
       "\n"
      ],
      "text/plain": [
       "     word frequency Cumulative\n",
       "the  the  51708     0.03261330\n",
       "and  and  30088     0.05159043\n",
       "you  you  26979     0.06860664\n",
       "for  for  21696     0.08229075\n",
       "have have 14437     0.09139647\n",
       "that that 14138     0.10031359\n",
       "but  but  12723     0.10833825\n",
       "just just 12714     0.11635724\n",
       "with with 11465     0.12358845\n",
       "its  its  10958     0.13049988"
      ]
     },
     "metadata": {},
     "output_type": "display_data"
    }
   ],
   "source": [
    "## Compute the word fequency from the tdm\n",
    "to.wf = function(tdm){\n",
    "  ## compute the word frequencies.\n",
    "  require(slam)\n",
    "  freq <- row_sums(tdm, na.rm = T)   \n",
    "  ## Sort the word frequency and build a dataframe\n",
    "  ## including the cumulative frequecy of the words.\n",
    "  freq <- sort(freq, decreasing = TRUE)\n",
    "  word.freq <- data.frame(word = factor(names(freq), levels = names(freq)), \n",
    "                          frequency = freq)\n",
    "  word.freq['Cumulative'] <- cumsum(word.freq['frequency'])/sum(word.freq$frequency)\n",
    "  word.freq\n",
    "}\n",
    "wf = to.wf(tdm)\n",
    "head(wf, n = 10)\n"
   ]
  },
  {
   "cell_type": "markdown",
   "metadata": {},
   "source": [
    "You can see that certain common words are quite frequent. \n",
    "\n",
    "To further investigate term frequency, execute the code in the cell below to create an ordered bar plot of term frequncy and cumulative term frequency and examine the results. "
   ]
  },
  {
   "cell_type": "code",
   "execution_count": 6,
   "metadata": {
    "collapsed": false
   },
   "outputs": [
    {
     "name": "stderr",
     "output_type": "stream",
     "text": [
      "Loading required package: ggplot2\n",
      "Warning message:\n",
      "\"package 'ggplot2' was built under R version 3.3.2\"\n",
      "Attaching package: 'ggplot2'\n",
      "\n",
      "The following object is masked from 'package:NLP':\n",
      "\n",
      "    annotate\n",
      "\n"
     ]
    },
    {
     "data": {},
     "metadata": {},
     "output_type": "display_data"
    },
    {
     "data": {
      "image/png": "[encoded data removed]",
      "text/plain": [
       "plot without title"
      ]
     },
     "metadata": {},
     "output_type": "display_data"
    }
   ],
   "source": [
    "## Make a bar chart of the word frequency\n",
    "word.bar = function(wf, num = 50){\n",
    "  require(ggplot2)\n",
    "  ggplot(wf[1:num,], aes(word, frequency)) +\n",
    "    geom_bar(stat = 'identity') +\n",
    "    ggtitle('Frequency of common words') +\n",
    "    ylab('Frequency') +\n",
    "    theme(axis.text.x = element_text(angle = 90, hjust = 1))\n",
    "}\n",
    "word.bar(wf)\n"
   ]
  },
  {
   "cell_type": "code",
   "execution_count": 7,
   "metadata": {
    "collapsed": false
   },
   "outputs": [
    {
     "data": {},
     "metadata": {},
     "output_type": "display_data"
    },
    {
     "data": {
      "image/png": "[encoded data removed]",
      "text/plain": [
       "plot without title"
      ]
     },
     "metadata": {},
     "output_type": "display_data"
    }
   ],
   "source": [
    "## Make cumulative distribution plots of the most frequent words\n",
    "word.cdf = function(wf, num = 50){\n",
    "  require(ggplot2)\n",
    "  ggplot(wf[1:num,], aes(word, Cumulative)) +\n",
    "    geom_bar(stat = 'identity') +\n",
    "    ggtitle('Cumulative fraction of common words') +\n",
    "    ylab('Cumulative frequency') +\n",
    "    theme(axis.text.x = element_text(angle = 90, hjust = 1))\n",
    "}\n",
    "word.cdf(wf)\n"
   ]
  },
  {
   "cell_type": "markdown",
   "metadata": {},
   "source": [
    "You can see that the frequency of terms drops off rather quickly. This is a common situation with many documents. "
   ]
  },
  {
   "cell_type": "markdown",
   "metadata": {},
   "source": [
    "### Removing Stop Words\n",
    "\n",
    "From the foregoing analysis of word frequency in the tweets we can see that the most frequent words do not have any particular semantic meaning. We say these words are **stop words**. To compute a meaningful TF it is important to remove the stop words. An example of removing stop words is shown below:\n",
    "\n",
    "i statistics its my favorite $\\longrightarrow$ statistics favorite\n",
    "\n",
    "The choice of stop words is often dependent on the applicaton at hand. Some words may generally be stop words, but may be critical in some applicaitons. For the tweets, the range of stop words must be extended to include the non-standard spelling often used in tweets. In practice, you may need to try several choices of stop word lists to find the best list for a given problem.\n",
    "\n",
    "The code in the cell below, reads a custom list of stop words, ensures they are unique and then prints the first 100. Execute the code and examine the results."
   ]
  },
  {
   "cell_type": "code",
   "execution_count": 8,
   "metadata": {
    "collapsed": false
   },
   "outputs": [
    {
     "name": "stdout",
     "output_type": "stream",
     "text": [
      "369"
     ]
    },
    {
     "data": {
      "text/html": [
       "<ol class=list-inline>\n",
       "\t<li>'a'</li>\n",
       "\t<li>'about'</li>\n",
       "\t<li>'above'</li>\n",
       "\t<li>'actual'</li>\n",
       "\t<li>'after'</li>\n",
       "\t<li>'again'</li>\n",
       "\t<li>'against'</li>\n",
       "\t<li>'all'</li>\n",
       "\t<li>'alreadi'</li>\n",
       "\t<li>'also'</li>\n",
       "\t<li>'alway'</li>\n",
       "\t<li>'am'</li>\n",
       "\t<li>'amp'</li>\n",
       "\t<li>'an'</li>\n",
       "\t<li>'and'</li>\n",
       "\t<li>'ani'</li>\n",
       "\t<li>'anoth'</li>\n",
       "\t<li>'any'</li>\n",
       "\t<li>'anyth'</li>\n",
       "\t<li>'are'</li>\n",
       "\t<li>'aren\\'t'</li>\n",
       "\t<li>'around'</li>\n",
       "\t<li>'as'</li>\n",
       "\t<li>'at'</li>\n",
       "\t<li>'aww'</li>\n",
       "\t<li>'babi'</li>\n",
       "\t<li>'back'</li>\n",
       "\t<li>'be'</li>\n",
       "\t<li>'becaus'</li>\n",
       "\t<li>'because'</li>\n",
       "\t<li>'bed'</li>\n",
       "\t<li>'been'</li>\n",
       "\t<li>'befor'</li>\n",
       "\t<li>'before'</li>\n",
       "\t<li>'being'</li>\n",
       "\t<li>'below'</li>\n",
       "\t<li>'between'</li>\n",
       "\t<li>'birthday'</li>\n",
       "\t<li>'bit'</li>\n",
       "\t<li>'book'</li>\n",
       "\t<li>'both'</li>\n",
       "\t<li>'boy'</li>\n",
       "\t<li>'but'</li>\n",
       "\t<li>'by'</li>\n",
       "\t<li>'call'</li>\n",
       "\t<li>'can'</li>\n",
       "\t<li>'can\\'t'</li>\n",
       "\t<li>'cannot'</li>\n",
       "\t<li>'cant'</li>\n",
       "\t<li>'car'</li>\n",
       "\t<li>'check'</li>\n",
       "\t<li>'com'</li>\n",
       "\t<li>'come'</li>\n",
       "\t<li>'could'</li>\n",
       "\t<li>'couldn\\'t'</li>\n",
       "\t<li>'day'</li>\n",
       "\t<li>'did'</li>\n",
       "\t<li>'didn'</li>\n",
       "\t<li>'didn\\'t'</li>\n",
       "\t<li>'dinner'</li>\n",
       "\t<li>'do'</li>\n",
       "\t<li>'doe'</li>\n",
       "\t<li>'does'</li>\n",
       "\t<li>'doesn'</li>\n",
       "\t<li>'doesn\\'t'</li>\n",
       "\t<li>'doing'</li>\n",
       "\t<li>'don'</li>\n",
       "\t<li>'don\\'t'</li>\n",
       "\t<li>'done'</li>\n",
       "\t<li>'dont'</li>\n",
       "\t<li>'down'</li>\n",
       "\t<li>'during'</li>\n",
       "\t<li>'each'</li>\n",
       "\t<li>'eat'</li>\n",
       "\t<li>'end'</li>\n",
       "\t<li>'even'</li>\n",
       "\t<li>'ever'</li>\n",
       "\t<li>'everyon'</li>\n",
       "\t<li>'exam'</li>\n",
       "\t<li>'famili'</li>\n",
       "\t<li>'feel'</li>\n",
       "\t<li>'few'</li>\n",
       "\t<li>'final'</li>\n",
       "\t<li>'find'</li>\n",
       "\t<li>'first'</li>\n",
       "\t<li>'follow'</li>\n",
       "\t<li>'for'</li>\n",
       "\t<li>'for.'</li>\n",
       "\t<li>'found'</li>\n",
       "\t<li>'friday'</li>\n",
       "\t<li>'from'</li>\n",
       "\t<li>'further'</li>\n",
       "\t<li>'game'</li>\n",
       "\t<li>'get'</li>\n",
       "\t<li>'girl'</li>\n",
       "\t<li>'give'</li>\n",
       "\t<li>'gone'</li>\n",
       "\t<li>'gonna'</li>\n",
       "\t<li>'got'</li>\n",
       "\t<li>'gotta'</li>\n",
       "</ol>\n"
      ],
      "text/latex": [
       "\\begin{enumerate*}\n",
       "\\item 'a'\n",
       "\\item 'about'\n",
       "\\item 'above'\n",
       "\\item 'actual'\n",
       "\\item 'after'\n",
       "\\item 'again'\n",
       "\\item 'against'\n",
       "\\item 'all'\n",
       "\\item 'alreadi'\n",
       "\\item 'also'\n",
       "\\item 'alway'\n",
       "\\item 'am'\n",
       "\\item 'amp'\n",
       "\\item 'an'\n",
       "\\item 'and'\n",
       "\\item 'ani'\n",
       "\\item 'anoth'\n",
       "\\item 'any'\n",
       "\\item 'anyth'\n",
       "\\item 'are'\n",
       "\\item 'aren\\textbackslash{}'t'\n",
       "\\item 'around'\n",
       "\\item 'as'\n",
       "\\item 'at'\n",
       "\\item 'aww'\n",
       "\\item 'babi'\n",
       "\\item 'back'\n",
       "\\item 'be'\n",
       "\\item 'becaus'\n",
       "\\item 'because'\n",
       "\\item 'bed'\n",
       "\\item 'been'\n",
       "\\item 'befor'\n",
       "\\item 'before'\n",
       "\\item 'being'\n",
       "\\item 'below'\n",
       "\\item 'between'\n",
       "\\item 'birthday'\n",
       "\\item 'bit'\n",
       "\\item 'book'\n",
       "\\item 'both'\n",
       "\\item 'boy'\n",
       "\\item 'but'\n",
       "\\item 'by'\n",
       "\\item 'call'\n",
       "\\item 'can'\n",
       "\\item 'can\\textbackslash{}'t'\n",
       "\\item 'cannot'\n",
       "\\item 'cant'\n",
       "\\item 'car'\n",
       "\\item 'check'\n",
       "\\item 'com'\n",
       "\\item 'come'\n",
       "\\item 'could'\n",
       "\\item 'couldn\\textbackslash{}'t'\n",
       "\\item 'day'\n",
       "\\item 'did'\n",
       "\\item 'didn'\n",
       "\\item 'didn\\textbackslash{}'t'\n",
       "\\item 'dinner'\n",
       "\\item 'do'\n",
       "\\item 'doe'\n",
       "\\item 'does'\n",
       "\\item 'doesn'\n",
       "\\item 'doesn\\textbackslash{}'t'\n",
       "\\item 'doing'\n",
       "\\item 'don'\n",
       "\\item 'don\\textbackslash{}'t'\n",
       "\\item 'done'\n",
       "\\item 'dont'\n",
       "\\item 'down'\n",
       "\\item 'during'\n",
       "\\item 'each'\n",
       "\\item 'eat'\n",
       "\\item 'end'\n",
       "\\item 'even'\n",
       "\\item 'ever'\n",
       "\\item 'everyon'\n",
       "\\item 'exam'\n",
       "\\item 'famili'\n",
       "\\item 'feel'\n",
       "\\item 'few'\n",
       "\\item 'final'\n",
       "\\item 'find'\n",
       "\\item 'first'\n",
       "\\item 'follow'\n",
       "\\item 'for'\n",
       "\\item 'for.'\n",
       "\\item 'found'\n",
       "\\item 'friday'\n",
       "\\item 'from'\n",
       "\\item 'further'\n",
       "\\item 'game'\n",
       "\\item 'get'\n",
       "\\item 'girl'\n",
       "\\item 'give'\n",
       "\\item 'gone'\n",
       "\\item 'gonna'\n",
       "\\item 'got'\n",
       "\\item 'gotta'\n",
       "\\end{enumerate*}\n"
      ],
      "text/markdown": [
       "1. 'a'\n",
       "2. 'about'\n",
       "3. 'above'\n",
       "4. 'actual'\n",
       "5. 'after'\n",
       "6. 'again'\n",
       "7. 'against'\n",
       "8. 'all'\n",
       "9. 'alreadi'\n",
       "10. 'also'\n",
       "11. 'alway'\n",
       "12. 'am'\n",
       "13. 'amp'\n",
       "14. 'an'\n",
       "15. 'and'\n",
       "16. 'ani'\n",
       "17. 'anoth'\n",
       "18. 'any'\n",
       "19. 'anyth'\n",
       "20. 'are'\n",
       "21. 'aren\\'t'\n",
       "22. 'around'\n",
       "23. 'as'\n",
       "24. 'at'\n",
       "25. 'aww'\n",
       "26. 'babi'\n",
       "27. 'back'\n",
       "28. 'be'\n",
       "29. 'becaus'\n",
       "30. 'because'\n",
       "31. 'bed'\n",
       "32. 'been'\n",
       "33. 'befor'\n",
       "34. 'before'\n",
       "35. 'being'\n",
       "36. 'below'\n",
       "37. 'between'\n",
       "38. 'birthday'\n",
       "39. 'bit'\n",
       "40. 'book'\n",
       "41. 'both'\n",
       "42. 'boy'\n",
       "43. 'but'\n",
       "44. 'by'\n",
       "45. 'call'\n",
       "46. 'can'\n",
       "47. 'can\\'t'\n",
       "48. 'cannot'\n",
       "49. 'cant'\n",
       "50. 'car'\n",
       "51. 'check'\n",
       "52. 'com'\n",
       "53. 'come'\n",
       "54. 'could'\n",
       "55. 'couldn\\'t'\n",
       "56. 'day'\n",
       "57. 'did'\n",
       "58. 'didn'\n",
       "59. 'didn\\'t'\n",
       "60. 'dinner'\n",
       "61. 'do'\n",
       "62. 'doe'\n",
       "63. 'does'\n",
       "64. 'doesn'\n",
       "65. 'doesn\\'t'\n",
       "66. 'doing'\n",
       "67. 'don'\n",
       "68. 'don\\'t'\n",
       "69. 'done'\n",
       "70. 'dont'\n",
       "71. 'down'\n",
       "72. 'during'\n",
       "73. 'each'\n",
       "74. 'eat'\n",
       "75. 'end'\n",
       "76. 'even'\n",
       "77. 'ever'\n",
       "78. 'everyon'\n",
       "79. 'exam'\n",
       "80. 'famili'\n",
       "81. 'feel'\n",
       "82. 'few'\n",
       "83. 'final'\n",
       "84. 'find'\n",
       "85. 'first'\n",
       "86. 'follow'\n",
       "87. 'for'\n",
       "88. 'for.'\n",
       "89. 'found'\n",
       "90. 'friday'\n",
       "91. 'from'\n",
       "92. 'further'\n",
       "93. 'game'\n",
       "94. 'get'\n",
       "95. 'girl'\n",
       "96. 'give'\n",
       "97. 'gone'\n",
       "98. 'gonna'\n",
       "99. 'got'\n",
       "100. 'gotta'\n",
       "\n",
       "\n"
      ],
      "text/plain": [
       "  [1] \"a\"        \"about\"    \"above\"    \"actual\"   \"after\"    \"again\"   \n",
       "  [7] \"against\"  \"all\"      \"alreadi\"  \"also\"     \"alway\"    \"am\"      \n",
       " [13] \"amp\"      \"an\"       \"and\"      \"ani\"      \"anoth\"    \"any\"     \n",
       " [19] \"anyth\"    \"are\"      \"aren't\"   \"around\"   \"as\"       \"at\"      \n",
       " [25] \"aww\"      \"babi\"     \"back\"     \"be\"       \"becaus\"   \"because\" \n",
       " [31] \"bed\"      \"been\"     \"befor\"    \"before\"   \"being\"    \"below\"   \n",
       " [37] \"between\"  \"birthday\" \"bit\"      \"book\"     \"both\"     \"boy\"     \n",
       " [43] \"but\"      \"by\"       \"call\"     \"can\"      \"can't\"    \"cannot\"  \n",
       " [49] \"cant\"     \"car\"      \"check\"    \"com\"      \"come\"     \"could\"   \n",
       " [55] \"couldn't\" \"day\"      \"did\"      \"didn\"     \"didn't\"   \"dinner\"  \n",
       " [61] \"do\"       \"doe\"      \"does\"     \"doesn\"    \"doesn't\"  \"doing\"   \n",
       " [67] \"don\"      \"don't\"    \"done\"     \"dont\"     \"down\"     \"during\"  \n",
       " [73] \"each\"     \"eat\"      \"end\"      \"even\"     \"ever\"     \"everyon\" \n",
       " [79] \"exam\"     \"famili\"   \"feel\"     \"few\"      \"final\"    \"find\"    \n",
       " [85] \"first\"    \"follow\"   \"for\"      \"for.\"     \"found\"    \"friday\"  \n",
       " [91] \"from\"     \"further\"  \"game\"     \"get\"      \"girl\"     \"give\"    \n",
       " [97] \"gone\"     \"gonna\"    \"got\"      \"gotta\"   "
      ]
     },
     "metadata": {},
     "output_type": "display_data"
    }
   ],
   "source": [
    "## Load stop words from a file and ensure they are \n",
    "stopWords = read.csv('stopwords.csv', header = TRUE, stringsAsFactors = FALSE)\n",
    "stopWords = unique(stopWords) # Ensure the list is unique\n",
    "cat(nrow(stopWords))\n",
    "stopWords[1:100,] # Look at the first 100 stop words\n"
   ]
  },
  {
   "cell_type": "markdown",
   "metadata": {},
   "source": [
    "These stop words contain many words which are unlikely to help us determine the sentiment of the tweets. \n",
    "\n",
    "Execute the code in the cell below to rempove the stop words from the corpus of tweets."
   ]
  },
  {
   "cell_type": "code",
   "execution_count": 9,
   "metadata": {
    "collapsed": false
   },
   "outputs": [],
   "source": [
    "## Remove the stop words from the corpus\n",
    "tweet.corpus <- tm_map(tweet.corpus, removeWords, stopWords[, 'words'])"
   ]
  },
  {
   "cell_type": "markdown",
   "metadata": {},
   "source": [
    "Next, execute the code in the cell below to examine the frequency of words in the tweets with the stop words removed. "
   ]
  },
  {
   "cell_type": "code",
   "execution_count": 10,
   "metadata": {
    "collapsed": false
   },
   "outputs": [
    {
     "data": {
      "text/html": [
       "<ol class=list-inline>\n",
       "\t<li>'bad'</li>\n",
       "\t<li>'better'</li>\n",
       "\t<li>'didnt'</li>\n",
       "\t<li>'fun'</li>\n",
       "\t<li>'getting'</li>\n",
       "\t<li>'going'</li>\n",
       "\t<li>'good'</li>\n",
       "\t<li>'great'</li>\n",
       "\t<li>'haha'</li>\n",
       "\t<li>'happy'</li>\n",
       "\t<li>'hope'</li>\n",
       "\t<li>'ill'</li>\n",
       "\t<li>'ive'</li>\n",
       "\t<li>'like'</li>\n",
       "\t<li>'lol'</li>\n",
       "\t<li>'love'</li>\n",
       "\t<li>'miss'</li>\n",
       "\t<li>'morning'</li>\n",
       "\t<li>'nice'</li>\n",
       "\t<li>'really'</li>\n",
       "\t<li>'right'</li>\n",
       "\t<li>'sad'</li>\n",
       "\t<li>'sorry'</li>\n",
       "\t<li>'thanks'</li>\n",
       "\t<li>'thats'</li>\n",
       "\t<li>'watching'</li>\n",
       "\t<li>'well'</li>\n",
       "\t<li>'wish'</li>\n",
       "\t<li>'youre'</li>\n",
       "</ol>\n"
      ],
      "text/latex": [
       "\\begin{enumerate*}\n",
       "\\item 'bad'\n",
       "\\item 'better'\n",
       "\\item 'didnt'\n",
       "\\item 'fun'\n",
       "\\item 'getting'\n",
       "\\item 'going'\n",
       "\\item 'good'\n",
       "\\item 'great'\n",
       "\\item 'haha'\n",
       "\\item 'happy'\n",
       "\\item 'hope'\n",
       "\\item 'ill'\n",
       "\\item 'ive'\n",
       "\\item 'like'\n",
       "\\item 'lol'\n",
       "\\item 'love'\n",
       "\\item 'miss'\n",
       "\\item 'morning'\n",
       "\\item 'nice'\n",
       "\\item 'really'\n",
       "\\item 'right'\n",
       "\\item 'sad'\n",
       "\\item 'sorry'\n",
       "\\item 'thanks'\n",
       "\\item 'thats'\n",
       "\\item 'watching'\n",
       "\\item 'well'\n",
       "\\item 'wish'\n",
       "\\item 'youre'\n",
       "\\end{enumerate*}\n"
      ],
      "text/markdown": [
       "1. 'bad'\n",
       "2. 'better'\n",
       "3. 'didnt'\n",
       "4. 'fun'\n",
       "5. 'getting'\n",
       "6. 'going'\n",
       "7. 'good'\n",
       "8. 'great'\n",
       "9. 'haha'\n",
       "10. 'happy'\n",
       "11. 'hope'\n",
       "12. 'ill'\n",
       "13. 'ive'\n",
       "14. 'like'\n",
       "15. 'lol'\n",
       "16. 'love'\n",
       "17. 'miss'\n",
       "18. 'morning'\n",
       "19. 'nice'\n",
       "20. 'really'\n",
       "21. 'right'\n",
       "22. 'sad'\n",
       "23. 'sorry'\n",
       "24. 'thanks'\n",
       "25. 'thats'\n",
       "26. 'watching'\n",
       "27. 'well'\n",
       "28. 'wish'\n",
       "29. 'youre'\n",
       "\n",
       "\n"
      ],
      "text/plain": [
       " [1] \"bad\"      \"better\"   \"didnt\"    \"fun\"      \"getting\"  \"going\"   \n",
       " [7] \"good\"     \"great\"    \"haha\"     \"happy\"    \"hope\"     \"ill\"     \n",
       "[13] \"ive\"      \"like\"     \"lol\"      \"love\"     \"miss\"     \"morning\" \n",
       "[19] \"nice\"     \"really\"   \"right\"    \"sad\"      \"sorry\"    \"thanks\"  \n",
       "[25] \"thats\"    \"watching\" \"well\"     \"wish\"     \"youre\"   "
      ]
     },
     "metadata": {},
     "output_type": "display_data"
    },
    {
     "data": {
      "text/html": [
       "<table>\n",
       "<thead><tr><th></th><th scope=col>word</th><th scope=col>frequency</th><th scope=col>Cumulative</th></tr></thead>\n",
       "<tbody>\n",
       "\t<tr><th scope=row>good</th><td>good      </td><td>9133      </td><td>0.01014875</td></tr>\n",
       "\t<tr><th scope=row>like</th><td>like      </td><td>7796      </td><td>0.01881180</td></tr>\n",
       "\t<tr><th scope=row>going</th><td>going     </td><td>6407      </td><td>0.02593137</td></tr>\n",
       "\t<tr><th scope=row>love</th><td>love      </td><td>6270      </td><td>0.03289870</td></tr>\n",
       "\t<tr><th scope=row>lol</th><td>lol       </td><td>5518      </td><td>0.03903040</td></tr>\n",
       "\t<tr><th scope=row>really</th><td>really    </td><td>4888      </td><td>0.04446203</td></tr>\n",
       "\t<tr><th scope=row>well</th><td>well      </td><td>4474      </td><td>0.04943361</td></tr>\n",
       "\t<tr><th scope=row>thanks</th><td>thanks    </td><td>3927      </td><td>0.05379736</td></tr>\n",
       "\t<tr><th scope=row>miss</th><td>miss      </td><td>3564      </td><td>0.05775774</td></tr>\n",
       "\t<tr><th scope=row>hope</th><td>hope      </td><td>3408      </td><td>0.06154477</td></tr>\n",
       "</tbody>\n",
       "</table>\n"
      ],
      "text/latex": [
       "\\begin{tabular}{r|lll}\n",
       "  & word & frequency & Cumulative\\\\\n",
       "\\hline\n",
       "\tgood & good       & 9133       & 0.01014875\\\\\n",
       "\tlike & like       & 7796       & 0.01881180\\\\\n",
       "\tgoing & going      & 6407       & 0.02593137\\\\\n",
       "\tlove & love       & 6270       & 0.03289870\\\\\n",
       "\tlol & lol        & 5518       & 0.03903040\\\\\n",
       "\treally & really     & 4888       & 0.04446203\\\\\n",
       "\twell & well       & 4474       & 0.04943361\\\\\n",
       "\tthanks & thanks     & 3927       & 0.05379736\\\\\n",
       "\tmiss & miss       & 3564       & 0.05775774\\\\\n",
       "\thope & hope       & 3408       & 0.06154477\\\\\n",
       "\\end{tabular}\n"
      ],
      "text/markdown": [
       "\n",
       "| <!--/--> | word | frequency | Cumulative | \n",
       "|---|---|---|---|---|---|---|---|---|---|\n",
       "| good | good       | 9133       | 0.01014875 | \n",
       "| like | like       | 7796       | 0.01881180 | \n",
       "| going | going      | 6407       | 0.02593137 | \n",
       "| love | love       | 6270       | 0.03289870 | \n",
       "| lol | lol        | 5518       | 0.03903040 | \n",
       "| really | really     | 4888       | 0.04446203 | \n",
       "| well | well       | 4474       | 0.04943361 | \n",
       "| thanks | thanks     | 3927       | 0.05379736 | \n",
       "| miss | miss       | 3564       | 0.05775774 | \n",
       "| hope | hope       | 3408       | 0.06154477 | \n",
       "\n",
       "\n"
      ],
      "text/plain": [
       "       word   frequency Cumulative\n",
       "good   good   9133      0.01014875\n",
       "like   like   7796      0.01881180\n",
       "going  going  6407      0.02593137\n",
       "love   love   6270      0.03289870\n",
       "lol    lol    5518      0.03903040\n",
       "really really 4888      0.04446203\n",
       "well   well   4474      0.04943361\n",
       "thanks thanks 3927      0.05379736\n",
       "miss   miss   3564      0.05775774\n",
       "hope   hope   3408      0.06154477"
      ]
     },
     "metadata": {},
     "output_type": "display_data"
    },
    {
     "data": {},
     "metadata": {},
     "output_type": "display_data"
    },
    {
     "data": {},
     "metadata": {},
     "output_type": "display_data"
    },
    {
     "data": {
      "image/png": "[encoded data removed]",
      "text/plain": [
       "plot without title"
      ]
     },
     "metadata": {},
     "output_type": "display_data"
    },
    {
     "data": {
      "image/png": "[encoded data removed]",
      "text/plain": [
       "plot without title"
      ]
     },
     "metadata": {},
     "output_type": "display_data"
    }
   ],
   "source": [
    "## View the results\n",
    "tdm = to.tdm(tweet.corpus) # Create a term document matrix\n",
    "findFreqTerms(tdm, 2000) # Words that occur at least 2000 times\n",
    "wf = to.wf(tdm)  # Compute word fequency\n",
    "head(wf, n = 10)  # Look at the most common words\n",
    "word.bar(wf) # Plot word frequency\n",
    "word.cdf(wf) # Plot cdf"
   ]
  },
  {
   "cell_type": "markdown",
   "metadata": {},
   "source": [
    "Now, the most frequent words appear to have symantic meaning and will help us determine tweet sentiment. "
   ]
  },
  {
   "cell_type": "markdown",
   "metadata": {},
   "source": [
    "### Steming words\n",
    "\n",
    "Word can appear in different forms. For example, the differnt tenses of a verb are the same word, but use different spelling. Dispite the different spelling, the word has the same meaning and symantics. \n",
    "\n",
    "To ensure that the same word is treated the same in an analysis, dispite spelling differences, inflected (or sometimes derived) words are **stemmed** to their roots. \n",
    "  - Stemming was pioneered by Julie Beth Lovens (1968). \n",
    "  - Porter (1980, 2000) is common algorithm for stemming English words.\n",
    "  - Example 1: {relies, relied, rely = reli}\n",
    "  - Example 2: {statistics favorite $\\longrightarrow$ statisti favori}\n",
    "\n",
    "A related process is to **substitute synonyms** is sometimes necessary, but can be tricky. We will not attempt this process in our example. \n",
    "\n",
    "The code in the cell below uses the Porter Stemmer from the SnowballC package to stem the words in our corpus. Exectue this code. "
   ]
  },
  {
   "cell_type": "code",
   "execution_count": 11,
   "metadata": {
    "collapsed": false
   },
   "outputs": [
    {
     "name": "stderr",
     "output_type": "stream",
     "text": [
      "Loading required package: SnowballC\n",
      "Warning message:\n",
      "\"package 'SnowballC' was built under R version 3.3.2\""
     ]
    }
   ],
   "source": [
    "## Use the porter stemmer in Snowball package\n",
    "##\n",
    "require(SnowballC) ## For Porter stemming words\n",
    "tweet.corpus <- tm_map(tweet.corpus, stemDocument)"
   ]
  },
  {
   "cell_type": "markdown",
   "metadata": {},
   "source": [
    "Run the code in the cell below to examine the differences in the word frequency of the tweets following stemming."
   ]
  },
  {
   "cell_type": "code",
   "execution_count": 12,
   "metadata": {
    "collapsed": false,
    "scrolled": true
   },
   "outputs": [
    {
     "data": {
      "text/html": [
       "<ol class=list-inline>\n",
       "\t<li>'bad'</li>\n",
       "\t<li>'better'</li>\n",
       "\t<li>'didnt'</li>\n",
       "\t<li>'feel'</li>\n",
       "\t<li>'friend'</li>\n",
       "\t<li>'fun'</li>\n",
       "\t<li>'get'</li>\n",
       "\t<li>'good'</li>\n",
       "\t<li>'great'</li>\n",
       "\t<li>'haha'</li>\n",
       "\t<li>'happi'</li>\n",
       "\t<li>'hate'</li>\n",
       "\t<li>'hope'</li>\n",
       "\t<li>'ill'</li>\n",
       "\t<li>'ive'</li>\n",
       "\t<li>'like'</li>\n",
       "\t<li>'lol'</li>\n",
       "\t<li>'look'</li>\n",
       "\t<li>'love'</li>\n",
       "\t<li>'miss'</li>\n",
       "\t<li>'morn'</li>\n",
       "\t<li>'nice'</li>\n",
       "\t<li>'peopl'</li>\n",
       "\t<li>'realli'</li>\n",
       "\t<li>'right'</li>\n",
       "\t<li>'sad'</li>\n",
       "\t<li>'sorri'</li>\n",
       "\t<li>'thank'</li>\n",
       "\t<li>'that'</li>\n",
       "\t<li>'tri'</li>\n",
       "\t<li>'watch'</li>\n",
       "\t<li>'well'</li>\n",
       "\t<li>'wish'</li>\n",
       "\t<li>'work'</li>\n",
       "\t<li>'your'</li>\n",
       "</ol>\n"
      ],
      "text/latex": [
       "\\begin{enumerate*}\n",
       "\\item 'bad'\n",
       "\\item 'better'\n",
       "\\item 'didnt'\n",
       "\\item 'feel'\n",
       "\\item 'friend'\n",
       "\\item 'fun'\n",
       "\\item 'get'\n",
       "\\item 'good'\n",
       "\\item 'great'\n",
       "\\item 'haha'\n",
       "\\item 'happi'\n",
       "\\item 'hate'\n",
       "\\item 'hope'\n",
       "\\item 'ill'\n",
       "\\item 'ive'\n",
       "\\item 'like'\n",
       "\\item 'lol'\n",
       "\\item 'look'\n",
       "\\item 'love'\n",
       "\\item 'miss'\n",
       "\\item 'morn'\n",
       "\\item 'nice'\n",
       "\\item 'peopl'\n",
       "\\item 'realli'\n",
       "\\item 'right'\n",
       "\\item 'sad'\n",
       "\\item 'sorri'\n",
       "\\item 'thank'\n",
       "\\item 'that'\n",
       "\\item 'tri'\n",
       "\\item 'watch'\n",
       "\\item 'well'\n",
       "\\item 'wish'\n",
       "\\item 'work'\n",
       "\\item 'your'\n",
       "\\end{enumerate*}\n"
      ],
      "text/markdown": [
       "1. 'bad'\n",
       "2. 'better'\n",
       "3. 'didnt'\n",
       "4. 'feel'\n",
       "5. 'friend'\n",
       "6. 'fun'\n",
       "7. 'get'\n",
       "8. 'good'\n",
       "9. 'great'\n",
       "10. 'haha'\n",
       "11. 'happi'\n",
       "12. 'hate'\n",
       "13. 'hope'\n",
       "14. 'ill'\n",
       "15. 'ive'\n",
       "16. 'like'\n",
       "17. 'lol'\n",
       "18. 'look'\n",
       "19. 'love'\n",
       "20. 'miss'\n",
       "21. 'morn'\n",
       "22. 'nice'\n",
       "23. 'peopl'\n",
       "24. 'realli'\n",
       "25. 'right'\n",
       "26. 'sad'\n",
       "27. 'sorri'\n",
       "28. 'thank'\n",
       "29. 'that'\n",
       "30. 'tri'\n",
       "31. 'watch'\n",
       "32. 'well'\n",
       "33. 'wish'\n",
       "34. 'work'\n",
       "35. 'your'\n",
       "\n",
       "\n"
      ],
      "text/plain": [
       " [1] \"bad\"    \"better\" \"didnt\"  \"feel\"   \"friend\" \"fun\"    \"get\"    \"good\"  \n",
       " [9] \"great\"  \"haha\"   \"happi\"  \"hate\"   \"hope\"   \"ill\"    \"ive\"    \"like\"  \n",
       "[17] \"lol\"    \"look\"   \"love\"   \"miss\"   \"morn\"   \"nice\"   \"peopl\"  \"realli\"\n",
       "[25] \"right\"  \"sad\"    \"sorri\"  \"thank\"  \"that\"   \"tri\"    \"watch\"  \"well\"  \n",
       "[33] \"wish\"   \"work\"   \"your\"  "
      ]
     },
     "metadata": {},
     "output_type": "display_data"
    },
    {
     "data": {
      "text/html": [
       "<table>\n",
       "<thead><tr><th></th><th scope=col>word</th><th scope=col>frequency</th><th scope=col>Cumulative</th></tr></thead>\n",
       "<tbody>\n",
       "\t<tr><th scope=row>good</th><td>good      </td><td>9277      </td><td>0.01039589</td></tr>\n",
       "\t<tr><th scope=row>like</th><td>like      </td><td>8275      </td><td>0.01966893</td></tr>\n",
       "\t<tr><th scope=row>love</th><td>love      </td><td>8057      </td><td>0.02869767</td></tr>\n",
       "\t<tr><th scope=row>lol</th><td>lol       </td><td>5537      </td><td>0.03490248</td></tr>\n",
       "\t<tr><th scope=row>miss</th><td>miss      </td><td>5537      </td><td>0.04110730</td></tr>\n",
       "\t<tr><th scope=row>realli</th><td>realli    </td><td>4888      </td><td>0.04658483</td></tr>\n",
       "\t<tr><th scope=row>well</th><td>well      </td><td>4492      </td><td>0.05161861</td></tr>\n",
       "\t<tr><th scope=row>hope</th><td>hope      </td><td>4491      </td><td>0.05665126</td></tr>\n",
       "\t<tr><th scope=row>thank</th><td>thank     </td><td>4011      </td><td>0.06114602</td></tr>\n",
       "\t<tr><th scope=row>morn</th><td>morn      </td><td>3464      </td><td>0.06502781</td></tr>\n",
       "</tbody>\n",
       "</table>\n"
      ],
      "text/latex": [
       "\\begin{tabular}{r|lll}\n",
       "  & word & frequency & Cumulative\\\\\n",
       "\\hline\n",
       "\tgood & good       & 9277       & 0.01039589\\\\\n",
       "\tlike & like       & 8275       & 0.01966893\\\\\n",
       "\tlove & love       & 8057       & 0.02869767\\\\\n",
       "\tlol & lol        & 5537       & 0.03490248\\\\\n",
       "\tmiss & miss       & 5537       & 0.04110730\\\\\n",
       "\trealli & realli     & 4888       & 0.04658483\\\\\n",
       "\twell & well       & 4492       & 0.05161861\\\\\n",
       "\thope & hope       & 4491       & 0.05665126\\\\\n",
       "\tthank & thank      & 4011       & 0.06114602\\\\\n",
       "\tmorn & morn       & 3464       & 0.06502781\\\\\n",
       "\\end{tabular}\n"
      ],
      "text/markdown": [
       "\n",
       "| <!--/--> | word | frequency | Cumulative | \n",
       "|---|---|---|---|---|---|---|---|---|---|\n",
       "| good | good       | 9277       | 0.01039589 | \n",
       "| like | like       | 8275       | 0.01966893 | \n",
       "| love | love       | 8057       | 0.02869767 | \n",
       "| lol | lol        | 5537       | 0.03490248 | \n",
       "| miss | miss       | 5537       | 0.04110730 | \n",
       "| realli | realli     | 4888       | 0.04658483 | \n",
       "| well | well       | 4492       | 0.05161861 | \n",
       "| hope | hope       | 4491       | 0.05665126 | \n",
       "| thank | thank      | 4011       | 0.06114602 | \n",
       "| morn | morn       | 3464       | 0.06502781 | \n",
       "\n",
       "\n"
      ],
      "text/plain": [
       "       word   frequency Cumulative\n",
       "good   good   9277      0.01039589\n",
       "like   like   8275      0.01966893\n",
       "love   love   8057      0.02869767\n",
       "lol    lol    5537      0.03490248\n",
       "miss   miss   5537      0.04110730\n",
       "realli realli 4888      0.04658483\n",
       "well   well   4492      0.05161861\n",
       "hope   hope   4491      0.05665126\n",
       "thank  thank  4011      0.06114602\n",
       "morn   morn   3464      0.06502781"
      ]
     },
     "metadata": {},
     "output_type": "display_data"
    },
    {
     "data": {},
     "metadata": {},
     "output_type": "display_data"
    },
    {
     "data": {},
     "metadata": {},
     "output_type": "display_data"
    },
    {
     "data": {
      "image/png": "[encoded data removed]",
      "text/plain": [
       "plot without title"
      ]
     },
     "metadata": {},
     "output_type": "display_data"
    },
    {
     "data": {
      "image/png": "[encoded data removed]",
      "text/plain": [
       "plot without title"
      ]
     },
     "metadata": {},
     "output_type": "display_data"
    }
   ],
   "source": [
    "## View the results\n",
    "tdm = to.tdm(tweet.corpus, sparse = 0.99) # Create a term document matrix\n",
    "findFreqTerms(tdm, 2000) # Words that occur at least 2000 times\n",
    "wf = to.wf(tdm)  # Compute word fequency\n",
    "head(wf, n = 10)  # Look at the most common words\n",
    "word.bar(wf) # Plot word frequency\n",
    "word.cdf(wf) # Plot cdf"
   ]
  },
  {
   "cell_type": "code",
   "execution_count": 13,
   "metadata": {
    "collapsed": false
   },
   "outputs": [
    {
     "data": {
      "text/html": [
       "<ol class=list-inline>\n",
       "\t<li>'bad'</li>\n",
       "\t<li>'better'</li>\n",
       "\t<li>'didnt'</li>\n",
       "\t<li>'feel'</li>\n",
       "\t<li>'friend'</li>\n",
       "\t<li>'fun'</li>\n",
       "\t<li>'get'</li>\n",
       "\t<li>'good'</li>\n",
       "\t<li>'great'</li>\n",
       "\t<li>'haha'</li>\n",
       "\t<li>'happi'</li>\n",
       "\t<li>'hate'</li>\n",
       "\t<li>'hope'</li>\n",
       "\t<li>'ill'</li>\n",
       "\t<li>'ive'</li>\n",
       "\t<li>'like'</li>\n",
       "\t<li>'lol'</li>\n",
       "\t<li>'look'</li>\n",
       "\t<li>'love'</li>\n",
       "\t<li>'miss'</li>\n",
       "\t<li>'morn'</li>\n",
       "\t<li>'nice'</li>\n",
       "\t<li>'peopl'</li>\n",
       "\t<li>'realli'</li>\n",
       "\t<li>'right'</li>\n",
       "\t<li>'sad'</li>\n",
       "\t<li>'sorri'</li>\n",
       "\t<li>'thank'</li>\n",
       "\t<li>'that'</li>\n",
       "\t<li>'tri'</li>\n",
       "\t<li>'watch'</li>\n",
       "\t<li>'well'</li>\n",
       "\t<li>'wish'</li>\n",
       "\t<li>'work'</li>\n",
       "\t<li>'your'</li>\n",
       "</ol>\n"
      ],
      "text/latex": [
       "\\begin{enumerate*}\n",
       "\\item 'bad'\n",
       "\\item 'better'\n",
       "\\item 'didnt'\n",
       "\\item 'feel'\n",
       "\\item 'friend'\n",
       "\\item 'fun'\n",
       "\\item 'get'\n",
       "\\item 'good'\n",
       "\\item 'great'\n",
       "\\item 'haha'\n",
       "\\item 'happi'\n",
       "\\item 'hate'\n",
       "\\item 'hope'\n",
       "\\item 'ill'\n",
       "\\item 'ive'\n",
       "\\item 'like'\n",
       "\\item 'lol'\n",
       "\\item 'look'\n",
       "\\item 'love'\n",
       "\\item 'miss'\n",
       "\\item 'morn'\n",
       "\\item 'nice'\n",
       "\\item 'peopl'\n",
       "\\item 'realli'\n",
       "\\item 'right'\n",
       "\\item 'sad'\n",
       "\\item 'sorri'\n",
       "\\item 'thank'\n",
       "\\item 'that'\n",
       "\\item 'tri'\n",
       "\\item 'watch'\n",
       "\\item 'well'\n",
       "\\item 'wish'\n",
       "\\item 'work'\n",
       "\\item 'your'\n",
       "\\end{enumerate*}\n"
      ],
      "text/markdown": [
       "1. 'bad'\n",
       "2. 'better'\n",
       "3. 'didnt'\n",
       "4. 'feel'\n",
       "5. 'friend'\n",
       "6. 'fun'\n",
       "7. 'get'\n",
       "8. 'good'\n",
       "9. 'great'\n",
       "10. 'haha'\n",
       "11. 'happi'\n",
       "12. 'hate'\n",
       "13. 'hope'\n",
       "14. 'ill'\n",
       "15. 'ive'\n",
       "16. 'like'\n",
       "17. 'lol'\n",
       "18. 'look'\n",
       "19. 'love'\n",
       "20. 'miss'\n",
       "21. 'morn'\n",
       "22. 'nice'\n",
       "23. 'peopl'\n",
       "24. 'realli'\n",
       "25. 'right'\n",
       "26. 'sad'\n",
       "27. 'sorri'\n",
       "28. 'thank'\n",
       "29. 'that'\n",
       "30. 'tri'\n",
       "31. 'watch'\n",
       "32. 'well'\n",
       "33. 'wish'\n",
       "34. 'work'\n",
       "35. 'your'\n",
       "\n",
       "\n"
      ],
      "text/plain": [
       " [1] \"bad\"    \"better\" \"didnt\"  \"feel\"   \"friend\" \"fun\"    \"get\"    \"good\"  \n",
       " [9] \"great\"  \"haha\"   \"happi\"  \"hate\"   \"hope\"   \"ill\"    \"ive\"    \"like\"  \n",
       "[17] \"lol\"    \"look\"   \"love\"   \"miss\"   \"morn\"   \"nice\"   \"peopl\"  \"realli\"\n",
       "[25] \"right\"  \"sad\"    \"sorri\"  \"thank\"  \"that\"   \"tri\"    \"watch\"  \"well\"  \n",
       "[33] \"wish\"   \"work\"   \"your\"  "
      ]
     },
     "metadata": {},
     "output_type": "display_data"
    },
    {
     "data": {
      "text/html": [
       "<table>\n",
       "<thead><tr><th></th><th scope=col>word</th><th scope=col>frequency</th><th scope=col>Cumulative</th></tr></thead>\n",
       "<tbody>\n",
       "\t<tr><th scope=row>good</th><td>good      </td><td>9277      </td><td>0.01039589</td></tr>\n",
       "\t<tr><th scope=row>like</th><td>like      </td><td>8275      </td><td>0.01966893</td></tr>\n",
       "\t<tr><th scope=row>love</th><td>love      </td><td>8057      </td><td>0.02869767</td></tr>\n",
       "\t<tr><th scope=row>lol</th><td>lol       </td><td>5537      </td><td>0.03490248</td></tr>\n",
       "\t<tr><th scope=row>miss</th><td>miss      </td><td>5537      </td><td>0.04110730</td></tr>\n",
       "\t<tr><th scope=row>realli</th><td>realli    </td><td>4888      </td><td>0.04658483</td></tr>\n",
       "\t<tr><th scope=row>well</th><td>well      </td><td>4492      </td><td>0.05161861</td></tr>\n",
       "\t<tr><th scope=row>hope</th><td>hope      </td><td>4491      </td><td>0.05665126</td></tr>\n",
       "\t<tr><th scope=row>thank</th><td>thank     </td><td>4011      </td><td>0.06114602</td></tr>\n",
       "\t<tr><th scope=row>morn</th><td>morn      </td><td>3464      </td><td>0.06502781</td></tr>\n",
       "</tbody>\n",
       "</table>\n"
      ],
      "text/latex": [
       "\\begin{tabular}{r|lll}\n",
       "  & word & frequency & Cumulative\\\\\n",
       "\\hline\n",
       "\tgood & good       & 9277       & 0.01039589\\\\\n",
       "\tlike & like       & 8275       & 0.01966893\\\\\n",
       "\tlove & love       & 8057       & 0.02869767\\\\\n",
       "\tlol & lol        & 5537       & 0.03490248\\\\\n",
       "\tmiss & miss       & 5537       & 0.04110730\\\\\n",
       "\trealli & realli     & 4888       & 0.04658483\\\\\n",
       "\twell & well       & 4492       & 0.05161861\\\\\n",
       "\thope & hope       & 4491       & 0.05665126\\\\\n",
       "\tthank & thank      & 4011       & 0.06114602\\\\\n",
       "\tmorn & morn       & 3464       & 0.06502781\\\\\n",
       "\\end{tabular}\n"
      ],
      "text/markdown": [
       "\n",
       "| <!--/--> | word | frequency | Cumulative | \n",
       "|---|---|---|---|---|---|---|---|---|---|\n",
       "| good | good       | 9277       | 0.01039589 | \n",
       "| like | like       | 8275       | 0.01966893 | \n",
       "| love | love       | 8057       | 0.02869767 | \n",
       "| lol | lol        | 5537       | 0.03490248 | \n",
       "| miss | miss       | 5537       | 0.04110730 | \n",
       "| realli | realli     | 4888       | 0.04658483 | \n",
       "| well | well       | 4492       | 0.05161861 | \n",
       "| hope | hope       | 4491       | 0.05665126 | \n",
       "| thank | thank      | 4011       | 0.06114602 | \n",
       "| morn | morn       | 3464       | 0.06502781 | \n",
       "\n",
       "\n"
      ],
      "text/plain": [
       "       word   frequency Cumulative\n",
       "good   good   9277      0.01039589\n",
       "like   like   8275      0.01966893\n",
       "love   love   8057      0.02869767\n",
       "lol    lol    5537      0.03490248\n",
       "miss   miss   5537      0.04110730\n",
       "realli realli 4888      0.04658483\n",
       "well   well   4492      0.05161861\n",
       "hope   hope   4491      0.05665126\n",
       "thank  thank  4011      0.06114602\n",
       "morn   morn   3464      0.06502781"
      ]
     },
     "metadata": {},
     "output_type": "display_data"
    },
    {
     "data": {},
     "metadata": {},
     "output_type": "display_data"
    },
    {
     "data": {},
     "metadata": {},
     "output_type": "display_data"
    },
    {
     "data": {
      "image/png": "[encoded data removed]",
      "text/plain": [
       "plot without title"
      ]
     },
     "metadata": {},
     "output_type": "display_data"
    },
    {
     "data": {
      "image/png": "[encoded data removed]",
      "text/plain": [
       "plot without title"
      ]
     },
     "metadata": {},
     "output_type": "display_data"
    }
   ],
   "source": [
    "## View the results\n",
    "tdm = to.tdm(tweet.corpus, sparse = 0.99) # Create a term document matrix\n",
    "findFreqTerms(tdm, 2000) # Words that occur at least 2000 times\n",
    "wf = to.wf(tdm)  # Compute word fequency\n",
    "head(wf, n = 10)  # Look at the most common words\n",
    "word.bar(wf) # Plot word frequency\n",
    "word.cdf(wf) # Plot cdf"
   ]
  },
  {
   "cell_type": "markdown",
   "metadata": {},
   "source": [
    "### Word Clouds\n",
    "\n",
    "Word clouds are a completely useless display of information that people love to see.\n",
    "\n",
    "![](img/Wordcloud.png)\n",
    "\n",
    "Beware of any presentation using word clounds!"
   ]
  },
  {
   "cell_type": "markdown",
   "metadata": {},
   "source": [
    "## Classification and Sentiment Analysis\n",
    "\n",
    "Now that we have a prepared TDM of the 160,000 tweets, let's build and evaluate models to classify the sentiment of these tweets. An outline of our process is as follows:\n",
    "\n",
    "- Use TDM or TFIDF weighted TDM as features for training the model.\n",
    "- Use marked cases for training and evaluation of model.\n",
    "- Slect a method for sparse matrix requires regularization from the following:\n",
    "  - Feature selection, is impractial since there are over one million features.\n",
    "  - SVD/PCA could be used to reduce dimensionality of the problem.\n",
    "  - In this case we will use the ridge and lasso methods offered in the  elasticnet model.\n",
    "\n",
    "***\n",
    "**Note:** For an in depth discussion of supervised classification of documents using the R `RTextTools` package, see the [2013 article by Jurka et. al.](https://journal.r-project.org/archive/2013-1/collingwood-jurka-boydstun-etal.pdf).\n",
    "***\n",
    "\n"
   ]
  },
  {
   "cell_type": "markdown",
   "metadata": {},
   "source": [
    "The code in the cell below uses the `create_matrix` function from the RTextTools package to create a TDM. The `create_container` function is used to package the model matrix and labels for 120,000 training cases. The remaining  40,000 cases will be used to evaluate the model.\n",
    "\n",
    "Execute the code below. This may take a while."
   ]
  },
  {
   "cell_type": "code",
   "execution_count": 15,
   "metadata": {
    "collapsed": false
   },
   "outputs": [
    {
     "name": "stderr",
     "output_type": "stream",
     "text": [
      "Loading required package: RTextTools\n",
      "Warning message:\n",
      "\"package 'RTextTools' was built under R version 3.3.3\"Loading required package: SparseM\n",
      "Warning message:\n",
      "\"package 'SparseM' was built under R version 3.3.2\"\n",
      "Attaching package: 'SparseM'\n",
      "\n",
      "The following object is masked from 'package:base':\n",
      "\n",
      "    backsolve\n",
      "\n",
      "\n",
      "Attaching package: 'RTextTools'\n",
      "\n",
      "The following objects are masked from 'package:SnowballC':\n",
      "\n",
      "    getStemLanguages, wordStem\n",
      "\n"
     ]
    }
   ],
   "source": [
    "## Compute a tdm\n",
    "require(RTextTools)\n",
    "model.matrix = create_matrix(tweets$tweets, language=\"english\",                               \n",
    "                           removeNumbers=TRUE,\n",
    "                           stemWords=TRUE, \n",
    "                           removeSparseTerms=.998, \n",
    "                           removeStopwords = TRUE, \n",
    "                           stripWhitespace = TRUE,\n",
    "                           toLower = TRUE)                            \n",
    "\n",
    "## Create the a container for the tdm and label\n",
    "tweet.cont = create_container(model.matrix, \n",
    "                              tweets$sentiment, \n",
    "                              trainSize = 1:120000, \n",
    "                              virgin=TRUE)"
   ]
  },
  {
   "cell_type": "markdown",
   "metadata": {},
   "source": [
    "Execute the  code in the cell below to train a glmnet model on the 120,000 training cases in the container."
   ]
  },
  {
   "cell_type": "code",
   "execution_count": 16,
   "metadata": {
    "collapsed": false
   },
   "outputs": [],
   "source": [
    "## Compute a logistic regresson model for sentiment classification\n",
    "tweet.glmnet <- train_model(tweet.cont, \"GLMNET\")"
   ]
  },
  {
   "cell_type": "markdown",
   "metadata": {},
   "source": [
    "The code in the cell below scores the 40,000 tweets not used to train the  model and computes model performance metrics. "
   ]
  },
  {
   "cell_type": "code",
   "execution_count": 17,
   "metadata": {
    "collapsed": false
   },
   "outputs": [],
   "source": [
    "## Test classification\n",
    "tweet.class = classify_model(tweet.cont, tweet.glmnet)\n",
    "tweet.metrics = create_analytics(tweet.cont, tweet.class)"
   ]
  },
  {
   "cell_type": "markdown",
   "metadata": {},
   "source": [
    "Next, run the code in the cell below to display the classification of the tweets. "
   ]
  },
  {
   "cell_type": "code",
   "execution_count": 15,
   "metadata": {
    "collapsed": false
   },
   "outputs": [
    {
     "ename": "ERROR",
     "evalue": "Error in eval(expr, envir, enclos): object 'tweet.metrics' not found\n",
     "output_type": "error",
     "traceback": [
      "Error in eval(expr, envir, enclos): object 'tweet.metrics' not found\nTraceback:\n"
     ]
    }
   ],
   "source": [
    "## Examine some raw metrics\n",
    "tweet.metrics@label_summary\n",
    "cbind(head(tweet.metrics@document_summary, n = 10), head(tweets$sentiment, n = 10))"
   ]
  },
  {
   "cell_type": "markdown",
   "metadata": {},
   "source": [
    "The coded in the cell below commputes the precisio, recall and Fscore of the model for positive and negative tweets. Execute the code and examine the results. "
   ]
  },
  {
   "cell_type": "code",
   "execution_count": 20,
   "metadata": {
    "collapsed": false
   },
   "outputs": [
    {
     "data": {
      "text/html": [
       "<table>\n",
       "<thead><tr><th></th><th scope=col>GLMNET_PRECISION</th><th scope=col>GLMNET_RECALL</th><th scope=col>GLMNET_FSCORE</th></tr></thead>\n",
       "<tbody>\n",
       "\t<tr><th scope=row>0</th><td>0.77</td><td>0.57</td><td>0.66</td></tr>\n",
       "\t<tr><th scope=row>1</th><td>0.66</td><td>0.83</td><td>0.74</td></tr>\n",
       "</tbody>\n",
       "</table>\n"
      ],
      "text/latex": [
       "\\begin{tabular}{r|lll}\n",
       "  & GLMNET\\_PRECISION & GLMNET\\_RECALL & GLMNET\\_FSCORE\\\\\n",
       "\\hline\n",
       "\t0 & 0.77 & 0.57 & 0.66\\\\\n",
       "\t1 & 0.66 & 0.83 & 0.74\\\\\n",
       "\\end{tabular}\n"
      ],
      "text/markdown": [
       "\n",
       "| <!--/--> | GLMNET_PRECISION | GLMNET_RECALL | GLMNET_FSCORE | \n",
       "|---|---|\n",
       "| 0 | 0.77 | 0.57 | 0.66 | \n",
       "| 1 | 0.66 | 0.83 | 0.74 | \n",
       "\n",
       "\n"
      ],
      "text/plain": [
       "  GLMNET_PRECISION GLMNET_RECALL GLMNET_FSCORE\n",
       "0 0.77             0.57          0.66         \n",
       "1 0.66             0.83          0.74         "
      ]
     },
     "metadata": {},
     "output_type": "display_data"
    }
   ],
   "source": [
    "create_precisionRecallSummary(tweet.cont, tweet.class)"
   ]
  },
  {
   "cell_type": "markdown",
   "metadata": {},
   "source": [
    "These figures are not particularly good. Perhaps we can do model using a TFIDF TDM. Exectue the code in the cell below to do just this."
   ]
  },
  {
   "cell_type": "code",
   "execution_count": 19,
   "metadata": {
    "collapsed": false
   },
   "outputs": [
    {
     "name": "stderr",
     "output_type": "stream",
     "text": [
      "Warning message in weighting(x):\n",
      "\"empty document(s): why?????............... mh..what should i do?? 40 more to go where did you go? Here I am! Up in 3d BH with LB up at 6:30am is up and about so, here we go Up in 3D Here again E3 is here! I'm not in it Its over Up and at 'em. Ok, I'm out again. IT'S NOT ME..IT'S YOU Do i have to go? i would have  x They have... Here I am Go for it. all to myself So am I But why? with him 7th for $1600 DD is down. I'm off! k im out! Go UP!! F#@! off 17 again this is me: Why'd you have to go? Not again... It's a 2:2 is up!! I'm out doing some hw before doing some more hw not me? . . . . . and it's on! Up in 3D @yours12099 ???????????????????????????????????????????????????????????? what to do... what did i do What's up? is up and about! I â™¥ you And off I go ! or not... no..its not him ...and we did And there it is IM NOT... WHAT DO I DO???????????????????????????? not again ....she's out to be with you Here i am Its over ... that's all\""
     ]
    }
   ],
   "source": [
    "#----------------------------------------------\n",
    "## Compute TFIDF weighted tdm\n",
    "## Compute a tdm\n",
    "tdm.tools2 = create_matrix(tweets$tweets, \n",
    "                           language=\"english\",                               \n",
    "                           removeNumbers=TRUE,\n",
    "                           stemWords=TRUE, \n",
    "                           removeSparseTerms=.998, \n",
    "                           removeStopwords = TRUE, \n",
    "                           stripWhitespace = TRUE,\n",
    "                           toLower = TRUE,\n",
    "                           weighting = tm::weightTfIdf)"
   ]
  },
  {
   "cell_type": "markdown",
   "metadata": {},
   "source": [
    "Execute the code in the cell below to create a container with 120,000 training cases from the TFIDF TDM. As before, this may take some  time."
   ]
  },
  {
   "cell_type": "code",
   "execution_count": 20,
   "metadata": {
    "collapsed": false
   },
   "outputs": [],
   "source": [
    "## Create the a container for the TfIdf weighted tdm and label\n",
    "tweet.cont = create_container(tdm.tools2,tweets$sentiment, trainSize = 1:120000, virgin=TRUE)"
   ]
  },
  {
   "cell_type": "markdown",
   "metadata": {},
   "source": [
    "Execute the code in the cell below to compute the new model. "
   ]
  },
  {
   "cell_type": "code",
   "execution_count": 21,
   "metadata": {
    "collapsed": false
   },
   "outputs": [],
   "source": [
    "## Compute a logistic regresson model for sentiment classification\n",
    "tweet.glmnet.TfIdf <- train_model(tweet.cont,\"GLMNET\")"
   ]
  },
  {
   "cell_type": "markdown",
   "metadata": {},
   "source": [
    "Execute the code in the cell below to classify the test cases and compute the model performance metrics."
   ]
  },
  {
   "cell_type": "code",
   "execution_count": 22,
   "metadata": {
    "collapsed": false
   },
   "outputs": [],
   "source": [
    "## Test classification\n",
    "tweet.class.TfIdf = classify_model(tweet.cont, tweet.glmnet.TfIdf)\n",
    "tweet.metrics.TfIdf = create_analytics(tweet.cont, tweet.class.TfIdf)"
   ]
  },
  {
   "cell_type": "markdown",
   "metadata": {},
   "source": [
    "Execute code in the cell below to see some of the raw labels and scores for the test cases."
   ]
  },
  {
   "cell_type": "code",
   "execution_count": 23,
   "metadata": {
    "collapsed": false
   },
   "outputs": [
    {
     "data": {
      "text/html": [
       "<table>\n",
       "<thead><tr><th></th><th scope=col>NUM_CONSENSUS_CODED</th><th scope=col>NUM_PROBABILITY_CODED</th></tr></thead>\n",
       "<tbody>\n",
       "\t<tr><th scope=row>0</th><td>45523</td><td>45523</td></tr>\n",
       "\t<tr><th scope=row>1</th><td>74477</td><td>74477</td></tr>\n",
       "</tbody>\n",
       "</table>\n"
      ],
      "text/latex": [
       "\\begin{tabular}{r|ll}\n",
       "  & NUM\\_CONSENSUS\\_CODED & NUM\\_PROBABILITY\\_CODED\\\\\n",
       "\\hline\n",
       "\t0 & 45523 & 45523\\\\\n",
       "\t1 & 74477 & 74477\\\\\n",
       "\\end{tabular}\n"
      ],
      "text/markdown": [
       "\n",
       "| <!--/--> | NUM_CONSENSUS_CODED | NUM_PROBABILITY_CODED | \n",
       "|---|---|\n",
       "| 0 | 45523 | 45523 | \n",
       "| 1 | 74477 | 74477 | \n",
       "\n",
       "\n"
      ],
      "text/plain": [
       "  NUM_CONSENSUS_CODED NUM_PROBABILITY_CODED\n",
       "0 45523               45523                \n",
       "1 74477               74477                "
      ]
     },
     "metadata": {},
     "output_type": "display_data"
    },
    {
     "data": {
      "text/html": [
       "<table>\n",
       "<thead><tr><th scope=col>GLMNET_LABEL</th><th scope=col>GLMNET_PROB</th><th scope=col>CONSENSUS_CODE</th><th scope=col>CONSENSUS_AGREE</th><th scope=col>PROBABILITY_CODE</th></tr></thead>\n",
       "<tbody>\n",
       "\t<tr><td>1        </td><td>0.6957116</td><td>1        </td><td>1        </td><td>1        </td></tr>\n",
       "\t<tr><td>1        </td><td>0.5108559</td><td>1        </td><td>1        </td><td>1        </td></tr>\n",
       "\t<tr><td>0        </td><td>0.6060297</td><td>0        </td><td>1        </td><td>0        </td></tr>\n",
       "\t<tr><td>1        </td><td>0.5108559</td><td>1        </td><td>1        </td><td>1        </td></tr>\n",
       "\t<tr><td>0        </td><td>0.5318078</td><td>0        </td><td>1        </td><td>0        </td></tr>\n",
       "\t<tr><td>0        </td><td>0.5141094</td><td>0        </td><td>1        </td><td>0        </td></tr>\n",
       "\t<tr><td>1        </td><td>0.5108559</td><td>1        </td><td>1        </td><td>1        </td></tr>\n",
       "\t<tr><td>0        </td><td>0.8484554</td><td>0        </td><td>1        </td><td>0        </td></tr>\n",
       "\t<tr><td>1        </td><td>0.5668313</td><td>1        </td><td>1        </td><td>1        </td></tr>\n",
       "\t<tr><td>1        </td><td>0.5108559</td><td>1        </td><td>1        </td><td>1        </td></tr>\n",
       "\t<tr><td>1        </td><td>0.5108559</td><td>1        </td><td>1        </td><td>1        </td></tr>\n",
       "\t<tr><td>1        </td><td>0.5108559</td><td>1        </td><td>1        </td><td>1        </td></tr>\n",
       "\t<tr><td>0        </td><td>0.7313418</td><td>0        </td><td>1        </td><td>0        </td></tr>\n",
       "\t<tr><td>1        </td><td>0.5040757</td><td>1        </td><td>1        </td><td>1        </td></tr>\n",
       "\t<tr><td>1        </td><td>0.6199910</td><td>1        </td><td>1        </td><td>1        </td></tr>\n",
       "\t<tr><td>1        </td><td>0.5350105</td><td>1        </td><td>1        </td><td>1        </td></tr>\n",
       "\t<tr><td>1        </td><td>0.5579269</td><td>1        </td><td>1        </td><td>1        </td></tr>\n",
       "\t<tr><td>1        </td><td>0.6171571</td><td>1        </td><td>1        </td><td>1        </td></tr>\n",
       "\t<tr><td>1        </td><td>0.5810113</td><td>1        </td><td>1        </td><td>1        </td></tr>\n",
       "\t<tr><td>1        </td><td>0.5933531</td><td>1        </td><td>1        </td><td>1        </td></tr>\n",
       "</tbody>\n",
       "</table>\n"
      ],
      "text/latex": [
       "\\begin{tabular}{r|lllll}\n",
       " GLMNET\\_LABEL & GLMNET\\_PROB & CONSENSUS\\_CODE & CONSENSUS\\_AGREE & PROBABILITY\\_CODE\\\\\n",
       "\\hline\n",
       "\t 1         & 0.6957116 & 1         & 1         & 1        \\\\\n",
       "\t 1         & 0.5108559 & 1         & 1         & 1        \\\\\n",
       "\t 0         & 0.6060297 & 0         & 1         & 0        \\\\\n",
       "\t 1         & 0.5108559 & 1         & 1         & 1        \\\\\n",
       "\t 0         & 0.5318078 & 0         & 1         & 0        \\\\\n",
       "\t 0         & 0.5141094 & 0         & 1         & 0        \\\\\n",
       "\t 1         & 0.5108559 & 1         & 1         & 1        \\\\\n",
       "\t 0         & 0.8484554 & 0         & 1         & 0        \\\\\n",
       "\t 1         & 0.5668313 & 1         & 1         & 1        \\\\\n",
       "\t 1         & 0.5108559 & 1         & 1         & 1        \\\\\n",
       "\t 1         & 0.5108559 & 1         & 1         & 1        \\\\\n",
       "\t 1         & 0.5108559 & 1         & 1         & 1        \\\\\n",
       "\t 0         & 0.7313418 & 0         & 1         & 0        \\\\\n",
       "\t 1         & 0.5040757 & 1         & 1         & 1        \\\\\n",
       "\t 1         & 0.6199910 & 1         & 1         & 1        \\\\\n",
       "\t 1         & 0.5350105 & 1         & 1         & 1        \\\\\n",
       "\t 1         & 0.5579269 & 1         & 1         & 1        \\\\\n",
       "\t 1         & 0.6171571 & 1         & 1         & 1        \\\\\n",
       "\t 1         & 0.5810113 & 1         & 1         & 1        \\\\\n",
       "\t 1         & 0.5933531 & 1         & 1         & 1        \\\\\n",
       "\\end{tabular}\n"
      ],
      "text/markdown": [
       "\n",
       "GLMNET_LABEL | GLMNET_PROB | CONSENSUS_CODE | CONSENSUS_AGREE | PROBABILITY_CODE | \n",
       "|---|---|---|---|---|---|---|---|---|---|---|---|---|---|---|---|---|---|---|---|\n",
       "| 1         | 0.6957116 | 1         | 1         | 1         | \n",
       "| 1         | 0.5108559 | 1         | 1         | 1         | \n",
       "| 0         | 0.6060297 | 0         | 1         | 0         | \n",
       "| 1         | 0.5108559 | 1         | 1         | 1         | \n",
       "| 0         | 0.5318078 | 0         | 1         | 0         | \n",
       "| 0         | 0.5141094 | 0         | 1         | 0         | \n",
       "| 1         | 0.5108559 | 1         | 1         | 1         | \n",
       "| 0         | 0.8484554 | 0         | 1         | 0         | \n",
       "| 1         | 0.5668313 | 1         | 1         | 1         | \n",
       "| 1         | 0.5108559 | 1         | 1         | 1         | \n",
       "| 1         | 0.5108559 | 1         | 1         | 1         | \n",
       "| 1         | 0.5108559 | 1         | 1         | 1         | \n",
       "| 0         | 0.7313418 | 0         | 1         | 0         | \n",
       "| 1         | 0.5040757 | 1         | 1         | 1         | \n",
       "| 1         | 0.6199910 | 1         | 1         | 1         | \n",
       "| 1         | 0.5350105 | 1         | 1         | 1         | \n",
       "| 1         | 0.5579269 | 1         | 1         | 1         | \n",
       "| 1         | 0.6171571 | 1         | 1         | 1         | \n",
       "| 1         | 0.5810113 | 1         | 1         | 1         | \n",
       "| 1         | 0.5933531 | 1         | 1         | 1         | \n",
       "\n",
       "\n"
      ],
      "text/plain": [
       "   GLMNET_LABEL GLMNET_PROB CONSENSUS_CODE CONSENSUS_AGREE PROBABILITY_CODE\n",
       "1  1            0.6957116   1              1               1               \n",
       "2  1            0.5108559   1              1               1               \n",
       "3  0            0.6060297   0              1               0               \n",
       "4  1            0.5108559   1              1               1               \n",
       "5  0            0.5318078   0              1               0               \n",
       "6  0            0.5141094   0              1               0               \n",
       "7  1            0.5108559   1              1               1               \n",
       "8  0            0.8484554   0              1               0               \n",
       "9  1            0.5668313   1              1               1               \n",
       "10 1            0.5108559   1              1               1               \n",
       "11 1            0.5108559   1              1               1               \n",
       "12 1            0.5108559   1              1               1               \n",
       "13 0            0.7313418   0              1               0               \n",
       "14 1            0.5040757   1              1               1               \n",
       "15 1            0.6199910   1              1               1               \n",
       "16 1            0.5350105   1              1               1               \n",
       "17 1            0.5579269   1              1               1               \n",
       "18 1            0.6171571   1              1               1               \n",
       "19 1            0.5810113   1              1               1               \n",
       "20 1            0.5933531   1              1               1               "
      ]
     },
     "metadata": {},
     "output_type": "display_data"
    }
   ],
   "source": [
    "## Examine some raw metrics\n",
    "tweet.metrics.TfIdf@label_summary\n",
    "results = head(tweet.metrics.TfIdf@document_summary, n = 20)\n",
    "results"
   ]
  },
  {
   "cell_type": "markdown",
   "metadata": {},
   "source": [
    "Finally, execute the code in the cell below to display the performance metrics for both models. Examine and compare the reuslts."
   ]
  },
  {
   "cell_type": "code",
   "execution_count": 24,
   "metadata": {
    "collapsed": false
   },
   "outputs": [
    {
     "data": {
      "text/html": [
       "<table>\n",
       "<thead><tr><th></th><th scope=col>GLMNET_PRECISION</th><th scope=col>GLMNET_RECALL</th><th scope=col>GLMNET_FSCORE</th></tr></thead>\n",
       "<tbody>\n",
       "\t<tr><th scope=row>0</th><td>0.76</td><td>0.58</td><td>0.66</td></tr>\n",
       "\t<tr><th scope=row>1</th><td>0.66</td><td>0.82</td><td>0.73</td></tr>\n",
       "</tbody>\n",
       "</table>\n"
      ],
      "text/latex": [
       "\\begin{tabular}{r|lll}\n",
       "  & GLMNET\\_PRECISION & GLMNET\\_RECALL & GLMNET\\_FSCORE\\\\\n",
       "\\hline\n",
       "\t0 & 0.76 & 0.58 & 0.66\\\\\n",
       "\t1 & 0.66 & 0.82 & 0.73\\\\\n",
       "\\end{tabular}\n"
      ],
      "text/markdown": [
       "\n",
       "| <!--/--> | GLMNET_PRECISION | GLMNET_RECALL | GLMNET_FSCORE | \n",
       "|---|---|\n",
       "| 0 | 0.76 | 0.58 | 0.66 | \n",
       "| 1 | 0.66 | 0.82 | 0.73 | \n",
       "\n",
       "\n"
      ],
      "text/plain": [
       "  GLMNET_PRECISION GLMNET_RECALL GLMNET_FSCORE\n",
       "0 0.76             0.58          0.66         \n",
       "1 0.66             0.82          0.73         "
      ]
     },
     "metadata": {},
     "output_type": "display_data"
    },
    {
     "data": {
      "text/html": [
       "<table>\n",
       "<thead><tr><th></th><th scope=col>GLMNET_PRECISION</th><th scope=col>GLMNET_RECALL</th><th scope=col>GLMNET_FSCORE</th></tr></thead>\n",
       "<tbody>\n",
       "\t<tr><th scope=row>0</th><td>0.77</td><td>0.57</td><td>0.66</td></tr>\n",
       "\t<tr><th scope=row>1</th><td>0.66</td><td>0.83</td><td>0.74</td></tr>\n",
       "</tbody>\n",
       "</table>\n"
      ],
      "text/latex": [
       "\\begin{tabular}{r|lll}\n",
       "  & GLMNET\\_PRECISION & GLMNET\\_RECALL & GLMNET\\_FSCORE\\\\\n",
       "\\hline\n",
       "\t0 & 0.77 & 0.57 & 0.66\\\\\n",
       "\t1 & 0.66 & 0.83 & 0.74\\\\\n",
       "\\end{tabular}\n"
      ],
      "text/markdown": [
       "\n",
       "| <!--/--> | GLMNET_PRECISION | GLMNET_RECALL | GLMNET_FSCORE | \n",
       "|---|---|\n",
       "| 0 | 0.77 | 0.57 | 0.66 | \n",
       "| 1 | 0.66 | 0.83 | 0.74 | \n",
       "\n",
       "\n"
      ],
      "text/plain": [
       "  GLMNET_PRECISION GLMNET_RECALL GLMNET_FSCORE\n",
       "0 0.77             0.57          0.66         \n",
       "1 0.66             0.83          0.74         "
      ]
     },
     "metadata": {},
     "output_type": "display_data"
    }
   ],
   "source": [
    "m## Look at the confusion matrix and compare to the unweighte tdf model\n",
    "create_precisionmRecallSummary(tweet.cont, tweet.class.TfIdf)\n",
    "create_precisionRecallSummary(tweet.cont, tweet.class)"
   ]
  },
  {
   "cell_type": "markdown",
   "metadata": {},
   "source": [
    "In this case, the use of different TDM weighting has not had much effect. "
   ]
  },
  {
   "cell_type": "markdown",
   "metadata": {},
   "source": [
    "## Topic Models\n",
    "\n",
    "It is often useful to allocate documents to one or more topics. This process can be useful in, say, information retrival and search. Models to perform this allocation to topics are known as **topic models**. \n",
    "\n",
    "A power topic model is know as **Latent Dirichlet Allocation** or **LDA**. LDA is an unsupervised Bayesian learning model.  We can summarize the LDA model as follows:\n",
    "\n",
    "- The LDA model uses a fixed number of (sub) topics, k.\n",
    "- The model computes the posterior probability of a document containing a topic.\n",
    "- The model uses know word frequencies for documents in corpus, e.g. the tdm.\n",
    "- All other variables are estimated or **latent**, including the topics of each document. \n",
    "\n",
    "How does Latent Dirichlet alloction work? It's a Baysian model, so we need to define a likeihood and choose a prior. \n",
    "\n",
    "Our posterior distribution is categorical, since we have many topics. The Dirichlet distribution is the conjugate of the multinomial and categorical distribution\n",
    "\n",
    "All we actually know: $w_{ij}$ is the frequency of a specific word $j$ in document $i$.\n",
    "\n",
    "What we want to know (latent): $\\theta_i$ is the topic distribution of document $i$.\n",
    "\n",
    "We also need to estimate (latent):\n",
    "- $\\phi_k$ is the word distribution for topic $k$\n",
    "- $z_{ij}$ is the topic of the jth word in document $i$\n",
    "\n",
    "The Bayesian model and its priors:\n",
    "\n",
    "- Multinomial model\n",
    "$$z_{ij} \\sim Multinomial(\\theta_i)\\\\\n",
    "w_{ij} \\sim Multinomial(\\phi_k)$$\n",
    "\n",
    "- With Dirichlet priors with parameters a and b:\n",
    "$$\\theta_i \\sim Dirichelet(\\alpha)\\\\\n",
    "\\phi_k \\sim Dirichelet(\\beta)$$\n",
    "\n",
    "Since we don't know the allocation of topics in advance we generally use uniform priors across topics.\n",
    "\n",
    "The Likelihood is taken from the TD matrix.\n",
    "\n",
    "***\n",
    "**Note:** An in depth introduction to fitting topic models with the R `topicmodels` package can be found in the [vignette by Grun and Hornik](https://cran.r-project.org/web/packages/topicmodels/vignettes/topicmodels.pdf).\n",
    "***"
   ]
  },
  {
   "cell_type": "markdown",
   "metadata": {},
   "source": [
    "Let's try an example. In this example we apply LDA to a corpus of 20 business news articles from Reuters news wire concering the oil industry. We will apply an LDA model with 5 topics ($k = 5$). \n",
    "\n",
    "As a first step we will load the corpus of these docments. Execute the code in the cell below to load the corpus and examine the contents of the first document. "
   ]
  },
  {
   "cell_type": "code",
   "execution_count": 15,
   "metadata": {
    "collapsed": false
   },
   "outputs": [
    {
     "name": "stdout",
     "output_type": "stream",
     "text": [
      "Diamond Shamrock Corp said that\n",
      "effective today it had cut its contract prices for crude oil by\n",
      "1.50 dlrs a barrel.\n",
      "    The reduction brings its posted price for West Texas\n",
      "Intermediate to 16.00 dlrs a barrel, the copany said.\n",
      "    \"The price reduction today was made in the light of falling\n",
      "oil product prices and a weak crude oil market,\" a company\n",
      "spokeswoman said.\n",
      "    Diamond is the latest in a line of U.S. oil companies that\n",
      "have cut its contract, or posted, prices over the last two days\n",
      "citing weak oil markets.\n",
      " Reuter\n"
     ]
    }
   ],
   "source": [
    "## Load the data set as a vector corpus of 20 documents\n",
    "library(tm)\n",
    "data(crude)\n",
    "writeLines(as.character(crude[[1]]))"
   ]
  },
  {
   "cell_type": "markdown",
   "metadata": {},
   "source": [
    "Now that the corpus is loaded, let's create a term document matrix. The code in the cell below does just this, including text normalization. Execute this code and examine the results. "
   ]
  },
  {
   "cell_type": "code",
   "execution_count": 16,
   "metadata": {
    "collapsed": false,
    "scrolled": true
   },
   "outputs": [
    {
     "name": "stdout",
     "output_type": "stream",
     "text": [
      "<<TermDocumentMatrix (terms: 9, documents: 10)>>\n",
      "Non-/sparse entries: 17/73\n",
      "Sparsity           : 81%\n",
      "Maximal term length: 8\n",
      "Weighting          : term frequency (tf)\n",
      "Sample             :\n",
      "          Docs\n",
      "Terms      127 144 191 194 211 236 237 242 246 248\n",
      "  dlr        0   0   0   1   0   0   0   0   0   0\n",
      "  dlrs       2   0   1   2   2   2   1   0   0   4\n",
      "  doha       0   0   0   0   0   0   0   0   0   0\n",
      "  dollar     0   0   0   0   0   2   0   1   0   0\n",
      "  domest     0   0   0   0   0   0   1   0   0   0\n",
      "  drawback   0   0   0   0   0   0   0   0   0   0\n",
      "  drop       0   0   0   0   0   1   0   0   0   0\n",
      "  due        0   0   0   0   0   0   1   1   1   0\n",
      "  earli      0   0   0   0   0   0   1   0   1   0\n"
     ]
    }
   ],
   "source": [
    "## Compute the term document matrix\n",
    "crude.tdm = TermDocumentMatrix(crude, control = list(removePunctuation = TRUE,\n",
    "                                                     tolower = TRUE,\n",
    "                                                     removePunctuation = TRUE,\n",
    "                                                     removeNumbers = TRUE,\n",
    "                                                     stopwords = TRUE,\n",
    "                                                     stemming = TRUE))\n",
    "## Have a look at the tdm \n",
    "inspect(crude.tdm[202:210, 1:10])"
   ]
  },
  {
   "cell_type": "markdown",
   "metadata": {},
   "source": [
    "You can see the term frequencies for the selcted words and documents in the display above. As expected, most of the entries in the tdm are zeros. A few words occur more than once. \n",
    "\n",
    "To further examine the occurance of the words in these documents, let's find words which occur 10 or more times. The `findFreqTerms` function does just that. Execute the code in the cell below to see the list of most common terms. "
   ]
  },
  {
   "cell_type": "code",
   "execution_count": 17,
   "metadata": {
    "collapsed": false
   },
   "outputs": [
    {
     "data": {
      "text/html": [
       "<ol class=list-inline>\n",
       "\t<li>'accord'</li>\n",
       "\t<li>'barrel'</li>\n",
       "\t<li>'bpd'</li>\n",
       "\t<li>'crude'</li>\n",
       "\t<li>'dlrs'</li>\n",
       "\t<li>'futur'</li>\n",
       "\t<li>'govern'</li>\n",
       "\t<li>'industri'</li>\n",
       "\t<li>'kuwait'</li>\n",
       "\t<li>'last'</li>\n",
       "\t<li>'market'</li>\n",
       "\t<li>'meet'</li>\n",
       "\t<li>'minist'</li>\n",
       "\t<li>'mln'</li>\n",
       "\t<li>'month'</li>\n",
       "\t<li>'new'</li>\n",
       "\t<li>'offici'</li>\n",
       "\t<li>'oil'</li>\n",
       "\t<li>'one'</li>\n",
       "\t<li>'opec'</li>\n",
       "\t<li>'pct'</li>\n",
       "\t<li>'price'</li>\n",
       "\t<li>'produc'</li>\n",
       "\t<li>'product'</li>\n",
       "\t<li>'quota'</li>\n",
       "\t<li>'report'</li>\n",
       "\t<li>'reserv'</li>\n",
       "\t<li>'reuter'</li>\n",
       "\t<li>'said'</li>\n",
       "\t<li>'saudi'</li>\n",
       "\t<li>'say'</li>\n",
       "\t<li>'sheikh'</li>\n",
       "\t<li>'will'</li>\n",
       "\t<li>'world'</li>\n",
       "\t<li>'year'</li>\n",
       "</ol>\n"
      ],
      "text/latex": [
       "\\begin{enumerate*}\n",
       "\\item 'accord'\n",
       "\\item 'barrel'\n",
       "\\item 'bpd'\n",
       "\\item 'crude'\n",
       "\\item 'dlrs'\n",
       "\\item 'futur'\n",
       "\\item 'govern'\n",
       "\\item 'industri'\n",
       "\\item 'kuwait'\n",
       "\\item 'last'\n",
       "\\item 'market'\n",
       "\\item 'meet'\n",
       "\\item 'minist'\n",
       "\\item 'mln'\n",
       "\\item 'month'\n",
       "\\item 'new'\n",
       "\\item 'offici'\n",
       "\\item 'oil'\n",
       "\\item 'one'\n",
       "\\item 'opec'\n",
       "\\item 'pct'\n",
       "\\item 'price'\n",
       "\\item 'produc'\n",
       "\\item 'product'\n",
       "\\item 'quota'\n",
       "\\item 'report'\n",
       "\\item 'reserv'\n",
       "\\item 'reuter'\n",
       "\\item 'said'\n",
       "\\item 'saudi'\n",
       "\\item 'say'\n",
       "\\item 'sheikh'\n",
       "\\item 'will'\n",
       "\\item 'world'\n",
       "\\item 'year'\n",
       "\\end{enumerate*}\n"
      ],
      "text/markdown": [
       "1. 'accord'\n",
       "2. 'barrel'\n",
       "3. 'bpd'\n",
       "4. 'crude'\n",
       "5. 'dlrs'\n",
       "6. 'futur'\n",
       "7. 'govern'\n",
       "8. 'industri'\n",
       "9. 'kuwait'\n",
       "10. 'last'\n",
       "11. 'market'\n",
       "12. 'meet'\n",
       "13. 'minist'\n",
       "14. 'mln'\n",
       "15. 'month'\n",
       "16. 'new'\n",
       "17. 'offici'\n",
       "18. 'oil'\n",
       "19. 'one'\n",
       "20. 'opec'\n",
       "21. 'pct'\n",
       "22. 'price'\n",
       "23. 'produc'\n",
       "24. 'product'\n",
       "25. 'quota'\n",
       "26. 'report'\n",
       "27. 'reserv'\n",
       "28. 'reuter'\n",
       "29. 'said'\n",
       "30. 'saudi'\n",
       "31. 'say'\n",
       "32. 'sheikh'\n",
       "33. 'will'\n",
       "34. 'world'\n",
       "35. 'year'\n",
       "\n",
       "\n"
      ],
      "text/plain": [
       " [1] \"accord\"   \"barrel\"   \"bpd\"      \"crude\"    \"dlrs\"     \"futur\"   \n",
       " [7] \"govern\"   \"industri\" \"kuwait\"   \"last\"     \"market\"   \"meet\"    \n",
       "[13] \"minist\"   \"mln\"      \"month\"    \"new\"      \"offici\"   \"oil\"     \n",
       "[19] \"one\"      \"opec\"     \"pct\"      \"price\"    \"produc\"   \"product\" \n",
       "[25] \"quota\"    \"report\"   \"reserv\"   \"reuter\"   \"said\"     \"saudi\"   \n",
       "[31] \"say\"      \"sheikh\"   \"will\"     \"world\"    \"year\"    "
      ]
     },
     "metadata": {},
     "output_type": "display_data"
    }
   ],
   "source": [
    "## Which terms occur 10 times or more?\n",
    "crudeTDMHighFreq <- findFreqTerms(crude.tdm, 10, Inf)\n",
    "crudeTDMHighFreq"
   ]
  },
  {
   "cell_type": "markdown",
   "metadata": {},
   "source": [
    "To furter investigate the distribution of these most frequent terms, we can create a tdm for them for the first 5 documents in the corpus. Execute the code in the cell below and examine the results. "
   ]
  },
  {
   "cell_type": "code",
   "execution_count": 19,
   "metadata": {
    "collapsed": false
   },
   "outputs": [
    {
     "name": "stdout",
     "output_type": "stream",
     "text": [
      "<<TermDocumentMatrix (terms: 35, documents: 20)>>\n",
      "Non-/sparse entries: 298/402\n",
      "Sparsity           : 57%\n",
      "Maximal term length: 8\n",
      "Weighting          : term frequency (tf)\n",
      "Sample             :\n",
      "        Docs\n",
      "Terms    144 236 237 246 248 273 352 353 502 704\n",
      "  barrel   0   4   0   1   3   3   1   1   3   0\n",
      "  bpd      4   7   0   0   2   8   0   2   0   0\n",
      "  dlrs     0   2   1   0   4   2   0   0   1   0\n",
      "  last     1   4   3   2   1   7   1   1   0   0\n",
      "  market   5   3   0   0  10   1   2   0   0   3\n",
      "  mln      4   4   1   0   3   9   0   0   3   0\n",
      "  oil     12   7   3   5   9   5   5   4   5   3\n",
      "  opec    15   8   1   2   6   5   2   4   0   0\n",
      "  price    6   8   1   2  10   5   5   2   3   3\n",
      "  said    11  10   1   5   7   8   2   1   2   4\n"
     ]
    }
   ],
   "source": [
    "# Do these terms show up in the first 5 documents?\n",
    "inspect(crude.tdm[crudeTDMHighFreq, 1:20]) "
   ]
  },
  {
   "cell_type": "markdown",
   "metadata": {},
   "source": [
    "Even for these most frequent terms the tdm is sparse. \n",
    "\n",
    "The LDA model actually uses a DTM (as opposed to the TDM). Execute the code in the cell below to compute the DTM. "
   ]
  },
  {
   "cell_type": "code",
   "execution_count": 20,
   "metadata": {
    "collapsed": false
   },
   "outputs": [
    {
     "data": {
      "text/plain": [
       "<<DocumentTermMatrix (documents: 20, terms: 1000)>>\n",
       "Non-/sparse entries: 1738/18262\n",
       "Sparsity           : 91%\n",
       "Maximal term length: 16\n",
       "Weighting          : term frequency (tf)"
      ]
     },
     "metadata": {},
     "output_type": "display_data"
    }
   ],
   "source": [
    "## Compute the DTM\n",
    "crude.dtm = DocumentTermMatrix(crude, control = list(removePunctuation = TRUE,\n",
    "                                                     stopwords = TRUE))\n",
    "crude.dtm  ## Check the drm"
   ]
  },
  {
   "cell_type": "markdown",
   "metadata": {},
   "source": [
    "Notice that there are about 1,700 non zero entries. 91% of the entries in the DTM are zero. \n",
    "\n",
    "Now, we are ready to apply the LDA model to the DTM. The code in the cell below does the following:\n",
    "\n",
    "- Define parameters for the Gibbs sampler used to compute the posterior distribution.\n",
    "- Set the number of topics for the model.\n",
    "- Compute the posterior distribution of the topics. \n",
    "\n",
    "Exectue this code. "
   ]
  },
  {
   "cell_type": "code",
   "execution_count": 21,
   "metadata": {
    "collapsed": false
   },
   "outputs": [
    {
     "name": "stderr",
     "output_type": "stream",
     "text": [
      "Warning message:\n",
      "\"package 'topicmodels' was built under R version 3.3.3\""
     ]
    }
   ],
   "source": [
    "## Apply a topic model to the news articles\n",
    "##load topic models library\n",
    "library(topicmodels)\n",
    "\n",
    "#Set parameters for Gibbs sampling\n",
    "burnin <- 4000\n",
    "iter <- 2000\n",
    "thin <- 500\n",
    "seed <-list(2003,5,63,100001,765)\n",
    "nstart <- 5\n",
    "best <- TRUE\n",
    "\n",
    "#Number of topics\n",
    "k <- 5\n",
    "\n",
    "ldaOut = LDA(crude.dtm, k, method= \"Gibbs\", \n",
    "             control = list(nstart = nstart, \n",
    "                            seed = seed, \n",
    "                            best = best, \n",
    "                            burnin = burnin, \n",
    "                            iter = iter, \n",
    "                            thin=thin))"
   ]
  },
  {
   "cell_type": "markdown",
   "metadata": {
    "collapsed": true
   },
   "source": [
    "Let's examine thhe properties of  this model. Execute the code in the cell below to see the most likely topic for each article."
   ]
  },
  {
   "cell_type": "code",
   "execution_count": 22,
   "metadata": {
    "collapsed": false
   },
   "outputs": [
    {
     "data": {
      "text/html": [
       "<table>\n",
       "<tbody>\n",
       "\t<tr><th scope=row>127</th><td>2</td></tr>\n",
       "\t<tr><th scope=row>144</th><td>1</td></tr>\n",
       "\t<tr><th scope=row>191</th><td>2</td></tr>\n",
       "\t<tr><th scope=row>194</th><td>2</td></tr>\n",
       "\t<tr><th scope=row>211</th><td>4</td></tr>\n",
       "\t<tr><th scope=row>236</th><td>1</td></tr>\n",
       "\t<tr><th scope=row>237</th><td>4</td></tr>\n",
       "\t<tr><th scope=row>242</th><td>3</td></tr>\n",
       "\t<tr><th scope=row>246</th><td>5</td></tr>\n",
       "\t<tr><th scope=row>248</th><td>1</td></tr>\n",
       "\t<tr><th scope=row>273</th><td>1</td></tr>\n",
       "\t<tr><th scope=row>349</th><td>1</td></tr>\n",
       "\t<tr><th scope=row>352</th><td>1</td></tr>\n",
       "\t<tr><th scope=row>353</th><td>1</td></tr>\n",
       "\t<tr><th scope=row>368</th><td>3</td></tr>\n",
       "\t<tr><th scope=row>489</th><td>4</td></tr>\n",
       "\t<tr><th scope=row>502</th><td>4</td></tr>\n",
       "\t<tr><th scope=row>543</th><td>2</td></tr>\n",
       "\t<tr><th scope=row>704</th><td>3</td></tr>\n",
       "\t<tr><th scope=row>708</th><td>2</td></tr>\n",
       "</tbody>\n",
       "</table>\n"
      ],
      "text/latex": [
       "\\begin{tabular}{r|l}\n",
       "\t127 & 2\\\\\n",
       "\t144 & 1\\\\\n",
       "\t191 & 2\\\\\n",
       "\t194 & 2\\\\\n",
       "\t211 & 4\\\\\n",
       "\t236 & 1\\\\\n",
       "\t237 & 4\\\\\n",
       "\t242 & 3\\\\\n",
       "\t246 & 5\\\\\n",
       "\t248 & 1\\\\\n",
       "\t273 & 1\\\\\n",
       "\t349 & 1\\\\\n",
       "\t352 & 1\\\\\n",
       "\t353 & 1\\\\\n",
       "\t368 & 3\\\\\n",
       "\t489 & 4\\\\\n",
       "\t502 & 4\\\\\n",
       "\t543 & 2\\\\\n",
       "\t704 & 3\\\\\n",
       "\t708 & 2\\\\\n",
       "\\end{tabular}\n"
      ],
      "text/markdown": [
       "\n",
       "| 127 | 2 | \n",
       "| 144 | 1 | \n",
       "| 191 | 2 | \n",
       "| 194 | 2 | \n",
       "| 211 | 4 | \n",
       "| 236 | 1 | \n",
       "| 237 | 4 | \n",
       "| 242 | 3 | \n",
       "| 246 | 5 | \n",
       "| 248 | 1 | \n",
       "| 273 | 1 | \n",
       "| 349 | 1 | \n",
       "| 352 | 1 | \n",
       "| 353 | 1 | \n",
       "| 368 | 3 | \n",
       "| 489 | 4 | \n",
       "| 502 | 4 | \n",
       "| 543 | 2 | \n",
       "| 704 | 3 | \n",
       "| 708 | 2 | \n",
       "\n",
       "\n"
      ],
      "text/plain": [
       "    [,1]\n",
       "127 2   \n",
       "144 1   \n",
       "191 2   \n",
       "194 2   \n",
       "211 4   \n",
       "236 1   \n",
       "237 4   \n",
       "242 3   \n",
       "246 5   \n",
       "248 1   \n",
       "273 1   \n",
       "349 1   \n",
       "352 1   \n",
       "353 1   \n",
       "368 3   \n",
       "489 4   \n",
       "502 4   \n",
       "543 2   \n",
       "704 3   \n",
       "708 2   "
      ]
     },
     "metadata": {},
     "output_type": "display_data"
    }
   ],
   "source": [
    "## Examine the topics\n",
    "ldaOut.topics <- as.matrix(topics(ldaOut))\n",
    "ldaOut.topics"
   ]
  },
  {
   "cell_type": "markdown",
   "metadata": {},
   "source": [
    "Next, we can examine the most frequent terms for each of our 5 topics. Exectue the code in the cell below to create a chart of the most frequent terms in each of the 5 topics found by our model."
   ]
  },
  {
   "cell_type": "code",
   "execution_count": 8,
   "metadata": {
    "collapsed": false
   },
   "outputs": [
    {
     "data": {
      "text/html": [
       "<table>\n",
       "<thead><tr><th scope=col>Topic 1</th><th scope=col>Topic 2</th><th scope=col>Topic 3</th><th scope=col>Topic 4</th><th scope=col>Topic 5</th></tr></thead>\n",
       "<tbody>\n",
       "\t<tr><td>said      </td><td>oil       </td><td>will      </td><td>oil       </td><td>barrels   </td></tr>\n",
       "\t<tr><td>opec      </td><td>dlrs      </td><td>one       </td><td>pct       </td><td>sheikh    </td></tr>\n",
       "\t<tr><td>prices    </td><td>last      </td><td>new       </td><td>industry  </td><td>billion   </td></tr>\n",
       "\t<tr><td>oil       </td><td>crude     </td><td>prices    </td><td>mln       </td><td>petroleum </td></tr>\n",
       "\t<tr><td>bpd       </td><td>reuter    </td><td>futures   </td><td>group     </td><td>gulf      </td></tr>\n",
       "\t<tr><td>mln       </td><td>barrel    </td><td>production</td><td>report    </td><td>riyals    </td></tr>\n",
       "</tbody>\n",
       "</table>\n"
      ],
      "text/latex": [
       "\\begin{tabular}{lllll}\n",
       " Topic 1 & Topic 2 & Topic 3 & Topic 4 & Topic 5\\\\\n",
       "\\hline\n",
       "\t said       & oil        & will       & oil        & barrels   \\\\\n",
       "\t opec       & dlrs       & one        & pct        & sheikh    \\\\\n",
       "\t prices     & last       & new        & industry   & billion   \\\\\n",
       "\t oil        & crude      & prices     & mln        & petroleum \\\\\n",
       "\t bpd        & reuter     & futures    & group      & gulf      \\\\\n",
       "\t mln        & barrel     & production & report     & riyals    \\\\\n",
       "\\end{tabular}\n"
      ],
      "text/markdown": [
       "\n",
       "Topic 1 | Topic 2 | Topic 3 | Topic 4 | Topic 5 | \n",
       "|---|---|---|---|---|---|\n",
       "| said       | oil        | will       | oil        | barrels    | \n",
       "| opec       | dlrs       | one        | pct        | sheikh     | \n",
       "| prices     | last       | new        | industry   | billion    | \n",
       "| oil        | crude      | prices     | mln        | petroleum  | \n",
       "| bpd        | reuter     | futures    | group      | gulf       | \n",
       "| mln        | barrel     | production | report     | riyals     | \n",
       "\n",
       "\n"
      ],
      "text/plain": [
       "     Topic 1 Topic 2 Topic 3    Topic 4  Topic 5  \n",
       "[1,] said    oil     will       oil      barrels  \n",
       "[2,] opec    dlrs    one        pct      sheikh   \n",
       "[3,] prices  last    new        industry billion  \n",
       "[4,] oil     crude   prices     mln      petroleum\n",
       "[5,] bpd     reuter  futures    group    gulf     \n",
       "[6,] mln     barrel  production report   riyals   "
      ]
     },
     "metadata": {},
     "output_type": "display_data"
    }
   ],
   "source": [
    "## And the terms\n",
    "ldaOut.terms <- as.matrix(terms(ldaOut,6))\n",
    "head(ldaOut.terms)"
   ]
  },
  {
   "cell_type": "code",
   "execution_count": 9,
   "metadata": {
    "collapsed": false
   },
   "outputs": [
    {
     "data": {
      "text/html": [
       "<table>\n",
       "<thead><tr><th scope=col>V1</th><th scope=col>V2</th><th scope=col>V3</th><th scope=col>V4</th><th scope=col>V5</th></tr></thead>\n",
       "<tbody>\n",
       "\t<tr><td>0.1926606 </td><td>0.4128440 </td><td>0.1284404 </td><td>0.13761468</td><td>0.1284404 </td></tr>\n",
       "\t<tr><td>0.3501577 </td><td>0.1324921 </td><td>0.3217666 </td><td>0.08201893</td><td>0.1135647 </td></tr>\n",
       "\t<tr><td>0.1460674 </td><td>0.4382022 </td><td>0.1460674 </td><td>0.11235955</td><td>0.1573034 </td></tr>\n",
       "\t<tr><td>0.1145833 </td><td>0.4687500 </td><td>0.1562500 </td><td>0.11458333</td><td>0.1458333 </td></tr>\n",
       "\t<tr><td>0.1619048 </td><td>0.2000000 </td><td>0.1047619 </td><td>0.38095238</td><td>0.1523810 </td></tr>\n",
       "\t<tr><td>0.4920635 </td><td>0.1650794 </td><td>0.1333333 </td><td>0.04761905</td><td>0.1619048 </td></tr>\n",
       "</tbody>\n",
       "</table>\n"
      ],
      "text/latex": [
       "\\begin{tabular}{r|lllll}\n",
       " V1 & V2 & V3 & V4 & V5\\\\\n",
       "\\hline\n",
       "\t 0.1926606  & 0.4128440  & 0.1284404  & 0.13761468 & 0.1284404 \\\\\n",
       "\t 0.3501577  & 0.1324921  & 0.3217666  & 0.08201893 & 0.1135647 \\\\\n",
       "\t 0.1460674  & 0.4382022  & 0.1460674  & 0.11235955 & 0.1573034 \\\\\n",
       "\t 0.1145833  & 0.4687500  & 0.1562500  & 0.11458333 & 0.1458333 \\\\\n",
       "\t 0.1619048  & 0.2000000  & 0.1047619  & 0.38095238 & 0.1523810 \\\\\n",
       "\t 0.4920635  & 0.1650794  & 0.1333333  & 0.04761905 & 0.1619048 \\\\\n",
       "\\end{tabular}\n"
      ],
      "text/markdown": [
       "\n",
       "V1 | V2 | V3 | V4 | V5 | \n",
       "|---|---|---|---|---|---|\n",
       "| 0.1926606  | 0.4128440  | 0.1284404  | 0.13761468 | 0.1284404  | \n",
       "| 0.3501577  | 0.1324921  | 0.3217666  | 0.08201893 | 0.1135647  | \n",
       "| 0.1460674  | 0.4382022  | 0.1460674  | 0.11235955 | 0.1573034  | \n",
       "| 0.1145833  | 0.4687500  | 0.1562500  | 0.11458333 | 0.1458333  | \n",
       "| 0.1619048  | 0.2000000  | 0.1047619  | 0.38095238 | 0.1523810  | \n",
       "| 0.4920635  | 0.1650794  | 0.1333333  | 0.04761905 | 0.1619048  | \n",
       "\n",
       "\n"
      ],
      "text/plain": [
       "  V1        V2        V3        V4         V5       \n",
       "1 0.1926606 0.4128440 0.1284404 0.13761468 0.1284404\n",
       "2 0.3501577 0.1324921 0.3217666 0.08201893 0.1135647\n",
       "3 0.1460674 0.4382022 0.1460674 0.11235955 0.1573034\n",
       "4 0.1145833 0.4687500 0.1562500 0.11458333 0.1458333\n",
       "5 0.1619048 0.2000000 0.1047619 0.38095238 0.1523810\n",
       "6 0.4920635 0.1650794 0.1333333 0.04761905 0.1619048"
      ]
     },
     "metadata": {},
     "output_type": "display_data"
    }
   ],
   "source": [
    "#probabilities associated with each topic assignment\n",
    "topicProbabilities <- as.data.frame(ldaOut@gamma)\n",
    "head(topicProbabilities)"
   ]
  },
  {
   "cell_type": "code",
   "execution_count": 10,
   "metadata": {
    "collapsed": false
   },
   "outputs": [
    {
     "data": {
      "text/html": [
       "<dl class=dl-horizontal>\n",
       "\t<dt>V2</dt>\n",
       "\t\t<dd>2.14285714285714</dd>\n",
       "\t<dt>V1</dt>\n",
       "\t\t<dd>1.08823529411765</dd>\n",
       "\t<dt>V2</dt>\n",
       "\t\t<dd>2.78571428571429</dd>\n",
       "\t<dt>V2</dt>\n",
       "\t\t<dd>3</dd>\n",
       "\t<dt>V4</dt>\n",
       "\t\t<dd>1.9047619047619</dd>\n",
       "\t<dt>V1</dt>\n",
       "\t\t<dd>2.98076923076923</dd>\n",
       "\t<dt>V4</dt>\n",
       "\t\t<dd>3.90909090909091</dd>\n",
       "\t<dt>V3</dt>\n",
       "\t\t<dd>1.08571428571429</dd>\n",
       "\t<dt>V5</dt>\n",
       "\t\t<dd>3.5</dd>\n",
       "\t<dt>V1</dt>\n",
       "\t\t<dd>3.72093023255814</dd>\n",
       "\t<dt>V1</dt>\n",
       "\t\t<dd>1.45569620253165</dd>\n",
       "\t<dt>V1</dt>\n",
       "\t\t<dd>1.5</dd>\n",
       "\t<dt>V1</dt>\n",
       "\t\t<dd>2.71428571428571</dd>\n",
       "\t<dt>V1</dt>\n",
       "\t\t<dd>2.28571428571429</dd>\n",
       "\t<dt>V3</dt>\n",
       "\t\t<dd>1.58333333333333</dd>\n",
       "\t<dt>V4</dt>\n",
       "\t\t<dd>3.19047619047619</dd>\n",
       "\t<dt>V4</dt>\n",
       "\t\t<dd>4.28571428571429</dd>\n",
       "\t<dt>V2</dt>\n",
       "\t\t<dd>2</dd>\n",
       "\t<dt>V3</dt>\n",
       "\t\t<dd>5.23076923076923</dd>\n",
       "\t<dt>V2</dt>\n",
       "\t\t<dd>1.125</dd>\n",
       "</dl>\n"
      ],
      "text/latex": [
       "\\begin{description*}\n",
       "\\item[V2] 2.14285714285714\n",
       "\\item[V1] 1.08823529411765\n",
       "\\item[V2] 2.78571428571429\n",
       "\\item[V2] 3\n",
       "\\item[V4] 1.9047619047619\n",
       "\\item[V1] 2.98076923076923\n",
       "\\item[V4] 3.90909090909091\n",
       "\\item[V3] 1.08571428571429\n",
       "\\item[V5] 3.5\n",
       "\\item[V1] 3.72093023255814\n",
       "\\item[V1] 1.45569620253165\n",
       "\\item[V1] 1.5\n",
       "\\item[V1] 2.71428571428571\n",
       "\\item[V1] 2.28571428571429\n",
       "\\item[V3] 1.58333333333333\n",
       "\\item[V4] 3.19047619047619\n",
       "\\item[V4] 4.28571428571429\n",
       "\\item[V2] 2\n",
       "\\item[V3] 5.23076923076923\n",
       "\\item[V2] 1.125\n",
       "\\end{description*}\n"
      ],
      "text/markdown": [
       "V2\n",
       ":   2.14285714285714V1\n",
       ":   1.08823529411765V2\n",
       ":   2.78571428571429V2\n",
       ":   3V4\n",
       ":   1.9047619047619V1\n",
       ":   2.98076923076923V4\n",
       ":   3.90909090909091V3\n",
       ":   1.08571428571429V5\n",
       ":   3.5V1\n",
       ":   3.72093023255814V1\n",
       ":   1.45569620253165V1\n",
       ":   1.5V1\n",
       ":   2.71428571428571V1\n",
       ":   2.28571428571429V3\n",
       ":   1.58333333333333V4\n",
       ":   3.19047619047619V4\n",
       ":   4.28571428571429V2\n",
       ":   2V3\n",
       ":   5.23076923076923V2\n",
       ":   1.125\n",
       "\n"
      ],
      "text/plain": [
       "      V2       V1       V2       V2       V4       V1       V4       V3 \n",
       "2.142857 1.088235 2.785714 3.000000 1.904762 2.980769 3.909091 1.085714 \n",
       "      V5       V1       V1       V1       V1       V1       V3       V4 \n",
       "3.500000 3.720930 1.455696 1.500000 2.714286 2.285714 1.583333 3.190476 \n",
       "      V4       V2       V3       V2 \n",
       "4.285714 2.000000 5.230769 1.125000 "
      ]
     },
     "metadata": {},
     "output_type": "display_data"
    }
   ],
   "source": [
    "#Find relative importance of top topic\n",
    "topic1ToTopic2 <- lapply(1:nrow(crude.dtm),function(x)\n",
    "  sort(topicProbabilities[x,])[k]/sort(topicProbabilities[x,])[k-1])\n",
    "unlist(topic1ToTopic2)"
   ]
  },
  {
   "cell_type": "code",
   "execution_count": 11,
   "metadata": {
    "collapsed": false
   },
   "outputs": [
    {
     "data": {
      "text/html": [
       "<dl class=dl-horizontal>\n",
       "\t<dt>V1</dt>\n",
       "\t\t<dd>1.4</dd>\n",
       "\t<dt>V3</dt>\n",
       "\t\t<dd>2.42857142857143</dd>\n",
       "\t<dt>V5</dt>\n",
       "\t\t<dd>1.07692307692308</dd>\n",
       "\t<dt>V3</dt>\n",
       "\t\t<dd>1.07142857142857</dd>\n",
       "\t<dt>V2</dt>\n",
       "\t\t<dd>1.23529411764706</dd>\n",
       "\t<dt>V2</dt>\n",
       "\t\t<dd>1.01960784313725</dd>\n",
       "\t<dt>V5</dt>\n",
       "\t\t<dd>1</dd>\n",
       "\t<dt>V1</dt>\n",
       "\t\t<dd>1.16666666666667</dd>\n",
       "\t<dt>V4</dt>\n",
       "\t\t<dd>1.02702702702703</dd>\n",
       "\t<dt>V2</dt>\n",
       "\t\t<dd>1.72</dd>\n",
       "\t<dt>V2</dt>\n",
       "\t\t<dd>1.3859649122807</dd>\n",
       "\t<dt>V5</dt>\n",
       "\t\t<dd>1</dd>\n",
       "\t<dt>V2</dt>\n",
       "\t\t<dd>1.5</dd>\n",
       "\t<dt>V2</dt>\n",
       "\t\t<dd>1.3125</dd>\n",
       "\t<dt>V4</dt>\n",
       "\t\t<dd>1.26315789473684</dd>\n",
       "\t<dt>V3</dt>\n",
       "\t\t<dd>1.23529411764706</dd>\n",
       "\t<dt>V3</dt>\n",
       "\t\t<dd>1.10526315789474</dd>\n",
       "\t<dt>V3</dt>\n",
       "\t\t<dd>1.11111111111111</dd>\n",
       "\t<dt>V5</dt>\n",
       "\t\t<dd>1.18181818181818</dd>\n",
       "\t<dt>V5</dt>\n",
       "\t\t<dd>1.33333333333333</dd>\n",
       "</dl>\n"
      ],
      "text/latex": [
       "\\begin{description*}\n",
       "\\item[V1] 1.4\n",
       "\\item[V3] 2.42857142857143\n",
       "\\item[V5] 1.07692307692308\n",
       "\\item[V3] 1.07142857142857\n",
       "\\item[V2] 1.23529411764706\n",
       "\\item[V2] 1.01960784313725\n",
       "\\item[V5] 1\n",
       "\\item[V1] 1.16666666666667\n",
       "\\item[V4] 1.02702702702703\n",
       "\\item[V2] 1.72\n",
       "\\item[V2] 1.3859649122807\n",
       "\\item[V5] 1\n",
       "\\item[V2] 1.5\n",
       "\\item[V2] 1.3125\n",
       "\\item[V4] 1.26315789473684\n",
       "\\item[V3] 1.23529411764706\n",
       "\\item[V3] 1.10526315789474\n",
       "\\item[V3] 1.11111111111111\n",
       "\\item[V5] 1.18181818181818\n",
       "\\item[V5] 1.33333333333333\n",
       "\\end{description*}\n"
      ],
      "text/markdown": [
       "V1\n",
       ":   1.4V3\n",
       ":   2.42857142857143V5\n",
       ":   1.07692307692308V3\n",
       ":   1.07142857142857V2\n",
       ":   1.23529411764706V2\n",
       ":   1.01960784313725V5\n",
       ":   1V1\n",
       ":   1.16666666666667V4\n",
       ":   1.02702702702703V2\n",
       ":   1.72V2\n",
       ":   1.3859649122807V5\n",
       ":   1V2\n",
       ":   1.5V2\n",
       ":   1.3125V4\n",
       ":   1.26315789473684V3\n",
       ":   1.23529411764706V3\n",
       ":   1.10526315789474V3\n",
       ":   1.11111111111111V5\n",
       ":   1.18181818181818V5\n",
       ":   1.33333333333333\n",
       "\n"
      ],
      "text/plain": [
       "      V1       V3       V5       V3       V2       V2       V5       V1 \n",
       "1.400000 2.428571 1.076923 1.071429 1.235294 1.019608 1.000000 1.166667 \n",
       "      V4       V2       V2       V5       V2       V2       V4       V3 \n",
       "1.027027 1.720000 1.385965 1.000000 1.500000 1.312500 1.263158 1.235294 \n",
       "      V3       V3       V5       V5 \n",
       "1.105263 1.111111 1.181818 1.333333 "
      ]
     },
     "metadata": {},
     "output_type": "display_data"
    }
   ],
   "source": [
    "#Find relative importance of second most important topics\n",
    "topic2ToTopic3 <- lapply(1:nrow(crude.dtm),function(x)\n",
    "  sort(topicProbabilities[x,])[k-1]/sort(topicProbabilities[x,])[k-2])\n",
    "unlist(topic2ToTopic3)"
   ]
  },
  {
   "cell_type": "markdown",
   "metadata": {
    "collapsed": true
   },
   "source": [
    "## Measuring Text Distance\n",
    "\n",
    "Measuring the distance between words in a document is not as stright forward as it might seem. The choice of distance metric can have a significant effect on analytical results. This is particularly the case for unsupervised learning methods like cluster models. \n",
    "\n",
    "Let's look at a few of the commonly used distance metrics. \n",
    "\n",
    "**Hamming Distance**\n",
    "- Line up strings, count number of positions that are the different.\n",
    "- Assumes strings are of the same length.\n",
    "\n",
    "$$𝐻𝑎𝑚𝑚𝑖𝑛𝑔(101101, 100011)=3\\\\\n",
    "𝐻𝑎𝑚𝑚𝑖𝑛𝑔(𝑏𝑒𝑒𝑟,𝑏𝑒𝑎𝑟)=1$$\n",
    "\n",
    "**Levenshtein distance** measures the edit distance between two strings (insertion, deletion, substitution only):\n",
    "\n",
    "$$𝐿𝑒𝑣(𝑏𝑒𝑒𝑟,𝑏𝑒𝑎𝑟)=1\\\\\n",
    "𝐿𝑒𝑣(𝑏𝑎𝑛𝑎𝑛𝑎,𝑏𝑎𝑛)=3$$\n",
    "\n",
    "**Jaccard index** measures the size of intersection of characters divided by size of union of characters.\n",
    "\n",
    "$$J(A, B) = 1 - \\frac{|A \\cap B|}{|A \\cup B|}\\\\\n",
    "J(beer, beer) = 1 - \\frac{3}{4}\\\\\n",
    "J(bannana, ban) = 1 - \\frac{3}{3} \\leftarrow\\ This\\ is\\ a\\ problem$$\n",
    "\n",
    "**Weighted Jaccard Index** For each letter, calculate the minimum times it appears, $m_i$, and the maximum number of times it appears, $M_i$.\n",
    "\n",
    "$$J'(A, B) = 1 - \\frac{\\sum m_i}{\\sum M_i}\\\\\n",
    "J'(beer, bear) = 1 - \\frac{m_a + m_e + m_b + m_r}{M_a + M_e + M_b + M_r}\\\\\n",
    "J'(beer, bear) = 1 - \\frac{0 + 1 + 1 + 1}{1 + 1 + 2 + 1}\\\\\n",
    "J'(bannana, ban) = 1 - \\frac{1 + 1 + 1}{3 + 1 + 2}$$"
   ]
  },
  {
   "cell_type": "markdown",
   "metadata": {
    "collapsed": true
   },
   "source": [
    "#### Copyright 2017, Stephen F Elston. All rights reserved. "
   ]
  }
 ],
 "metadata": {
  "anaconda-cloud": {},
  "kernelspec": {
   "display_name": "R",
   "language": "R",
   "name": "ir"
  },
  "language_info": {
   "codemirror_mode": "r",
   "file_extension": ".r",
   "mimetype": "text/x-r-source",
   "name": "R",
   "pygments_lexer": "r",
   "version": "3.3.1"
  }
 },
 "nbformat": 4,
 "nbformat_minor": 1
}
