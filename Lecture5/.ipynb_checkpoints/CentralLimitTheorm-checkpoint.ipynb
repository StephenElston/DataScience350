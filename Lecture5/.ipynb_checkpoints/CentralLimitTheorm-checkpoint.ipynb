{
 "cells": [
  {
   "cell_type": "markdown",
   "metadata": {},
   "source": [
    "# The Central Limit Theorm\n",
    "\n",
    "### Data Science 350\n",
    "### Stephen Elston\n",
    "\n",
    "## Introduction\n",
    "\n",
    "The Central Limit Theorm is a fundamental relationship which underpins many of principles which make statistical methods work. Put another way, without the Central Limit Theorm much of what we do rountinely would simply not work. Specifically:\n",
    "\n",
    "- CLT enables sampling methods\n",
    "- Without a CLT we could not reliably compute confidence intervals\n",
    "- Most statistical methods and machine learning algorithms rely on CLT. For example, Hypothesis tests rest on the CLT\n",
    "\n",
    "\n",
    "## History\n",
    "\n",
    "The CLT has been around in many forms and was refined for two centuries. The first published version was by de Moiver in 1738. He proved a special case for bernoulli trials.\n",
    "\n",
    "\n",
    "![](img/deMoiver.jpg)\n",
    "\n",
    "Laplace published generalization of the CLT in 1776, 1785 and 1820. A rigorous proof of a version close to the modern form was published by Chebyshev in 1887. Feller and Lévy worked on genralizations and some special cases into the mid 1930s. \n"
   ]
  },
  {
   "cell_type": "markdown",
   "metadata": {},
   "source": [
    "\n",
    "## The CLT\n",
    "\n",
    "Sample a population many times, and the distribution of means of all samples are normally distributed, regardless of the population distribution.\n",
    "\n",
    "More formally, in a simple yet general form we can write the CLT as:\n",
    "\n",
    "$$\\bar{X} = sample\\ mean = \\mu$$\n",
    "\n",
    "$$distribution(\\bar{X})  \\rightarrow  N(\\mu, \\frac{\\sigma}{\\sqrt{n}})$$"
   ]
  },
  {
   "cell_type": "markdown",
   "metadata": {},
   "source": [
    "## A First Example\n",
    "\n",
    "Let's try an example. In this example you will crete and sample a distribution created as a mixure of normals. By the CLT the distribution of the mean of the sample should be Normal, dispite the original distribution.\n",
    "\n",
    "### Generate mixture of Normals\n",
    "\n",
    "The code in the cell below computes 2000 realizations of a distribution from a mixture of Normal. Run the code and examine the histogram."
   ]
  },
  {
   "cell_type": "code",
   "execution_count": null,
   "metadata": {
    "collapsed": false
   },
   "outputs": [],
   "source": [
    "x = c(rnorm(1000),rnorm(1000,mean=3,sd=0.5))\n",
    "plot(density(x)) # Definitely not normal"
   ]
  },
  {
   "cell_type": "markdown",
   "metadata": {},
   "source": [
    "## Sample the distribution and examine means\n",
    "\n",
    "The code in the cell below computes a list of 500 sample means from samples of size 50 from the population distribution. A histogram and Q-Q plot are created from the results are plotted. Run this code and note the results."
   ]
  },
  {
   "cell_type": "code",
   "execution_count": null,
   "metadata": {
    "collapsed": false
   },
   "outputs": [],
   "source": [
    "# generate 500 samples\n",
    "x_samples = lapply(1:500, function(i) sample(x, size=50, replace=TRUE))\n",
    "x_means = sapply(x_samples, mean)\n",
    "breaks = seq(min(x_means), max(x_means), length.out = 40)\n",
    "hist(unlist(x_means), breaks = breaks)\n",
    "qqnorm(unlist(x_means)) # Yay normality!"
   ]
  },
  {
   "cell_type": "markdown",
   "metadata": {},
   "source": [
    "The distriton of the sample means is close to Normal, even though the population is not. \n",
    "\n",
    "### Compute summary statistics\n",
    "\n",
    "Next, run the code in the cell below to compute some summary statistics and examine the result. "
   ]
  },
  {
   "cell_type": "code",
   "execution_count": null,
   "metadata": {
    "collapsed": false
   },
   "outputs": [],
   "source": [
    "pop_mean_estimate = mean(unlist(x_means))\n",
    "pop_mean_estimate\n",
    "pop_mean_sd = sd(unlist(x_means))\n",
    "pop_mean_sd\n",
    "\n",
    "actual_mean = mean(x)\n",
    "actual_mean"
   ]
  },
  {
   "cell_type": "markdown",
   "metadata": {},
   "source": [
    "## Confidence Intervals\n",
    "\n",
    "To create confidence intervals for population means, we use the central limit theorem and create confidence intervals based on the normal distribution.\n",
    "- Repeatedly sample from the population.\n",
    "- Calculate the mean for each sample.\n",
    "- Use the average of the sample means as the population estimate and create a C.I. based on the s.d. of the sample means.\n",
    "\n",
    "![](img/CIs.png)\n",
    "\n",
    "Confidence intervals are a way to express uncertainty in population parameters, as estimated by the sample. However, it is **not correct to say:**\n",
    "- “95% of the sample values are in this range.”\n",
    "- “There is a 95% chance that the mean of another \n",
    "     sample will be in this range.”\n",
    "\n",
    "Run the code in the cell below to "
   ]
  },
  {
   "cell_type": "code",
   "execution_count": null,
   "metadata": {
    "collapsed": false
   },
   "outputs": [],
   "source": [
    "alpha = 0.95\n",
    "half_width = qnorm((1+alpha)/2, mean=pop_mean_estimate, sd = pop_mean_sd) - pop_mean_estimate\n",
    "print(paste(\"The half width is \", round(half_width, 3)))\n",
    "\n",
    "ci_low = pop_mean_estimate - half_width\n",
    "ci_high = pop_mean_estimate + half_width\n",
    "\n",
    "print(paste('The actual mean is',round(actual_mean,3)))\n",
    "print(paste('The',alpha,'level CI is (',round(ci_low,3),',',round(ci_high,3),').'))"
   ]
  },
  {
   "cell_type": "markdown",
   "metadata": {},
   "source": [
    "## Your Turn\n",
    "\n",
    "The code in the cell below computes a population from a uniform distribution. Execute this code and examine the density plot."
   ]
  },
  {
   "cell_type": "code",
   "execution_count": null,
   "metadata": {
    "collapsed": false,
    "scrolled": true
   },
   "outputs": [],
   "source": []
  },
  {
   "cell_type": "markdown",
   "metadata": {},
   "source": [
    "In the cell below create code to compute means of the unifor distribution, using 500 samples of size 50. Plot the histogram and Q-Q Normal plots of these means. Run your code several times and notice any changes in the distribution of the means."
   ]
  },
  {
   "cell_type": "code",
   "execution_count": null,
   "metadata": {
    "collapsed": false
   },
   "outputs": [],
   "source": []
  },
  {
   "cell_type": "markdown",
   "metadata": {
    "collapsed": true
   },
   "source": [
    "#### Copyright 2017 Stephen Elston. All rights reserved."
   ]
  },
  {
   "cell_type": "code",
   "execution_count": null,
   "metadata": {
    "collapsed": true
   },
   "outputs": [],
   "source": []
  }
 ],
 "metadata": {
  "anaconda-cloud": {},
  "kernelspec": {
   "display_name": "R",
   "language": "R",
   "name": "ir"
  },
  "language_info": {
   "codemirror_mode": "r",
   "file_extension": ".r",
   "mimetype": "text/x-r-source",
   "name": "R",
   "pygments_lexer": "r",
   "version": "3.3.2"
  }
 },
 "nbformat": 4,
 "nbformat_minor": 1
}
