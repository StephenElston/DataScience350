{
 "cells": [
  {
   "cell_type": "markdown",
   "metadata": {},
   "source": [
    "# Data munging with dplyr\n",
    "\n",
    "### Stephen Elston\n",
    "### Data Science 350\n",
    "\n",
    "## Introduction\n",
    "\n",
    "Data rarely arrives in the form we need for analysis. In fact, it is has been estimated that data scientists spend 80% of their time preparing data. This process of integrating and filtering data is commonly know as data munging. \n",
    "\n",
    "This notebook contains exercises in using dplyr for data munging. The R dplyr package contains a widely used, powerful, flexible and efficient set of functions for data munging. Further, dplyr uses a regular gramar for defining complex data munging pipelines. "
   ]
  },
  {
   "cell_type": "markdown",
   "metadata": {
    "collapsed": true
   },
   "source": [
    "## Why dplyr?\n",
    "\n",
    "As already stated dplyr is a powerful, flexible and efficient R package, specifically designed for data munging. The dplyr package is a subset of the Tidyverse group of data munging and utilitity packages https://cran.r-project.org/web/packages/tidyverse/index.html  \n",
    "\n",
    "\n",
    "\n",
    "Excellent documentation is available for the dplyr package:\n",
    "- An introduciton to dplyr can be found at http://rstudio-pubs-static.s3.amazonaws.com/11068_8bc42d6df61341b2bed45e9a9a3bf9f4.html \n",
    "- The dplyr cheat sheet is an excellent summary and quick reference for dplyr and some other Tidyverse packages: https://www.rstudio.com/wp-content/uploads/2015/02/data-wrangling-cheatsheet.pdf \n",
    "- A number of special topics are covered in the several vignettes you can find in CRAN: https://cran.r-project.org/web/packages/dplyr/index.html"
   ]
  },
  {
   "cell_type": "markdown",
   "metadata": {},
   "source": [
    "## Load the Data Set\n",
    "\n",
    "Use the code in the cell below to load the data set. **Make sure you have the .csv file in your working directory!**"
   ]
  },
  {
   "cell_type": "code",
   "execution_count": 2,
   "metadata": {
    "collapsed": false
   },
   "outputs": [
    {
     "name": "stderr",
     "output_type": "stream",
     "text": [
      "Warning message in lapply(auto.price[, numcols], as.numeric):\n",
      "\"NAs introduced by coercion\"Warning message in lapply(auto.price[, numcols], as.numeric):\n",
      "\"NAs introduced by coercion\"Warning message in lapply(auto.price[, numcols], as.numeric):\n",
      "\"NAs introduced by coercion\"Warning message in lapply(auto.price[, numcols], as.numeric):\n",
      "\"NAs introduced by coercion\"Warning message in lapply(auto.price[, numcols], as.numeric):\n",
      "\"NAs introduced by coercion\""
     ]
    }
   ],
   "source": [
    "read.auto = function(file = 'Automobile price data _Raw_.csv'){\n",
    "  ## Read the csv file\n",
    "  auto.price <- read.csv(file, header = TRUE, \n",
    "                      stringsAsFactors = FALSE)\n",
    "\n",
    "  ## Coerce some character columns to numeric\n",
    "  numcols <- c('price', 'bore', 'stroke', 'horsepower', 'peak.rpm')\n",
    "  auto.price[, numcols] <- lapply(auto.price[, numcols], as.numeric)\n",
    "\n",
    "  ## Remove cases or rows with missing values. In this case we keep the \n",
    "  ## rows which do not have nas. \n",
    "  auto.price[complete.cases(auto.price), ]\n",
    "}\n",
    "auto.price = read.auto()"
   ]
  },
  {
   "cell_type": "markdown",
   "metadata": {},
   "source": [
    "## Verbs in dplyr\n",
    "\n",
    "The dplyr package contains a large number of operators, called verbs, which you can apply to a data frame. The name of each verb is indicative of the action the operator will take. For example, you can apply a boolean filter to the rows of a data fram with the `filter` verb. \n",
    "\n",
    "Each dplyr verb uses a regular gramar or syntax. This means that you don't have to remember a lot of syntactic detail to use dplyr. The basic gramar of each dplyr verb is:\n",
    "\n",
    "$$df.result = verb\\_name(df, arguments)$$\n",
    "\n",
    "where `df` is the original data frame, and `arguments` are the one or more arguments to the operator. Thats all there is to it! \n",
    "\n",
    "In the rest of this section you will apply some of the most commonly used dplyr verbs to the data set. "
   ]
  },
  {
   "cell_type": "markdown",
   "metadata": {},
   "source": [
    "### Filter the data set\n",
    "\n",
    "Here is an example to make this a bit more concrete. The code below applies a dpyr filter to the auto pricing data. The result will only be the cases or rows of autos made by the Audi company. \n",
    "\n",
    "Notice that you can just type the name of the column(s) you need for your boolean filter. You do not need any quotes, or the usual R `df$make` or df[, 'make'] notation. This syntax saves you a lot of typing when you used dplyr compared to the conventional R notation. Additionally, you gain speed and scalability from the more efficient dplyr implementation of the verbs. \n",
    "\n",
    "Execute the code in the cell below and note the result. "
   ]
  },
  {
   "cell_type": "code",
   "execution_count": 3,
   "metadata": {
    "collapsed": false
   },
   "outputs": [
    {
     "name": "stderr",
     "output_type": "stream",
     "text": [
      "Loading required package: dplyr\n",
      "\n",
      "Attaching package: 'dplyr'\n",
      "\n",
      "The following objects are masked from 'package:stats':\n",
      "\n",
      "    filter, lag\n",
      "\n",
      "The following objects are masked from 'package:base':\n",
      "\n",
      "    intersect, setdiff, setequal, union\n",
      "\n"
     ]
    },
    {
     "data": {
      "text/html": [
       "<table>\n",
       "<thead><tr><th scope=col>symboling</th><th scope=col>normalized.losses</th><th scope=col>make</th><th scope=col>fuel.type</th><th scope=col>aspiration</th><th scope=col>num.of.doors</th><th scope=col>body.style</th><th scope=col>drive.wheels</th><th scope=col>engine.location</th><th scope=col>wheel.base</th><th scope=col>...</th><th scope=col>engine.size</th><th scope=col>fuel.system</th><th scope=col>bore</th><th scope=col>stroke</th><th scope=col>compression.ratio</th><th scope=col>horsepower</th><th scope=col>peak.rpm</th><th scope=col>city.mpg</th><th scope=col>highway.mpg</th><th scope=col>price</th></tr></thead>\n",
       "<tbody>\n",
       "\t<tr><td>2    </td><td>164  </td><td>audi </td><td>gas  </td><td>std  </td><td>four </td><td>sedan</td><td>fwd  </td><td>front</td><td> 99.8</td><td>...  </td><td>109  </td><td>mpfi </td><td>3.19 </td><td>3.4  </td><td>10.0 </td><td>102  </td><td>5500 </td><td>24   </td><td>30   </td><td>13950</td></tr>\n",
       "\t<tr><td>2    </td><td>164  </td><td>audi </td><td>gas  </td><td>std  </td><td>four </td><td>sedan</td><td>4wd  </td><td>front</td><td> 99.4</td><td>...  </td><td>136  </td><td>mpfi </td><td>3.19 </td><td>3.4  </td><td> 8.0 </td><td>115  </td><td>5500 </td><td>18   </td><td>22   </td><td>17450</td></tr>\n",
       "\t<tr><td>2    </td><td>?    </td><td>audi </td><td>gas  </td><td>std  </td><td>two  </td><td>sedan</td><td>fwd  </td><td>front</td><td> 99.8</td><td>...  </td><td>136  </td><td>mpfi </td><td>3.19 </td><td>3.4  </td><td> 8.5 </td><td>110  </td><td>5500 </td><td>19   </td><td>25   </td><td>15250</td></tr>\n",
       "\t<tr><td>1    </td><td>158  </td><td>audi </td><td>gas  </td><td>std  </td><td>four </td><td>sedan</td><td>fwd  </td><td>front</td><td>105.8</td><td>...  </td><td>136  </td><td>mpfi </td><td>3.19 </td><td>3.4  </td><td> 8.5 </td><td>110  </td><td>5500 </td><td>19   </td><td>25   </td><td>17710</td></tr>\n",
       "\t<tr><td>1    </td><td>?    </td><td>audi </td><td>gas  </td><td>std  </td><td>four </td><td>wagon</td><td>fwd  </td><td>front</td><td>105.8</td><td>...  </td><td>136  </td><td>mpfi </td><td>3.19 </td><td>3.4  </td><td> 8.5 </td><td>110  </td><td>5500 </td><td>19   </td><td>25   </td><td>18920</td></tr>\n",
       "\t<tr><td>1    </td><td>158  </td><td>audi </td><td>gas  </td><td>turbo</td><td>four </td><td>sedan</td><td>fwd  </td><td>front</td><td>105.8</td><td>...  </td><td>131  </td><td>mpfi </td><td>3.13 </td><td>3.4  </td><td> 8.3 </td><td>140  </td><td>5500 </td><td>17   </td><td>20   </td><td>23875</td></tr>\n",
       "</tbody>\n",
       "</table>\n"
      ],
      "text/latex": [
       "\\begin{tabular}{r|llllllllllllllllllllllllll}\n",
       " symboling & normalized.losses & make & fuel.type & aspiration & num.of.doors & body.style & drive.wheels & engine.location & wheel.base & ... & engine.size & fuel.system & bore & stroke & compression.ratio & horsepower & peak.rpm & city.mpg & highway.mpg & price\\\\\n",
       "\\hline\n",
       "\t 2     & 164   & audi  & gas   & std   & four  & sedan & fwd   & front &  99.8 & ...   & 109   & mpfi  & 3.19  & 3.4   & 10.0  & 102   & 5500  & 24    & 30    & 13950\\\\\n",
       "\t 2     & 164   & audi  & gas   & std   & four  & sedan & 4wd   & front &  99.4 & ...   & 136   & mpfi  & 3.19  & 3.4   &  8.0  & 115   & 5500  & 18    & 22    & 17450\\\\\n",
       "\t 2     & ?     & audi  & gas   & std   & two   & sedan & fwd   & front &  99.8 & ...   & 136   & mpfi  & 3.19  & 3.4   &  8.5  & 110   & 5500  & 19    & 25    & 15250\\\\\n",
       "\t 1     & 158   & audi  & gas   & std   & four  & sedan & fwd   & front & 105.8 & ...   & 136   & mpfi  & 3.19  & 3.4   &  8.5  & 110   & 5500  & 19    & 25    & 17710\\\\\n",
       "\t 1     & ?     & audi  & gas   & std   & four  & wagon & fwd   & front & 105.8 & ...   & 136   & mpfi  & 3.19  & 3.4   &  8.5  & 110   & 5500  & 19    & 25    & 18920\\\\\n",
       "\t 1     & 158   & audi  & gas   & turbo & four  & sedan & fwd   & front & 105.8 & ...   & 131   & mpfi  & 3.13  & 3.4   &  8.3  & 140   & 5500  & 17    & 20    & 23875\\\\\n",
       "\\end{tabular}\n"
      ],
      "text/markdown": [
       "\n",
       "symboling | normalized.losses | make | fuel.type | aspiration | num.of.doors | body.style | drive.wheels | engine.location | wheel.base | ... | engine.size | fuel.system | bore | stroke | compression.ratio | horsepower | peak.rpm | city.mpg | highway.mpg | price | \n",
       "|---|---|---|---|---|---|\n",
       "| 2     | 164   | audi  | gas   | std   | four  | sedan | fwd   | front |  99.8 | ...   | 109   | mpfi  | 3.19  | 3.4   | 10.0  | 102   | 5500  | 24    | 30    | 13950 | \n",
       "| 2     | 164   | audi  | gas   | std   | four  | sedan | 4wd   | front |  99.4 | ...   | 136   | mpfi  | 3.19  | 3.4   |  8.0  | 115   | 5500  | 18    | 22    | 17450 | \n",
       "| 2     | ?     | audi  | gas   | std   | two   | sedan | fwd   | front |  99.8 | ...   | 136   | mpfi  | 3.19  | 3.4   |  8.5  | 110   | 5500  | 19    | 25    | 15250 | \n",
       "| 1     | 158   | audi  | gas   | std   | four  | sedan | fwd   | front | 105.8 | ...   | 136   | mpfi  | 3.19  | 3.4   |  8.5  | 110   | 5500  | 19    | 25    | 17710 | \n",
       "| 1     | ?     | audi  | gas   | std   | four  | wagon | fwd   | front | 105.8 | ...   | 136   | mpfi  | 3.19  | 3.4   |  8.5  | 110   | 5500  | 19    | 25    | 18920 | \n",
       "| 1     | 158   | audi  | gas   | turbo | four  | sedan | fwd   | front | 105.8 | ...   | 131   | mpfi  | 3.13  | 3.4   |  8.3  | 140   | 5500  | 17    | 20    | 23875 | \n",
       "\n",
       "\n"
      ],
      "text/plain": [
       "  symboling normalized.losses make fuel.type aspiration num.of.doors body.style\n",
       "1 2         164               audi gas       std        four         sedan     \n",
       "2 2         164               audi gas       std        four         sedan     \n",
       "3 2         ?                 audi gas       std        two          sedan     \n",
       "4 1         158               audi gas       std        four         sedan     \n",
       "5 1         ?                 audi gas       std        four         wagon     \n",
       "6 1         158               audi gas       turbo      four         sedan     \n",
       "  drive.wheels engine.location wheel.base ... engine.size fuel.system bore\n",
       "1 fwd          front            99.8      ... 109         mpfi        3.19\n",
       "2 4wd          front            99.4      ... 136         mpfi        3.19\n",
       "3 fwd          front            99.8      ... 136         mpfi        3.19\n",
       "4 fwd          front           105.8      ... 136         mpfi        3.19\n",
       "5 fwd          front           105.8      ... 136         mpfi        3.19\n",
       "6 fwd          front           105.8      ... 131         mpfi        3.13\n",
       "  stroke compression.ratio horsepower peak.rpm city.mpg highway.mpg price\n",
       "1 3.4    10.0              102        5500     24       30          13950\n",
       "2 3.4     8.0              115        5500     18       22          17450\n",
       "3 3.4     8.5              110        5500     19       25          15250\n",
       "4 3.4     8.5              110        5500     19       25          17710\n",
       "5 3.4     8.5              110        5500     19       25          18920\n",
       "6 3.4     8.3              140        5500     17       20          23875"
      ]
     },
     "metadata": {},
     "output_type": "display_data"
    }
   ],
   "source": [
    "require(dplyr)\n",
    "df = filter(auto.price, make == 'audi')\n",
    "df"
   ]
  },
  {
   "cell_type": "markdown",
   "metadata": {},
   "source": [
    "The printed output shows the 6 cases of autos made by Audi in the data set. Autos made by all other manufacturers have been filtered out."
   ]
  },
  {
   "cell_type": "markdown",
   "metadata": {},
   "source": [
    "**Your turn!** Create and execute the code in the cell below to filter for autos with 4wd type drive wheels."
   ]
  },
  {
   "cell_type": "code",
   "execution_count": 4,
   "metadata": {
    "collapsed": false
   },
   "outputs": [
    {
     "data": {
      "text/html": [
       "<table>\n",
       "<thead><tr><th scope=col>symboling</th><th scope=col>normalized.losses</th><th scope=col>make</th><th scope=col>fuel.type</th><th scope=col>aspiration</th><th scope=col>num.of.doors</th><th scope=col>body.style</th><th scope=col>drive.wheels</th><th scope=col>engine.location</th><th scope=col>wheel.base</th><th scope=col>...</th><th scope=col>engine.size</th><th scope=col>fuel.system</th><th scope=col>bore</th><th scope=col>stroke</th><th scope=col>compression.ratio</th><th scope=col>horsepower</th><th scope=col>peak.rpm</th><th scope=col>city.mpg</th><th scope=col>highway.mpg</th><th scope=col>price</th></tr></thead>\n",
       "<tbody>\n",
       "\t<tr><td>2        </td><td>164      </td><td>audi     </td><td>gas      </td><td>std      </td><td>four     </td><td>sedan    </td><td>4wd      </td><td>front    </td><td>99.4     </td><td>...      </td><td>136      </td><td>mpfi     </td><td>3.19     </td><td>3.40     </td><td>8.0      </td><td>115      </td><td>5500     </td><td>18       </td><td>22       </td><td>17450    </td></tr>\n",
       "\t<tr><td>2        </td><td>83       </td><td>subaru   </td><td>gas      </td><td>std      </td><td>two      </td><td>hatchback</td><td>4wd      </td><td>front    </td><td>93.3     </td><td>...      </td><td>108      </td><td>2bbl     </td><td>3.62     </td><td>2.64     </td><td>8.7      </td><td> 73      </td><td>4400     </td><td>26       </td><td>31       </td><td> 7603    </td></tr>\n",
       "\t<tr><td>0        </td><td>102      </td><td>subaru   </td><td>gas      </td><td>std      </td><td>four     </td><td>sedan    </td><td>4wd      </td><td>front    </td><td>97.0     </td><td>...      </td><td>108      </td><td>2bbl     </td><td>3.62     </td><td>2.64     </td><td>9.0      </td><td> 82      </td><td>4800     </td><td>24       </td><td>25       </td><td> 9233    </td></tr>\n",
       "\t<tr><td>0        </td><td>102      </td><td>subaru   </td><td>gas      </td><td>turbo    </td><td>four     </td><td>sedan    </td><td>4wd      </td><td>front    </td><td>97.0     </td><td>...      </td><td>108      </td><td>mpfi     </td><td>3.62     </td><td>2.64     </td><td>7.7      </td><td>111      </td><td>4800     </td><td>24       </td><td>29       </td><td>11259    </td></tr>\n",
       "\t<tr><td>0        </td><td>85       </td><td>subaru   </td><td>gas      </td><td>std      </td><td>four     </td><td>wagon    </td><td>4wd      </td><td>front    </td><td>96.9     </td><td>...      </td><td>108      </td><td>2bbl     </td><td>3.62     </td><td>2.64     </td><td>9.0      </td><td> 82      </td><td>4800     </td><td>23       </td><td>29       </td><td> 8013    </td></tr>\n",
       "\t<tr><td>0        </td><td>85       </td><td>subaru   </td><td>gas      </td><td>turbo    </td><td>four     </td><td>wagon    </td><td>4wd      </td><td>front    </td><td>96.9     </td><td>...      </td><td>108      </td><td>mpfi     </td><td>3.62     </td><td>2.64     </td><td>7.7      </td><td>111      </td><td>4800     </td><td>23       </td><td>23       </td><td>11694    </td></tr>\n",
       "\t<tr><td>0        </td><td>81       </td><td>toyota   </td><td>gas      </td><td>std      </td><td>four     </td><td>wagon    </td><td>4wd      </td><td>front    </td><td>95.7     </td><td>...      </td><td> 92      </td><td>2bbl     </td><td>3.05     </td><td>3.03     </td><td>9.0      </td><td> 62      </td><td>4800     </td><td>27       </td><td>32       </td><td> 7898    </td></tr>\n",
       "\t<tr><td>0        </td><td>91       </td><td>toyota   </td><td>gas      </td><td>std      </td><td>four     </td><td>wagon    </td><td>4wd      </td><td>front    </td><td>95.7     </td><td>...      </td><td> 92      </td><td>2bbl     </td><td>3.05     </td><td>3.03     </td><td>9.0      </td><td> 62      </td><td>4800     </td><td>27       </td><td>32       </td><td> 8778    </td></tr>\n",
       "</tbody>\n",
       "</table>\n"
      ],
      "text/latex": [
       "\\begin{tabular}{r|llllllllllllllllllllllllll}\n",
       " symboling & normalized.losses & make & fuel.type & aspiration & num.of.doors & body.style & drive.wheels & engine.location & wheel.base & ... & engine.size & fuel.system & bore & stroke & compression.ratio & horsepower & peak.rpm & city.mpg & highway.mpg & price\\\\\n",
       "\\hline\n",
       "\t 2         & 164       & audi      & gas       & std       & four      & sedan     & 4wd       & front     & 99.4      & ...       & 136       & mpfi      & 3.19      & 3.40      & 8.0       & 115       & 5500      & 18        & 22        & 17450    \\\\\n",
       "\t 2         & 83        & subaru    & gas       & std       & two       & hatchback & 4wd       & front     & 93.3      & ...       & 108       & 2bbl      & 3.62      & 2.64      & 8.7       &  73       & 4400      & 26        & 31        &  7603    \\\\\n",
       "\t 0         & 102       & subaru    & gas       & std       & four      & sedan     & 4wd       & front     & 97.0      & ...       & 108       & 2bbl      & 3.62      & 2.64      & 9.0       &  82       & 4800      & 24        & 25        &  9233    \\\\\n",
       "\t 0         & 102       & subaru    & gas       & turbo     & four      & sedan     & 4wd       & front     & 97.0      & ...       & 108       & mpfi      & 3.62      & 2.64      & 7.7       & 111       & 4800      & 24        & 29        & 11259    \\\\\n",
       "\t 0         & 85        & subaru    & gas       & std       & four      & wagon     & 4wd       & front     & 96.9      & ...       & 108       & 2bbl      & 3.62      & 2.64      & 9.0       &  82       & 4800      & 23        & 29        &  8013    \\\\\n",
       "\t 0         & 85        & subaru    & gas       & turbo     & four      & wagon     & 4wd       & front     & 96.9      & ...       & 108       & mpfi      & 3.62      & 2.64      & 7.7       & 111       & 4800      & 23        & 23        & 11694    \\\\\n",
       "\t 0         & 81        & toyota    & gas       & std       & four      & wagon     & 4wd       & front     & 95.7      & ...       &  92       & 2bbl      & 3.05      & 3.03      & 9.0       &  62       & 4800      & 27        & 32        &  7898    \\\\\n",
       "\t 0         & 91        & toyota    & gas       & std       & four      & wagon     & 4wd       & front     & 95.7      & ...       &  92       & 2bbl      & 3.05      & 3.03      & 9.0       &  62       & 4800      & 27        & 32        &  8778    \\\\\n",
       "\\end{tabular}\n"
      ],
      "text/markdown": [
       "\n",
       "symboling | normalized.losses | make | fuel.type | aspiration | num.of.doors | body.style | drive.wheels | engine.location | wheel.base | ... | engine.size | fuel.system | bore | stroke | compression.ratio | horsepower | peak.rpm | city.mpg | highway.mpg | price | \n",
       "|---|---|---|---|---|---|---|---|\n",
       "| 2         | 164       | audi      | gas       | std       | four      | sedan     | 4wd       | front     | 99.4      | ...       | 136       | mpfi      | 3.19      | 3.40      | 8.0       | 115       | 5500      | 18        | 22        | 17450     | \n",
       "| 2         | 83        | subaru    | gas       | std       | two       | hatchback | 4wd       | front     | 93.3      | ...       | 108       | 2bbl      | 3.62      | 2.64      | 8.7       |  73       | 4400      | 26        | 31        |  7603     | \n",
       "| 0         | 102       | subaru    | gas       | std       | four      | sedan     | 4wd       | front     | 97.0      | ...       | 108       | 2bbl      | 3.62      | 2.64      | 9.0       |  82       | 4800      | 24        | 25        |  9233     | \n",
       "| 0         | 102       | subaru    | gas       | turbo     | four      | sedan     | 4wd       | front     | 97.0      | ...       | 108       | mpfi      | 3.62      | 2.64      | 7.7       | 111       | 4800      | 24        | 29        | 11259     | \n",
       "| 0         | 85        | subaru    | gas       | std       | four      | wagon     | 4wd       | front     | 96.9      | ...       | 108       | 2bbl      | 3.62      | 2.64      | 9.0       |  82       | 4800      | 23        | 29        |  8013     | \n",
       "| 0         | 85        | subaru    | gas       | turbo     | four      | wagon     | 4wd       | front     | 96.9      | ...       | 108       | mpfi      | 3.62      | 2.64      | 7.7       | 111       | 4800      | 23        | 23        | 11694     | \n",
       "| 0         | 81        | toyota    | gas       | std       | four      | wagon     | 4wd       | front     | 95.7      | ...       |  92       | 2bbl      | 3.05      | 3.03      | 9.0       |  62       | 4800      | 27        | 32        |  7898     | \n",
       "| 0         | 91        | toyota    | gas       | std       | four      | wagon     | 4wd       | front     | 95.7      | ...       |  92       | 2bbl      | 3.05      | 3.03      | 9.0       |  62       | 4800      | 27        | 32        |  8778     | \n",
       "\n",
       "\n"
      ],
      "text/plain": [
       "  symboling normalized.losses make   fuel.type aspiration num.of.doors\n",
       "1 2         164               audi   gas       std        four        \n",
       "2 2         83                subaru gas       std        two         \n",
       "3 0         102               subaru gas       std        four        \n",
       "4 0         102               subaru gas       turbo      four        \n",
       "5 0         85                subaru gas       std        four        \n",
       "6 0         85                subaru gas       turbo      four        \n",
       "7 0         81                toyota gas       std        four        \n",
       "8 0         91                toyota gas       std        four        \n",
       "  body.style drive.wheels engine.location wheel.base ... engine.size\n",
       "1 sedan      4wd          front           99.4       ... 136        \n",
       "2 hatchback  4wd          front           93.3       ... 108        \n",
       "3 sedan      4wd          front           97.0       ... 108        \n",
       "4 sedan      4wd          front           97.0       ... 108        \n",
       "5 wagon      4wd          front           96.9       ... 108        \n",
       "6 wagon      4wd          front           96.9       ... 108        \n",
       "7 wagon      4wd          front           95.7       ...  92        \n",
       "8 wagon      4wd          front           95.7       ...  92        \n",
       "  fuel.system bore stroke compression.ratio horsepower peak.rpm city.mpg\n",
       "1 mpfi        3.19 3.40   8.0               115        5500     18      \n",
       "2 2bbl        3.62 2.64   8.7                73        4400     26      \n",
       "3 2bbl        3.62 2.64   9.0                82        4800     24      \n",
       "4 mpfi        3.62 2.64   7.7               111        4800     24      \n",
       "5 2bbl        3.62 2.64   9.0                82        4800     23      \n",
       "6 mpfi        3.62 2.64   7.7               111        4800     23      \n",
       "7 2bbl        3.05 3.03   9.0                62        4800     27      \n",
       "8 2bbl        3.05 3.03   9.0                62        4800     27      \n",
       "  highway.mpg price\n",
       "1 22          17450\n",
       "2 31           7603\n",
       "3 25           9233\n",
       "4 29          11259\n",
       "5 29           8013\n",
       "6 23          11694\n",
       "7 32           7898\n",
       "8 32           8778"
      ]
     },
     "metadata": {},
     "output_type": "display_data"
    }
   ],
   "source": [
    "filter(auto.price, drive.wheels == '4wd')"
   ]
  },
  {
   "cell_type": "markdown",
   "metadata": {},
   "source": [
    "### Take slice from data frame\n",
    "\n",
    "You have just selected cases from a data set based  on a logical relationship. You can also select rows, or cases, using the row number with the  `slice` function. Run the code in the cell below to select a subset of rows."
   ]
  },
  {
   "cell_type": "code",
   "execution_count": 5,
   "metadata": {
    "collapsed": false
   },
   "outputs": [
    {
     "data": {
      "text/html": [
       "<table>\n",
       "<thead><tr><th scope=col>symboling</th><th scope=col>normalized.losses</th><th scope=col>make</th><th scope=col>fuel.type</th><th scope=col>aspiration</th><th scope=col>num.of.doors</th><th scope=col>body.style</th><th scope=col>drive.wheels</th><th scope=col>engine.location</th><th scope=col>wheel.base</th><th scope=col>...</th><th scope=col>engine.size</th><th scope=col>fuel.system</th><th scope=col>bore</th><th scope=col>stroke</th><th scope=col>compression.ratio</th><th scope=col>horsepower</th><th scope=col>peak.rpm</th><th scope=col>city.mpg</th><th scope=col>highway.mpg</th><th scope=col>price</th></tr></thead>\n",
       "<tbody>\n",
       "\t<tr><td> 0       </td><td>81       </td><td>chevrolet</td><td>gas      </td><td>std      </td><td>four     </td><td>sedan    </td><td>fwd      </td><td>front    </td><td> 94.5    </td><td>...      </td><td> 90      </td><td>2bbl     </td><td>3.03     </td><td>3.11     </td><td>9.60     </td><td> 70      </td><td>5400     </td><td>38       </td><td>43       </td><td> 6575    </td></tr>\n",
       "\t<tr><td> 1       </td><td>118      </td><td>dodge    </td><td>gas      </td><td>std      </td><td>two      </td><td>hatchback</td><td>fwd      </td><td>front    </td><td> 93.7    </td><td>...      </td><td> 90      </td><td>2bbl     </td><td>2.97     </td><td>3.23     </td><td>9.41     </td><td> 68      </td><td>5500     </td><td>37       </td><td>41       </td><td> 5572    </td></tr>\n",
       "\t<tr><td> 1       </td><td>118      </td><td>dodge    </td><td>gas      </td><td>std      </td><td>two      </td><td>hatchback</td><td>fwd      </td><td>front    </td><td> 93.7    </td><td>...      </td><td> 90      </td><td>2bbl     </td><td>2.97     </td><td>3.23     </td><td>9.40     </td><td> 68      </td><td>5500     </td><td>31       </td><td>38       </td><td> 6377    </td></tr>\n",
       "\t<tr><td> 1       </td><td>118      </td><td>dodge    </td><td>gas      </td><td>turbo    </td><td>two      </td><td>hatchback</td><td>fwd      </td><td>front    </td><td> 93.7    </td><td>...      </td><td> 98      </td><td>mpfi     </td><td>3.03     </td><td>3.39     </td><td>7.60     </td><td>102      </td><td>5500     </td><td>24       </td><td>30       </td><td> 7957    </td></tr>\n",
       "\t<tr><td> 1       </td><td>148      </td><td>dodge    </td><td>gas      </td><td>std      </td><td>four     </td><td>hatchback</td><td>fwd      </td><td>front    </td><td> 93.7    </td><td>...      </td><td> 90      </td><td>2bbl     </td><td>2.97     </td><td>3.23     </td><td>9.40     </td><td> 68      </td><td>5500     </td><td>31       </td><td>38       </td><td> 6229    </td></tr>\n",
       "\t<tr><td> 1       </td><td>148      </td><td>dodge    </td><td>gas      </td><td>std      </td><td>four     </td><td>sedan    </td><td>fwd      </td><td>front    </td><td> 93.7    </td><td>...      </td><td> 90      </td><td>2bbl     </td><td>2.97     </td><td>3.23     </td><td>9.40     </td><td> 68      </td><td>5500     </td><td>31       </td><td>38       </td><td> 6692    </td></tr>\n",
       "\t<tr><td> 1       </td><td>148      </td><td>dodge    </td><td>gas      </td><td>std      </td><td>four     </td><td>sedan    </td><td>fwd      </td><td>front    </td><td> 93.7    </td><td>...      </td><td> 90      </td><td>2bbl     </td><td>2.97     </td><td>3.23     </td><td>9.40     </td><td> 68      </td><td>5500     </td><td>31       </td><td>38       </td><td> 7609    </td></tr>\n",
       "\t<tr><td> 1       </td><td>148      </td><td>dodge    </td><td>gas      </td><td>turbo    </td><td>?        </td><td>sedan    </td><td>fwd      </td><td>front    </td><td> 93.7    </td><td>...      </td><td> 98      </td><td>mpfi     </td><td>3.03     </td><td>3.39     </td><td>7.60     </td><td>102      </td><td>5500     </td><td>24       </td><td>30       </td><td> 8558    </td></tr>\n",
       "\t<tr><td>-1       </td><td>110      </td><td>dodge    </td><td>gas      </td><td>std      </td><td>four     </td><td>wagon    </td><td>fwd      </td><td>front    </td><td>103.3    </td><td>...      </td><td>122      </td><td>2bbl     </td><td>3.34     </td><td>3.46     </td><td>8.50     </td><td> 88      </td><td>5000     </td><td>24       </td><td>30       </td><td> 8921    </td></tr>\n",
       "\t<tr><td> 3       </td><td>145      </td><td>dodge    </td><td>gas      </td><td>turbo    </td><td>two      </td><td>hatchback</td><td>fwd      </td><td>front    </td><td> 95.9    </td><td>...      </td><td>156      </td><td>mfi      </td><td>3.60     </td><td>3.90     </td><td>7.00     </td><td>145      </td><td>5000     </td><td>19       </td><td>24       </td><td>12964    </td></tr>\n",
       "\t<tr><td> 2       </td><td>137      </td><td>honda    </td><td>gas      </td><td>std      </td><td>two      </td><td>hatchback</td><td>fwd      </td><td>front    </td><td> 86.6    </td><td>...      </td><td> 92      </td><td>1bbl     </td><td>2.91     </td><td>3.41     </td><td>9.60     </td><td> 58      </td><td>4800     </td><td>49       </td><td>54       </td><td> 6479    </td></tr>\n",
       "</tbody>\n",
       "</table>\n"
      ],
      "text/latex": [
       "\\begin{tabular}{r|llllllllllllllllllllllllll}\n",
       " symboling & normalized.losses & make & fuel.type & aspiration & num.of.doors & body.style & drive.wheels & engine.location & wheel.base & ... & engine.size & fuel.system & bore & stroke & compression.ratio & horsepower & peak.rpm & city.mpg & highway.mpg & price\\\\\n",
       "\\hline\n",
       "\t  0        & 81        & chevrolet & gas       & std       & four      & sedan     & fwd       & front     &  94.5     & ...       &  90       & 2bbl      & 3.03      & 3.11      & 9.60      &  70       & 5400      & 38        & 43        &  6575    \\\\\n",
       "\t  1        & 118       & dodge     & gas       & std       & two       & hatchback & fwd       & front     &  93.7     & ...       &  90       & 2bbl      & 2.97      & 3.23      & 9.41      &  68       & 5500      & 37        & 41        &  5572    \\\\\n",
       "\t  1        & 118       & dodge     & gas       & std       & two       & hatchback & fwd       & front     &  93.7     & ...       &  90       & 2bbl      & 2.97      & 3.23      & 9.40      &  68       & 5500      & 31        & 38        &  6377    \\\\\n",
       "\t  1        & 118       & dodge     & gas       & turbo     & two       & hatchback & fwd       & front     &  93.7     & ...       &  98       & mpfi      & 3.03      & 3.39      & 7.60      & 102       & 5500      & 24        & 30        &  7957    \\\\\n",
       "\t  1        & 148       & dodge     & gas       & std       & four      & hatchback & fwd       & front     &  93.7     & ...       &  90       & 2bbl      & 2.97      & 3.23      & 9.40      &  68       & 5500      & 31        & 38        &  6229    \\\\\n",
       "\t  1        & 148       & dodge     & gas       & std       & four      & sedan     & fwd       & front     &  93.7     & ...       &  90       & 2bbl      & 2.97      & 3.23      & 9.40      &  68       & 5500      & 31        & 38        &  6692    \\\\\n",
       "\t  1        & 148       & dodge     & gas       & std       & four      & sedan     & fwd       & front     &  93.7     & ...       &  90       & 2bbl      & 2.97      & 3.23      & 9.40      &  68       & 5500      & 31        & 38        &  7609    \\\\\n",
       "\t  1        & 148       & dodge     & gas       & turbo     & ?         & sedan     & fwd       & front     &  93.7     & ...       &  98       & mpfi      & 3.03      & 3.39      & 7.60      & 102       & 5500      & 24        & 30        &  8558    \\\\\n",
       "\t -1        & 110       & dodge     & gas       & std       & four      & wagon     & fwd       & front     & 103.3     & ...       & 122       & 2bbl      & 3.34      & 3.46      & 8.50      &  88       & 5000      & 24        & 30        &  8921    \\\\\n",
       "\t  3        & 145       & dodge     & gas       & turbo     & two       & hatchback & fwd       & front     &  95.9     & ...       & 156       & mfi       & 3.60      & 3.90      & 7.00      & 145       & 5000      & 19        & 24        & 12964    \\\\\n",
       "\t  2        & 137       & honda     & gas       & std       & two       & hatchback & fwd       & front     &  86.6     & ...       &  92       & 1bbl      & 2.91      & 3.41      & 9.60      &  58       & 4800      & 49        & 54        &  6479    \\\\\n",
       "\\end{tabular}\n"
      ],
      "text/markdown": [
       "\n",
       "symboling | normalized.losses | make | fuel.type | aspiration | num.of.doors | body.style | drive.wheels | engine.location | wheel.base | ... | engine.size | fuel.system | bore | stroke | compression.ratio | horsepower | peak.rpm | city.mpg | highway.mpg | price | \n",
       "|---|---|---|---|---|---|---|---|---|---|---|\n",
       "|  0        | 81        | chevrolet | gas       | std       | four      | sedan     | fwd       | front     |  94.5     | ...       |  90       | 2bbl      | 3.03      | 3.11      | 9.60      |  70       | 5400      | 38        | 43        |  6575     | \n",
       "|  1        | 118       | dodge     | gas       | std       | two       | hatchback | fwd       | front     |  93.7     | ...       |  90       | 2bbl      | 2.97      | 3.23      | 9.41      |  68       | 5500      | 37        | 41        |  5572     | \n",
       "|  1        | 118       | dodge     | gas       | std       | two       | hatchback | fwd       | front     |  93.7     | ...       |  90       | 2bbl      | 2.97      | 3.23      | 9.40      |  68       | 5500      | 31        | 38        |  6377     | \n",
       "|  1        | 118       | dodge     | gas       | turbo     | two       | hatchback | fwd       | front     |  93.7     | ...       |  98       | mpfi      | 3.03      | 3.39      | 7.60      | 102       | 5500      | 24        | 30        |  7957     | \n",
       "|  1        | 148       | dodge     | gas       | std       | four      | hatchback | fwd       | front     |  93.7     | ...       |  90       | 2bbl      | 2.97      | 3.23      | 9.40      |  68       | 5500      | 31        | 38        |  6229     | \n",
       "|  1        | 148       | dodge     | gas       | std       | four      | sedan     | fwd       | front     |  93.7     | ...       |  90       | 2bbl      | 2.97      | 3.23      | 9.40      |  68       | 5500      | 31        | 38        |  6692     | \n",
       "|  1        | 148       | dodge     | gas       | std       | four      | sedan     | fwd       | front     |  93.7     | ...       |  90       | 2bbl      | 2.97      | 3.23      | 9.40      |  68       | 5500      | 31        | 38        |  7609     | \n",
       "|  1        | 148       | dodge     | gas       | turbo     | ?         | sedan     | fwd       | front     |  93.7     | ...       |  98       | mpfi      | 3.03      | 3.39      | 7.60      | 102       | 5500      | 24        | 30        |  8558     | \n",
       "| -1        | 110       | dodge     | gas       | std       | four      | wagon     | fwd       | front     | 103.3     | ...       | 122       | 2bbl      | 3.34      | 3.46      | 8.50      |  88       | 5000      | 24        | 30        |  8921     | \n",
       "|  3        | 145       | dodge     | gas       | turbo     | two       | hatchback | fwd       | front     |  95.9     | ...       | 156       | mfi       | 3.60      | 3.90      | 7.00      | 145       | 5000      | 19        | 24        | 12964     | \n",
       "|  2        | 137       | honda     | gas       | std       | two       | hatchback | fwd       | front     |  86.6     | ...       |  92       | 1bbl      | 2.91      | 3.41      | 9.60      |  58       | 4800      | 49        | 54        |  6479     | \n",
       "\n",
       "\n"
      ],
      "text/plain": [
       "   symboling normalized.losses make      fuel.type aspiration num.of.doors\n",
       "1   0        81                chevrolet gas       std        four        \n",
       "2   1        118               dodge     gas       std        two         \n",
       "3   1        118               dodge     gas       std        two         \n",
       "4   1        118               dodge     gas       turbo      two         \n",
       "5   1        148               dodge     gas       std        four        \n",
       "6   1        148               dodge     gas       std        four        \n",
       "7   1        148               dodge     gas       std        four        \n",
       "8   1        148               dodge     gas       turbo      ?           \n",
       "9  -1        110               dodge     gas       std        four        \n",
       "10  3        145               dodge     gas       turbo      two         \n",
       "11  2        137               honda     gas       std        two         \n",
       "   body.style drive.wheels engine.location wheel.base ... engine.size\n",
       "1  sedan      fwd          front            94.5      ...  90        \n",
       "2  hatchback  fwd          front            93.7      ...  90        \n",
       "3  hatchback  fwd          front            93.7      ...  90        \n",
       "4  hatchback  fwd          front            93.7      ...  98        \n",
       "5  hatchback  fwd          front            93.7      ...  90        \n",
       "6  sedan      fwd          front            93.7      ...  90        \n",
       "7  sedan      fwd          front            93.7      ...  90        \n",
       "8  sedan      fwd          front            93.7      ...  98        \n",
       "9  wagon      fwd          front           103.3      ... 122        \n",
       "10 hatchback  fwd          front            95.9      ... 156        \n",
       "11 hatchback  fwd          front            86.6      ...  92        \n",
       "   fuel.system bore stroke compression.ratio horsepower peak.rpm city.mpg\n",
       "1  2bbl        3.03 3.11   9.60               70        5400     38      \n",
       "2  2bbl        2.97 3.23   9.41               68        5500     37      \n",
       "3  2bbl        2.97 3.23   9.40               68        5500     31      \n",
       "4  mpfi        3.03 3.39   7.60              102        5500     24      \n",
       "5  2bbl        2.97 3.23   9.40               68        5500     31      \n",
       "6  2bbl        2.97 3.23   9.40               68        5500     31      \n",
       "7  2bbl        2.97 3.23   9.40               68        5500     31      \n",
       "8  mpfi        3.03 3.39   7.60              102        5500     24      \n",
       "9  2bbl        3.34 3.46   8.50               88        5000     24      \n",
       "10 mfi         3.60 3.90   7.00              145        5000     19      \n",
       "11 1bbl        2.91 3.41   9.60               58        4800     49      \n",
       "   highway.mpg price\n",
       "1  43           6575\n",
       "2  41           5572\n",
       "3  38           6377\n",
       "4  30           7957\n",
       "5  38           6229\n",
       "6  38           6692\n",
       "7  38           7609\n",
       "8  30           8558\n",
       "9  30           8921\n",
       "10 24          12964\n",
       "11 54           6479"
      ]
     },
     "metadata": {},
     "output_type": "display_data"
    }
   ],
   "source": [
    "df.slice = slice(auto.price, 20:30)\n",
    "df.slice"
   ]
  },
  {
   "cell_type": "markdown",
   "metadata": {},
   "source": [
    "The 11 row slice has been sub-selected from the data frame. "
   ]
  },
  {
   "cell_type": "markdown",
   "metadata": {},
   "source": [
    "### Random sample a data frame\n",
    "\n",
    "Data scientists often need randomly chosen subsets of data. Using the dplyr `sample_frac` and `sample_n` functions allow you randomly sample a fraction or a number of rows respectively. Run the code in the cell below to take a random sample of 1/2 of the rows in the `df.slice` data frame."
   ]
  },
  {
   "cell_type": "code",
   "execution_count": 6,
   "metadata": {
    "collapsed": false
   },
   "outputs": [
    {
     "data": {
      "text/html": [
       "<table>\n",
       "<thead><tr><th></th><th scope=col>symboling</th><th scope=col>normalized.losses</th><th scope=col>make</th><th scope=col>fuel.type</th><th scope=col>aspiration</th><th scope=col>num.of.doors</th><th scope=col>body.style</th><th scope=col>drive.wheels</th><th scope=col>engine.location</th><th scope=col>wheel.base</th><th scope=col>...</th><th scope=col>engine.size</th><th scope=col>fuel.system</th><th scope=col>bore</th><th scope=col>stroke</th><th scope=col>compression.ratio</th><th scope=col>horsepower</th><th scope=col>peak.rpm</th><th scope=col>city.mpg</th><th scope=col>highway.mpg</th><th scope=col>price</th></tr></thead>\n",
       "<tbody>\n",
       "\t<tr><th scope=row>5</th><td> 1       </td><td>148      </td><td>dodge    </td><td>gas      </td><td>std      </td><td>four     </td><td>hatchback</td><td>fwd      </td><td>front    </td><td> 93.7    </td><td>...      </td><td> 90      </td><td>2bbl     </td><td>2.97     </td><td>3.23     </td><td>9.4      </td><td> 68      </td><td>5500     </td><td>31       </td><td>38       </td><td> 6229    </td></tr>\n",
       "\t<tr><th scope=row>7</th><td> 1       </td><td>148      </td><td>dodge    </td><td>gas      </td><td>std      </td><td>four     </td><td>sedan    </td><td>fwd      </td><td>front    </td><td> 93.7    </td><td>...      </td><td> 90      </td><td>2bbl     </td><td>2.97     </td><td>3.23     </td><td>9.4      </td><td> 68      </td><td>5500     </td><td>31       </td><td>38       </td><td> 7609    </td></tr>\n",
       "\t<tr><th scope=row>9</th><td>-1       </td><td>110      </td><td>dodge    </td><td>gas      </td><td>std      </td><td>four     </td><td>wagon    </td><td>fwd      </td><td>front    </td><td>103.3    </td><td>...      </td><td>122      </td><td>2bbl     </td><td>3.34     </td><td>3.46     </td><td>8.5      </td><td> 88      </td><td>5000     </td><td>24       </td><td>30       </td><td> 8921    </td></tr>\n",
       "\t<tr><th scope=row>4</th><td> 1       </td><td>118      </td><td>dodge    </td><td>gas      </td><td>turbo    </td><td>two      </td><td>hatchback</td><td>fwd      </td><td>front    </td><td> 93.7    </td><td>...      </td><td> 98      </td><td>mpfi     </td><td>3.03     </td><td>3.39     </td><td>7.6      </td><td>102      </td><td>5500     </td><td>24       </td><td>30       </td><td> 7957    </td></tr>\n",
       "\t<tr><th scope=row>10</th><td> 3       </td><td>145      </td><td>dodge    </td><td>gas      </td><td>turbo    </td><td>two      </td><td>hatchback</td><td>fwd      </td><td>front    </td><td> 95.9    </td><td>...      </td><td>156      </td><td>mfi      </td><td>3.60     </td><td>3.90     </td><td>7.0      </td><td>145      </td><td>5000     </td><td>19       </td><td>24       </td><td>12964    </td></tr>\n",
       "\t<tr><th scope=row>1</th><td> 0       </td><td>81       </td><td>chevrolet</td><td>gas      </td><td>std      </td><td>four     </td><td>sedan    </td><td>fwd      </td><td>front    </td><td> 94.5    </td><td>...      </td><td> 90      </td><td>2bbl     </td><td>3.03     </td><td>3.11     </td><td>9.6      </td><td> 70      </td><td>5400     </td><td>38       </td><td>43       </td><td> 6575    </td></tr>\n",
       "</tbody>\n",
       "</table>\n"
      ],
      "text/latex": [
       "\\begin{tabular}{r|llllllllllllllllllllllllll}\n",
       "  & symboling & normalized.losses & make & fuel.type & aspiration & num.of.doors & body.style & drive.wheels & engine.location & wheel.base & ... & engine.size & fuel.system & bore & stroke & compression.ratio & horsepower & peak.rpm & city.mpg & highway.mpg & price\\\\\n",
       "\\hline\n",
       "\t5 &  1        & 148       & dodge     & gas       & std       & four      & hatchback & fwd       & front     &  93.7     & ...       &  90       & 2bbl      & 2.97      & 3.23      & 9.4       &  68       & 5500      & 31        & 38        &  6229    \\\\\n",
       "\t7 &  1        & 148       & dodge     & gas       & std       & four      & sedan     & fwd       & front     &  93.7     & ...       &  90       & 2bbl      & 2.97      & 3.23      & 9.4       &  68       & 5500      & 31        & 38        &  7609    \\\\\n",
       "\t9 & -1        & 110       & dodge     & gas       & std       & four      & wagon     & fwd       & front     & 103.3     & ...       & 122       & 2bbl      & 3.34      & 3.46      & 8.5       &  88       & 5000      & 24        & 30        &  8921    \\\\\n",
       "\t4 &  1        & 118       & dodge     & gas       & turbo     & two       & hatchback & fwd       & front     &  93.7     & ...       &  98       & mpfi      & 3.03      & 3.39      & 7.6       & 102       & 5500      & 24        & 30        &  7957    \\\\\n",
       "\t10 &  3        & 145       & dodge     & gas       & turbo     & two       & hatchback & fwd       & front     &  95.9     & ...       & 156       & mfi       & 3.60      & 3.90      & 7.0       & 145       & 5000      & 19        & 24        & 12964    \\\\\n",
       "\t1 &  0        & 81        & chevrolet & gas       & std       & four      & sedan     & fwd       & front     &  94.5     & ...       &  90       & 2bbl      & 3.03      & 3.11      & 9.6       &  70       & 5400      & 38        & 43        &  6575    \\\\\n",
       "\\end{tabular}\n"
      ],
      "text/markdown": [
       "\n",
       "| <!--/--> | symboling | normalized.losses | make | fuel.type | aspiration | num.of.doors | body.style | drive.wheels | engine.location | wheel.base | ... | engine.size | fuel.system | bore | stroke | compression.ratio | horsepower | peak.rpm | city.mpg | highway.mpg | price | \n",
       "|---|---|---|---|---|---|\n",
       "| 5 |  1        | 148       | dodge     | gas       | std       | four      | hatchback | fwd       | front     |  93.7     | ...       |  90       | 2bbl      | 2.97      | 3.23      | 9.4       |  68       | 5500      | 31        | 38        |  6229     | \n",
       "| 7 |  1        | 148       | dodge     | gas       | std       | four      | sedan     | fwd       | front     |  93.7     | ...       |  90       | 2bbl      | 2.97      | 3.23      | 9.4       |  68       | 5500      | 31        | 38        |  7609     | \n",
       "| 9 | -1        | 110       | dodge     | gas       | std       | four      | wagon     | fwd       | front     | 103.3     | ...       | 122       | 2bbl      | 3.34      | 3.46      | 8.5       |  88       | 5000      | 24        | 30        |  8921     | \n",
       "| 4 |  1        | 118       | dodge     | gas       | turbo     | two       | hatchback | fwd       | front     |  93.7     | ...       |  98       | mpfi      | 3.03      | 3.39      | 7.6       | 102       | 5500      | 24        | 30        |  7957     | \n",
       "| 10 |  3        | 145       | dodge     | gas       | turbo     | two       | hatchback | fwd       | front     |  95.9     | ...       | 156       | mfi       | 3.60      | 3.90      | 7.0       | 145       | 5000      | 19        | 24        | 12964     | \n",
       "| 1 |  0        | 81        | chevrolet | gas       | std       | four      | sedan     | fwd       | front     |  94.5     | ...       |  90       | 2bbl      | 3.03      | 3.11      | 9.6       |  70       | 5400      | 38        | 43        |  6575     | \n",
       "\n",
       "\n"
      ],
      "text/plain": [
       "   symboling normalized.losses make      fuel.type aspiration num.of.doors\n",
       "5   1        148               dodge     gas       std        four        \n",
       "7   1        148               dodge     gas       std        four        \n",
       "9  -1        110               dodge     gas       std        four        \n",
       "4   1        118               dodge     gas       turbo      two         \n",
       "10  3        145               dodge     gas       turbo      two         \n",
       "1   0        81                chevrolet gas       std        four        \n",
       "   body.style drive.wheels engine.location wheel.base ... engine.size\n",
       "5  hatchback  fwd          front            93.7      ...  90        \n",
       "7  sedan      fwd          front            93.7      ...  90        \n",
       "9  wagon      fwd          front           103.3      ... 122        \n",
       "4  hatchback  fwd          front            93.7      ...  98        \n",
       "10 hatchback  fwd          front            95.9      ... 156        \n",
       "1  sedan      fwd          front            94.5      ...  90        \n",
       "   fuel.system bore stroke compression.ratio horsepower peak.rpm city.mpg\n",
       "5  2bbl        2.97 3.23   9.4                68        5500     31      \n",
       "7  2bbl        2.97 3.23   9.4                68        5500     31      \n",
       "9  2bbl        3.34 3.46   8.5                88        5000     24      \n",
       "4  mpfi        3.03 3.39   7.6               102        5500     24      \n",
       "10 mfi         3.60 3.90   7.0               145        5000     19      \n",
       "1  2bbl        3.03 3.11   9.6                70        5400     38      \n",
       "   highway.mpg price\n",
       "5  38           6229\n",
       "7  38           7609\n",
       "9  30           8921\n",
       "4  30           7957\n",
       "10 24          12964\n",
       "1  43           6575"
      ]
     },
     "metadata": {},
     "output_type": "display_data"
    }
   ],
   "source": [
    "df.rand = sample_frac(df.slice, 0.5)\n",
    "df.rand"
   ]
  },
  {
   "cell_type": "markdown",
   "metadata": {},
   "source": [
    "Examine the result, with 6 (approximately 1/2 of 11) of 11 original rows. "
   ]
  },
  {
   "cell_type": "markdown",
   "metadata": {},
   "source": [
    "### Select columns\n",
    "\n",
    "Now, say that we really only want a few attributes, or columns, from the Audi car data. Run the code in the cell below to `select` the columns listed. "
   ]
  },
  {
   "cell_type": "code",
   "execution_count": 7,
   "metadata": {
    "collapsed": false
   },
   "outputs": [
    {
     "data": {
      "text/html": [
       "<table>\n",
       "<thead><tr><th scope=col>drive.wheels</th><th scope=col>wheel.base</th><th scope=col>curb.weight</th><th scope=col>horsepower</th><th scope=col>price</th></tr></thead>\n",
       "<tbody>\n",
       "\t<tr><td>fwd  </td><td> 99.8</td><td>2337 </td><td>102  </td><td>13950</td></tr>\n",
       "\t<tr><td>4wd  </td><td> 99.4</td><td>2824 </td><td>115  </td><td>17450</td></tr>\n",
       "\t<tr><td>fwd  </td><td> 99.8</td><td>2507 </td><td>110  </td><td>15250</td></tr>\n",
       "\t<tr><td>fwd  </td><td>105.8</td><td>2844 </td><td>110  </td><td>17710</td></tr>\n",
       "\t<tr><td>fwd  </td><td>105.8</td><td>2954 </td><td>110  </td><td>18920</td></tr>\n",
       "\t<tr><td>fwd  </td><td>105.8</td><td>3086 </td><td>140  </td><td>23875</td></tr>\n",
       "</tbody>\n",
       "</table>\n"
      ],
      "text/latex": [
       "\\begin{tabular}{r|lllll}\n",
       " drive.wheels & wheel.base & curb.weight & horsepower & price\\\\\n",
       "\\hline\n",
       "\t fwd   &  99.8 & 2337  & 102   & 13950\\\\\n",
       "\t 4wd   &  99.4 & 2824  & 115   & 17450\\\\\n",
       "\t fwd   &  99.8 & 2507  & 110   & 15250\\\\\n",
       "\t fwd   & 105.8 & 2844  & 110   & 17710\\\\\n",
       "\t fwd   & 105.8 & 2954  & 110   & 18920\\\\\n",
       "\t fwd   & 105.8 & 3086  & 140   & 23875\\\\\n",
       "\\end{tabular}\n"
      ],
      "text/markdown": [
       "\n",
       "drive.wheels | wheel.base | curb.weight | horsepower | price | \n",
       "|---|---|---|---|---|---|\n",
       "| fwd   |  99.8 | 2337  | 102   | 13950 | \n",
       "| 4wd   |  99.4 | 2824  | 115   | 17450 | \n",
       "| fwd   |  99.8 | 2507  | 110   | 15250 | \n",
       "| fwd   | 105.8 | 2844  | 110   | 17710 | \n",
       "| fwd   | 105.8 | 2954  | 110   | 18920 | \n",
       "| fwd   | 105.8 | 3086  | 140   | 23875 | \n",
       "\n",
       "\n"
      ],
      "text/plain": [
       "  drive.wheels wheel.base curb.weight horsepower price\n",
       "1 fwd           99.8      2337        102        13950\n",
       "2 4wd           99.4      2824        115        17450\n",
       "3 fwd           99.8      2507        110        15250\n",
       "4 fwd          105.8      2844        110        17710\n",
       "5 fwd          105.8      2954        110        18920\n",
       "6 fwd          105.8      3086        140        23875"
      ]
     },
     "metadata": {},
     "output_type": "display_data"
    }
   ],
   "source": [
    "df2 = select(df, drive.wheels, wheel.base, curb.weight, horsepower, price)\n",
    "df2"
   ]
  },
  {
   "cell_type": "markdown",
   "metadata": {},
   "source": [
    "The columns listed have been selected from the full Audi data set.\n",
    "\n",
    "What if you only wish to remove a few columns from the data set? You do not need to list all the columns you want, which could be a large number. Instead, just prefix the names of the columns you wish to eliminate with the '-' operator. "
   ]
  },
  {
   "cell_type": "markdown",
   "metadata": {},
   "source": [
    "**Your Turn:** Use the dplyr `select` verb to remove three columns (`symboling`, `normalized.losses`, `engine.size`) from the data frame `df`. Examine and verify the result."
   ]
  },
  {
   "cell_type": "code",
   "execution_count": 9,
   "metadata": {
    "collapsed": false
   },
   "outputs": [
    {
     "data": {
      "text/html": [
       "<ol class=list-inline>\n",
       "\t<li>6</li>\n",
       "\t<li>23</li>\n",
       "</ol>\n"
      ],
      "text/latex": [
       "\\begin{enumerate*}\n",
       "\\item 6\n",
       "\\item 23\n",
       "\\end{enumerate*}\n"
      ],
      "text/markdown": [
       "1. 6\n",
       "2. 23\n",
       "\n",
       "\n"
      ],
      "text/plain": [
       "[1]  6 23"
      ]
     },
     "metadata": {},
     "output_type": "display_data"
    },
    {
     "data": {
      "text/html": [
       "<table>\n",
       "<thead><tr><th scope=col>make</th><th scope=col>fuel.type</th><th scope=col>aspiration</th><th scope=col>num.of.doors</th><th scope=col>body.style</th><th scope=col>drive.wheels</th><th scope=col>engine.location</th><th scope=col>wheel.base</th><th scope=col>length</th><th scope=col>width</th><th scope=col>...</th><th scope=col>num.of.cylinders</th><th scope=col>fuel.system</th><th scope=col>bore</th><th scope=col>stroke</th><th scope=col>compression.ratio</th><th scope=col>horsepower</th><th scope=col>peak.rpm</th><th scope=col>city.mpg</th><th scope=col>highway.mpg</th><th scope=col>price</th></tr></thead>\n",
       "<tbody>\n",
       "\t<tr><td>audi </td><td>gas  </td><td>std  </td><td>four </td><td>sedan</td><td>fwd  </td><td>front</td><td> 99.8</td><td>176.6</td><td>66.2 </td><td>...  </td><td>four </td><td>mpfi </td><td>3.19 </td><td>3.4  </td><td>10.0 </td><td>102  </td><td>5500 </td><td>24   </td><td>30   </td><td>13950</td></tr>\n",
       "\t<tr><td>audi </td><td>gas  </td><td>std  </td><td>four </td><td>sedan</td><td>4wd  </td><td>front</td><td> 99.4</td><td>176.6</td><td>66.4 </td><td>...  </td><td>five </td><td>mpfi </td><td>3.19 </td><td>3.4  </td><td> 8.0 </td><td>115  </td><td>5500 </td><td>18   </td><td>22   </td><td>17450</td></tr>\n",
       "\t<tr><td>audi </td><td>gas  </td><td>std  </td><td>two  </td><td>sedan</td><td>fwd  </td><td>front</td><td> 99.8</td><td>177.3</td><td>66.3 </td><td>...  </td><td>five </td><td>mpfi </td><td>3.19 </td><td>3.4  </td><td> 8.5 </td><td>110  </td><td>5500 </td><td>19   </td><td>25   </td><td>15250</td></tr>\n",
       "\t<tr><td>audi </td><td>gas  </td><td>std  </td><td>four </td><td>sedan</td><td>fwd  </td><td>front</td><td>105.8</td><td>192.7</td><td>71.4 </td><td>...  </td><td>five </td><td>mpfi </td><td>3.19 </td><td>3.4  </td><td> 8.5 </td><td>110  </td><td>5500 </td><td>19   </td><td>25   </td><td>17710</td></tr>\n",
       "\t<tr><td>audi </td><td>gas  </td><td>std  </td><td>four </td><td>wagon</td><td>fwd  </td><td>front</td><td>105.8</td><td>192.7</td><td>71.4 </td><td>...  </td><td>five </td><td>mpfi </td><td>3.19 </td><td>3.4  </td><td> 8.5 </td><td>110  </td><td>5500 </td><td>19   </td><td>25   </td><td>18920</td></tr>\n",
       "\t<tr><td>audi </td><td>gas  </td><td>turbo</td><td>four </td><td>sedan</td><td>fwd  </td><td>front</td><td>105.8</td><td>192.7</td><td>71.4 </td><td>...  </td><td>five </td><td>mpfi </td><td>3.13 </td><td>3.4  </td><td> 8.3 </td><td>140  </td><td>5500 </td><td>17   </td><td>20   </td><td>23875</td></tr>\n",
       "</tbody>\n",
       "</table>\n"
      ],
      "text/latex": [
       "\\begin{tabular}{r|lllllllllllllllllllllll}\n",
       " make & fuel.type & aspiration & num.of.doors & body.style & drive.wheels & engine.location & wheel.base & length & width & ... & num.of.cylinders & fuel.system & bore & stroke & compression.ratio & horsepower & peak.rpm & city.mpg & highway.mpg & price\\\\\n",
       "\\hline\n",
       "\t audi  & gas   & std   & four  & sedan & fwd   & front &  99.8 & 176.6 & 66.2  & ...   & four  & mpfi  & 3.19  & 3.4   & 10.0  & 102   & 5500  & 24    & 30    & 13950\\\\\n",
       "\t audi  & gas   & std   & four  & sedan & 4wd   & front &  99.4 & 176.6 & 66.4  & ...   & five  & mpfi  & 3.19  & 3.4   &  8.0  & 115   & 5500  & 18    & 22    & 17450\\\\\n",
       "\t audi  & gas   & std   & two   & sedan & fwd   & front &  99.8 & 177.3 & 66.3  & ...   & five  & mpfi  & 3.19  & 3.4   &  8.5  & 110   & 5500  & 19    & 25    & 15250\\\\\n",
       "\t audi  & gas   & std   & four  & sedan & fwd   & front & 105.8 & 192.7 & 71.4  & ...   & five  & mpfi  & 3.19  & 3.4   &  8.5  & 110   & 5500  & 19    & 25    & 17710\\\\\n",
       "\t audi  & gas   & std   & four  & wagon & fwd   & front & 105.8 & 192.7 & 71.4  & ...   & five  & mpfi  & 3.19  & 3.4   &  8.5  & 110   & 5500  & 19    & 25    & 18920\\\\\n",
       "\t audi  & gas   & turbo & four  & sedan & fwd   & front & 105.8 & 192.7 & 71.4  & ...   & five  & mpfi  & 3.13  & 3.4   &  8.3  & 140   & 5500  & 17    & 20    & 23875\\\\\n",
       "\\end{tabular}\n"
      ],
      "text/markdown": [
       "\n",
       "make | fuel.type | aspiration | num.of.doors | body.style | drive.wheels | engine.location | wheel.base | length | width | ... | num.of.cylinders | fuel.system | bore | stroke | compression.ratio | horsepower | peak.rpm | city.mpg | highway.mpg | price | \n",
       "|---|---|---|---|---|---|\n",
       "| audi  | gas   | std   | four  | sedan | fwd   | front |  99.8 | 176.6 | 66.2  | ...   | four  | mpfi  | 3.19  | 3.4   | 10.0  | 102   | 5500  | 24    | 30    | 13950 | \n",
       "| audi  | gas   | std   | four  | sedan | 4wd   | front |  99.4 | 176.6 | 66.4  | ...   | five  | mpfi  | 3.19  | 3.4   |  8.0  | 115   | 5500  | 18    | 22    | 17450 | \n",
       "| audi  | gas   | std   | two   | sedan | fwd   | front |  99.8 | 177.3 | 66.3  | ...   | five  | mpfi  | 3.19  | 3.4   |  8.5  | 110   | 5500  | 19    | 25    | 15250 | \n",
       "| audi  | gas   | std   | four  | sedan | fwd   | front | 105.8 | 192.7 | 71.4  | ...   | five  | mpfi  | 3.19  | 3.4   |  8.5  | 110   | 5500  | 19    | 25    | 17710 | \n",
       "| audi  | gas   | std   | four  | wagon | fwd   | front | 105.8 | 192.7 | 71.4  | ...   | five  | mpfi  | 3.19  | 3.4   |  8.5  | 110   | 5500  | 19    | 25    | 18920 | \n",
       "| audi  | gas   | turbo | four  | sedan | fwd   | front | 105.8 | 192.7 | 71.4  | ...   | five  | mpfi  | 3.13  | 3.4   |  8.3  | 140   | 5500  | 17    | 20    | 23875 | \n",
       "\n",
       "\n"
      ],
      "text/plain": [
       "  make fuel.type aspiration num.of.doors body.style drive.wheels\n",
       "1 audi gas       std        four         sedan      fwd         \n",
       "2 audi gas       std        four         sedan      4wd         \n",
       "3 audi gas       std        two          sedan      fwd         \n",
       "4 audi gas       std        four         sedan      fwd         \n",
       "5 audi gas       std        four         wagon      fwd         \n",
       "6 audi gas       turbo      four         sedan      fwd         \n",
       "  engine.location wheel.base length width ... num.of.cylinders fuel.system bore\n",
       "1 front            99.8      176.6  66.2  ... four             mpfi        3.19\n",
       "2 front            99.4      176.6  66.4  ... five             mpfi        3.19\n",
       "3 front            99.8      177.3  66.3  ... five             mpfi        3.19\n",
       "4 front           105.8      192.7  71.4  ... five             mpfi        3.19\n",
       "5 front           105.8      192.7  71.4  ... five             mpfi        3.19\n",
       "6 front           105.8      192.7  71.4  ... five             mpfi        3.13\n",
       "  stroke compression.ratio horsepower peak.rpm city.mpg highway.mpg price\n",
       "1 3.4    10.0              102        5500     24       30          13950\n",
       "2 3.4     8.0              115        5500     18       22          17450\n",
       "3 3.4     8.5              110        5500     19       25          15250\n",
       "4 3.4     8.5              110        5500     19       25          17710\n",
       "5 3.4     8.5              110        5500     19       25          18920\n",
       "6 3.4     8.3              140        5500     17       20          23875"
      ]
     },
     "metadata": {},
     "output_type": "display_data"
    }
   ],
   "source": [
    "temp = select(df,-symboling, -normalized.losses, -engine.size)\n",
    "dim(temp)\n",
    "temp"
   ]
  },
  {
   "cell_type": "markdown",
   "metadata": {},
   "source": [
    "Examine the data frame printed above. Notice that the columns listed with the `-` operator have been eliminated."
   ]
  },
  {
   "cell_type": "markdown",
   "metadata": {},
   "source": [
    "### Arrange rows in a data frame\n",
    "\n",
    "You have learned how to select the rows and columns from a data frame. But what if you want to reorder the rows in a data frame. You can use the dplyr `arrange` verb to reorder the rows. Execute the code in the cell below to sort the data frame first by drive wheels and then by auto price, and examine the result."
   ]
  },
  {
   "cell_type": "code",
   "execution_count": 10,
   "metadata": {
    "collapsed": false
   },
   "outputs": [
    {
     "data": {
      "text/html": [
       "<table>\n",
       "<thead><tr><th scope=col>drive.wheels</th><th scope=col>wheel.base</th><th scope=col>curb.weight</th><th scope=col>horsepower</th><th scope=col>price</th></tr></thead>\n",
       "<tbody>\n",
       "\t<tr><td>4wd  </td><td> 99.4</td><td>2824 </td><td>115  </td><td>17450</td></tr>\n",
       "\t<tr><td>fwd  </td><td> 99.8</td><td>2337 </td><td>102  </td><td>13950</td></tr>\n",
       "\t<tr><td>fwd  </td><td> 99.8</td><td>2507 </td><td>110  </td><td>15250</td></tr>\n",
       "\t<tr><td>fwd  </td><td>105.8</td><td>2844 </td><td>110  </td><td>17710</td></tr>\n",
       "\t<tr><td>fwd  </td><td>105.8</td><td>2954 </td><td>110  </td><td>18920</td></tr>\n",
       "\t<tr><td>fwd  </td><td>105.8</td><td>3086 </td><td>140  </td><td>23875</td></tr>\n",
       "</tbody>\n",
       "</table>\n"
      ],
      "text/latex": [
       "\\begin{tabular}{r|lllll}\n",
       " drive.wheels & wheel.base & curb.weight & horsepower & price\\\\\n",
       "\\hline\n",
       "\t 4wd   &  99.4 & 2824  & 115   & 17450\\\\\n",
       "\t fwd   &  99.8 & 2337  & 102   & 13950\\\\\n",
       "\t fwd   &  99.8 & 2507  & 110   & 15250\\\\\n",
       "\t fwd   & 105.8 & 2844  & 110   & 17710\\\\\n",
       "\t fwd   & 105.8 & 2954  & 110   & 18920\\\\\n",
       "\t fwd   & 105.8 & 3086  & 140   & 23875\\\\\n",
       "\\end{tabular}\n"
      ],
      "text/markdown": [
       "\n",
       "drive.wheels | wheel.base | curb.weight | horsepower | price | \n",
       "|---|---|---|---|---|---|\n",
       "| 4wd   |  99.4 | 2824  | 115   | 17450 | \n",
       "| fwd   |  99.8 | 2337  | 102   | 13950 | \n",
       "| fwd   |  99.8 | 2507  | 110   | 15250 | \n",
       "| fwd   | 105.8 | 2844  | 110   | 17710 | \n",
       "| fwd   | 105.8 | 2954  | 110   | 18920 | \n",
       "| fwd   | 105.8 | 3086  | 140   | 23875 | \n",
       "\n",
       "\n"
      ],
      "text/plain": [
       "  drive.wheels wheel.base curb.weight horsepower price\n",
       "1 4wd           99.4      2824        115        17450\n",
       "2 fwd           99.8      2337        102        13950\n",
       "3 fwd           99.8      2507        110        15250\n",
       "4 fwd          105.8      2844        110        17710\n",
       "5 fwd          105.8      2954        110        18920\n",
       "6 fwd          105.8      3086        140        23875"
      ]
     },
     "metadata": {},
     "output_type": "display_data"
    }
   ],
   "source": [
    "df2 = arrange(df2, drive.wheels, price)\n",
    "df2"
   ]
  },
  {
   "cell_type": "markdown",
   "metadata": {
    "collapsed": true
   },
   "source": [
    "### Compute a new column\n",
    "\n",
    "Often you will need a column computed using the values of one or more columns in the original data set. The dplyr `mutate` verb allows you to efficiently add a new computed column to your data frame. Run the example below to add a colummn with the auto weight in killograms, rather than pounds, and the weight in pounds per unit of hoursepower."
   ]
  },
  {
   "cell_type": "code",
   "execution_count": 11,
   "metadata": {
    "collapsed": false
   },
   "outputs": [
    {
     "data": {
      "text/html": [
       "<table>\n",
       "<thead><tr><th scope=col>curb.weight</th><th scope=col>curb.weight.kg</th><th scope=col>weight.horsepower</th></tr></thead>\n",
       "<tbody>\n",
       "\t<tr><td>2824    </td><td>1280.726</td><td>24.55652</td></tr>\n",
       "\t<tr><td>2337    </td><td>1059.864</td><td>22.91176</td></tr>\n",
       "\t<tr><td>2507    </td><td>1136.961</td><td>22.79091</td></tr>\n",
       "\t<tr><td>2844    </td><td>1289.796</td><td>25.85455</td></tr>\n",
       "\t<tr><td>2954    </td><td>1339.683</td><td>26.85455</td></tr>\n",
       "\t<tr><td>3086    </td><td>1399.546</td><td>22.04286</td></tr>\n",
       "</tbody>\n",
       "</table>\n"
      ],
      "text/latex": [
       "\\begin{tabular}{r|lll}\n",
       " curb.weight & curb.weight.kg & weight.horsepower\\\\\n",
       "\\hline\n",
       "\t 2824     & 1280.726 & 24.55652\\\\\n",
       "\t 2337     & 1059.864 & 22.91176\\\\\n",
       "\t 2507     & 1136.961 & 22.79091\\\\\n",
       "\t 2844     & 1289.796 & 25.85455\\\\\n",
       "\t 2954     & 1339.683 & 26.85455\\\\\n",
       "\t 3086     & 1399.546 & 22.04286\\\\\n",
       "\\end{tabular}\n"
      ],
      "text/markdown": [
       "\n",
       "curb.weight | curb.weight.kg | weight.horsepower | \n",
       "|---|---|---|---|---|---|\n",
       "| 2824     | 1280.726 | 24.55652 | \n",
       "| 2337     | 1059.864 | 22.91176 | \n",
       "| 2507     | 1136.961 | 22.79091 | \n",
       "| 2844     | 1289.796 | 25.85455 | \n",
       "| 2954     | 1339.683 | 26.85455 | \n",
       "| 3086     | 1399.546 | 22.04286 | \n",
       "\n",
       "\n"
      ],
      "text/plain": [
       "  curb.weight curb.weight.kg weight.horsepower\n",
       "1 2824        1280.726       24.55652         \n",
       "2 2337        1059.864       22.91176         \n",
       "3 2507        1136.961       22.79091         \n",
       "4 2844        1289.796       25.85455         \n",
       "5 2954        1339.683       26.85455         \n",
       "6 3086        1399.546       22.04286         "
      ]
     },
     "metadata": {},
     "output_type": "display_data"
    }
   ],
   "source": [
    "df4 = mutate(df2, curb.weight.kg = curb.weight / 2.205, weight.horsepower = curb.weight / horsepower)\n",
    "select(df4, curb.weight, curb.weight.kg, weight.horsepower)"
   ]
  },
  {
   "cell_type": "markdown",
   "metadata": {},
   "source": [
    "In the results printed above you can see the the curb weight of each Audi car in pounds and killograms, and the weight per unit of horsepower.\n",
    "\n",
    "If you don't want to retain the orriginal columns from your calculation you can use the `transmute` verb. If you which to apply the same function to every column use the `:mutate_each` verb, which is similar to the standard R `lapply`. "
   ]
  },
  {
   "cell_type": "markdown",
   "metadata": {},
   "source": [
    "### Compute summaries of a data frame\n",
    "\n",
    "Very often in data analysis you will need to compute summuary statstics for your data set. The dplyr `summary` function is designed just of this purpose. Run the code in the cell below to compute some summary statistics of a data frame."
   ]
  },
  {
   "cell_type": "code",
   "execution_count": 12,
   "metadata": {
    "collapsed": false
   },
   "outputs": [
    {
     "data": {
      "text/html": [
       "<table>\n",
       "<thead><tr><th scope=col>mean.curb.weight</th><th scope=col>sd.curb.weight</th><th scope=col>max.curb.weight</th><th scope=col>min.curb.weight</th></tr></thead>\n",
       "<tbody>\n",
       "\t<tr><td>2758.667</td><td>282.1316</td><td>3086    </td><td>2337    </td></tr>\n",
       "</tbody>\n",
       "</table>\n"
      ],
      "text/latex": [
       "\\begin{tabular}{r|llll}\n",
       " mean.curb.weight & sd.curb.weight & max.curb.weight & min.curb.weight\\\\\n",
       "\\hline\n",
       "\t 2758.667 & 282.1316 & 3086     & 2337    \\\\\n",
       "\\end{tabular}\n"
      ],
      "text/markdown": [
       "\n",
       "mean.curb.weight | sd.curb.weight | max.curb.weight | min.curb.weight | \n",
       "|---|\n",
       "| 2758.667 | 282.1316 | 3086     | 2337     | \n",
       "\n",
       "\n"
      ],
      "text/plain": [
       "  mean.curb.weight sd.curb.weight max.curb.weight min.curb.weight\n",
       "1 2758.667         282.1316       3086            2337           "
      ]
     },
     "metadata": {},
     "output_type": "display_data"
    }
   ],
   "source": [
    "summarise(df4, mean.curb.weight = mean(curb.weight, na.rm = TRUE), sd.curb.weight = sd(curb.weight, na.rm = TRUE), \n",
    "         max.curb.weight = max(curb.weight), min.curb.weight = min(curb.weight))"
   ]
  },
  {
   "cell_type": "markdown",
   "metadata": {},
   "source": [
    "The summary statistics for the Audi cars are computed and displayed. "
   ]
  },
  {
   "cell_type": "markdown",
   "metadata": {},
   "source": [
    "### Count cases\n",
    "\n",
    "Another useful way to summarize data is by counts. The dplyr `count` verb lets you do just this. Run the code in the cell below to compute the counts of autos by body style and number of cylinders."
   ]
  },
  {
   "cell_type": "code",
   "execution_count": 14,
   "metadata": {
    "collapsed": false
   },
   "outputs": [
    {
     "data": {
      "text/html": [
       "<table>\n",
       "<thead><tr><th scope=col>num.of.cylinders</th><th scope=col>body.style</th><th scope=col>n</th></tr></thead>\n",
       "<tbody>\n",
       "\t<tr><td>eight      </td><td>convertible</td><td> 1         </td></tr>\n",
       "\t<tr><td>eight      </td><td>hardtop    </td><td> 1         </td></tr>\n",
       "\t<tr><td>eight      </td><td>sedan      </td><td> 2         </td></tr>\n",
       "\t<tr><td>five       </td><td>hardtop    </td><td> 1         </td></tr>\n",
       "\t<tr><td>five       </td><td>sedan      </td><td> 7         </td></tr>\n",
       "\t<tr><td>five       </td><td>wagon      </td><td> 2         </td></tr>\n",
       "\t<tr><td>four       </td><td>convertible</td><td> 4         </td></tr>\n",
       "\t<tr><td>four       </td><td>hardtop    </td><td> 4         </td></tr>\n",
       "\t<tr><td>four       </td><td>hatchback  </td><td>56         </td></tr>\n",
       "\t<tr><td>four       </td><td>sedan      </td><td>71         </td></tr>\n",
       "\t<tr><td>four       </td><td>wagon      </td><td>20         </td></tr>\n",
       "\t<tr><td>six        </td><td>convertible</td><td> 1         </td></tr>\n",
       "\t<tr><td>six        </td><td>hardtop    </td><td> 2         </td></tr>\n",
       "\t<tr><td>six        </td><td>hatchback  </td><td> 6         </td></tr>\n",
       "\t<tr><td>six        </td><td>sedan      </td><td>13         </td></tr>\n",
       "\t<tr><td>six        </td><td>wagon      </td><td> 2         </td></tr>\n",
       "\t<tr><td>three      </td><td>hatchback  </td><td> 1         </td></tr>\n",
       "\t<tr><td>twelve     </td><td>sedan      </td><td> 1         </td></tr>\n",
       "</tbody>\n",
       "</table>\n"
      ],
      "text/latex": [
       "\\begin{tabular}{r|lll}\n",
       " num.of.cylinders & body.style & n\\\\\n",
       "\\hline\n",
       "\t eight       & convertible &  1         \\\\\n",
       "\t eight       & hardtop     &  1         \\\\\n",
       "\t eight       & sedan       &  2         \\\\\n",
       "\t five        & hardtop     &  1         \\\\\n",
       "\t five        & sedan       &  7         \\\\\n",
       "\t five        & wagon       &  2         \\\\\n",
       "\t four        & convertible &  4         \\\\\n",
       "\t four        & hardtop     &  4         \\\\\n",
       "\t four        & hatchback   & 56         \\\\\n",
       "\t four        & sedan       & 71         \\\\\n",
       "\t four        & wagon       & 20         \\\\\n",
       "\t six         & convertible &  1         \\\\\n",
       "\t six         & hardtop     &  2         \\\\\n",
       "\t six         & hatchback   &  6         \\\\\n",
       "\t six         & sedan       & 13         \\\\\n",
       "\t six         & wagon       &  2         \\\\\n",
       "\t three       & hatchback   &  1         \\\\\n",
       "\t twelve      & sedan       &  1         \\\\\n",
       "\\end{tabular}\n"
      ],
      "text/markdown": [
       "\n",
       "num.of.cylinders | body.style | n | \n",
       "|---|---|---|---|---|---|---|---|---|---|---|---|---|---|---|---|---|---|\n",
       "| eight       | convertible |  1          | \n",
       "| eight       | hardtop     |  1          | \n",
       "| eight       | sedan       |  2          | \n",
       "| five        | hardtop     |  1          | \n",
       "| five        | sedan       |  7          | \n",
       "| five        | wagon       |  2          | \n",
       "| four        | convertible |  4          | \n",
       "| four        | hardtop     |  4          | \n",
       "| four        | hatchback   | 56          | \n",
       "| four        | sedan       | 71          | \n",
       "| four        | wagon       | 20          | \n",
       "| six         | convertible |  1          | \n",
       "| six         | hardtop     |  2          | \n",
       "| six         | hatchback   |  6          | \n",
       "| six         | sedan       | 13          | \n",
       "| six         | wagon       |  2          | \n",
       "| three       | hatchback   |  1          | \n",
       "| twelve      | sedan       |  1          | \n",
       "\n",
       "\n"
      ],
      "text/plain": [
       "   num.of.cylinders body.style  n \n",
       "1  eight            convertible  1\n",
       "2  eight            hardtop      1\n",
       "3  eight            sedan        2\n",
       "4  five             hardtop      1\n",
       "5  five             sedan        7\n",
       "6  five             wagon        2\n",
       "7  four             convertible  4\n",
       "8  four             hardtop      4\n",
       "9  four             hatchback   56\n",
       "10 four             sedan       71\n",
       "11 four             wagon       20\n",
       "12 six              convertible  1\n",
       "13 six              hardtop      2\n",
       "14 six              hatchback    6\n",
       "15 six              sedan       13\n",
       "16 six              wagon        2\n",
       "17 three            hatchback    1\n",
       "18 twelve           sedan        1"
      ]
     },
     "metadata": {},
     "output_type": "display_data"
    }
   ],
   "source": [
    "count(auto.price, body.style, num.of.cylinders)"
   ]
  },
  {
   "cell_type": "markdown",
   "metadata": {},
   "source": [
    "The summary of the original data frame by counts shows that there are a few popular configurations, like four cylinder hatachbacks, and many one or few of a kind configurations. "
   ]
  },
  {
   "cell_type": "markdown",
   "metadata": {},
   "source": [
    "**Your Turn:**  Now that you have a bit of experience with some of the most common dplyr verbs, try the following. Compute the weights of the autos made by Dodge in killograms, and the horse power of the auto per killogram of weight. Hint, you will need to use the `mutate` verb twice.  "
   ]
  },
  {
   "cell_type": "code",
   "execution_count": 15,
   "metadata": {
    "collapsed": false
   },
   "outputs": [
    {
     "data": {
      "text/html": [
       "<table>\n",
       "<thead><tr><th scope=col>symboling</th><th scope=col>normalized.losses</th><th scope=col>make</th><th scope=col>fuel.type</th><th scope=col>aspiration</th><th scope=col>num.of.doors</th><th scope=col>body.style</th><th scope=col>drive.wheels</th><th scope=col>engine.location</th><th scope=col>wheel.base</th><th scope=col>...</th><th scope=col>bore</th><th scope=col>stroke</th><th scope=col>compression.ratio</th><th scope=col>horsepower</th><th scope=col>peak.rpm</th><th scope=col>city.mpg</th><th scope=col>highway.mpg</th><th scope=col>price</th><th scope=col>weight.kg</th><th scope=col>weight.kg.hp</th></tr></thead>\n",
       "<tbody>\n",
       "\t<tr><td> 1       </td><td>118      </td><td>dodge    </td><td>gas      </td><td>std      </td><td>two      </td><td>hatchback</td><td>fwd      </td><td>front    </td><td> 93.7    </td><td>...      </td><td>2.97     </td><td>3.23     </td><td>9.41     </td><td> 68      </td><td>5500     </td><td>37       </td><td>41       </td><td> 5572    </td><td> 852.7273</td><td>12.540107</td></tr>\n",
       "\t<tr><td> 1       </td><td>118      </td><td>dodge    </td><td>gas      </td><td>std      </td><td>two      </td><td>hatchback</td><td>fwd      </td><td>front    </td><td> 93.7    </td><td>...      </td><td>2.97     </td><td>3.23     </td><td>9.40     </td><td> 68      </td><td>5500     </td><td>31       </td><td>38       </td><td> 6377    </td><td> 852.7273</td><td>12.540107</td></tr>\n",
       "\t<tr><td> 1       </td><td>118      </td><td>dodge    </td><td>gas      </td><td>turbo    </td><td>two      </td><td>hatchback</td><td>fwd      </td><td>front    </td><td> 93.7    </td><td>...      </td><td>3.03     </td><td>3.39     </td><td>7.60     </td><td>102      </td><td>5500     </td><td>24       </td><td>30       </td><td> 7957    </td><td> 967.2727</td><td> 9.483066</td></tr>\n",
       "\t<tr><td> 1       </td><td>148      </td><td>dodge    </td><td>gas      </td><td>std      </td><td>four     </td><td>hatchback</td><td>fwd      </td><td>front    </td><td> 93.7    </td><td>...      </td><td>2.97     </td><td>3.23     </td><td>9.40     </td><td> 68      </td><td>5500     </td><td>31       </td><td>38       </td><td> 6229    </td><td> 894.0909</td><td>13.148396</td></tr>\n",
       "\t<tr><td> 1       </td><td>148      </td><td>dodge    </td><td>gas      </td><td>std      </td><td>four     </td><td>sedan    </td><td>fwd      </td><td>front    </td><td> 93.7    </td><td>...      </td><td>2.97     </td><td>3.23     </td><td>9.40     </td><td> 68      </td><td>5500     </td><td>31       </td><td>38       </td><td> 6692    </td><td> 904.0909</td><td>13.295455</td></tr>\n",
       "\t<tr><td> 1       </td><td>148      </td><td>dodge    </td><td>gas      </td><td>std      </td><td>four     </td><td>sedan    </td><td>fwd      </td><td>front    </td><td> 93.7    </td><td>...      </td><td>2.97     </td><td>3.23     </td><td>9.40     </td><td> 68      </td><td>5500     </td><td>31       </td><td>38       </td><td> 7609    </td><td> 904.0909</td><td>13.295455</td></tr>\n",
       "\t<tr><td> 1       </td><td>148      </td><td>dodge    </td><td>gas      </td><td>turbo    </td><td>?        </td><td>sedan    </td><td>fwd      </td><td>front    </td><td> 93.7    </td><td>...      </td><td>3.03     </td><td>3.39     </td><td>7.60     </td><td>102      </td><td>5500     </td><td>24       </td><td>30       </td><td> 8558    </td><td> 995.9091</td><td> 9.763815</td></tr>\n",
       "\t<tr><td>-1       </td><td>110      </td><td>dodge    </td><td>gas      </td><td>std      </td><td>four     </td><td>wagon    </td><td>fwd      </td><td>front    </td><td>103.3    </td><td>...      </td><td>3.34     </td><td>3.46     </td><td>8.50     </td><td> 88      </td><td>5000     </td><td>24       </td><td>30       </td><td> 8921    </td><td>1152.2727</td><td>13.094008</td></tr>\n",
       "\t<tr><td> 3       </td><td>145      </td><td>dodge    </td><td>gas      </td><td>turbo    </td><td>two      </td><td>hatchback</td><td>fwd      </td><td>front    </td><td> 95.9    </td><td>...      </td><td>3.60     </td><td>3.90     </td><td>7.00     </td><td>145      </td><td>5000     </td><td>19       </td><td>24       </td><td>12964    </td><td>1277.7273</td><td> 8.811912</td></tr>\n",
       "</tbody>\n",
       "</table>\n"
      ],
      "text/latex": [
       "\\begin{tabular}{r|llllllllllllllllllllllllllll}\n",
       " symboling & normalized.losses & make & fuel.type & aspiration & num.of.doors & body.style & drive.wheels & engine.location & wheel.base & ... & bore & stroke & compression.ratio & horsepower & peak.rpm & city.mpg & highway.mpg & price & weight.kg & weight.kg.hp\\\\\n",
       "\\hline\n",
       "\t  1        & 118       & dodge     & gas       & std       & two       & hatchback & fwd       & front     &  93.7     & ...       & 2.97      & 3.23      & 9.41      &  68       & 5500      & 37        & 41        &  5572     &  852.7273 & 12.540107\\\\\n",
       "\t  1        & 118       & dodge     & gas       & std       & two       & hatchback & fwd       & front     &  93.7     & ...       & 2.97      & 3.23      & 9.40      &  68       & 5500      & 31        & 38        &  6377     &  852.7273 & 12.540107\\\\\n",
       "\t  1        & 118       & dodge     & gas       & turbo     & two       & hatchback & fwd       & front     &  93.7     & ...       & 3.03      & 3.39      & 7.60      & 102       & 5500      & 24        & 30        &  7957     &  967.2727 &  9.483066\\\\\n",
       "\t  1        & 148       & dodge     & gas       & std       & four      & hatchback & fwd       & front     &  93.7     & ...       & 2.97      & 3.23      & 9.40      &  68       & 5500      & 31        & 38        &  6229     &  894.0909 & 13.148396\\\\\n",
       "\t  1        & 148       & dodge     & gas       & std       & four      & sedan     & fwd       & front     &  93.7     & ...       & 2.97      & 3.23      & 9.40      &  68       & 5500      & 31        & 38        &  6692     &  904.0909 & 13.295455\\\\\n",
       "\t  1        & 148       & dodge     & gas       & std       & four      & sedan     & fwd       & front     &  93.7     & ...       & 2.97      & 3.23      & 9.40      &  68       & 5500      & 31        & 38        &  7609     &  904.0909 & 13.295455\\\\\n",
       "\t  1        & 148       & dodge     & gas       & turbo     & ?         & sedan     & fwd       & front     &  93.7     & ...       & 3.03      & 3.39      & 7.60      & 102       & 5500      & 24        & 30        &  8558     &  995.9091 &  9.763815\\\\\n",
       "\t -1        & 110       & dodge     & gas       & std       & four      & wagon     & fwd       & front     & 103.3     & ...       & 3.34      & 3.46      & 8.50      &  88       & 5000      & 24        & 30        &  8921     & 1152.2727 & 13.094008\\\\\n",
       "\t  3        & 145       & dodge     & gas       & turbo     & two       & hatchback & fwd       & front     &  95.9     & ...       & 3.60      & 3.90      & 7.00      & 145       & 5000      & 19        & 24        & 12964     & 1277.7273 &  8.811912\\\\\n",
       "\\end{tabular}\n"
      ],
      "text/markdown": [
       "\n",
       "symboling | normalized.losses | make | fuel.type | aspiration | num.of.doors | body.style | drive.wheels | engine.location | wheel.base | ... | bore | stroke | compression.ratio | horsepower | peak.rpm | city.mpg | highway.mpg | price | weight.kg | weight.kg.hp | \n",
       "|---|---|---|---|---|---|---|---|---|\n",
       "|  1        | 118       | dodge     | gas       | std       | two       | hatchback | fwd       | front     |  93.7     | ...       | 2.97      | 3.23      | 9.41      |  68       | 5500      | 37        | 41        |  5572     |  852.7273 | 12.540107 | \n",
       "|  1        | 118       | dodge     | gas       | std       | two       | hatchback | fwd       | front     |  93.7     | ...       | 2.97      | 3.23      | 9.40      |  68       | 5500      | 31        | 38        |  6377     |  852.7273 | 12.540107 | \n",
       "|  1        | 118       | dodge     | gas       | turbo     | two       | hatchback | fwd       | front     |  93.7     | ...       | 3.03      | 3.39      | 7.60      | 102       | 5500      | 24        | 30        |  7957     |  967.2727 |  9.483066 | \n",
       "|  1        | 148       | dodge     | gas       | std       | four      | hatchback | fwd       | front     |  93.7     | ...       | 2.97      | 3.23      | 9.40      |  68       | 5500      | 31        | 38        |  6229     |  894.0909 | 13.148396 | \n",
       "|  1        | 148       | dodge     | gas       | std       | four      | sedan     | fwd       | front     |  93.7     | ...       | 2.97      | 3.23      | 9.40      |  68       | 5500      | 31        | 38        |  6692     |  904.0909 | 13.295455 | \n",
       "|  1        | 148       | dodge     | gas       | std       | four      | sedan     | fwd       | front     |  93.7     | ...       | 2.97      | 3.23      | 9.40      |  68       | 5500      | 31        | 38        |  7609     |  904.0909 | 13.295455 | \n",
       "|  1        | 148       | dodge     | gas       | turbo     | ?         | sedan     | fwd       | front     |  93.7     | ...       | 3.03      | 3.39      | 7.60      | 102       | 5500      | 24        | 30        |  8558     |  995.9091 |  9.763815 | \n",
       "| -1        | 110       | dodge     | gas       | std       | four      | wagon     | fwd       | front     | 103.3     | ...       | 3.34      | 3.46      | 8.50      |  88       | 5000      | 24        | 30        |  8921     | 1152.2727 | 13.094008 | \n",
       "|  3        | 145       | dodge     | gas       | turbo     | two       | hatchback | fwd       | front     |  95.9     | ...       | 3.60      | 3.90      | 7.00      | 145       | 5000      | 19        | 24        | 12964     | 1277.7273 |  8.811912 | \n",
       "\n",
       "\n"
      ],
      "text/plain": [
       "  symboling normalized.losses make  fuel.type aspiration num.of.doors\n",
       "1  1        118               dodge gas       std        two         \n",
       "2  1        118               dodge gas       std        two         \n",
       "3  1        118               dodge gas       turbo      two         \n",
       "4  1        148               dodge gas       std        four        \n",
       "5  1        148               dodge gas       std        four        \n",
       "6  1        148               dodge gas       std        four        \n",
       "7  1        148               dodge gas       turbo      ?           \n",
       "8 -1        110               dodge gas       std        four        \n",
       "9  3        145               dodge gas       turbo      two         \n",
       "  body.style drive.wheels engine.location wheel.base ... bore stroke\n",
       "1 hatchback  fwd          front            93.7      ... 2.97 3.23  \n",
       "2 hatchback  fwd          front            93.7      ... 2.97 3.23  \n",
       "3 hatchback  fwd          front            93.7      ... 3.03 3.39  \n",
       "4 hatchback  fwd          front            93.7      ... 2.97 3.23  \n",
       "5 sedan      fwd          front            93.7      ... 2.97 3.23  \n",
       "6 sedan      fwd          front            93.7      ... 2.97 3.23  \n",
       "7 sedan      fwd          front            93.7      ... 3.03 3.39  \n",
       "8 wagon      fwd          front           103.3      ... 3.34 3.46  \n",
       "9 hatchback  fwd          front            95.9      ... 3.60 3.90  \n",
       "  compression.ratio horsepower peak.rpm city.mpg highway.mpg price weight.kg\n",
       "1 9.41               68        5500     37       41           5572  852.7273\n",
       "2 9.40               68        5500     31       38           6377  852.7273\n",
       "3 7.60              102        5500     24       30           7957  967.2727\n",
       "4 9.40               68        5500     31       38           6229  894.0909\n",
       "5 9.40               68        5500     31       38           6692  904.0909\n",
       "6 9.40               68        5500     31       38           7609  904.0909\n",
       "7 7.60              102        5500     24       30           8558  995.9091\n",
       "8 8.50               88        5000     24       30           8921 1152.2727\n",
       "9 7.00              145        5000     19       24          12964 1277.7273\n",
       "  weight.kg.hp\n",
       "1 12.540107   \n",
       "2 12.540107   \n",
       "3  9.483066   \n",
       "4 13.148396   \n",
       "5 13.295455   \n",
       "6 13.295455   \n",
       "7  9.763815   \n",
       "8 13.094008   \n",
       "9  8.811912   "
      ]
     },
     "metadata": {},
     "output_type": "display_data"
    }
   ],
   "source": [
    "temp = filter(auto.price, make == 'dodge')\n",
    "temp = mutate(temp, weight.kg = curb.weight / 2.2)\n",
    "temp = mutate(temp, weight.kg.hp = weight.kg / horsepower)\n",
    "temp"
   ]
  },
  {
   "cell_type": "markdown",
   "metadata": {},
   "source": [
    "## Chaining Verbs\n",
    "\n",
    "You have expored some of the most commonly used dplyr verbs. By now, you should have a feel for the syntax used. Next, you will learn how to chain verbs to create complex data munging operations. \n",
    "\n",
    "The syntax of dplyr supports a chaining operator, `%>%`. With the chaining operator you chain together a data frame and any number of verbs to create a complex data mungig operation. The basic gramar is really simple:\n",
    "\n",
    "$$result = df\\ \\%>\\%\\ verb1(arguments)\\ \\%>\\%\\ verb2(arguments)\\ \\%>\\% ...$$\n",
    "\n",
    "Where `df` is your data frame. Notice that you only need to specify `df` at the start of the chain. You only need to specify the arguments of the verbs in the chain, as the data frame name is implicit. Additionally, the operations are applied to each intermediate result without creating data frame copies. This execution model makes the verb chain fast and efficient, and reduces the chance of running out of memory, a frequent source of frustration with R. "
   ]
  },
  {
   "cell_type": "markdown",
   "metadata": {},
   "source": [
    "### A first verb chain\n",
    "\n",
    "You will now apply a dplyr verb chain to compute the same result you achieved before with two distinct steps. The verb chain shown below selects autos made by Audi with the `filter` verb and then selcts 5 columns from that result. Notice the simple gramar of the verb chain. \n",
    "\n",
    "Run this code and examine the result. "
   ]
  },
  {
   "cell_type": "code",
   "execution_count": 16,
   "metadata": {
    "collapsed": false
   },
   "outputs": [
    {
     "data": {
      "text/html": [
       "<table>\n",
       "<thead><tr><th scope=col>drive.wheels</th><th scope=col>wheel.base</th><th scope=col>curb.weight</th><th scope=col>engine.size</th><th scope=col>price</th></tr></thead>\n",
       "<tbody>\n",
       "\t<tr><td>fwd  </td><td> 99.8</td><td>2337 </td><td>109  </td><td>13950</td></tr>\n",
       "\t<tr><td>4wd  </td><td> 99.4</td><td>2824 </td><td>136  </td><td>17450</td></tr>\n",
       "\t<tr><td>fwd  </td><td> 99.8</td><td>2507 </td><td>136  </td><td>15250</td></tr>\n",
       "\t<tr><td>fwd  </td><td>105.8</td><td>2844 </td><td>136  </td><td>17710</td></tr>\n",
       "\t<tr><td>fwd  </td><td>105.8</td><td>2954 </td><td>136  </td><td>18920</td></tr>\n",
       "\t<tr><td>fwd  </td><td>105.8</td><td>3086 </td><td>131  </td><td>23875</td></tr>\n",
       "</tbody>\n",
       "</table>\n"
      ],
      "text/latex": [
       "\\begin{tabular}{r|lllll}\n",
       " drive.wheels & wheel.base & curb.weight & engine.size & price\\\\\n",
       "\\hline\n",
       "\t fwd   &  99.8 & 2337  & 109   & 13950\\\\\n",
       "\t 4wd   &  99.4 & 2824  & 136   & 17450\\\\\n",
       "\t fwd   &  99.8 & 2507  & 136   & 15250\\\\\n",
       "\t fwd   & 105.8 & 2844  & 136   & 17710\\\\\n",
       "\t fwd   & 105.8 & 2954  & 136   & 18920\\\\\n",
       "\t fwd   & 105.8 & 3086  & 131   & 23875\\\\\n",
       "\\end{tabular}\n"
      ],
      "text/markdown": [
       "\n",
       "drive.wheels | wheel.base | curb.weight | engine.size | price | \n",
       "|---|---|---|---|---|---|\n",
       "| fwd   |  99.8 | 2337  | 109   | 13950 | \n",
       "| 4wd   |  99.4 | 2824  | 136   | 17450 | \n",
       "| fwd   |  99.8 | 2507  | 136   | 15250 | \n",
       "| fwd   | 105.8 | 2844  | 136   | 17710 | \n",
       "| fwd   | 105.8 | 2954  | 136   | 18920 | \n",
       "| fwd   | 105.8 | 3086  | 131   | 23875 | \n",
       "\n",
       "\n"
      ],
      "text/plain": [
       "  drive.wheels wheel.base curb.weight engine.size price\n",
       "1 fwd           99.8      2337        109         13950\n",
       "2 4wd           99.4      2824        136         17450\n",
       "3 fwd           99.8      2507        136         15250\n",
       "4 fwd          105.8      2844        136         17710\n",
       "5 fwd          105.8      2954        136         18920\n",
       "6 fwd          105.8      3086        131         23875"
      ]
     },
     "metadata": {},
     "output_type": "display_data"
    }
   ],
   "source": [
    "df2 = auto.price %>% \n",
    "        filter(make == 'audi') %>% \n",
    "        select(drive.wheels, wheel.base, curb.weight, engine.size, price)\n",
    "df2"
   ]
  },
  {
   "cell_type": "markdown",
   "metadata": {},
   "source": [
    "Compare this result to the one you saw before. The result is exactly the same as you achieved with applying two verbs in two seperate steps. \n",
    "\n",
    "The above chain only uses two verbs. However, a verb chain can use any number of verbs you need. "
   ]
  },
  {
   "cell_type": "markdown",
   "metadata": {},
   "source": [
    "**Your Turn:** In a previous exercise you compute the weights of the autos made by Dodge in killograms, and the horse power of the autos per killogram of weight. Preform this same set of operations using a verb chain. Compare the results. Is there any difference?"
   ]
  },
  {
   "cell_type": "code",
   "execution_count": 17,
   "metadata": {
    "collapsed": false
   },
   "outputs": [
    {
     "data": {
      "text/html": [
       "<table>\n",
       "<thead><tr><th scope=col>symboling</th><th scope=col>normalized.losses</th><th scope=col>make</th><th scope=col>fuel.type</th><th scope=col>aspiration</th><th scope=col>num.of.doors</th><th scope=col>body.style</th><th scope=col>drive.wheels</th><th scope=col>engine.location</th><th scope=col>wheel.base</th><th scope=col>...</th><th scope=col>bore</th><th scope=col>stroke</th><th scope=col>compression.ratio</th><th scope=col>horsepower</th><th scope=col>peak.rpm</th><th scope=col>city.mpg</th><th scope=col>highway.mpg</th><th scope=col>price</th><th scope=col>weight.kg</th><th scope=col>weight.kg.hp</th></tr></thead>\n",
       "<tbody>\n",
       "\t<tr><td> 1       </td><td>118      </td><td>dodge    </td><td>gas      </td><td>std      </td><td>two      </td><td>hatchback</td><td>fwd      </td><td>front    </td><td> 93.7    </td><td>...      </td><td>2.97     </td><td>3.23     </td><td>9.41     </td><td> 68      </td><td>5500     </td><td>37       </td><td>41       </td><td> 5572    </td><td> 852.7273</td><td>12.540107</td></tr>\n",
       "\t<tr><td> 1       </td><td>118      </td><td>dodge    </td><td>gas      </td><td>std      </td><td>two      </td><td>hatchback</td><td>fwd      </td><td>front    </td><td> 93.7    </td><td>...      </td><td>2.97     </td><td>3.23     </td><td>9.40     </td><td> 68      </td><td>5500     </td><td>31       </td><td>38       </td><td> 6377    </td><td> 852.7273</td><td>12.540107</td></tr>\n",
       "\t<tr><td> 1       </td><td>118      </td><td>dodge    </td><td>gas      </td><td>turbo    </td><td>two      </td><td>hatchback</td><td>fwd      </td><td>front    </td><td> 93.7    </td><td>...      </td><td>3.03     </td><td>3.39     </td><td>7.60     </td><td>102      </td><td>5500     </td><td>24       </td><td>30       </td><td> 7957    </td><td> 967.2727</td><td> 9.483066</td></tr>\n",
       "\t<tr><td> 1       </td><td>148      </td><td>dodge    </td><td>gas      </td><td>std      </td><td>four     </td><td>hatchback</td><td>fwd      </td><td>front    </td><td> 93.7    </td><td>...      </td><td>2.97     </td><td>3.23     </td><td>9.40     </td><td> 68      </td><td>5500     </td><td>31       </td><td>38       </td><td> 6229    </td><td> 894.0909</td><td>13.148396</td></tr>\n",
       "\t<tr><td> 1       </td><td>148      </td><td>dodge    </td><td>gas      </td><td>std      </td><td>four     </td><td>sedan    </td><td>fwd      </td><td>front    </td><td> 93.7    </td><td>...      </td><td>2.97     </td><td>3.23     </td><td>9.40     </td><td> 68      </td><td>5500     </td><td>31       </td><td>38       </td><td> 6692    </td><td> 904.0909</td><td>13.295455</td></tr>\n",
       "\t<tr><td> 1       </td><td>148      </td><td>dodge    </td><td>gas      </td><td>std      </td><td>four     </td><td>sedan    </td><td>fwd      </td><td>front    </td><td> 93.7    </td><td>...      </td><td>2.97     </td><td>3.23     </td><td>9.40     </td><td> 68      </td><td>5500     </td><td>31       </td><td>38       </td><td> 7609    </td><td> 904.0909</td><td>13.295455</td></tr>\n",
       "\t<tr><td> 1       </td><td>148      </td><td>dodge    </td><td>gas      </td><td>turbo    </td><td>?        </td><td>sedan    </td><td>fwd      </td><td>front    </td><td> 93.7    </td><td>...      </td><td>3.03     </td><td>3.39     </td><td>7.60     </td><td>102      </td><td>5500     </td><td>24       </td><td>30       </td><td> 8558    </td><td> 995.9091</td><td> 9.763815</td></tr>\n",
       "\t<tr><td>-1       </td><td>110      </td><td>dodge    </td><td>gas      </td><td>std      </td><td>four     </td><td>wagon    </td><td>fwd      </td><td>front    </td><td>103.3    </td><td>...      </td><td>3.34     </td><td>3.46     </td><td>8.50     </td><td> 88      </td><td>5000     </td><td>24       </td><td>30       </td><td> 8921    </td><td>1152.2727</td><td>13.094008</td></tr>\n",
       "\t<tr><td> 3       </td><td>145      </td><td>dodge    </td><td>gas      </td><td>turbo    </td><td>two      </td><td>hatchback</td><td>fwd      </td><td>front    </td><td> 95.9    </td><td>...      </td><td>3.60     </td><td>3.90     </td><td>7.00     </td><td>145      </td><td>5000     </td><td>19       </td><td>24       </td><td>12964    </td><td>1277.7273</td><td> 8.811912</td></tr>\n",
       "</tbody>\n",
       "</table>\n"
      ],
      "text/latex": [
       "\\begin{tabular}{r|llllllllllllllllllllllllllll}\n",
       " symboling & normalized.losses & make & fuel.type & aspiration & num.of.doors & body.style & drive.wheels & engine.location & wheel.base & ... & bore & stroke & compression.ratio & horsepower & peak.rpm & city.mpg & highway.mpg & price & weight.kg & weight.kg.hp\\\\\n",
       "\\hline\n",
       "\t  1        & 118       & dodge     & gas       & std       & two       & hatchback & fwd       & front     &  93.7     & ...       & 2.97      & 3.23      & 9.41      &  68       & 5500      & 37        & 41        &  5572     &  852.7273 & 12.540107\\\\\n",
       "\t  1        & 118       & dodge     & gas       & std       & two       & hatchback & fwd       & front     &  93.7     & ...       & 2.97      & 3.23      & 9.40      &  68       & 5500      & 31        & 38        &  6377     &  852.7273 & 12.540107\\\\\n",
       "\t  1        & 118       & dodge     & gas       & turbo     & two       & hatchback & fwd       & front     &  93.7     & ...       & 3.03      & 3.39      & 7.60      & 102       & 5500      & 24        & 30        &  7957     &  967.2727 &  9.483066\\\\\n",
       "\t  1        & 148       & dodge     & gas       & std       & four      & hatchback & fwd       & front     &  93.7     & ...       & 2.97      & 3.23      & 9.40      &  68       & 5500      & 31        & 38        &  6229     &  894.0909 & 13.148396\\\\\n",
       "\t  1        & 148       & dodge     & gas       & std       & four      & sedan     & fwd       & front     &  93.7     & ...       & 2.97      & 3.23      & 9.40      &  68       & 5500      & 31        & 38        &  6692     &  904.0909 & 13.295455\\\\\n",
       "\t  1        & 148       & dodge     & gas       & std       & four      & sedan     & fwd       & front     &  93.7     & ...       & 2.97      & 3.23      & 9.40      &  68       & 5500      & 31        & 38        &  7609     &  904.0909 & 13.295455\\\\\n",
       "\t  1        & 148       & dodge     & gas       & turbo     & ?         & sedan     & fwd       & front     &  93.7     & ...       & 3.03      & 3.39      & 7.60      & 102       & 5500      & 24        & 30        &  8558     &  995.9091 &  9.763815\\\\\n",
       "\t -1        & 110       & dodge     & gas       & std       & four      & wagon     & fwd       & front     & 103.3     & ...       & 3.34      & 3.46      & 8.50      &  88       & 5000      & 24        & 30        &  8921     & 1152.2727 & 13.094008\\\\\n",
       "\t  3        & 145       & dodge     & gas       & turbo     & two       & hatchback & fwd       & front     &  95.9     & ...       & 3.60      & 3.90      & 7.00      & 145       & 5000      & 19        & 24        & 12964     & 1277.7273 &  8.811912\\\\\n",
       "\\end{tabular}\n"
      ],
      "text/markdown": [
       "\n",
       "symboling | normalized.losses | make | fuel.type | aspiration | num.of.doors | body.style | drive.wheels | engine.location | wheel.base | ... | bore | stroke | compression.ratio | horsepower | peak.rpm | city.mpg | highway.mpg | price | weight.kg | weight.kg.hp | \n",
       "|---|---|---|---|---|---|---|---|---|\n",
       "|  1        | 118       | dodge     | gas       | std       | two       | hatchback | fwd       | front     |  93.7     | ...       | 2.97      | 3.23      | 9.41      |  68       | 5500      | 37        | 41        |  5572     |  852.7273 | 12.540107 | \n",
       "|  1        | 118       | dodge     | gas       | std       | two       | hatchback | fwd       | front     |  93.7     | ...       | 2.97      | 3.23      | 9.40      |  68       | 5500      | 31        | 38        |  6377     |  852.7273 | 12.540107 | \n",
       "|  1        | 118       | dodge     | gas       | turbo     | two       | hatchback | fwd       | front     |  93.7     | ...       | 3.03      | 3.39      | 7.60      | 102       | 5500      | 24        | 30        |  7957     |  967.2727 |  9.483066 | \n",
       "|  1        | 148       | dodge     | gas       | std       | four      | hatchback | fwd       | front     |  93.7     | ...       | 2.97      | 3.23      | 9.40      |  68       | 5500      | 31        | 38        |  6229     |  894.0909 | 13.148396 | \n",
       "|  1        | 148       | dodge     | gas       | std       | four      | sedan     | fwd       | front     |  93.7     | ...       | 2.97      | 3.23      | 9.40      |  68       | 5500      | 31        | 38        |  6692     |  904.0909 | 13.295455 | \n",
       "|  1        | 148       | dodge     | gas       | std       | four      | sedan     | fwd       | front     |  93.7     | ...       | 2.97      | 3.23      | 9.40      |  68       | 5500      | 31        | 38        |  7609     |  904.0909 | 13.295455 | \n",
       "|  1        | 148       | dodge     | gas       | turbo     | ?         | sedan     | fwd       | front     |  93.7     | ...       | 3.03      | 3.39      | 7.60      | 102       | 5500      | 24        | 30        |  8558     |  995.9091 |  9.763815 | \n",
       "| -1        | 110       | dodge     | gas       | std       | four      | wagon     | fwd       | front     | 103.3     | ...       | 3.34      | 3.46      | 8.50      |  88       | 5000      | 24        | 30        |  8921     | 1152.2727 | 13.094008 | \n",
       "|  3        | 145       | dodge     | gas       | turbo     | two       | hatchback | fwd       | front     |  95.9     | ...       | 3.60      | 3.90      | 7.00      | 145       | 5000      | 19        | 24        | 12964     | 1277.7273 |  8.811912 | \n",
       "\n",
       "\n"
      ],
      "text/plain": [
       "  symboling normalized.losses make  fuel.type aspiration num.of.doors\n",
       "1  1        118               dodge gas       std        two         \n",
       "2  1        118               dodge gas       std        two         \n",
       "3  1        118               dodge gas       turbo      two         \n",
       "4  1        148               dodge gas       std        four        \n",
       "5  1        148               dodge gas       std        four        \n",
       "6  1        148               dodge gas       std        four        \n",
       "7  1        148               dodge gas       turbo      ?           \n",
       "8 -1        110               dodge gas       std        four        \n",
       "9  3        145               dodge gas       turbo      two         \n",
       "  body.style drive.wheels engine.location wheel.base ... bore stroke\n",
       "1 hatchback  fwd          front            93.7      ... 2.97 3.23  \n",
       "2 hatchback  fwd          front            93.7      ... 2.97 3.23  \n",
       "3 hatchback  fwd          front            93.7      ... 3.03 3.39  \n",
       "4 hatchback  fwd          front            93.7      ... 2.97 3.23  \n",
       "5 sedan      fwd          front            93.7      ... 2.97 3.23  \n",
       "6 sedan      fwd          front            93.7      ... 2.97 3.23  \n",
       "7 sedan      fwd          front            93.7      ... 3.03 3.39  \n",
       "8 wagon      fwd          front           103.3      ... 3.34 3.46  \n",
       "9 hatchback  fwd          front            95.9      ... 3.60 3.90  \n",
       "  compression.ratio horsepower peak.rpm city.mpg highway.mpg price weight.kg\n",
       "1 9.41               68        5500     37       41           5572  852.7273\n",
       "2 9.40               68        5500     31       38           6377  852.7273\n",
       "3 7.60              102        5500     24       30           7957  967.2727\n",
       "4 9.40               68        5500     31       38           6229  894.0909\n",
       "5 9.40               68        5500     31       38           6692  904.0909\n",
       "6 9.40               68        5500     31       38           7609  904.0909\n",
       "7 7.60              102        5500     24       30           8558  995.9091\n",
       "8 8.50               88        5000     24       30           8921 1152.2727\n",
       "9 7.00              145        5000     19       24          12964 1277.7273\n",
       "  weight.kg.hp\n",
       "1 12.540107   \n",
       "2 12.540107   \n",
       "3  9.483066   \n",
       "4 13.148396   \n",
       "5 13.295455   \n",
       "6 13.295455   \n",
       "7  9.763815   \n",
       "8 13.094008   \n",
       "9  8.811912   "
      ]
     },
     "metadata": {},
     "output_type": "display_data"
    }
   ],
   "source": [
    "temp = auto.price %>% filter(make == 'dodge') %>%\n",
    "       mutate(weight.kg = curb.weight / 2.2) %>%\n",
    "       mutate(weight.kg.hp = weight.kg / horsepower)\n",
    "temp"
   ]
  },
  {
   "cell_type": "markdown",
   "metadata": {},
   "source": [
    "### Use group_by in a verb chain\n",
    "\n",
    "Next you will use a verb chain which includes the dplyr `group_by` verb. While you can use `group_by` in a simple line of code, the power of this operator really shines when used in a verb chain. \n",
    "\n",
    "For example, say you want to compare some summary statistics of auto prices organized by type of drive wheels. The code in the cell below does just this. The dplyr count function `n()` is used to compute the number of cases in each group. Execute this code and examine the result."
   ]
  },
  {
   "cell_type": "code",
   "execution_count": 18,
   "metadata": {
    "collapsed": false
   },
   "outputs": [
    {
     "data": {
      "text/html": [
       "<table>\n",
       "<thead><tr><th scope=col>drive.wheels</th><th scope=col>count</th><th scope=col>mean.price</th><th scope=col>sd.price</th><th scope=col>max.price</th><th scope=col>min.price</th></tr></thead>\n",
       "<tbody>\n",
       "\t<tr><td>4wd      </td><td>  8      </td><td>10241.000</td><td>3288.211 </td><td>17450    </td><td>7603     </td></tr>\n",
       "\t<tr><td>fwd      </td><td>116      </td><td> 9238.741</td><td>3374.314 </td><td>23875    </td><td>5118     </td></tr>\n",
       "\t<tr><td>rwd      </td><td> 71      </td><td>20137.197</td><td>9180.504 </td><td>45400    </td><td>6785     </td></tr>\n",
       "</tbody>\n",
       "</table>\n"
      ],
      "text/latex": [
       "\\begin{tabular}{r|llllll}\n",
       " drive.wheels & count & mean.price & sd.price & max.price & min.price\\\\\n",
       "\\hline\n",
       "\t 4wd       &   8       & 10241.000 & 3288.211  & 17450     & 7603     \\\\\n",
       "\t fwd       & 116       &  9238.741 & 3374.314  & 23875     & 5118     \\\\\n",
       "\t rwd       &  71       & 20137.197 & 9180.504  & 45400     & 6785     \\\\\n",
       "\\end{tabular}\n"
      ],
      "text/markdown": [
       "\n",
       "drive.wheels | count | mean.price | sd.price | max.price | min.price | \n",
       "|---|---|---|\n",
       "| 4wd       |   8       | 10241.000 | 3288.211  | 17450     | 7603      | \n",
       "| fwd       | 116       |  9238.741 | 3374.314  | 23875     | 5118      | \n",
       "| rwd       |  71       | 20137.197 | 9180.504  | 45400     | 6785      | \n",
       "\n",
       "\n"
      ],
      "text/plain": [
       "  drive.wheels count mean.price sd.price max.price min.price\n",
       "1 4wd            8   10241.000  3288.211 17450     7603     \n",
       "2 fwd          116    9238.741  3374.314 23875     5118     \n",
       "3 rwd           71   20137.197  9180.504 45400     6785     "
      ]
     },
     "metadata": {},
     "output_type": "display_data"
    }
   ],
   "source": [
    "auto.price %>% group_by(drive.wheels) %>% \n",
    "    summarise(count = n(), mean.price = mean(price, na.rm = TRUE), sd.price = sd(price, na.rm = TRUE), \n",
    "         max.price = max(price), min.price = min(price))"
   ]
  },
  {
   "cell_type": "markdown",
   "metadata": {},
   "source": [
    "**Your Turn** Here is one final challange for you. Create a dplyr verb chain to compute the count, mean weight, standard deviation, maximum weight, minimum weight for toyota autos grouped by body style.  "
   ]
  },
  {
   "cell_type": "code",
   "execution_count": 24,
   "metadata": {
    "collapsed": false
   },
   "outputs": [
    {
     "data": {
      "text/html": [
       "<table>\n",
       "<thead><tr><th scope=col>body.style</th><th scope=col>count</th><th scope=col>mean.weight</th><th scope=col>sd.weight</th><th scope=col>max.weight</th><th scope=col>min.weight</th></tr></thead>\n",
       "<tbody>\n",
       "\t<tr><td>sedan      </td><td>10         </td><td>2337.500   </td><td>308.68511  </td><td>3131       </td><td>2081       </td></tr>\n",
       "\t<tr><td>hatchback  </td><td>14         </td><td>2369.929   </td><td>339.63611  </td><td>3016       </td><td>1985       </td></tr>\n",
       "\t<tr><td>hardtop    </td><td> 3         </td><td>2585.000   </td><td> 81.43095  </td><td>2679       </td><td>2536       </td></tr>\n",
       "\t<tr><td>wagon      </td><td> 4         </td><td>2707.750   </td><td>488.45360  </td><td>3151       </td><td>2280       </td></tr>\n",
       "\t<tr><td>convertible</td><td> 1         </td><td>2975.000   </td><td>      NaN  </td><td>2975       </td><td>2975       </td></tr>\n",
       "</tbody>\n",
       "</table>\n"
      ],
      "text/latex": [
       "\\begin{tabular}{r|llllll}\n",
       " body.style & count & mean.weight & sd.weight & max.weight & min.weight\\\\\n",
       "\\hline\n",
       "\t sedan       & 10          & 2337.500    & 308.68511   & 3131        & 2081       \\\\\n",
       "\t hatchback   & 14          & 2369.929    & 339.63611   & 3016        & 1985       \\\\\n",
       "\t hardtop     &  3          & 2585.000    &  81.43095   & 2679        & 2536       \\\\\n",
       "\t wagon       &  4          & 2707.750    & 488.45360   & 3151        & 2280       \\\\\n",
       "\t convertible &  1          & 2975.000    &       NaN   & 2975        & 2975       \\\\\n",
       "\\end{tabular}\n"
      ],
      "text/markdown": [
       "\n",
       "body.style | count | mean.weight | sd.weight | max.weight | min.weight | \n",
       "|---|---|---|---|---|\n",
       "| sedan       | 10          | 2337.500    | 308.68511   | 3131        | 2081        | \n",
       "| hatchback   | 14          | 2369.929    | 339.63611   | 3016        | 1985        | \n",
       "| hardtop     |  3          | 2585.000    |  81.43095   | 2679        | 2536        | \n",
       "| wagon       |  4          | 2707.750    | 488.45360   | 3151        | 2280        | \n",
       "| convertible |  1          | 2975.000    |       NaN   | 2975        | 2975        | \n",
       "\n",
       "\n"
      ],
      "text/plain": [
       "  body.style  count mean.weight sd.weight max.weight min.weight\n",
       "1 sedan       10    2337.500    308.68511 3131       2081      \n",
       "2 hatchback   14    2369.929    339.63611 3016       1985      \n",
       "3 hardtop      3    2585.000     81.43095 2679       2536      \n",
       "4 wagon        4    2707.750    488.45360 3151       2280      \n",
       "5 convertible  1    2975.000          NaN 2975       2975      "
      ]
     },
     "metadata": {},
     "output_type": "display_data"
    }
   ],
   "source": [
    "auto.price %>% filter(make == 'toyota') %>% \n",
    "    group_by(body.style) %>% \n",
    "    summarise(count = n(), mean.weight = mean(curb.weight, na.rm = TRUE), sd.weight = sd(curb.weight, na.rm = TRUE), \n",
    "         max.weight = max(curb.weight), min.weight = min(curb.weight)) %>%\n",
    "    arrange(mean.weight)"
   ]
  },
  {
   "cell_type": "code",
   "execution_count": null,
   "metadata": {
    "collapsed": true
   },
   "outputs": [],
   "source": []
  },
  {
   "cell_type": "markdown",
   "metadata": {},
   "source": [
    "#### Copyright 2017, Stephen F Elston. All rights reserved."
   ]
  },
  {
   "cell_type": "code",
   "execution_count": null,
   "metadata": {
    "collapsed": true
   },
   "outputs": [],
   "source": []
  }
 ],
 "metadata": {
  "anaconda-cloud": {},
  "kernelspec": {
   "display_name": "R",
   "language": "R",
   "name": "ir"
  },
  "language_info": {
   "codemirror_mode": "r",
   "file_extension": ".r",
   "mimetype": "text/x-r-source",
   "name": "R",
   "pygments_lexer": "r",
   "version": "3.3.1"
  }
 },
 "nbformat": 4,
 "nbformat_minor": 1
}
