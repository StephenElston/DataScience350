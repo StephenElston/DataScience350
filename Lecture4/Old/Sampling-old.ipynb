{
 "cells": [
  {
   "cell_type": "markdown",
   "metadata": {},
   "source": [
    "# Sampling and Law of Large Numbers\n",
    "### Stephen Elston\n",
    "### Data Science 350\n",
    "\n",
    "## Introduction\n",
    "\n",
    "Sampling is a fundamental process in the collection of data. Sampling is important because we can almost never look at the whole population. Some key points to keep in mind about sampling are:\n",
    "- We use inferences on the sample to say something about the population.\n",
    "- We need estimates of variances on the sample calculations to say something about the population.\n",
    "\n",
    "Let's look at some examples of sampling.\n",
    "\n",
    "| Use Case | Sample | Population |\n",
    "|---|---|---|\n",
    "| A/B Testing | The users we show either web sites A or B | All possible users, past present and future|\n",
    "|World Cup Socer | 32 teams which qualify in one season | All national times for 4 years|\n",
    "|Average height of data science students | Students in UW Data Science 350 | All students taking data science classes world wide|\n",
    "\n",
    "Notice, that in several cases it is not only impractical, but impossible to collect data from the entire population. Hence, we must work with correctly collected samples. \n",
    "\n",
    "## Sampling Strategies\n",
    "\n",
    "We will investigate a number of commonly used sampling strategies: \n",
    "\n",
    "- Bernoulli Sampling\n",
    "- Stratified Sampling\n",
    "- Cluster Sampling\n",
    "- Systematic Sampling\n",
    "\n",
    "\n",
    "### Bernoulli Sampling\n",
    "\n",
    "Bernoulli sampling has the following properties:\n",
    "\n",
    "- Every point subjected to a probability of being selected. Simple Random Sample (most common)\n",
    "- Fixed size Bernoulli sampling.\n",
    "- Example randomly sample weight of product to ensure quality\n",
    "\n",
    "Let's look at an example. The code in the cell below creates a data frame with 200 random samples of a Normal distribution, divided into 4 groups. Run this code and examine the summary of the sample. "
   ]
  },
  {
   "cell_type": "code",
   "execution_count": 1,
   "metadata": {
    "collapsed": false,
    "scrolled": true
   },
   "outputs": [
    {
     "name": "stderr",
     "output_type": "stream",
     "text": [
      "Loading required package: dplyr\n",
      "\n",
      "Attaching package: 'dplyr'\n",
      "\n",
      "The following objects are masked from 'package:stats':\n",
      "\n",
      "    filter, lag\n",
      "\n",
      "The following objects are masked from 'package:base':\n",
      "\n",
      "    intersect, setdiff, setequal, union\n",
      "\n"
     ]
    },
    {
     "data": {
      "text/html": [
       "<table>\n",
       "<thead><tr><th scope=col>group</th><th scope=col>n.group</th><th scope=col>mean.index</th></tr></thead>\n",
       "<tbody>\n",
       "\t<tr><td>1          </td><td>16         </td><td> 0.01520439</td></tr>\n",
       "\t<tr><td>2          </td><td>64         </td><td>-0.33666661</td></tr>\n",
       "\t<tr><td>3          </td><td>82         </td><td> 0.26827145</td></tr>\n",
       "\t<tr><td>4          </td><td>38         </td><td> 0.07936176</td></tr>\n",
       "</tbody>\n",
       "</table>\n"
      ],
      "text/latex": [
       "\\begin{tabular}{r|lll}\n",
       " group & n.group & mean.index\\\\\n",
       "\\hline\n",
       "\t 1           & 16          &  0.01520439\\\\\n",
       "\t 2           & 64          & -0.33666661\\\\\n",
       "\t 3           & 82          &  0.26827145\\\\\n",
       "\t 4           & 38          &  0.07936176\\\\\n",
       "\\end{tabular}\n"
      ],
      "text/markdown": [
       "\n",
       "group | n.group | mean.index | \n",
       "|---|---|---|---|\n",
       "| 1           | 16          |  0.01520439 | \n",
       "| 2           | 64          | -0.33666661 | \n",
       "| 3           | 82          |  0.26827145 | \n",
       "| 4           | 38          |  0.07936176 | \n",
       "\n",
       "\n"
      ],
      "text/plain": [
       "  group n.group mean.index \n",
       "1 1     16       0.01520439\n",
       "2 2     64      -0.33666661\n",
       "3 3     82       0.26827145\n",
       "4 4     38       0.07936176"
      ]
     },
     "metadata": {},
     "output_type": "display_data"
    }
   ],
   "source": [
    "# Create and data frame and look at the group size in the sample\n",
    "data = data.frame(index = 1:200,\n",
    "                  var1 = rnorm(200),\n",
    "                  group = sample(1:4, 200, replace=TRUE, prob=c(0.1,0.3,0.4,0.2)))\n",
    "require(dplyr)\n",
    "data %>% group_by(group) %>% summarise(n.group = n(), mean.index = mean(var1))"
   ]
  },
  {
   "cell_type": "markdown",
   "metadata": {},
   "source": [
    "Next, Bernoulli sample these data by runing the code in the cell below.  "
   ]
  },
  {
   "cell_type": "code",
   "execution_count": 2,
   "metadata": {
    "collapsed": false
   },
   "outputs": [
    {
     "data": {
      "text/html": [
       "<table>\n",
       "<thead><tr><th scope=col>group</th><th scope=col>n.group</th><th scope=col>mean.index</th></tr></thead>\n",
       "<tbody>\n",
       "\t<tr><td>2         </td><td> 4        </td><td>-1.2841588</td></tr>\n",
       "\t<tr><td>3         </td><td>10        </td><td> 0.1490059</td></tr>\n",
       "\t<tr><td>4         </td><td> 5        </td><td>-0.1316576</td></tr>\n",
       "</tbody>\n",
       "</table>\n"
      ],
      "text/latex": [
       "\\begin{tabular}{r|lll}\n",
       " group & n.group & mean.index\\\\\n",
       "\\hline\n",
       "\t 2          &  4         & -1.2841588\\\\\n",
       "\t 3          & 10         &  0.1490059\\\\\n",
       "\t 4          &  5         & -0.1316576\\\\\n",
       "\\end{tabular}\n"
      ],
      "text/markdown": [
       "\n",
       "group | n.group | mean.index | \n",
       "|---|---|---|\n",
       "| 2          |  4         | -1.2841588 | \n",
       "| 3          | 10         |  0.1490059 | \n",
       "| 4          |  5         | -0.1316576 | \n",
       "\n",
       "\n"
      ],
      "text/plain": [
       "  group n.group mean.index\n",
       "1 2      4      -1.2841588\n",
       "2 3     10       0.1490059\n",
       "3 4      5      -0.1316576"
      ]
     },
     "metadata": {},
     "output_type": "display_data"
    }
   ],
   "source": [
    "##----Bernoulli Sampling-----\n",
    "p = 0.1\n",
    "bernoulli_sample = data[runif(200)<p,] # Yay for R vectorization\n",
    "bernoulli_sample %>% group_by(group) %>% summarise(n.group = n(), mean.index = mean(var1))"
   ]
  },
  {
   "cell_type": "markdown",
   "metadata": {},
   "source": [
    "You can see that the total number of samples is approximately 10%. \n",
    "\n",
    "**Your Turn:** You can also use the R `sample` function to Bernoulli sample a data frame. Create the code to Bernoulli sample 15 cases from the population and print the summary statistcs of number and mean by group. "
   ]
  },
  {
   "cell_type": "code",
   "execution_count": 3,
   "metadata": {
    "collapsed": false
   },
   "outputs": [
    {
     "data": {
      "text/html": [
       "<table>\n",
       "<thead><tr><th scope=col>group</th><th scope=col>n.group</th><th scope=col>mean.index</th></tr></thead>\n",
       "<tbody>\n",
       "\t<tr><td>1           </td><td>2           </td><td>-0.008828094</td></tr>\n",
       "\t<tr><td>2           </td><td>6           </td><td>-0.319034255</td></tr>\n",
       "\t<tr><td>3           </td><td>4           </td><td> 0.591984060</td></tr>\n",
       "\t<tr><td>4           </td><td>3           </td><td>-0.619983654</td></tr>\n",
       "</tbody>\n",
       "</table>\n"
      ],
      "text/latex": [
       "\\begin{tabular}{r|lll}\n",
       " group & n.group & mean.index\\\\\n",
       "\\hline\n",
       "\t 1            & 2            & -0.008828094\\\\\n",
       "\t 2            & 6            & -0.319034255\\\\\n",
       "\t 3            & 4            &  0.591984060\\\\\n",
       "\t 4            & 3            & -0.619983654\\\\\n",
       "\\end{tabular}\n"
      ],
      "text/markdown": [
       "\n",
       "group | n.group | mean.index | \n",
       "|---|---|---|---|\n",
       "| 1            | 2            | -0.008828094 | \n",
       "| 2            | 6            | -0.319034255 | \n",
       "| 3            | 4            |  0.591984060 | \n",
       "| 4            | 3            | -0.619983654 | \n",
       "\n",
       "\n"
      ],
      "text/plain": [
       "  group n.group mean.index  \n",
       "1 1     2       -0.008828094\n",
       "2 2     6       -0.319034255\n",
       "3 3     4        0.591984060\n",
       "4 4     3       -0.619983654"
      ]
     },
     "metadata": {},
     "output_type": "display_data"
    }
   ],
   "source": [
    "#sam2 = data[sample(1:nrow(data),15), ]\n",
    "sam2 = data %>% sample_n(15)\n",
    "sam2 %>% group_by(group) %>% summarise(n.group = n(), mean.index = mean(var1))"
   ]
  },
  {
   "cell_type": "markdown",
   "metadata": {},
   "source": [
    "Notice that for both samples the number of cases for some groups can be rather small. Compare the means by groups of the two samples and the population, and notice how much variation there is. Clearly, Bernoulli sampling is far from idea if the data have a group structure.  "
   ]
  },
  {
   "cell_type": "markdown",
   "metadata": {},
   "source": [
    "### Stratified Sampling\n",
    "\n",
    "Stratified sampling strategies are used when data are organized in groups or **Strata**. The idea is simple, sample each group in such a way that the sample includes a representative number of cases from each group. The simplist version of stratified sampling creates a sample with the same number of cases from each group.\n",
    "\n",
    "Some examples of stratified sampling include:\n",
    "\n",
    "- Sample equal numbers of men and women.\n",
    "- Sample equal numbers of people in different income categories.\n",
    "- Sample the same number of people from towns of different sizes.\n",
    "\n",
    "Execute the code in the cell below to sample our population uniformly, and verify the result. "
   ]
  },
  {
   "cell_type": "code",
   "execution_count": 4,
   "metadata": {
    "collapsed": false
   },
   "outputs": [
    {
     "data": {
      "text/html": [
       "<table>\n",
       "<thead><tr><th scope=col>group</th><th scope=col>n.group</th><th scope=col>mean.index</th></tr></thead>\n",
       "<tbody>\n",
       "\t<tr><td>1         </td><td>5         </td><td>-0.1244586</td></tr>\n",
       "\t<tr><td>2         </td><td>5         </td><td>-0.6285594</td></tr>\n",
       "\t<tr><td>3         </td><td>5         </td><td> 1.2230028</td></tr>\n",
       "\t<tr><td>4         </td><td>5         </td><td>-0.4398450</td></tr>\n",
       "</tbody>\n",
       "</table>\n"
      ],
      "text/latex": [
       "\\begin{tabular}{r|lll}\n",
       " group & n.group & mean.index\\\\\n",
       "\\hline\n",
       "\t 1          & 5          & -0.1244586\\\\\n",
       "\t 2          & 5          & -0.6285594\\\\\n",
       "\t 3          & 5          &  1.2230028\\\\\n",
       "\t 4          & 5          & -0.4398450\\\\\n",
       "\\end{tabular}\n"
      ],
      "text/markdown": [
       "\n",
       "group | n.group | mean.index | \n",
       "|---|---|---|---|\n",
       "| 1          | 5          | -0.1244586 | \n",
       "| 2          | 5          | -0.6285594 | \n",
       "| 3          | 5          |  1.2230028 | \n",
       "| 4          | 5          | -0.4398450 | \n",
       "\n",
       "\n"
      ],
      "text/plain": [
       "  group n.group mean.index\n",
       "1 1     5       -0.1244586\n",
       "2 2     5       -0.6285594\n",
       "3 3     5        1.2230028\n",
       "4 4     5       -0.4398450"
      ]
     },
     "metadata": {},
     "output_type": "display_data"
    }
   ],
   "source": [
    "##-----Stratified Sampling for equal numbers -----\n",
    "n = 5\n",
    "stratified_sample = data %>% group_by(group) %>% sample_n(n, replace = FALSE)\n",
    "stratified_sample %>% group_by(group) %>% summarise(n.group = n(), mean.index = mean(var1))"
   ]
  },
  {
   "cell_type": "code",
   "execution_count": 5,
   "metadata": {
    "collapsed": false
   },
   "outputs": [
    {
     "data": {
      "text/html": [
       "<table>\n",
       "<thead><tr><th scope=col>group</th><th scope=col>n.group</th><th scope=col>mean.index</th></tr></thead>\n",
       "<tbody>\n",
       "\t<tr><td>1         </td><td>5         </td><td>-0.1244586</td></tr>\n",
       "\t<tr><td>2         </td><td>5         </td><td>-0.6285594</td></tr>\n",
       "\t<tr><td>3         </td><td>5         </td><td> 1.2230028</td></tr>\n",
       "\t<tr><td>4         </td><td>5         </td><td>-0.4398450</td></tr>\n",
       "</tbody>\n",
       "</table>\n"
      ],
      "text/latex": [
       "\\begin{tabular}{r|lll}\n",
       " group & n.group & mean.index\\\\\n",
       "\\hline\n",
       "\t 1          & 5          & -0.1244586\\\\\n",
       "\t 2          & 5          & -0.6285594\\\\\n",
       "\t 3          & 5          &  1.2230028\\\\\n",
       "\t 4          & 5          & -0.4398450\\\\\n",
       "\\end{tabular}\n"
      ],
      "text/markdown": [
       "\n",
       "group | n.group | mean.index | \n",
       "|---|---|---|---|\n",
       "| 1          | 5          | -0.1244586 | \n",
       "| 2          | 5          | -0.6285594 | \n",
       "| 3          | 5          |  1.2230028 | \n",
       "| 4          | 5          | -0.4398450 | \n",
       "\n",
       "\n"
      ],
      "text/plain": [
       "  group n.group mean.index\n",
       "1 1     5       -0.1244586\n",
       "2 2     5       -0.6285594\n",
       "3 3     5        1.2230028\n",
       "4 4     5       -0.4398450"
      ]
     },
     "metadata": {},
     "output_type": "display_data"
    }
   ],
   "source": [
    "stratified_sample %>% group_by(group) %>% summarise(n.group = n(), mean.index = mean(var1))"
   ]
  },
  {
   "cell_type": "markdown",
   "metadata": {},
   "source": [
    "We now have 5 samples from each strata. Notice that the mean estimates of each group are closer those for the population. Stratified sampling ensures the samples for each group are more  representative of the groups. "
   ]
  },
  {
   "cell_type": "markdown",
   "metadata": {},
   "source": [
    "### Cluster Sampling\n",
    "\n",
    "When sampling is expensive a strategy is required to reduce the cost, yet still keep randomized sampling. Some examples of data which is expensive to collect includues:\n",
    "\n",
    "- Surveys of customers at a chain of stores.\n",
    "- Door to door survey of homeowners.\n",
    "\n",
    "In these cases, the popuation can be divided into clusters and a random selection of clusters sampled. The proceess of cluster sampling follows these steps:\n",
    "\n",
    "- Define the clusters and divide the data.\n",
    "- Randomly select some clusters.\n",
    "- Sample from the selected clusters.\n",
    "- Optionally, stratify the sample from the clusters.\n",
    "\n",
    "As an example, you can select a few store locations and Bernoulli sample customers at these locations.\n",
    "\n",
    "The code in the cell bellow divides a population into clusters, randomly selects 3 clusters and computes and prints some summary statistics. Run this code and examine the results."
   ]
  },
  {
   "cell_type": "code",
   "execution_count": 6,
   "metadata": {
    "collapsed": false
   },
   "outputs": [
    {
     "data": {
      "text/html": [
       "<ol class=list-inline>\n",
       "\t<li>9</li>\n",
       "\t<li>2</li>\n",
       "\t<li>5</li>\n",
       "</ol>\n"
      ],
      "text/latex": [
       "\\begin{enumerate*}\n",
       "\\item 9\n",
       "\\item 2\n",
       "\\item 5\n",
       "\\end{enumerate*}\n"
      ],
      "text/markdown": [
       "1. 9\n",
       "2. 2\n",
       "3. 5\n",
       "\n",
       "\n"
      ],
      "text/plain": [
       "[1] 9 2 5"
      ]
     },
     "metadata": {},
     "output_type": "display_data"
    },
    {
     "data": {
      "text/html": [
       "<table>\n",
       "<thead><tr><th scope=col>cluster_labels</th><th scope=col>n.group</th><th scope=col>mean.index</th></tr></thead>\n",
       "<tbody>\n",
       "\t<tr><td>2          </td><td>20         </td><td>-0.03514871</td></tr>\n",
       "\t<tr><td>5          </td><td>20         </td><td>-0.24768599</td></tr>\n",
       "\t<tr><td>9          </td><td>20         </td><td>-0.06924961</td></tr>\n",
       "</tbody>\n",
       "</table>\n"
      ],
      "text/latex": [
       "\\begin{tabular}{r|lll}\n",
       " cluster\\_labels & n.group & mean.index\\\\\n",
       "\\hline\n",
       "\t 2           & 20          & -0.03514871\\\\\n",
       "\t 5           & 20          & -0.24768599\\\\\n",
       "\t 9           & 20          & -0.06924961\\\\\n",
       "\\end{tabular}\n"
      ],
      "text/markdown": [
       "\n",
       "cluster_labels | n.group | mean.index | \n",
       "|---|---|---|\n",
       "| 2           | 20          | -0.03514871 | \n",
       "| 5           | 20          | -0.24768599 | \n",
       "| 9           | 20          | -0.06924961 | \n",
       "\n",
       "\n"
      ],
      "text/plain": [
       "  cluster_labels n.group mean.index \n",
       "1 2              20      -0.03514871\n",
       "2 5              20      -0.24768599\n",
       "3 9              20      -0.06924961"
      ]
     },
     "metadata": {},
     "output_type": "display_data"
    }
   ],
   "source": [
    "##----Cluster Sampling-----\n",
    "num_clusters = 10\n",
    "data$cluster_labels = sample(rep(1:num_clusters,each=2*num_clusters))\n",
    "clusters_sampled = sample(1:10, 3) # Pick three clusters to sample\n",
    "clusters_sampled\n",
    "cluster_sample = data[data$cluster_labels %in% clusters_sampled,]\n",
    "cluster_sample %>% group_by(cluster_labels) %>% summarise(n.group = n(), mean.index = mean(var1))"
   ]
  },
  {
   "cell_type": "markdown",
   "metadata": {},
   "source": [
    "You can see the  3 clsuters of 20 cases each which have been selected.\n",
    "\n",
    "Recalling that the population contians groups the sample from the clusters can be summarized by group by runing the code in the cell below. "
   ]
  },
  {
   "cell_type": "code",
   "execution_count": 7,
   "metadata": {
    "collapsed": false
   },
   "outputs": [
    {
     "data": {
      "text/html": [
       "<table>\n",
       "<thead><tr><th scope=col>group</th><th scope=col>n.group</th><th scope=col>mean.index</th></tr></thead>\n",
       "<tbody>\n",
       "\t<tr><td>1          </td><td> 3         </td><td>-0.75720405</td></tr>\n",
       "\t<tr><td>2          </td><td>21         </td><td>-0.50109239</td></tr>\n",
       "\t<tr><td>3          </td><td>25         </td><td> 0.05360319</td></tr>\n",
       "\t<tr><td>4          </td><td>11         </td><td> 0.40116239</td></tr>\n",
       "</tbody>\n",
       "</table>\n"
      ],
      "text/latex": [
       "\\begin{tabular}{r|lll}\n",
       " group & n.group & mean.index\\\\\n",
       "\\hline\n",
       "\t 1           &  3          & -0.75720405\\\\\n",
       "\t 2           & 21          & -0.50109239\\\\\n",
       "\t 3           & 25          &  0.05360319\\\\\n",
       "\t 4           & 11          &  0.40116239\\\\\n",
       "\\end{tabular}\n"
      ],
      "text/markdown": [
       "\n",
       "group | n.group | mean.index | \n",
       "|---|---|---|---|\n",
       "| 1           |  3          | -0.75720405 | \n",
       "| 2           | 21          | -0.50109239 | \n",
       "| 3           | 25          |  0.05360319 | \n",
       "| 4           | 11          |  0.40116239 | \n",
       "\n",
       "\n"
      ],
      "text/plain": [
       "  group n.group mean.index \n",
       "1 1      3      -0.75720405\n",
       "2 2     21      -0.50109239\n",
       "3 3     25       0.05360319\n",
       "4 4     11       0.40116239"
      ]
     },
     "metadata": {},
     "output_type": "display_data"
    }
   ],
   "source": [
    "cluster_sample %>% group_by(group) %>% summarise(n.group = n(), mean.index = mean(var1))"
   ]
  },
  {
   "cell_type": "markdown",
   "metadata": {},
   "source": [
    "**Your Turn:** Sample the clusters by `group` and `cluster_labels`, compute the count and mean for the index, and then sort (`arrange`) by the  `cluster_labels` and `group`. Are the counts in the samples fairly different "
   ]
  },
  {
   "cell_type": "code",
   "execution_count": 8,
   "metadata": {
    "collapsed": false
   },
   "outputs": [
    {
     "data": {
      "text/html": [
       "<table>\n",
       "<thead><tr><th scope=col>cluster_labels</th><th scope=col>group</th><th scope=col>n.group</th><th scope=col>mean.index</th></tr></thead>\n",
       "<tbody>\n",
       "\t<tr><td>2         </td><td>2         </td><td>2         </td><td>-1.6684184</td></tr>\n",
       "\t<tr><td>2         </td><td>3         </td><td>3         </td><td> 0.5569269</td></tr>\n",
       "\t<tr><td>2         </td><td>4         </td><td>1         </td><td> 0.6590420</td></tr>\n",
       "\t<tr><td>5         </td><td>1         </td><td>1         </td><td>-1.1574830</td></tr>\n",
       "\t<tr><td>5         </td><td>4         </td><td>1         </td><td> 0.7206583</td></tr>\n",
       "\t<tr><td>9         </td><td>1         </td><td>2         </td><td>-0.5570646</td></tr>\n",
       "\t<tr><td>9         </td><td>2         </td><td>1         </td><td>-0.1723013</td></tr>\n",
       "\t<tr><td>9         </td><td>4         </td><td>1         </td><td>-1.2425617</td></tr>\n",
       "</tbody>\n",
       "</table>\n"
      ],
      "text/latex": [
       "\\begin{tabular}{r|llll}\n",
       " cluster\\_labels & group & n.group & mean.index\\\\\n",
       "\\hline\n",
       "\t 2          & 2          & 2          & -1.6684184\\\\\n",
       "\t 2          & 3          & 3          &  0.5569269\\\\\n",
       "\t 2          & 4          & 1          &  0.6590420\\\\\n",
       "\t 5          & 1          & 1          & -1.1574830\\\\\n",
       "\t 5          & 4          & 1          &  0.7206583\\\\\n",
       "\t 9          & 1          & 2          & -0.5570646\\\\\n",
       "\t 9          & 2          & 1          & -0.1723013\\\\\n",
       "\t 9          & 4          & 1          & -1.2425617\\\\\n",
       "\\end{tabular}\n"
      ],
      "text/markdown": [
       "\n",
       "cluster_labels | group | n.group | mean.index | \n",
       "|---|---|---|---|---|---|---|---|\n",
       "| 2          | 2          | 2          | -1.6684184 | \n",
       "| 2          | 3          | 3          |  0.5569269 | \n",
       "| 2          | 4          | 1          |  0.6590420 | \n",
       "| 5          | 1          | 1          | -1.1574830 | \n",
       "| 5          | 4          | 1          |  0.7206583 | \n",
       "| 9          | 1          | 2          | -0.5570646 | \n",
       "| 9          | 2          | 1          | -0.1723013 | \n",
       "| 9          | 4          | 1          | -1.2425617 | \n",
       "\n",
       "\n"
      ],
      "text/plain": [
       "  cluster_labels group n.group mean.index\n",
       "1 2              2     2       -1.6684184\n",
       "2 2              3     3        0.5569269\n",
       "3 2              4     1        0.6590420\n",
       "4 5              1     1       -1.1574830\n",
       "5 5              4     1        0.7206583\n",
       "6 9              1     2       -0.5570646\n",
       "7 9              2     1       -0.1723013\n",
       "8 9              4     1       -1.2425617"
      ]
     },
     "metadata": {},
     "output_type": "display_data"
    }
   ],
   "source": [
    "cluster_sample %>% group_by(group) %>% sample_n(3, replace = FALSE) %>%\n",
    "     group_by(cluster_labels, group) %>% summarise(n.group = n(), mean.index = mean(var1))"
   ]
  },
  {
   "cell_type": "markdown",
   "metadata": {},
   "source": [
    "### Systematic Sampling\n",
    "\n",
    "**WARNING: systmatic sampling is a form of convienience sampling. Convienience sampling almost always leads to problems!**\n",
    "\n",
    "In systematic sampling every k th case of the population is selected. As you can imagine, this approach is not a random sampling method, but rather a case of convinience sampling. \n",
    "\n",
    "The code in the cell bellow systematically samples the population and computes some summary statistics. Run this code and examine the results. "
   ]
  },
  {
   "cell_type": "code",
   "execution_count": 9,
   "metadata": {
    "collapsed": false,
    "scrolled": true
   },
   "outputs": [
    {
     "data": {
      "text/html": [
       "<table>\n",
       "<thead><tr><th scope=col>group</th><th scope=col>n.group</th><th scope=col>mean.index</th></tr></thead>\n",
       "<tbody>\n",
       "\t<tr><td>1           </td><td> 4          </td><td>-0.002397991</td></tr>\n",
       "\t<tr><td>2           </td><td>11          </td><td>-0.529405230</td></tr>\n",
       "\t<tr><td>3           </td><td>16          </td><td> 0.749162661</td></tr>\n",
       "\t<tr><td>4           </td><td> 9          </td><td>-0.489491412</td></tr>\n",
       "</tbody>\n",
       "</table>\n"
      ],
      "text/latex": [
       "\\begin{tabular}{r|lll}\n",
       " group & n.group & mean.index\\\\\n",
       "\\hline\n",
       "\t 1            &  4           & -0.002397991\\\\\n",
       "\t 2            & 11           & -0.529405230\\\\\n",
       "\t 3            & 16           &  0.749162661\\\\\n",
       "\t 4            &  9           & -0.489491412\\\\\n",
       "\\end{tabular}\n"
      ],
      "text/markdown": [
       "\n",
       "group | n.group | mean.index | \n",
       "|---|---|---|---|\n",
       "| 1            |  4           | -0.002397991 | \n",
       "| 2            | 11           | -0.529405230 | \n",
       "| 3            | 16           |  0.749162661 | \n",
       "| 4            |  9           | -0.489491412 | \n",
       "\n",
       "\n"
      ],
      "text/plain": [
       "  group n.group mean.index  \n",
       "1 1      4      -0.002397991\n",
       "2 2     11      -0.529405230\n",
       "3 3     16       0.749162661\n",
       "4 4      9      -0.489491412"
      ]
     },
     "metadata": {},
     "output_type": "display_data"
    }
   ],
   "source": [
    "##------Systematic Sampling-----\n",
    "k = 5 # 100/5 = 20 observations\n",
    "sys_sample_even = data[seq(1,nrow(data), by = k),]\n",
    "sys_sample_even %>% group_by(group) %>% summarise(n.group = n(), mean.index = mean(var1))"
   ]
  },
  {
   "cell_type": "markdown",
   "metadata": {
    "collapsed": false
   },
   "source": [
    "Notice the differing sizes of the sample in each group and the bias in the mean estimates. This illustrates the hazards of convienience sampling. \n",
    "\n",
    "### A few more thoughts on sampling\n",
    "\n",
    "- Whenever you are planing to sample data, make sure you have a clear sampling plan. \n",
    "- Know number of clusters, strata, samples in advance.\n",
    "- Don’t stop sampling when desired result is achieved: e.g. error measure! \n",
    "- Note that random sampling, if done properly, controls for database effects, like indexing. \n"
   ]
  },
  {
   "cell_type": "code",
   "execution_count": null,
   "metadata": {
    "collapsed": true
   },
   "outputs": [],
   "source": []
  },
  {
   "cell_type": "markdown",
   "metadata": {},
   "source": [
    "## Law of large numers\n",
    "\n",
    "The **law of large numbers** is a theorem that states that statistics of independent samples converge to the population values as more unbiased experiments are performed. We can write this mathematically for the **expected value** pr mean as:\n",
    "\n",
    "$$Let\\ \\bar{X} = \\frac{1}{n}\\sum_{i=1}^{n} X_i\\\\\n",
    "then\\ by\\ the\\ law\\ of\\ Large\\ Numbers\\\\\n",
    "\\bar{X} \\rightarrow E(X) = \\mu\\\\\n",
    "as\\\\\n",
    "n \\rightarrow \\infty$$\n",
    "\n",
    "The law of large numbers is foundational to statistics. We rely on the law of large numbers whenever we work with samples of data. We can rest assured that larger samples will be more representatives of the population we are sampling. This theorem is the foundation of not only sampling theory, but modern compuation methods including, simulation, bootstrap resampling, and Monte Carlo methods. If the real world did not follow this theorem much of statistics, to say nothing of science and technology would fail badly. \n",
    "\n",
    "Given this great importance, it should not be surprising that the law of large numbers has a long history. Jacob Bernoulli postumously published the first proof for the Binomial distribution in 1713. In fact the law of large numbers is sometimes referred to as **Bernoulli's theorm**. A more general proof was published by Poisson in 1837.\n",
    "\n",
    "Let's think about a simple example. The mean of 50 coin flips (0,1)=(T,H) is usually farther away from the true mean of 0.5 than 5,000 coin flips. The code in the cell below computes and then samples a population of 100,000,000 Bernoulli trials with $p=0.5$. Run this code and  examine the results. Does the expected value, or mean converge to 0.5 as `n` increases?"
   ]
  },
  {
   "cell_type": "code",
   "execution_count": 10,
   "metadata": {
    "collapsed": false,
    "scrolled": true
   },
   "outputs": [
    {
     "data": {
      "text/html": [
       "<ol>\n",
       "\t<li>0.4</li>\n",
       "\t<li>0.54</li>\n",
       "\t<li>0.472</li>\n",
       "\t<li>0.4972</li>\n",
       "</ol>\n"
      ],
      "text/latex": [
       "\\begin{enumerate}\n",
       "\\item 0.4\n",
       "\\item 0.54\n",
       "\\item 0.472\n",
       "\\item 0.4972\n",
       "\\end{enumerate}\n"
      ],
      "text/markdown": [
       "1. 0.4\n",
       "2. 0.54\n",
       "3. 0.472\n",
       "4. 0.4972\n",
       "\n",
       "\n"
      ],
      "text/plain": [
       "[[1]]\n",
       "[1] 0.4\n",
       "\n",
       "[[2]]\n",
       "[1] 0.54\n",
       "\n",
       "[[3]]\n",
       "[1] 0.472\n",
       "\n",
       "[[4]]\n",
       "[1] 0.4972\n"
      ]
     },
     "metadata": {},
     "output_type": "display_data"
    }
   ],
   "source": [
    "pop = rbinom(100000000, 1, 0.5)\n",
    "xs = c(5, 50, 500, 5000)\n",
    "lapply(xs, function(x) mean(sample(pop, x)))"
   ]
  },
  {
   "cell_type": "markdown",
   "metadata": {},
   "source": [
    "Let's try another example. Find the probability that samples from the Binomial distribution are within some interval of each other. "
   ]
  },
  {
   "cell_type": "code",
   "execution_count": 11,
   "metadata": {
    "collapsed": false
   },
   "outputs": [
    {
     "ename": "ERROR",
     "evalue": "Error in pbinom(12, size = 60, prob = p_six): object 'p_six' not found\n",
     "output_type": "error",
     "traceback": [
      "Error in pbinom(12, size = 60, prob = p_six): object 'p_six' not found\nTraceback:\n",
      "1. pbinom(12, size = 60, prob = p_six)"
     ]
    }
   ],
   "source": [
    "# Probability of within 5%?\n",
    "# 1) p(7<x<13|60 trails)\n",
    "pbinom(12, size=60, prob=p_six) - pbinom(7, size=60, prob=p_six)\n",
    "# alternatively\n",
    "sum(sapply(8:12, function(x) dbinom(x, size=60, prob=p_six)))"
   ]
  },
  {
   "cell_type": "markdown",
   "metadata": {},
   "source": [
    "Let's try the same thing again for a larger probability. Run the code in the cell below and examine the results."
   ]
  },
  {
   "cell_type": "code",
   "execution_count": null,
   "metadata": {
    "collapsed": false
   },
   "outputs": [],
   "source": [
    "# 2) p(70<x<130|600 trails)\n",
    "pbinom(129, size=600, prob=p_six) - pbinom(70, size=600, prob=p_six)\n",
    "# alternatively\n",
    "sum(sapply(71:129, function(x) dbinom(x, size=600, prob=p_six)))"
   ]
  },
  {
   "cell_type": "markdown",
   "metadata": {},
   "source": [
    "Now plot the distributions of the realizations for the two cases."
   ]
  },
  {
   "cell_type": "code",
   "execution_count": null,
   "metadata": {
    "collapsed": false,
    "scrolled": true
   },
   "outputs": [],
   "source": [
    "# View Distributions:\n",
    "x_60 = 1:60\n",
    "y_60 = dbinom(x_60, size=60, prob=p_six)\n",
    "\n",
    "x_600 = 1:150\n",
    "y_600 = dbinom(x_600, size=600, prob=p_six)\n",
    "\n",
    "plot(x_60, y_60, type='l', main='Roll a Die 60 or 600 Times', xlab=\"# of Successes\",\n",
    "     ylab=\"Probability\", lwd=2, col=\"green\", xlim=c(1,150))\n",
    "lines(x_600, y_600, lwd=2, col=\"blue\")\n",
    "legend(\"topright\", c(\"Roll 60 Times\", \"Roll 600 Times\"), col=c(\"green\", \"blue\"),\n",
    "      lty=c(1,1), lwd=c(2,2))"
   ]
  },
  {
   "cell_type": "markdown",
   "metadata": {},
   "source": [
    "### Convergancec for a Binomial distribution \n",
    "\n",
    "Next, let's use the Binomial distribution to examine the convergance of the estimated probability for a number of flips of a fair coin. This series should converge to 0.5 as the number of samples increses. The code in the cell below computes the running mean of the realization of Binomial samples as the sample size increases. Run this code and examine the results. Do the results appear to be converging and $n \\rightarrow \\infty$."
   ]
  },
  {
   "cell_type": "code",
   "execution_count": 12,
   "metadata": {
    "collapsed": false
   },
   "outputs": [
    {
     "data": {
      "image/png": "[encoded data removed]",
      "text/plain": [
       "plot without title"
      ]
     },
     "metadata": {},
     "output_type": "display_data"
    }
   ],
   "source": [
    "# Calculate and plot a running average of N-trials of flipping a fair coin\n",
    "n = 10000\n",
    "running_average = sapply(1:n, function(x) mean(sample(pop, x)))\n",
    "par(mfrow = c(2,1))      \n",
    "plot(running_average[1:500], type='l')\n",
    "plot(running_average, type='l')\n",
    "grid()\n",
    "par(mfrow = c(1,1))  "
   ]
  },
  {
   "cell_type": "markdown",
   "metadata": {},
   "source": [
    "### Convergance for a Normal Distribution\n",
    "\n",
    "As we sample from a normal distribution, the mean of the sample will converge to the population mean and the sample standard deviation will converge to the population statndard deviation. The standard error of the sample mean should converge as:\n",
    "\n",
    "$$se = \\frac{sd}{\\sqrt(n)}$$\n",
    "\n",
    "Run the code in the cell below to plot the convergance of the sample mean as the number of samples increases."
   ]
  },
  {
   "cell_type": "code",
   "execution_count": null,
   "metadata": {
    "collapsed": false,
    "scrolled": true
   },
   "outputs": [],
   "source": [
    "##----St. Dev. vs. St. Error-----\n",
    "n = seq(10,10000,len=1000)\n",
    "\n",
    "sample_means = sapply(n, function(x) mean(rnorm(x)))\n",
    "sample_sds = sapply(n, function(x) sd(rnorm(x)))\n",
    "\n",
    "plot(n, sample_means) # Plot means\n",
    "lines(n, 1/sqrt(n))   # Plot means +- st. error\n",
    "lines(n, -1/sqrt(n))"
   ]
  },
  {
   "cell_type": "markdown",
   "metadata": {},
   "source": [
    "**Your Turn:** In the cell below create and exectue code to plot the convergance of the sample standard deviation. Try to include lines showing the expected bounds on the standard error. "
   ]
  },
  {
   "cell_type": "code",
   "execution_count": null,
   "metadata": {
    "collapsed": false
   },
   "outputs": [],
   "source": []
  },
  {
   "cell_type": "markdown",
   "metadata": {
    "collapsed": true
   },
   "source": [
    "##### Copyright 2017, Stephen F Elston. All rights reserved."
   ]
  },
  {
   "cell_type": "code",
   "execution_count": null,
   "metadata": {
    "collapsed": true
   },
   "outputs": [],
   "source": []
  }
 ],
 "metadata": {
  "anaconda-cloud": {},
  "kernelspec": {
   "display_name": "R",
   "language": "R",
   "name": "ir"
  },
  "language_info": {
   "codemirror_mode": "r",
   "file_extension": ".r",
   "mimetype": "text/x-r-source",
   "name": "R",
   "pygments_lexer": "r",
   "version": "3.3.2"
  }
 },
 "nbformat": 4,
 "nbformat_minor": 1
}
